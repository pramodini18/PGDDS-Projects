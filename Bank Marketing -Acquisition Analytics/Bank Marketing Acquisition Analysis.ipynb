{
 "cells": [
  {
   "cell_type": "markdown",
   "metadata": {},
   "source": [
    "## Acquisition Analytics : Bank Marketing"
   ]
  },
  {
   "cell_type": "markdown",
   "metadata": {},
   "source": [
    "The objective is to reduce the customer acquisition cost by targeting the ones who are likely to buy and to improve the response rate, i.e. the fraction of prospects who respond to the campaign."
   ]
  },
  {
   "cell_type": "markdown",
   "metadata": {},
   "source": [
    "### Data Understanding:"
   ]
  },
  {
   "cell_type": "code",
   "execution_count": 1,
   "metadata": {},
   "outputs": [],
   "source": [
    "# import warning\n",
    "import warnings\n",
    "warnings.filterwarnings('ignore')"
   ]
  },
  {
   "cell_type": "code",
   "execution_count": 2,
   "metadata": {},
   "outputs": [],
   "source": [
    "#import libraries\n",
    "import numpy as np\n",
    "import pandas as pd\n",
    "import matplotlib.pyplot as plt\n",
    "import seaborn as sns\n",
    "plt.rcParams[\"figure.figsize\"]= (5, 5)\n",
    "\n",
    "from sklearn.preprocessing import StandardScaler\n",
    "import statsmodels.api as sm\n",
    "from statsmodels.stats.outliers_influence import variance_inflation_factor\n",
    "from sklearn.metrics import confusion_matrix\n",
    "from sklearn import metrics\n",
    "from sklearn.linear_model import LogisticRegression\n",
    "from sklearn.metrics import classification_report, confusion_matrix\n",
    "from imblearn.metrics import sensitivity_specificity_support\n",
    "from sklearn.metrics import roc_auc_score\n",
    "from sklearn.model_selection import StratifiedKFold\n",
    "from sklearn.model_selection import GridSearchCV\n",
    "from sklearn.metrics import accuracy_score"
   ]
  },
  {
   "cell_type": "code",
   "execution_count": 3,
   "metadata": {},
   "outputs": [
    {
     "data": {
      "text/html": [
       "<div>\n",
       "<style scoped>\n",
       "    .dataframe tbody tr th:only-of-type {\n",
       "        vertical-align: middle;\n",
       "    }\n",
       "\n",
       "    .dataframe tbody tr th {\n",
       "        vertical-align: top;\n",
       "    }\n",
       "\n",
       "    .dataframe thead th {\n",
       "        text-align: right;\n",
       "    }\n",
       "</style>\n",
       "<table border=\"1\" class=\"dataframe\">\n",
       "  <thead>\n",
       "    <tr style=\"text-align: right;\">\n",
       "      <th></th>\n",
       "      <th>age</th>\n",
       "      <th>job</th>\n",
       "      <th>marital</th>\n",
       "      <th>education</th>\n",
       "      <th>default</th>\n",
       "      <th>housing</th>\n",
       "      <th>loan</th>\n",
       "      <th>contact</th>\n",
       "      <th>month</th>\n",
       "      <th>day_of_week</th>\n",
       "      <th>...</th>\n",
       "      <th>campaign</th>\n",
       "      <th>pdays</th>\n",
       "      <th>previous</th>\n",
       "      <th>poutcome</th>\n",
       "      <th>emp.var.rate</th>\n",
       "      <th>cons.price.idx</th>\n",
       "      <th>cons.conf.idx</th>\n",
       "      <th>euribor3m</th>\n",
       "      <th>nr.employed</th>\n",
       "      <th>response</th>\n",
       "    </tr>\n",
       "  </thead>\n",
       "  <tbody>\n",
       "    <tr>\n",
       "      <th>0</th>\n",
       "      <td>56</td>\n",
       "      <td>housemaid</td>\n",
       "      <td>married</td>\n",
       "      <td>basic.4y</td>\n",
       "      <td>no</td>\n",
       "      <td>no</td>\n",
       "      <td>no</td>\n",
       "      <td>telephone</td>\n",
       "      <td>may</td>\n",
       "      <td>mon</td>\n",
       "      <td>...</td>\n",
       "      <td>1</td>\n",
       "      <td>999</td>\n",
       "      <td>0</td>\n",
       "      <td>nonexistent</td>\n",
       "      <td>1.1</td>\n",
       "      <td>93.994</td>\n",
       "      <td>-36.4</td>\n",
       "      <td>4.857</td>\n",
       "      <td>5191.0</td>\n",
       "      <td>no</td>\n",
       "    </tr>\n",
       "    <tr>\n",
       "      <th>1</th>\n",
       "      <td>57</td>\n",
       "      <td>services</td>\n",
       "      <td>married</td>\n",
       "      <td>high.school</td>\n",
       "      <td>unknown</td>\n",
       "      <td>no</td>\n",
       "      <td>no</td>\n",
       "      <td>telephone</td>\n",
       "      <td>may</td>\n",
       "      <td>mon</td>\n",
       "      <td>...</td>\n",
       "      <td>1</td>\n",
       "      <td>999</td>\n",
       "      <td>0</td>\n",
       "      <td>nonexistent</td>\n",
       "      <td>1.1</td>\n",
       "      <td>93.994</td>\n",
       "      <td>-36.4</td>\n",
       "      <td>4.857</td>\n",
       "      <td>5191.0</td>\n",
       "      <td>no</td>\n",
       "    </tr>\n",
       "    <tr>\n",
       "      <th>2</th>\n",
       "      <td>37</td>\n",
       "      <td>services</td>\n",
       "      <td>married</td>\n",
       "      <td>high.school</td>\n",
       "      <td>no</td>\n",
       "      <td>yes</td>\n",
       "      <td>no</td>\n",
       "      <td>telephone</td>\n",
       "      <td>may</td>\n",
       "      <td>mon</td>\n",
       "      <td>...</td>\n",
       "      <td>1</td>\n",
       "      <td>999</td>\n",
       "      <td>0</td>\n",
       "      <td>nonexistent</td>\n",
       "      <td>1.1</td>\n",
       "      <td>93.994</td>\n",
       "      <td>-36.4</td>\n",
       "      <td>4.857</td>\n",
       "      <td>5191.0</td>\n",
       "      <td>no</td>\n",
       "    </tr>\n",
       "    <tr>\n",
       "      <th>3</th>\n",
       "      <td>40</td>\n",
       "      <td>admin.</td>\n",
       "      <td>married</td>\n",
       "      <td>basic.6y</td>\n",
       "      <td>no</td>\n",
       "      <td>no</td>\n",
       "      <td>no</td>\n",
       "      <td>telephone</td>\n",
       "      <td>may</td>\n",
       "      <td>mon</td>\n",
       "      <td>...</td>\n",
       "      <td>1</td>\n",
       "      <td>999</td>\n",
       "      <td>0</td>\n",
       "      <td>nonexistent</td>\n",
       "      <td>1.1</td>\n",
       "      <td>93.994</td>\n",
       "      <td>-36.4</td>\n",
       "      <td>4.857</td>\n",
       "      <td>5191.0</td>\n",
       "      <td>no</td>\n",
       "    </tr>\n",
       "    <tr>\n",
       "      <th>4</th>\n",
       "      <td>56</td>\n",
       "      <td>services</td>\n",
       "      <td>married</td>\n",
       "      <td>high.school</td>\n",
       "      <td>no</td>\n",
       "      <td>no</td>\n",
       "      <td>yes</td>\n",
       "      <td>telephone</td>\n",
       "      <td>may</td>\n",
       "      <td>mon</td>\n",
       "      <td>...</td>\n",
       "      <td>1</td>\n",
       "      <td>999</td>\n",
       "      <td>0</td>\n",
       "      <td>nonexistent</td>\n",
       "      <td>1.1</td>\n",
       "      <td>93.994</td>\n",
       "      <td>-36.4</td>\n",
       "      <td>4.857</td>\n",
       "      <td>5191.0</td>\n",
       "      <td>no</td>\n",
       "    </tr>\n",
       "  </tbody>\n",
       "</table>\n",
       "<p>5 rows × 21 columns</p>\n",
       "</div>"
      ],
      "text/plain": [
       "   age        job  marital    education  default housing loan    contact  \\\n",
       "0   56  housemaid  married     basic.4y       no      no   no  telephone   \n",
       "1   57   services  married  high.school  unknown      no   no  telephone   \n",
       "2   37   services  married  high.school       no     yes   no  telephone   \n",
       "3   40     admin.  married     basic.6y       no      no   no  telephone   \n",
       "4   56   services  married  high.school       no      no  yes  telephone   \n",
       "\n",
       "  month day_of_week  ...  campaign  pdays  previous     poutcome emp.var.rate  \\\n",
       "0   may         mon  ...         1    999         0  nonexistent          1.1   \n",
       "1   may         mon  ...         1    999         0  nonexistent          1.1   \n",
       "2   may         mon  ...         1    999         0  nonexistent          1.1   \n",
       "3   may         mon  ...         1    999         0  nonexistent          1.1   \n",
       "4   may         mon  ...         1    999         0  nonexistent          1.1   \n",
       "\n",
       "   cons.price.idx  cons.conf.idx  euribor3m  nr.employed  response  \n",
       "0          93.994          -36.4      4.857       5191.0        no  \n",
       "1          93.994          -36.4      4.857       5191.0        no  \n",
       "2          93.994          -36.4      4.857       5191.0        no  \n",
       "3          93.994          -36.4      4.857       5191.0        no  \n",
       "4          93.994          -36.4      4.857       5191.0        no  \n",
       "\n",
       "[5 rows x 21 columns]"
      ]
     },
     "execution_count": 3,
     "metadata": {},
     "output_type": "execute_result"
    }
   ],
   "source": [
    "#data loading\n",
    "loan = pd.read_csv(\"bank_marketing.csv\", sep=\",\")\n",
    "loan.head()"
   ]
  },
  {
   "cell_type": "code",
   "execution_count": 4,
   "metadata": {},
   "outputs": [
    {
     "data": {
      "text/plain": [
       "(41188, 21)"
      ]
     },
     "execution_count": 4,
     "metadata": {},
     "output_type": "execute_result"
    }
   ],
   "source": [
    "loan.shape"
   ]
  },
  {
   "cell_type": "markdown",
   "metadata": {},
   "source": [
    "We have around 41K records with 21 columns."
   ]
  },
  {
   "cell_type": "code",
   "execution_count": 5,
   "metadata": {},
   "outputs": [
    {
     "name": "stdout",
     "output_type": "stream",
     "text": [
      "<class 'pandas.core.frame.DataFrame'>\n",
      "RangeIndex: 41188 entries, 0 to 41187\n",
      "Data columns (total 21 columns):\n",
      "age               41188 non-null int64\n",
      "job               41188 non-null object\n",
      "marital           41188 non-null object\n",
      "education         41188 non-null object\n",
      "default           41188 non-null object\n",
      "housing           41188 non-null object\n",
      "loan              41188 non-null object\n",
      "contact           41188 non-null object\n",
      "month             41188 non-null object\n",
      "day_of_week       41188 non-null object\n",
      "duration          41188 non-null int64\n",
      "campaign          41188 non-null int64\n",
      "pdays             41188 non-null int64\n",
      "previous          41188 non-null int64\n",
      "poutcome          41188 non-null object\n",
      "emp.var.rate      41188 non-null float64\n",
      "cons.price.idx    41188 non-null float64\n",
      "cons.conf.idx     41188 non-null float64\n",
      "euribor3m         41188 non-null float64\n",
      "nr.employed       41188 non-null float64\n",
      "response          41188 non-null object\n",
      "dtypes: float64(5), int64(5), object(11)\n",
      "memory usage: 6.6+ MB\n"
     ]
    }
   ],
   "source": [
    "loan.info()"
   ]
  },
  {
   "cell_type": "markdown",
   "metadata": {},
   "source": [
    "Target variable is response."
   ]
  },
  {
   "cell_type": "code",
   "execution_count": 6,
   "metadata": {},
   "outputs": [
    {
     "data": {
      "text/plain": [
       "age               0\n",
       "job               0\n",
       "marital           0\n",
       "education         0\n",
       "default           0\n",
       "housing           0\n",
       "loan              0\n",
       "contact           0\n",
       "month             0\n",
       "day_of_week       0\n",
       "duration          0\n",
       "campaign          0\n",
       "pdays             0\n",
       "previous          0\n",
       "poutcome          0\n",
       "emp.var.rate      0\n",
       "cons.price.idx    0\n",
       "cons.conf.idx     0\n",
       "euribor3m         0\n",
       "nr.employed       0\n",
       "response          0\n",
       "dtype: int64"
      ]
     },
     "execution_count": 6,
     "metadata": {},
     "output_type": "execute_result"
    }
   ],
   "source": [
    "loan.isnull().sum()"
   ]
  },
  {
   "cell_type": "markdown",
   "metadata": {},
   "source": [
    "There is no null value."
   ]
  },
  {
   "cell_type": "code",
   "execution_count": 7,
   "metadata": {},
   "outputs": [
    {
     "data": {
      "text/plain": [
       "Index(['age', 'job', 'marital', 'education', 'default', 'housing', 'loan',\n",
       "       'contact', 'month', 'day_of_week', 'duration', 'campaign', 'pdays',\n",
       "       'previous', 'poutcome', 'emp.var.rate', 'cons.price.idx',\n",
       "       'cons.conf.idx', 'euribor3m', 'nr.employed', 'response'],\n",
       "      dtype='object')"
      ]
     },
     "execution_count": 7,
     "metadata": {},
     "output_type": "execute_result"
    }
   ],
   "source": [
    "# Looking at all the column names\n",
    "loan.columns"
   ]
  },
  {
   "cell_type": "code",
   "execution_count": 8,
   "metadata": {},
   "outputs": [
    {
     "data": {
      "text/plain": [
       "no     36548\n",
       "yes     4640\n",
       "Name: response, dtype: int64"
      ]
     },
     "execution_count": 8,
     "metadata": {},
     "output_type": "execute_result"
    }
   ],
   "source": [
    "loan['response'].value_counts()"
   ]
  },
  {
   "cell_type": "markdown",
   "metadata": {},
   "source": [
    "As we note that the response variable has 'yes' and 'no' responses, we will convert it to 1 and 0 respectively"
   ]
  },
  {
   "cell_type": "code",
   "execution_count": 9,
   "metadata": {},
   "outputs": [],
   "source": [
    "loan['response'] = loan['response'].map({'yes': 1, 'no': 0})"
   ]
  },
  {
   "cell_type": "code",
   "execution_count": 10,
   "metadata": {},
   "outputs": [
    {
     "data": {
      "text/plain": [
       "dtype('int64')"
      ]
     },
     "execution_count": 10,
     "metadata": {},
     "output_type": "execute_result"
    }
   ],
   "source": [
    "#rechecking the datatype of response variable\n",
    "loan['response'].dtype"
   ]
  },
  {
   "cell_type": "code",
   "execution_count": 11,
   "metadata": {},
   "outputs": [
    {
     "data": {
      "text/plain": [
       "0    0\n",
       "1    0\n",
       "2    0\n",
       "3    0\n",
       "4    0\n",
       "Name: response, dtype: int64"
      ]
     },
     "execution_count": 11,
     "metadata": {},
     "output_type": "execute_result"
    }
   ],
   "source": [
    "loan['response'].head()"
   ]
  },
  {
   "cell_type": "code",
   "execution_count": 12,
   "metadata": {},
   "outputs": [
    {
     "data": {
      "text/plain": [
       "0    36548\n",
       "1     4640\n",
       "Name: response, dtype: int64"
      ]
     },
     "execution_count": 12,
     "metadata": {},
     "output_type": "execute_result"
    }
   ],
   "source": [
    "loan['response'].value_counts()"
   ]
  },
  {
   "cell_type": "code",
   "execution_count": 13,
   "metadata": {},
   "outputs": [],
   "source": [
    "# Copy the dataset into a back up dataframe for future use\n",
    "loan_copy = loan"
   ]
  },
  {
   "cell_type": "code",
   "execution_count": 14,
   "metadata": {},
   "outputs": [
    {
     "data": {
      "text/plain": [
       "11.27"
      ]
     },
     "execution_count": 14,
     "metadata": {},
     "output_type": "execute_result"
    }
   ],
   "source": [
    "# Determine the percentage of people who have bought the investment product, that is those who have the response varibale as 1\n",
    "100*(loan['response'].sum()/loan['response'].count()).round(4)"
   ]
  },
  {
   "cell_type": "markdown",
   "metadata": {},
   "source": [
    "### Exploratory Data Analysis\n",
    "\n",
    "Now, we will do Exploratory Data Analysis on individual features and look for patterns."
   ]
  },
  {
   "cell_type": "markdown",
   "metadata": {},
   "source": [
    "First, we will look at the client data.\n",
    "\n",
    "- Age\n",
    "- Job : type of job\n",
    "- Marital : marital status\n",
    "- Education\n",
    "- Default: has credit in default?\n",
    "- Housing: has housing loan?\n",
    "- Loan: has personal loan?\n",
    "\n",
    "#### Age"
   ]
  },
  {
   "cell_type": "code",
   "execution_count": 15,
   "metadata": {},
   "outputs": [
    {
     "data": {
      "image/png": "[encoded data removed]",
      "text/plain": [
       "<Figure size 432x288 with 1 Axes>"
      ]
     },
     "metadata": {
      "needs_background": "light"
     },
     "output_type": "display_data"
    }
   ],
   "source": [
    "sns.boxplot(x='age', data=loan)\n",
    "plt.show()"
   ]
  },
  {
   "cell_type": "code",
   "execution_count": 16,
   "metadata": {},
   "outputs": [],
   "source": [
    "# Since there are a fair few data entries with age > 71, we will club all of those ages at 71 (since we can assume \n",
    "# that the behaviour will not change significantly with age at age above 70)\n",
    "loan['age'][loan['age']>71] =71"
   ]
  },
  {
   "cell_type": "code",
   "execution_count": 17,
   "metadata": {},
   "outputs": [
    {
     "data": {
      "image/png": "[encoded data removed]",
      "text/plain": [
       "<Figure size 432x288 with 1 Axes>"
      ]
     },
     "metadata": {
      "needs_background": "light"
     },
     "output_type": "display_data"
    }
   ],
   "source": [
    "sns.boxplot(x='age', data=loan)\n",
    "plt.show()"
   ]
  },
  {
   "cell_type": "code",
   "execution_count": 18,
   "metadata": {},
   "outputs": [],
   "source": [
    "# To understand the behaviour of people with age, we are going to bucket the age groups into brackets of 10 and \n",
    "# study the response rates\n",
    "bins = np.arange(10,loan['age'].max() + 10, 10)\n",
    "loan['age_bins'] = pd.cut(loan['age'], bins, include_lowest=True)"
   ]
  },
  {
   "cell_type": "code",
   "execution_count": 19,
   "metadata": {},
   "outputs": [
    {
     "data": {
      "text/html": [
       "<div>\n",
       "<style scoped>\n",
       "    .dataframe tbody tr th:only-of-type {\n",
       "        vertical-align: middle;\n",
       "    }\n",
       "\n",
       "    .dataframe tbody tr th {\n",
       "        vertical-align: top;\n",
       "    }\n",
       "\n",
       "    .dataframe thead th {\n",
       "        text-align: right;\n",
       "    }\n",
       "</style>\n",
       "<table border=\"1\" class=\"dataframe\">\n",
       "  <thead>\n",
       "    <tr style=\"text-align: right;\">\n",
       "      <th></th>\n",
       "      <th>age_bins</th>\n",
       "      <th>No.of_prospect</th>\n",
       "      <th>count_prospects</th>\n",
       "    </tr>\n",
       "  </thead>\n",
       "  <tbody>\n",
       "    <tr>\n",
       "      <th>0</th>\n",
       "      <td>(9.999, 20.0]</td>\n",
       "      <td>140</td>\n",
       "      <td>57</td>\n",
       "    </tr>\n",
       "    <tr>\n",
       "      <th>1</th>\n",
       "      <td>(20.0, 30.0]</td>\n",
       "      <td>7243</td>\n",
       "      <td>1067</td>\n",
       "    </tr>\n",
       "    <tr>\n",
       "      <th>2</th>\n",
       "      <td>(30.0, 40.0]</td>\n",
       "      <td>16385</td>\n",
       "      <td>1597</td>\n",
       "    </tr>\n",
       "    <tr>\n",
       "      <th>3</th>\n",
       "      <td>(40.0, 50.0]</td>\n",
       "      <td>10240</td>\n",
       "      <td>837</td>\n",
       "    </tr>\n",
       "    <tr>\n",
       "      <th>4</th>\n",
       "      <td>(50.0, 60.0]</td>\n",
       "      <td>6270</td>\n",
       "      <td>668</td>\n",
       "    </tr>\n",
       "    <tr>\n",
       "      <th>5</th>\n",
       "      <td>(60.0, 70.0]</td>\n",
       "      <td>488</td>\n",
       "      <td>212</td>\n",
       "    </tr>\n",
       "    <tr>\n",
       "      <th>6</th>\n",
       "      <td>(70.0, 80.0]</td>\n",
       "      <td>422</td>\n",
       "      <td>202</td>\n",
       "    </tr>\n",
       "  </tbody>\n",
       "</table>\n",
       "</div>"
      ],
      "text/plain": [
       "        age_bins  No.of_prospect  count_prospects\n",
       "0  (9.999, 20.0]             140               57\n",
       "1   (20.0, 30.0]            7243             1067\n",
       "2   (30.0, 40.0]           16385             1597\n",
       "3   (40.0, 50.0]           10240              837\n",
       "4   (50.0, 60.0]            6270              668\n",
       "5   (60.0, 70.0]             488              212\n",
       "6   (70.0, 80.0]             422              202"
      ]
     },
     "execution_count": 19,
     "metadata": {},
     "output_type": "execute_result"
    }
   ],
   "source": [
    "No_of_prospect = loan.groupby('age_bins')['response'].count().reset_index(name = 'No.of_prospect')\n",
    "count_prospects = loan[loan['response']==1].groupby('age_bins')['response'].count().reset_index(name = 'count_prospects')\n",
    "agg_age = No_of_prospect.merge(count_prospects, on='age_bins')\n",
    "agg_age"
   ]
  },
  {
   "cell_type": "code",
   "execution_count": 20,
   "metadata": {},
   "outputs": [
    {
     "data": {
      "text/html": [
       "<div>\n",
       "<style scoped>\n",
       "    .dataframe tbody tr th:only-of-type {\n",
       "        vertical-align: middle;\n",
       "    }\n",
       "\n",
       "    .dataframe tbody tr th {\n",
       "        vertical-align: top;\n",
       "    }\n",
       "\n",
       "    .dataframe thead th {\n",
       "        text-align: right;\n",
       "    }\n",
       "</style>\n",
       "<table border=\"1\" class=\"dataframe\">\n",
       "  <thead>\n",
       "    <tr style=\"text-align: right;\">\n",
       "      <th></th>\n",
       "      <th>age_bins</th>\n",
       "      <th>No.of_prospect</th>\n",
       "      <th>count_prospects</th>\n",
       "      <th>response_rate</th>\n",
       "    </tr>\n",
       "  </thead>\n",
       "  <tbody>\n",
       "    <tr>\n",
       "      <th>0</th>\n",
       "      <td>(9.999, 20.0]</td>\n",
       "      <td>140</td>\n",
       "      <td>57</td>\n",
       "      <td>40.7</td>\n",
       "    </tr>\n",
       "    <tr>\n",
       "      <th>1</th>\n",
       "      <td>(20.0, 30.0]</td>\n",
       "      <td>7243</td>\n",
       "      <td>1067</td>\n",
       "      <td>14.7</td>\n",
       "    </tr>\n",
       "    <tr>\n",
       "      <th>2</th>\n",
       "      <td>(30.0, 40.0]</td>\n",
       "      <td>16385</td>\n",
       "      <td>1597</td>\n",
       "      <td>9.7</td>\n",
       "    </tr>\n",
       "    <tr>\n",
       "      <th>3</th>\n",
       "      <td>(40.0, 50.0]</td>\n",
       "      <td>10240</td>\n",
       "      <td>837</td>\n",
       "      <td>8.2</td>\n",
       "    </tr>\n",
       "    <tr>\n",
       "      <th>4</th>\n",
       "      <td>(50.0, 60.0]</td>\n",
       "      <td>6270</td>\n",
       "      <td>668</td>\n",
       "      <td>10.7</td>\n",
       "    </tr>\n",
       "    <tr>\n",
       "      <th>5</th>\n",
       "      <td>(60.0, 70.0]</td>\n",
       "      <td>488</td>\n",
       "      <td>212</td>\n",
       "      <td>43.4</td>\n",
       "    </tr>\n",
       "    <tr>\n",
       "      <th>6</th>\n",
       "      <td>(70.0, 80.0]</td>\n",
       "      <td>422</td>\n",
       "      <td>202</td>\n",
       "      <td>47.9</td>\n",
       "    </tr>\n",
       "  </tbody>\n",
       "</table>\n",
       "</div>"
      ],
      "text/plain": [
       "        age_bins  No.of_prospect  count_prospects  response_rate\n",
       "0  (9.999, 20.0]             140               57           40.7\n",
       "1   (20.0, 30.0]            7243             1067           14.7\n",
       "2   (30.0, 40.0]           16385             1597            9.7\n",
       "3   (40.0, 50.0]           10240              837            8.2\n",
       "4   (50.0, 60.0]            6270              668           10.7\n",
       "5   (60.0, 70.0]             488              212           43.4\n",
       "6   (70.0, 80.0]             422              202           47.9"
      ]
     },
     "execution_count": 20,
     "metadata": {},
     "output_type": "execute_result"
    }
   ],
   "source": [
    "agg_age['response_rate'] = 100*(agg_age['count_prospects']/agg_age['No.of_prospect']).round(3)\n",
    "agg_age"
   ]
  },
  {
   "cell_type": "code",
   "execution_count": 21,
   "metadata": {},
   "outputs": [
    {
     "data": {
      "image/png": "[encoded data removed]",
      "text/plain": [
       "<Figure size 432x288 with 1 Axes>"
      ]
     },
     "metadata": {
      "needs_background": "light"
     },
     "output_type": "display_data"
    }
   ],
   "source": [
    "ax = sns.barplot(x='age_bins', y='response_rate', data=agg_age)\n",
    "ax.set_xticklabels(ax.get_xticklabels(),rotation=30)\n",
    "plt.show()"
   ]
  },
  {
   "cell_type": "markdown",
   "metadata": {},
   "source": [
    "As we can see, the youngest and the eldest are the most likely to buy the investment product being offered by the bank.\n",
    "Also,it is important to note that there is a huge difference in the volume of data entries in these categories."
   ]
  },
  {
   "cell_type": "markdown",
   "metadata": {},
   "source": [
    "Similarly, let us look at the relation between response rate and job."
   ]
  },
  {
   "cell_type": "markdown",
   "metadata": {},
   "source": [
    "#### Job"
   ]
  },
  {
   "cell_type": "code",
   "execution_count": 22,
   "metadata": {},
   "outputs": [
    {
     "data": {
      "text/plain": [
       "admin.           10422\n",
       "blue-collar       9254\n",
       "technician        6743\n",
       "services          3969\n",
       "management        2924\n",
       "retired           1720\n",
       "entrepreneur      1456\n",
       "self-employed     1421\n",
       "housemaid         1060\n",
       "unemployed        1014\n",
       "student            875\n",
       "unknown            330\n",
       "Name: job, dtype: int64"
      ]
     },
     "execution_count": 22,
     "metadata": {},
     "output_type": "execute_result"
    }
   ],
   "source": [
    "loan['job'].value_counts()"
   ]
  },
  {
   "cell_type": "code",
   "execution_count": 23,
   "metadata": {},
   "outputs": [
    {
     "data": {
      "text/html": [
       "<div>\n",
       "<style scoped>\n",
       "    .dataframe tbody tr th:only-of-type {\n",
       "        vertical-align: middle;\n",
       "    }\n",
       "\n",
       "    .dataframe tbody tr th {\n",
       "        vertical-align: top;\n",
       "    }\n",
       "\n",
       "    .dataframe thead th {\n",
       "        text-align: right;\n",
       "    }\n",
       "</style>\n",
       "<table border=\"1\" class=\"dataframe\">\n",
       "  <thead>\n",
       "    <tr style=\"text-align: right;\">\n",
       "      <th></th>\n",
       "      <th>job</th>\n",
       "      <th>count_prospects</th>\n",
       "      <th>No_of_prospects</th>\n",
       "      <th>response_rate</th>\n",
       "    </tr>\n",
       "  </thead>\n",
       "  <tbody>\n",
       "    <tr>\n",
       "      <th>0</th>\n",
       "      <td>admin.</td>\n",
       "      <td>1352</td>\n",
       "      <td>10422</td>\n",
       "      <td>12.97</td>\n",
       "    </tr>\n",
       "    <tr>\n",
       "      <th>1</th>\n",
       "      <td>blue-collar</td>\n",
       "      <td>638</td>\n",
       "      <td>9254</td>\n",
       "      <td>6.89</td>\n",
       "    </tr>\n",
       "    <tr>\n",
       "      <th>2</th>\n",
       "      <td>entrepreneur</td>\n",
       "      <td>124</td>\n",
       "      <td>1456</td>\n",
       "      <td>8.52</td>\n",
       "    </tr>\n",
       "    <tr>\n",
       "      <th>3</th>\n",
       "      <td>housemaid</td>\n",
       "      <td>106</td>\n",
       "      <td>1060</td>\n",
       "      <td>10.00</td>\n",
       "    </tr>\n",
       "    <tr>\n",
       "      <th>4</th>\n",
       "      <td>management</td>\n",
       "      <td>328</td>\n",
       "      <td>2924</td>\n",
       "      <td>11.22</td>\n",
       "    </tr>\n",
       "    <tr>\n",
       "      <th>5</th>\n",
       "      <td>retired</td>\n",
       "      <td>434</td>\n",
       "      <td>1720</td>\n",
       "      <td>25.23</td>\n",
       "    </tr>\n",
       "    <tr>\n",
       "      <th>6</th>\n",
       "      <td>self-employed</td>\n",
       "      <td>149</td>\n",
       "      <td>1421</td>\n",
       "      <td>10.49</td>\n",
       "    </tr>\n",
       "    <tr>\n",
       "      <th>7</th>\n",
       "      <td>services</td>\n",
       "      <td>323</td>\n",
       "      <td>3969</td>\n",
       "      <td>8.14</td>\n",
       "    </tr>\n",
       "    <tr>\n",
       "      <th>8</th>\n",
       "      <td>student</td>\n",
       "      <td>275</td>\n",
       "      <td>875</td>\n",
       "      <td>31.43</td>\n",
       "    </tr>\n",
       "    <tr>\n",
       "      <th>9</th>\n",
       "      <td>technician</td>\n",
       "      <td>730</td>\n",
       "      <td>6743</td>\n",
       "      <td>10.83</td>\n",
       "    </tr>\n",
       "    <tr>\n",
       "      <th>10</th>\n",
       "      <td>unemployed</td>\n",
       "      <td>144</td>\n",
       "      <td>1014</td>\n",
       "      <td>14.20</td>\n",
       "    </tr>\n",
       "    <tr>\n",
       "      <th>11</th>\n",
       "      <td>unknown</td>\n",
       "      <td>37</td>\n",
       "      <td>330</td>\n",
       "      <td>11.21</td>\n",
       "    </tr>\n",
       "  </tbody>\n",
       "</table>\n",
       "</div>"
      ],
      "text/plain": [
       "              job  count_prospects  No_of_prospects  response_rate\n",
       "0          admin.             1352            10422          12.97\n",
       "1     blue-collar              638             9254           6.89\n",
       "2    entrepreneur              124             1456           8.52\n",
       "3       housemaid              106             1060          10.00\n",
       "4      management              328             2924          11.22\n",
       "5         retired              434             1720          25.23\n",
       "6   self-employed              149             1421          10.49\n",
       "7        services              323             3969           8.14\n",
       "8         student              275              875          31.43\n",
       "9      technician              730             6743          10.83\n",
       "10     unemployed              144             1014          14.20\n",
       "11        unknown               37              330          11.21"
      ]
     },
     "execution_count": 23,
     "metadata": {},
     "output_type": "execute_result"
    }
   ],
   "source": [
    "count_prospects_job = loan.groupby('job')['response'].sum().reset_index(name = 'count_prospects')\n",
    "No_of_prospect_job = loan.groupby('job')['response'].count().reset_index(name = 'No_of_prospects')\n",
    "agg_job = count_prospects_job.merge(No_of_prospect_job, on = 'job')\n",
    "agg_job['response_rate'] = 100*(agg_job['count_prospects']/agg_job['No_of_prospects']).round(4)\n",
    "agg_job"
   ]
  },
  {
   "cell_type": "code",
   "execution_count": 24,
   "metadata": {},
   "outputs": [
    {
     "data": {
      "image/png": "[encoded data removed]",
      "text/plain": [
       "<Figure size 432x288 with 1 Axes>"
      ]
     },
     "metadata": {
      "needs_background": "light"
     },
     "output_type": "display_data"
    }
   ],
   "source": [
    "ax = sns.barplot(x='job', y='response_rate', data=agg_job)\n",
    "ax.set_xticklabels(ax.get_xticklabels(),rotation=90)\n",
    "plt.show()"
   ]
  },
  {
   "cell_type": "markdown",
   "metadata": {},
   "source": [
    "We can draw similarities from the age response analysis where we found that the youngest and eldest were most likely to respond in a positive manner. It is reiterated by the above analysis, where we notice that student and retired have the highest response rates."
   ]
  },
  {
   "cell_type": "markdown",
   "metadata": {},
   "source": [
    "#### Marital"
   ]
  },
  {
   "cell_type": "code",
   "execution_count": 25,
   "metadata": {},
   "outputs": [
    {
     "data": {
      "text/plain": [
       "married     24928\n",
       "single      11568\n",
       "divorced     4612\n",
       "unknown        80\n",
       "Name: marital, dtype: int64"
      ]
     },
     "execution_count": 25,
     "metadata": {},
     "output_type": "execute_result"
    }
   ],
   "source": [
    "loan['marital'].value_counts()"
   ]
  },
  {
   "cell_type": "markdown",
   "metadata": {},
   "source": [
    "Since there are 80 entries which list marital status as 'unknown', we will assign them to the biggest group, which is, 'married'."
   ]
  },
  {
   "cell_type": "code",
   "execution_count": 26,
   "metadata": {},
   "outputs": [
    {
     "data": {
      "text/html": [
       "<div>\n",
       "<style scoped>\n",
       "    .dataframe tbody tr th:only-of-type {\n",
       "        vertical-align: middle;\n",
       "    }\n",
       "\n",
       "    .dataframe tbody tr th {\n",
       "        vertical-align: top;\n",
       "    }\n",
       "\n",
       "    .dataframe thead th {\n",
       "        text-align: right;\n",
       "    }\n",
       "</style>\n",
       "<table border=\"1\" class=\"dataframe\">\n",
       "  <thead>\n",
       "    <tr style=\"text-align: right;\">\n",
       "      <th></th>\n",
       "      <th>marital</th>\n",
       "      <th>count_prospects</th>\n",
       "      <th>No_of_prospects</th>\n",
       "      <th>response_rate</th>\n",
       "    </tr>\n",
       "  </thead>\n",
       "  <tbody>\n",
       "    <tr>\n",
       "      <th>0</th>\n",
       "      <td>divorced</td>\n",
       "      <td>476</td>\n",
       "      <td>4612</td>\n",
       "      <td>10.32</td>\n",
       "    </tr>\n",
       "    <tr>\n",
       "      <th>1</th>\n",
       "      <td>married</td>\n",
       "      <td>2544</td>\n",
       "      <td>25008</td>\n",
       "      <td>10.17</td>\n",
       "    </tr>\n",
       "    <tr>\n",
       "      <th>2</th>\n",
       "      <td>single</td>\n",
       "      <td>1620</td>\n",
       "      <td>11568</td>\n",
       "      <td>14.00</td>\n",
       "    </tr>\n",
       "  </tbody>\n",
       "</table>\n",
       "</div>"
      ],
      "text/plain": [
       "    marital  count_prospects  No_of_prospects  response_rate\n",
       "0  divorced              476             4612          10.32\n",
       "1   married             2544            25008          10.17\n",
       "2    single             1620            11568          14.00"
      ]
     },
     "execution_count": 26,
     "metadata": {},
     "output_type": "execute_result"
    }
   ],
   "source": [
    "loan.replace({'marital' : { 'unknown' : 'married'}}, inplace=True)\n",
    "count_prospects_marital = loan.groupby('marital')['response'].sum().reset_index(name = 'count_prospects')\n",
    "No_of_prospect_job = loan.groupby('marital')['response'].count().reset_index(name = 'No_of_prospects')\n",
    "agg_marital = count_prospects_marital.merge(No_of_prospect_job, on = 'marital')\n",
    "agg_marital['response_rate'] = 100*(agg_marital['count_prospects']/agg_marital['No_of_prospects']).round(4)\n",
    "agg_marital"
   ]
  },
  {
   "cell_type": "code",
   "execution_count": 27,
   "metadata": {},
   "outputs": [
    {
     "data": {
      "image/png": "[encoded data removed]",
      "text/plain": [
       "<Figure size 432x288 with 1 Axes>"
      ]
     },
     "metadata": {
      "needs_background": "light"
     },
     "output_type": "display_data"
    }
   ],
   "source": [
    "ax = sns.barplot(x='marital', y='response_rate', data=agg_marital)\n",
    "ax.set_xticklabels(ax.get_xticklabels(),rotation=0)\n",
    "plt.show()"
   ]
  },
  {
   "cell_type": "markdown",
   "metadata": {},
   "source": [
    "We note that there is a slight uptick in response rate for single customers, this can be attributed in part to the fact that people under the age of 20 have a very high response rate. "
   ]
  },
  {
   "cell_type": "markdown",
   "metadata": {},
   "source": [
    "#### Education"
   ]
  },
  {
   "cell_type": "code",
   "execution_count": 28,
   "metadata": {},
   "outputs": [
    {
     "data": {
      "text/plain": [
       "university.degree      12168\n",
       "high.school             9515\n",
       "basic.9y                6045\n",
       "professional.course     5243\n",
       "basic.4y                4176\n",
       "basic.6y                2292\n",
       "unknown                 1731\n",
       "illiterate                18\n",
       "Name: education, dtype: int64"
      ]
     },
     "execution_count": 28,
     "metadata": {},
     "output_type": "execute_result"
    }
   ],
   "source": [
    "loan['education'].value_counts()"
   ]
  },
  {
   "cell_type": "markdown",
   "metadata": {},
   "source": [
    "To simplify the problem, we are going to convert the educational qualifications to simple buckets of primary educations, secondary education, tertiary education and professional courses. Also note that there are 18 entries listing the educational status as illiterate. Since the closest group to them is primary education, we are going to assign all entries with educational status as illiterate to primary education."
   ]
  },
  {
   "cell_type": "code",
   "execution_count": 29,
   "metadata": {},
   "outputs": [],
   "source": [
    "loan.replace({'education' : { 'basic.9y' : 'Primary_Education', 'basic.4y' : 'Primary_Education','basic.6y' : 'Primary_Education','illiterate' : 'Primary_Education',\n",
    "                             'high.school' : 'Secondary_Education', 'university.degree' : 'Tertiary_Education' }}, inplace=True)"
   ]
  },
  {
   "cell_type": "code",
   "execution_count": 30,
   "metadata": {},
   "outputs": [
    {
     "data": {
      "text/plain": [
       "Primary_Education      12531\n",
       "Tertiary_Education     12168\n",
       "Secondary_Education     9515\n",
       "professional.course     5243\n",
       "unknown                 1731\n",
       "Name: education, dtype: int64"
      ]
     },
     "execution_count": 30,
     "metadata": {},
     "output_type": "execute_result"
    }
   ],
   "source": [
    "loan['education'].value_counts()"
   ]
  },
  {
   "cell_type": "code",
   "execution_count": 31,
   "metadata": {},
   "outputs": [
    {
     "data": {
      "text/html": [
       "<div>\n",
       "<style scoped>\n",
       "    .dataframe tbody tr th:only-of-type {\n",
       "        vertical-align: middle;\n",
       "    }\n",
       "\n",
       "    .dataframe tbody tr th {\n",
       "        vertical-align: top;\n",
       "    }\n",
       "\n",
       "    .dataframe thead th {\n",
       "        text-align: right;\n",
       "    }\n",
       "</style>\n",
       "<table border=\"1\" class=\"dataframe\">\n",
       "  <thead>\n",
       "    <tr style=\"text-align: right;\">\n",
       "      <th></th>\n",
       "      <th>education</th>\n",
       "      <th>count_prospects</th>\n",
       "      <th>No_of_prospects</th>\n",
       "      <th>response_rate</th>\n",
       "    </tr>\n",
       "  </thead>\n",
       "  <tbody>\n",
       "    <tr>\n",
       "      <th>0</th>\n",
       "      <td>Primary_Education</td>\n",
       "      <td>1093</td>\n",
       "      <td>12531</td>\n",
       "      <td>8.72</td>\n",
       "    </tr>\n",
       "    <tr>\n",
       "      <th>1</th>\n",
       "      <td>Secondary_Education</td>\n",
       "      <td>1031</td>\n",
       "      <td>9515</td>\n",
       "      <td>10.84</td>\n",
       "    </tr>\n",
       "    <tr>\n",
       "      <th>2</th>\n",
       "      <td>Tertiary_Education</td>\n",
       "      <td>1670</td>\n",
       "      <td>12168</td>\n",
       "      <td>13.72</td>\n",
       "    </tr>\n",
       "    <tr>\n",
       "      <th>3</th>\n",
       "      <td>professional.course</td>\n",
       "      <td>595</td>\n",
       "      <td>5243</td>\n",
       "      <td>11.35</td>\n",
       "    </tr>\n",
       "    <tr>\n",
       "      <th>4</th>\n",
       "      <td>unknown</td>\n",
       "      <td>251</td>\n",
       "      <td>1731</td>\n",
       "      <td>14.50</td>\n",
       "    </tr>\n",
       "  </tbody>\n",
       "</table>\n",
       "</div>"
      ],
      "text/plain": [
       "             education  count_prospects  No_of_prospects  response_rate\n",
       "0    Primary_Education             1093            12531           8.72\n",
       "1  Secondary_Education             1031             9515          10.84\n",
       "2   Tertiary_Education             1670            12168          13.72\n",
       "3  professional.course              595             5243          11.35\n",
       "4              unknown              251             1731          14.50"
      ]
     },
     "execution_count": 31,
     "metadata": {},
     "output_type": "execute_result"
    }
   ],
   "source": [
    "count_prospects_education = loan.groupby('education')['response'].sum().reset_index(name = 'count_prospects')\n",
    "No_of_prospect_education = loan.groupby('education')['response'].count().reset_index(name = 'No_of_prospects')\n",
    "agg_education = count_prospects_education.merge(No_of_prospect_education, on = 'education')\n",
    "agg_education['response_rate'] = 100*(agg_education['count_prospects']/agg_education['No_of_prospects']).round(4)\n",
    "agg_education"
   ]
  },
  {
   "cell_type": "code",
   "execution_count": 32,
   "metadata": {},
   "outputs": [
    {
     "data": {
      "image/png": "[encoded data removed]",
      "text/plain": [
       "<Figure size 432x288 with 1 Axes>"
      ]
     },
     "metadata": {
      "needs_background": "light"
     },
     "output_type": "display_data"
    }
   ],
   "source": [
    "ax = sns.barplot(x='education', y='response_rate', data=agg_education)\n",
    "ax.set_xticklabels(ax.get_xticklabels(),rotation=30)\n",
    "plt.show()"
   ]
  },
  {
   "cell_type": "markdown",
   "metadata": {},
   "source": [
    "We note that the response rate is lowest for people with highest education qualification as primary education, which may be attributed, in part, to lack of awareness and a lack of trust between the bank and the customer. It is the highest for people with tertiary education."
   ]
  },
  {
   "cell_type": "markdown",
   "metadata": {},
   "source": [
    "#### Previous Default"
   ]
  },
  {
   "cell_type": "code",
   "execution_count": 33,
   "metadata": {},
   "outputs": [
    {
     "data": {
      "text/plain": [
       "no         32588\n",
       "unknown     8597\n",
       "yes            3\n",
       "Name: default, dtype: int64"
      ]
     },
     "execution_count": 33,
     "metadata": {},
     "output_type": "execute_result"
    }
   ],
   "source": [
    "loan['default'].value_counts()"
   ]
  },
  {
   "cell_type": "code",
   "execution_count": 34,
   "metadata": {},
   "outputs": [
    {
     "data": {
      "text/html": [
       "<div>\n",
       "<style scoped>\n",
       "    .dataframe tbody tr th:only-of-type {\n",
       "        vertical-align: middle;\n",
       "    }\n",
       "\n",
       "    .dataframe tbody tr th {\n",
       "        vertical-align: top;\n",
       "    }\n",
       "\n",
       "    .dataframe thead th {\n",
       "        text-align: right;\n",
       "    }\n",
       "</style>\n",
       "<table border=\"1\" class=\"dataframe\">\n",
       "  <thead>\n",
       "    <tr style=\"text-align: right;\">\n",
       "      <th></th>\n",
       "      <th>default</th>\n",
       "      <th>count_prospects</th>\n",
       "      <th>No_of_prospects</th>\n",
       "      <th>response_rate</th>\n",
       "    </tr>\n",
       "  </thead>\n",
       "  <tbody>\n",
       "    <tr>\n",
       "      <th>0</th>\n",
       "      <td>no</td>\n",
       "      <td>4197</td>\n",
       "      <td>32588</td>\n",
       "      <td>12.88</td>\n",
       "    </tr>\n",
       "    <tr>\n",
       "      <th>1</th>\n",
       "      <td>unknown</td>\n",
       "      <td>443</td>\n",
       "      <td>8597</td>\n",
       "      <td>5.15</td>\n",
       "    </tr>\n",
       "    <tr>\n",
       "      <th>2</th>\n",
       "      <td>yes</td>\n",
       "      <td>0</td>\n",
       "      <td>3</td>\n",
       "      <td>0.00</td>\n",
       "    </tr>\n",
       "  </tbody>\n",
       "</table>\n",
       "</div>"
      ],
      "text/plain": [
       "   default  count_prospects  No_of_prospects  response_rate\n",
       "0       no             4197            32588          12.88\n",
       "1  unknown              443             8597           5.15\n",
       "2      yes                0                3           0.00"
      ]
     },
     "execution_count": 34,
     "metadata": {},
     "output_type": "execute_result"
    }
   ],
   "source": [
    "count_prospects_default = loan.groupby('default')['response'].sum().reset_index(name = 'count_prospects')\n",
    "No_of_prospect_default = loan.groupby('default')['response'].count().reset_index(name = 'No_of_prospects')\n",
    "agg_default = count_prospects_default.merge(No_of_prospect_default, on = 'default')\n",
    "agg_default['response_rate'] = 100*(agg_default['count_prospects']/agg_default['No_of_prospects']).round(4)\n",
    "agg_default"
   ]
  },
  {
   "cell_type": "code",
   "execution_count": 35,
   "metadata": {},
   "outputs": [
    {
     "data": {
      "image/png": "[encoded data removed]",
      "text/plain": [
       "<Figure size 432x288 with 1 Axes>"
      ]
     },
     "metadata": {
      "needs_background": "light"
     },
     "output_type": "display_data"
    }
   ],
   "source": [
    "ax = sns.barplot(x='default', y='response_rate', data=agg_default)\n",
    "ax.set_xticklabels(ax.get_xticklabels(),rotation=0)\n",
    "plt.show()"
   ]
  },
  {
   "cell_type": "markdown",
   "metadata": {},
   "source": [
    "#### Housing"
   ]
  },
  {
   "cell_type": "code",
   "execution_count": 36,
   "metadata": {},
   "outputs": [
    {
     "data": {
      "text/plain": [
       "yes        21576\n",
       "no         18622\n",
       "unknown      990\n",
       "Name: housing, dtype: int64"
      ]
     },
     "execution_count": 36,
     "metadata": {},
     "output_type": "execute_result"
    }
   ],
   "source": [
    "loan['housing'].value_counts()"
   ]
  },
  {
   "cell_type": "code",
   "execution_count": 37,
   "metadata": {},
   "outputs": [
    {
     "data": {
      "text/html": [
       "<div>\n",
       "<style scoped>\n",
       "    .dataframe tbody tr th:only-of-type {\n",
       "        vertical-align: middle;\n",
       "    }\n",
       "\n",
       "    .dataframe tbody tr th {\n",
       "        vertical-align: top;\n",
       "    }\n",
       "\n",
       "    .dataframe thead th {\n",
       "        text-align: right;\n",
       "    }\n",
       "</style>\n",
       "<table border=\"1\" class=\"dataframe\">\n",
       "  <thead>\n",
       "    <tr style=\"text-align: right;\">\n",
       "      <th></th>\n",
       "      <th>housing</th>\n",
       "      <th>count_prospects</th>\n",
       "      <th>No_of_prospects</th>\n",
       "      <th>response_rate</th>\n",
       "    </tr>\n",
       "  </thead>\n",
       "  <tbody>\n",
       "    <tr>\n",
       "      <th>0</th>\n",
       "      <td>no</td>\n",
       "      <td>2026</td>\n",
       "      <td>18622</td>\n",
       "      <td>10.88</td>\n",
       "    </tr>\n",
       "    <tr>\n",
       "      <th>1</th>\n",
       "      <td>unknown</td>\n",
       "      <td>107</td>\n",
       "      <td>990</td>\n",
       "      <td>10.81</td>\n",
       "    </tr>\n",
       "    <tr>\n",
       "      <th>2</th>\n",
       "      <td>yes</td>\n",
       "      <td>2507</td>\n",
       "      <td>21576</td>\n",
       "      <td>11.62</td>\n",
       "    </tr>\n",
       "  </tbody>\n",
       "</table>\n",
       "</div>"
      ],
      "text/plain": [
       "   housing  count_prospects  No_of_prospects  response_rate\n",
       "0       no             2026            18622          10.88\n",
       "1  unknown              107              990          10.81\n",
       "2      yes             2507            21576          11.62"
      ]
     },
     "execution_count": 37,
     "metadata": {},
     "output_type": "execute_result"
    }
   ],
   "source": [
    "count_prospects_housing = loan.groupby('housing')['response'].sum().reset_index(name = 'count_prospects')\n",
    "No_of_prospect_housing = loan.groupby('housing')['response'].count().reset_index(name = 'No_of_prospects')\n",
    "agg_housing = count_prospects_housing.merge(No_of_prospect_housing, on = 'housing')\n",
    "agg_housing['response_rate'] = 100*(agg_housing['count_prospects']/agg_housing['No_of_prospects']).round(4)\n",
    "agg_housing"
   ]
  },
  {
   "cell_type": "code",
   "execution_count": 38,
   "metadata": {},
   "outputs": [
    {
     "data": {
      "image/png": "[encoded data removed]",
      "text/plain": [
       "<Figure size 432x288 with 1 Axes>"
      ]
     },
     "metadata": {
      "needs_background": "light"
     },
     "output_type": "display_data"
    }
   ],
   "source": [
    "ax = sns.barplot(x='housing', y='response_rate', data=agg_housing)\n",
    "ax.set_xticklabels(ax.get_xticklabels(),rotation=0)\n",
    "plt.show()"
   ]
  },
  {
   "cell_type": "markdown",
   "metadata": {},
   "source": [
    "We see that there is a slight uptick in the response rate for people with housing, though it is probably not very significant"
   ]
  },
  {
   "cell_type": "markdown",
   "metadata": {},
   "source": [
    "#### Loan"
   ]
  },
  {
   "cell_type": "code",
   "execution_count": 39,
   "metadata": {},
   "outputs": [
    {
     "data": {
      "text/plain": [
       "no         33950\n",
       "yes         6248\n",
       "unknown      990\n",
       "Name: loan, dtype: int64"
      ]
     },
     "execution_count": 39,
     "metadata": {},
     "output_type": "execute_result"
    }
   ],
   "source": [
    "loan['loan'].value_counts()"
   ]
  },
  {
   "cell_type": "code",
   "execution_count": 40,
   "metadata": {},
   "outputs": [
    {
     "data": {
      "text/html": [
       "<div>\n",
       "<style scoped>\n",
       "    .dataframe tbody tr th:only-of-type {\n",
       "        vertical-align: middle;\n",
       "    }\n",
       "\n",
       "    .dataframe tbody tr th {\n",
       "        vertical-align: top;\n",
       "    }\n",
       "\n",
       "    .dataframe thead th {\n",
       "        text-align: right;\n",
       "    }\n",
       "</style>\n",
       "<table border=\"1\" class=\"dataframe\">\n",
       "  <thead>\n",
       "    <tr style=\"text-align: right;\">\n",
       "      <th></th>\n",
       "      <th>loan</th>\n",
       "      <th>count_prospects</th>\n",
       "      <th>No_of_prospects</th>\n",
       "      <th>response_rate</th>\n",
       "    </tr>\n",
       "  </thead>\n",
       "  <tbody>\n",
       "    <tr>\n",
       "      <th>0</th>\n",
       "      <td>no</td>\n",
       "      <td>3850</td>\n",
       "      <td>33950</td>\n",
       "      <td>11.34</td>\n",
       "    </tr>\n",
       "    <tr>\n",
       "      <th>1</th>\n",
       "      <td>unknown</td>\n",
       "      <td>107</td>\n",
       "      <td>990</td>\n",
       "      <td>10.81</td>\n",
       "    </tr>\n",
       "    <tr>\n",
       "      <th>2</th>\n",
       "      <td>yes</td>\n",
       "      <td>683</td>\n",
       "      <td>6248</td>\n",
       "      <td>10.93</td>\n",
       "    </tr>\n",
       "  </tbody>\n",
       "</table>\n",
       "</div>"
      ],
      "text/plain": [
       "      loan  count_prospects  No_of_prospects  response_rate\n",
       "0       no             3850            33950          11.34\n",
       "1  unknown              107              990          10.81\n",
       "2      yes              683             6248          10.93"
      ]
     },
     "execution_count": 40,
     "metadata": {},
     "output_type": "execute_result"
    }
   ],
   "source": [
    "count_prospects_loan = loan.groupby('loan')['response'].sum().reset_index(name = 'count_prospects')\n",
    "No_of_prospect_loan = loan.groupby('loan')['response'].count().reset_index(name = 'No_of_prospects')\n",
    "agg_loan = count_prospects_loan.merge(No_of_prospect_loan, on = 'loan')\n",
    "agg_loan['response_rate'] = 100*(agg_loan['count_prospects']/agg_loan['No_of_prospects']).round(4)\n",
    "agg_loan"
   ]
  },
  {
   "cell_type": "code",
   "execution_count": 41,
   "metadata": {},
   "outputs": [
    {
     "data": {
      "image/png": "[encoded data removed]",
      "text/plain": [
       "<Figure size 432x288 with 1 Axes>"
      ]
     },
     "metadata": {
      "needs_background": "light"
     },
     "output_type": "display_data"
    }
   ],
   "source": [
    "ax = sns.barplot(x='loan', y='response_rate', data=agg_loan)\n",
    "ax.set_xticklabels(ax.get_xticklabels(),rotation=0)\n",
    "plt.show()"
   ]
  },
  {
   "cell_type": "markdown",
   "metadata": {},
   "source": [
    "We see that there seems to be very little correlation between a prospect having a personal loan and the likelihood of him/her responding positively to the investment product"
   ]
  },
  {
   "cell_type": "markdown",
   "metadata": {},
   "source": [
    "Now that we have had a look at the client data, we will move to the last contact information.\n",
    "\n",
    "There are four features in the given dataset which cover this information.\n",
    "\n",
    "- Contact: contact communication type\n",
    "- Month: last contact month of year\n",
    "- Day_of_week: last contact day of the week\n",
    "- Duration: last contact duration, in seconds "
   ]
  },
  {
   "cell_type": "markdown",
   "metadata": {},
   "source": [
    "#### Contact"
   ]
  },
  {
   "cell_type": "code",
   "execution_count": 42,
   "metadata": {},
   "outputs": [
    {
     "data": {
      "text/plain": [
       "cellular     26144\n",
       "telephone    15044\n",
       "Name: contact, dtype: int64"
      ]
     },
     "execution_count": 42,
     "metadata": {},
     "output_type": "execute_result"
    }
   ],
   "source": [
    "loan['contact'].value_counts()"
   ]
  },
  {
   "cell_type": "code",
   "execution_count": 43,
   "metadata": {},
   "outputs": [
    {
     "data": {
      "text/html": [
       "<div>\n",
       "<style scoped>\n",
       "    .dataframe tbody tr th:only-of-type {\n",
       "        vertical-align: middle;\n",
       "    }\n",
       "\n",
       "    .dataframe tbody tr th {\n",
       "        vertical-align: top;\n",
       "    }\n",
       "\n",
       "    .dataframe thead th {\n",
       "        text-align: right;\n",
       "    }\n",
       "</style>\n",
       "<table border=\"1\" class=\"dataframe\">\n",
       "  <thead>\n",
       "    <tr style=\"text-align: right;\">\n",
       "      <th></th>\n",
       "      <th>contact</th>\n",
       "      <th>count_prospects</th>\n",
       "      <th>No_of_prospects</th>\n",
       "      <th>response_rate</th>\n",
       "    </tr>\n",
       "  </thead>\n",
       "  <tbody>\n",
       "    <tr>\n",
       "      <th>0</th>\n",
       "      <td>cellular</td>\n",
       "      <td>3853</td>\n",
       "      <td>26144</td>\n",
       "      <td>14.74</td>\n",
       "    </tr>\n",
       "    <tr>\n",
       "      <th>1</th>\n",
       "      <td>telephone</td>\n",
       "      <td>787</td>\n",
       "      <td>15044</td>\n",
       "      <td>5.23</td>\n",
       "    </tr>\n",
       "  </tbody>\n",
       "</table>\n",
       "</div>"
      ],
      "text/plain": [
       "     contact  count_prospects  No_of_prospects  response_rate\n",
       "0   cellular             3853            26144          14.74\n",
       "1  telephone              787            15044           5.23"
      ]
     },
     "execution_count": 43,
     "metadata": {},
     "output_type": "execute_result"
    }
   ],
   "source": [
    "count_prospects_contact = loan.groupby('contact')['response'].sum().reset_index(name = 'count_prospects')\n",
    "No_of_prospect_contact = loan.groupby('contact')['response'].count().reset_index(name = 'No_of_prospects')\n",
    "agg_contact = count_prospects_contact.merge(No_of_prospect_contact, on = 'contact')\n",
    "agg_contact['response_rate'] = 100*(agg_contact['count_prospects']/agg_contact['No_of_prospects']).round(4)\n",
    "agg_contact"
   ]
  },
  {
   "cell_type": "code",
   "execution_count": 44,
   "metadata": {},
   "outputs": [
    {
     "data": {
      "image/png": "[encoded data removed]",
      "text/plain": [
       "<Figure size 432x288 with 1 Axes>"
      ]
     },
     "metadata": {
      "needs_background": "light"
     },
     "output_type": "display_data"
    }
   ],
   "source": [
    "ax = sns.barplot(x='contact', y='response_rate', data=agg_contact)\n",
    "ax.set_xticklabels(ax.get_xticklabels(),rotation=0)\n",
    "plt.show()"
   ]
  },
  {
   "cell_type": "markdown",
   "metadata": {},
   "source": [
    "We see that the prospective customers contacted through cellular medium are significantly or likely to opt in to the investment scheme compared to customers contacted through telephonic medium."
   ]
  },
  {
   "cell_type": "markdown",
   "metadata": {},
   "source": [
    "#### Month"
   ]
  },
  {
   "cell_type": "code",
   "execution_count": 45,
   "metadata": {},
   "outputs": [
    {
     "data": {
      "text/plain": [
       "may    13769\n",
       "jul     7174\n",
       "aug     6178\n",
       "jun     5318\n",
       "nov     4101\n",
       "apr     2632\n",
       "oct      718\n",
       "sep      570\n",
       "mar      546\n",
       "dec      182\n",
       "Name: month, dtype: int64"
      ]
     },
     "execution_count": 45,
     "metadata": {},
     "output_type": "execute_result"
    }
   ],
   "source": [
    "loan['month'].value_counts()"
   ]
  },
  {
   "cell_type": "code",
   "execution_count": 46,
   "metadata": {},
   "outputs": [
    {
     "data": {
      "text/html": [
       "<div>\n",
       "<style scoped>\n",
       "    .dataframe tbody tr th:only-of-type {\n",
       "        vertical-align: middle;\n",
       "    }\n",
       "\n",
       "    .dataframe tbody tr th {\n",
       "        vertical-align: top;\n",
       "    }\n",
       "\n",
       "    .dataframe thead th {\n",
       "        text-align: right;\n",
       "    }\n",
       "</style>\n",
       "<table border=\"1\" class=\"dataframe\">\n",
       "  <thead>\n",
       "    <tr style=\"text-align: right;\">\n",
       "      <th></th>\n",
       "      <th>month</th>\n",
       "      <th>count_prospects</th>\n",
       "      <th>No_of_prospects</th>\n",
       "      <th>response_rate</th>\n",
       "    </tr>\n",
       "  </thead>\n",
       "  <tbody>\n",
       "    <tr>\n",
       "      <th>0</th>\n",
       "      <td>apr</td>\n",
       "      <td>539</td>\n",
       "      <td>2632</td>\n",
       "      <td>20.48</td>\n",
       "    </tr>\n",
       "    <tr>\n",
       "      <th>1</th>\n",
       "      <td>aug</td>\n",
       "      <td>655</td>\n",
       "      <td>6178</td>\n",
       "      <td>10.60</td>\n",
       "    </tr>\n",
       "    <tr>\n",
       "      <th>2</th>\n",
       "      <td>dec</td>\n",
       "      <td>89</td>\n",
       "      <td>182</td>\n",
       "      <td>48.90</td>\n",
       "    </tr>\n",
       "    <tr>\n",
       "      <th>3</th>\n",
       "      <td>jul</td>\n",
       "      <td>649</td>\n",
       "      <td>7174</td>\n",
       "      <td>9.05</td>\n",
       "    </tr>\n",
       "    <tr>\n",
       "      <th>4</th>\n",
       "      <td>jun</td>\n",
       "      <td>559</td>\n",
       "      <td>5318</td>\n",
       "      <td>10.51</td>\n",
       "    </tr>\n",
       "    <tr>\n",
       "      <th>5</th>\n",
       "      <td>mar</td>\n",
       "      <td>276</td>\n",
       "      <td>546</td>\n",
       "      <td>50.55</td>\n",
       "    </tr>\n",
       "    <tr>\n",
       "      <th>6</th>\n",
       "      <td>may</td>\n",
       "      <td>886</td>\n",
       "      <td>13769</td>\n",
       "      <td>6.43</td>\n",
       "    </tr>\n",
       "    <tr>\n",
       "      <th>7</th>\n",
       "      <td>nov</td>\n",
       "      <td>416</td>\n",
       "      <td>4101</td>\n",
       "      <td>10.14</td>\n",
       "    </tr>\n",
       "    <tr>\n",
       "      <th>8</th>\n",
       "      <td>oct</td>\n",
       "      <td>315</td>\n",
       "      <td>718</td>\n",
       "      <td>43.87</td>\n",
       "    </tr>\n",
       "    <tr>\n",
       "      <th>9</th>\n",
       "      <td>sep</td>\n",
       "      <td>256</td>\n",
       "      <td>570</td>\n",
       "      <td>44.91</td>\n",
       "    </tr>\n",
       "  </tbody>\n",
       "</table>\n",
       "</div>"
      ],
      "text/plain": [
       "  month  count_prospects  No_of_prospects  response_rate\n",
       "0   apr              539             2632          20.48\n",
       "1   aug              655             6178          10.60\n",
       "2   dec               89              182          48.90\n",
       "3   jul              649             7174           9.05\n",
       "4   jun              559             5318          10.51\n",
       "5   mar              276              546          50.55\n",
       "6   may              886            13769           6.43\n",
       "7   nov              416             4101          10.14\n",
       "8   oct              315              718          43.87\n",
       "9   sep              256              570          44.91"
      ]
     },
     "execution_count": 46,
     "metadata": {},
     "output_type": "execute_result"
    }
   ],
   "source": [
    "count_prospects_month = loan.groupby('month')['response'].sum().reset_index(name = 'count_prospects')\n",
    "No_of_prospect_month = loan.groupby('month')['response'].count().reset_index(name = 'No_of_prospects')\n",
    "agg_month = count_prospects_month.merge(No_of_prospect_month, on = 'month')\n",
    "agg_month['response_rate'] = 100*(agg_month['count_prospects']/agg_month['No_of_prospects']).round(4)\n",
    "agg_month"
   ]
  },
  {
   "cell_type": "code",
   "execution_count": 47,
   "metadata": {},
   "outputs": [
    {
     "data": {
      "image/png": "[encoded data removed]",
      "text/plain": [
       "<Figure size 432x288 with 1 Axes>"
      ]
     },
     "metadata": {
      "needs_background": "light"
     },
     "output_type": "display_data"
    }
   ],
   "source": [
    "ax = sns.barplot(x='month', y='response_rate', data=agg_month)\n",
    "ax.set_xticklabels(ax.get_xticklabels(),rotation=0)\n",
    "plt.show()"
   ]
  },
  {
   "cell_type": "markdown",
   "metadata": {},
   "source": [
    "We note that the four months of december, march, october and september appear to be the best to contact the potential customers. However, these months have the fewest data entries as well, so it is not certain, how well it would behave when calls are made at a high volume."
   ]
  },
  {
   "cell_type": "markdown",
   "metadata": {},
   "source": [
    "#### Day of the week"
   ]
  },
  {
   "cell_type": "code",
   "execution_count": 48,
   "metadata": {},
   "outputs": [
    {
     "data": {
      "text/plain": [
       "thu    8623\n",
       "mon    8514\n",
       "wed    8134\n",
       "tue    8090\n",
       "fri    7827\n",
       "Name: day_of_week, dtype: int64"
      ]
     },
     "execution_count": 48,
     "metadata": {},
     "output_type": "execute_result"
    }
   ],
   "source": [
    "loan['day_of_week'].value_counts()"
   ]
  },
  {
   "cell_type": "code",
   "execution_count": 49,
   "metadata": {},
   "outputs": [
    {
     "data": {
      "text/html": [
       "<div>\n",
       "<style scoped>\n",
       "    .dataframe tbody tr th:only-of-type {\n",
       "        vertical-align: middle;\n",
       "    }\n",
       "\n",
       "    .dataframe tbody tr th {\n",
       "        vertical-align: top;\n",
       "    }\n",
       "\n",
       "    .dataframe thead th {\n",
       "        text-align: right;\n",
       "    }\n",
       "</style>\n",
       "<table border=\"1\" class=\"dataframe\">\n",
       "  <thead>\n",
       "    <tr style=\"text-align: right;\">\n",
       "      <th></th>\n",
       "      <th>day_of_week</th>\n",
       "      <th>count_prospects</th>\n",
       "      <th>No_of_prospects</th>\n",
       "      <th>response_rate</th>\n",
       "    </tr>\n",
       "  </thead>\n",
       "  <tbody>\n",
       "    <tr>\n",
       "      <th>0</th>\n",
       "      <td>fri</td>\n",
       "      <td>846</td>\n",
       "      <td>7827</td>\n",
       "      <td>10.81</td>\n",
       "    </tr>\n",
       "    <tr>\n",
       "      <th>1</th>\n",
       "      <td>mon</td>\n",
       "      <td>847</td>\n",
       "      <td>8514</td>\n",
       "      <td>9.95</td>\n",
       "    </tr>\n",
       "    <tr>\n",
       "      <th>2</th>\n",
       "      <td>thu</td>\n",
       "      <td>1045</td>\n",
       "      <td>8623</td>\n",
       "      <td>12.12</td>\n",
       "    </tr>\n",
       "    <tr>\n",
       "      <th>3</th>\n",
       "      <td>tue</td>\n",
       "      <td>953</td>\n",
       "      <td>8090</td>\n",
       "      <td>11.78</td>\n",
       "    </tr>\n",
       "    <tr>\n",
       "      <th>4</th>\n",
       "      <td>wed</td>\n",
       "      <td>949</td>\n",
       "      <td>8134</td>\n",
       "      <td>11.67</td>\n",
       "    </tr>\n",
       "  </tbody>\n",
       "</table>\n",
       "</div>"
      ],
      "text/plain": [
       "  day_of_week  count_prospects  No_of_prospects  response_rate\n",
       "0         fri              846             7827          10.81\n",
       "1         mon              847             8514           9.95\n",
       "2         thu             1045             8623          12.12\n",
       "3         tue              953             8090          11.78\n",
       "4         wed              949             8134          11.67"
      ]
     },
     "execution_count": 49,
     "metadata": {},
     "output_type": "execute_result"
    }
   ],
   "source": [
    "count_prospects_day = loan.groupby('day_of_week')['response'].sum().reset_index(name = 'count_prospects')\n",
    "No_of_prospect_day = loan.groupby('day_of_week')['response'].count().reset_index(name = 'No_of_prospects')\n",
    "agg_day = count_prospects_day.merge(No_of_prospect_day, on = 'day_of_week')\n",
    "agg_day['response_rate'] = 100*(agg_day['count_prospects']/agg_day['No_of_prospects']).round(4)\n",
    "agg_day"
   ]
  },
  {
   "cell_type": "code",
   "execution_count": 50,
   "metadata": {},
   "outputs": [
    {
     "data": {
      "image/png": "[encoded data removed]",
      "text/plain": [
       "<Figure size 432x288 with 1 Axes>"
      ]
     },
     "metadata": {
      "needs_background": "light"
     },
     "output_type": "display_data"
    }
   ],
   "source": [
    "ax = sns.barplot(x='day_of_week', y='response_rate', data=agg_day)\n",
    "ax.set_xticklabels(ax.get_xticklabels(),rotation=0)\n",
    "plt.show()"
   ]
  },
  {
   "cell_type": "markdown",
   "metadata": {},
   "source": [
    "We see that response rate is lowest on monday, while being highest on thursday. However, the gap isn't very big."
   ]
  },
  {
   "cell_type": "markdown",
   "metadata": {},
   "source": [
    "#### Duration of the call"
   ]
  },
  {
   "cell_type": "code",
   "execution_count": 51,
   "metadata": {},
   "outputs": [
    {
     "data": {
      "image/png": "[encoded data removed]",
      "text/plain": [
       "<Figure size 432x288 with 1 Axes>"
      ]
     },
     "metadata": {
      "needs_background": "light"
     },
     "output_type": "display_data"
    }
   ],
   "source": [
    "sns.distplot(loan['duration'])\n",
    "plt.show()"
   ]
  },
  {
   "cell_type": "markdown",
   "metadata": {},
   "source": [
    "As we know that this is a continuos variable, we will create a box plot"
   ]
  },
  {
   "cell_type": "code",
   "execution_count": 52,
   "metadata": {},
   "outputs": [
    {
     "data": {
      "text/plain": [
       "count    41188.000000\n",
       "mean       258.285010\n",
       "std        259.279249\n",
       "min          0.000000\n",
       "25%        102.000000\n",
       "50%        180.000000\n",
       "75%        319.000000\n",
       "95%        752.650000\n",
       "99%       1271.130000\n",
       "max       4918.000000\n",
       "Name: duration, dtype: float64"
      ]
     },
     "execution_count": 52,
     "metadata": {},
     "output_type": "execute_result"
    }
   ],
   "source": [
    "loan['duration'].describe(percentiles = [0.25,0.50,0.75,0.95,0.99])"
   ]
  },
  {
   "cell_type": "code",
   "execution_count": 53,
   "metadata": {},
   "outputs": [
    {
     "data": {
      "image/png": "[encoded data removed]",
      "text/plain": [
       "<Figure size 432x288 with 1 Axes>"
      ]
     },
     "metadata": {
      "needs_background": "light"
     },
     "output_type": "display_data"
    }
   ],
   "source": [
    "sns.boxplot(x='duration', data=loan)\n",
    "plt.show()"
   ]
  },
  {
   "cell_type": "markdown",
   "metadata": {},
   "source": [
    "Since less than one percent of entires have duration greater than 1271, we can assume all entries with duration greater than 1271 as having duration as 1271."
   ]
  },
  {
   "cell_type": "code",
   "execution_count": 54,
   "metadata": {},
   "outputs": [],
   "source": [
    "loan['duration'][loan['duration']>1271] =1271"
   ]
  },
  {
   "cell_type": "code",
   "execution_count": 55,
   "metadata": {},
   "outputs": [
    {
     "data": {
      "image/png": "[encoded data removed]",
      "text/plain": [
       "<Figure size 432x288 with 1 Axes>"
      ]
     },
     "metadata": {
      "needs_background": "light"
     },
     "output_type": "display_data"
    }
   ],
   "source": [
    "sns.boxplot(x='duration', data=loan)\n",
    "plt.show()"
   ]
  },
  {
   "cell_type": "code",
   "execution_count": 56,
   "metadata": {},
   "outputs": [
    {
     "data": {
      "image/png": "[encoded data removed]",
      "text/plain": [
       "<Figure size 432x288 with 1 Axes>"
      ]
     },
     "metadata": {
      "needs_background": "light"
     },
     "output_type": "display_data"
    }
   ],
   "source": [
    "sns.distplot(loan['duration'])\n",
    "plt.show()"
   ]
  },
  {
   "cell_type": "markdown",
   "metadata": {},
   "source": [
    "Now that we have looked at client data and the data related to last contact, we will look at some of the other attributes.\n",
    "\n",
    "- Campaign: number of contacts performed during this campaign and for this client\n",
    "- Pdays: number of days that passed by after the client was last contacted from a previous campaign\n",
    "- Previous: number of contacts performed before this campaign and for this client\n",
    "- Poutcome: outcome of the previous marketing campaign"
   ]
  },
  {
   "cell_type": "markdown",
   "metadata": {},
   "source": [
    "#### Campaign"
   ]
  },
  {
   "cell_type": "code",
   "execution_count": 57,
   "metadata": {},
   "outputs": [
    {
     "data": {
      "text/plain": [
       "1     17642\n",
       "2     10570\n",
       "3      5341\n",
       "4      2651\n",
       "5      1599\n",
       "6       979\n",
       "7       629\n",
       "8       400\n",
       "9       283\n",
       "10      225\n",
       "11      177\n",
       "12      125\n",
       "13       92\n",
       "14       69\n",
       "17       58\n",
       "15       51\n",
       "16       51\n",
       "18       33\n",
       "20       30\n",
       "19       26\n",
       "21       24\n",
       "22       17\n",
       "23       16\n",
       "24       15\n",
       "27       11\n",
       "29       10\n",
       "25        8\n",
       "26        8\n",
       "28        8\n",
       "30        7\n",
       "31        7\n",
       "35        5\n",
       "33        4\n",
       "32        4\n",
       "34        3\n",
       "40        2\n",
       "42        2\n",
       "43        2\n",
       "37        1\n",
       "39        1\n",
       "41        1\n",
       "56        1\n",
       "Name: campaign, dtype: int64"
      ]
     },
     "execution_count": 57,
     "metadata": {},
     "output_type": "execute_result"
    }
   ],
   "source": [
    "loan['campaign'].value_counts()"
   ]
  },
  {
   "cell_type": "code",
   "execution_count": 58,
   "metadata": {},
   "outputs": [
    {
     "data": {
      "image/png": "[encoded data removed]",
      "text/plain": [
       "<Figure size 432x288 with 1 Axes>"
      ]
     },
     "metadata": {
      "needs_background": "light"
     },
     "output_type": "display_data"
    }
   ],
   "source": [
    "sns.distplot(loan['campaign'])\n",
    "plt.show()"
   ]
  },
  {
   "cell_type": "code",
   "execution_count": 59,
   "metadata": {},
   "outputs": [
    {
     "data": {
      "image/png": "[encoded data removed]",
      "text/plain": [
       "<Figure size 432x288 with 1 Axes>"
      ]
     },
     "metadata": {
      "needs_background": "light"
     },
     "output_type": "display_data"
    }
   ],
   "source": [
    "# We will create a box plot\n",
    "sns.boxplot(x='campaign', data=loan)\n",
    "plt.show()"
   ]
  },
  {
   "cell_type": "code",
   "execution_count": 60,
   "metadata": {},
   "outputs": [
    {
     "data": {
      "text/plain": [
       "count    41188.000000\n",
       "mean         2.567593\n",
       "std          2.770014\n",
       "min          1.000000\n",
       "25%          1.000000\n",
       "50%          2.000000\n",
       "75%          3.000000\n",
       "95%          7.000000\n",
       "99%         14.000000\n",
       "max         56.000000\n",
       "Name: campaign, dtype: float64"
      ]
     },
     "execution_count": 60,
     "metadata": {},
     "output_type": "execute_result"
    }
   ],
   "source": [
    "loan['campaign'].describe(percentiles = [0.25,0.50,0.75,0.95,0.99])"
   ]
  },
  {
   "cell_type": "markdown",
   "metadata": {},
   "source": [
    "Once again, we can merga all data entries with contacts greater than 14 as having campaign contact as 14"
   ]
  },
  {
   "cell_type": "code",
   "execution_count": 61,
   "metadata": {},
   "outputs": [],
   "source": [
    "loan['campaign'][loan['campaign']>14] =14"
   ]
  },
  {
   "cell_type": "code",
   "execution_count": 62,
   "metadata": {},
   "outputs": [
    {
     "data": {
      "image/png": "[encoded data removed]",
      "text/plain": [
       "<Figure size 432x288 with 1 Axes>"
      ]
     },
     "metadata": {
      "needs_background": "light"
     },
     "output_type": "display_data"
    }
   ],
   "source": [
    "sns.countplot(loan['campaign'])\n",
    "plt.show()"
   ]
  },
  {
   "cell_type": "code",
   "execution_count": 63,
   "metadata": {},
   "outputs": [
    {
     "data": {
      "text/html": [
       "<div>\n",
       "<style scoped>\n",
       "    .dataframe tbody tr th:only-of-type {\n",
       "        vertical-align: middle;\n",
       "    }\n",
       "\n",
       "    .dataframe tbody tr th {\n",
       "        vertical-align: top;\n",
       "    }\n",
       "\n",
       "    .dataframe thead th {\n",
       "        text-align: right;\n",
       "    }\n",
       "</style>\n",
       "<table border=\"1\" class=\"dataframe\">\n",
       "  <thead>\n",
       "    <tr style=\"text-align: right;\">\n",
       "      <th></th>\n",
       "      <th>campaign</th>\n",
       "      <th>count_prospects</th>\n",
       "      <th>No_of_prospects</th>\n",
       "      <th>response_rate</th>\n",
       "    </tr>\n",
       "  </thead>\n",
       "  <tbody>\n",
       "    <tr>\n",
       "      <th>0</th>\n",
       "      <td>1</td>\n",
       "      <td>2300</td>\n",
       "      <td>17642</td>\n",
       "      <td>13.04</td>\n",
       "    </tr>\n",
       "    <tr>\n",
       "      <th>1</th>\n",
       "      <td>2</td>\n",
       "      <td>1211</td>\n",
       "      <td>10570</td>\n",
       "      <td>11.46</td>\n",
       "    </tr>\n",
       "    <tr>\n",
       "      <th>2</th>\n",
       "      <td>3</td>\n",
       "      <td>574</td>\n",
       "      <td>5341</td>\n",
       "      <td>10.75</td>\n",
       "    </tr>\n",
       "    <tr>\n",
       "      <th>3</th>\n",
       "      <td>4</td>\n",
       "      <td>249</td>\n",
       "      <td>2651</td>\n",
       "      <td>9.39</td>\n",
       "    </tr>\n",
       "    <tr>\n",
       "      <th>4</th>\n",
       "      <td>5</td>\n",
       "      <td>120</td>\n",
       "      <td>1599</td>\n",
       "      <td>7.50</td>\n",
       "    </tr>\n",
       "    <tr>\n",
       "      <th>5</th>\n",
       "      <td>6</td>\n",
       "      <td>75</td>\n",
       "      <td>979</td>\n",
       "      <td>7.66</td>\n",
       "    </tr>\n",
       "    <tr>\n",
       "      <th>6</th>\n",
       "      <td>7</td>\n",
       "      <td>38</td>\n",
       "      <td>629</td>\n",
       "      <td>6.04</td>\n",
       "    </tr>\n",
       "    <tr>\n",
       "      <th>7</th>\n",
       "      <td>8</td>\n",
       "      <td>17</td>\n",
       "      <td>400</td>\n",
       "      <td>4.25</td>\n",
       "    </tr>\n",
       "    <tr>\n",
       "      <th>8</th>\n",
       "      <td>9</td>\n",
       "      <td>17</td>\n",
       "      <td>283</td>\n",
       "      <td>6.01</td>\n",
       "    </tr>\n",
       "    <tr>\n",
       "      <th>9</th>\n",
       "      <td>10</td>\n",
       "      <td>12</td>\n",
       "      <td>225</td>\n",
       "      <td>5.33</td>\n",
       "    </tr>\n",
       "    <tr>\n",
       "      <th>10</th>\n",
       "      <td>11</td>\n",
       "      <td>12</td>\n",
       "      <td>177</td>\n",
       "      <td>6.78</td>\n",
       "    </tr>\n",
       "    <tr>\n",
       "      <th>11</th>\n",
       "      <td>12</td>\n",
       "      <td>3</td>\n",
       "      <td>125</td>\n",
       "      <td>2.40</td>\n",
       "    </tr>\n",
       "    <tr>\n",
       "      <th>12</th>\n",
       "      <td>13</td>\n",
       "      <td>4</td>\n",
       "      <td>92</td>\n",
       "      <td>4.35</td>\n",
       "    </tr>\n",
       "    <tr>\n",
       "      <th>13</th>\n",
       "      <td>14</td>\n",
       "      <td>8</td>\n",
       "      <td>475</td>\n",
       "      <td>1.68</td>\n",
       "    </tr>\n",
       "  </tbody>\n",
       "</table>\n",
       "</div>"
      ],
      "text/plain": [
       "    campaign  count_prospects  No_of_prospects  response_rate\n",
       "0          1             2300            17642          13.04\n",
       "1          2             1211            10570          11.46\n",
       "2          3              574             5341          10.75\n",
       "3          4              249             2651           9.39\n",
       "4          5              120             1599           7.50\n",
       "5          6               75              979           7.66\n",
       "6          7               38              629           6.04\n",
       "7          8               17              400           4.25\n",
       "8          9               17              283           6.01\n",
       "9         10               12              225           5.33\n",
       "10        11               12              177           6.78\n",
       "11        12                3              125           2.40\n",
       "12        13                4               92           4.35\n",
       "13        14                8              475           1.68"
      ]
     },
     "execution_count": 63,
     "metadata": {},
     "output_type": "execute_result"
    }
   ],
   "source": [
    "count_prospects_campaign = loan.groupby('campaign')['response'].sum().reset_index(name = 'count_prospects')\n",
    "No_of_prospect_campaign = loan.groupby('campaign')['response'].count().reset_index(name = 'No_of_prospects')\n",
    "agg_campaign = count_prospects_campaign.merge(No_of_prospect_campaign, on = 'campaign')\n",
    "agg_campaign['response_rate'] = 100*(agg_campaign['count_prospects']/agg_campaign['No_of_prospects']).round(4)\n",
    "agg_campaign"
   ]
  },
  {
   "cell_type": "code",
   "execution_count": 64,
   "metadata": {},
   "outputs": [
    {
     "data": {
      "image/png": "[encoded data removed]",
      "text/plain": [
       "<Figure size 432x288 with 1 Axes>"
      ]
     },
     "metadata": {
      "needs_background": "light"
     },
     "output_type": "display_data"
    }
   ],
   "source": [
    "ax = sns.barplot(x='campaign', y='response_rate', data=agg_campaign)\n",
    "ax.set_xticklabels(ax.get_xticklabels(),rotation=0)\n",
    "plt.show()"
   ]
  },
  {
   "cell_type": "markdown",
   "metadata": {},
   "source": [
    "Interesting to note, that the response rate gradually decreases as the number of campaign contacts increases."
   ]
  },
  {
   "cell_type": "markdown",
   "metadata": {},
   "source": [
    "#### Gap after the last contact"
   ]
  },
  {
   "cell_type": "code",
   "execution_count": 65,
   "metadata": {},
   "outputs": [
    {
     "data": {
      "text/plain": [
       "999    39673\n",
       "3        439\n",
       "6        412\n",
       "4        118\n",
       "9         64\n",
       "2         61\n",
       "7         60\n",
       "12        58\n",
       "10        52\n",
       "5         46\n",
       "13        36\n",
       "11        28\n",
       "1         26\n",
       "15        24\n",
       "14        20\n",
       "8         18\n",
       "0         15\n",
       "16        11\n",
       "17         8\n",
       "18         7\n",
       "19         3\n",
       "22         3\n",
       "21         2\n",
       "26         1\n",
       "20         1\n",
       "25         1\n",
       "27         1\n",
       "Name: pdays, dtype: int64"
      ]
     },
     "execution_count": 65,
     "metadata": {},
     "output_type": "execute_result"
    }
   ],
   "source": [
    "loan['pdays'].value_counts()"
   ]
  },
  {
   "cell_type": "markdown",
   "metadata": {},
   "source": [
    "We are going to divide the pdays into three buckets, that is contacted within the first ten days, contacted after first ten days and first time contacted. Note that the pdays value of 999 means client was not previously contacted."
   ]
  },
  {
   "cell_type": "code",
   "execution_count": 66,
   "metadata": {},
   "outputs": [],
   "source": [
    "loan['pdays'][loan['pdays'].isin([0,1,2,3,4,5,6,7,8,9,10])]='Contacted_in_first_10days'\n",
    "\n",
    "loan['pdays'][loan['pdays'].isin([999])]='First_time_contacted'\n",
    "\n",
    "loan['pdays'][~loan['pdays'].isin(['Contacted_in_first_10days','First_time_contacted'])]='Contacted_after_10days'"
   ]
  },
  {
   "cell_type": "code",
   "execution_count": 67,
   "metadata": {},
   "outputs": [
    {
     "data": {
      "text/plain": [
       "First_time_contacted         39673\n",
       "Contacted_in_first_10days     1311\n",
       "Contacted_after_10days         204\n",
       "Name: pdays, dtype: int64"
      ]
     },
     "execution_count": 67,
     "metadata": {},
     "output_type": "execute_result"
    }
   ],
   "source": [
    "loan['pdays'].value_counts()"
   ]
  },
  {
   "cell_type": "code",
   "execution_count": 68,
   "metadata": {},
   "outputs": [
    {
     "data": {
      "text/html": [
       "<div>\n",
       "<style scoped>\n",
       "    .dataframe tbody tr th:only-of-type {\n",
       "        vertical-align: middle;\n",
       "    }\n",
       "\n",
       "    .dataframe tbody tr th {\n",
       "        vertical-align: top;\n",
       "    }\n",
       "\n",
       "    .dataframe thead th {\n",
       "        text-align: right;\n",
       "    }\n",
       "</style>\n",
       "<table border=\"1\" class=\"dataframe\">\n",
       "  <thead>\n",
       "    <tr style=\"text-align: right;\">\n",
       "      <th></th>\n",
       "      <th>pdays</th>\n",
       "      <th>count_prospects</th>\n",
       "      <th>No_of_prospects</th>\n",
       "      <th>response_rate</th>\n",
       "    </tr>\n",
       "  </thead>\n",
       "  <tbody>\n",
       "    <tr>\n",
       "      <th>0</th>\n",
       "      <td>Contacted_after_10days</td>\n",
       "      <td>116</td>\n",
       "      <td>204</td>\n",
       "      <td>56.86</td>\n",
       "    </tr>\n",
       "    <tr>\n",
       "      <th>1</th>\n",
       "      <td>Contacted_in_first_10days</td>\n",
       "      <td>851</td>\n",
       "      <td>1311</td>\n",
       "      <td>64.91</td>\n",
       "    </tr>\n",
       "    <tr>\n",
       "      <th>2</th>\n",
       "      <td>First_time_contacted</td>\n",
       "      <td>3673</td>\n",
       "      <td>39673</td>\n",
       "      <td>9.26</td>\n",
       "    </tr>\n",
       "  </tbody>\n",
       "</table>\n",
       "</div>"
      ],
      "text/plain": [
       "                       pdays  count_prospects  No_of_prospects  response_rate\n",
       "0     Contacted_after_10days              116              204          56.86\n",
       "1  Contacted_in_first_10days              851             1311          64.91\n",
       "2       First_time_contacted             3673            39673           9.26"
      ]
     },
     "execution_count": 68,
     "metadata": {},
     "output_type": "execute_result"
    }
   ],
   "source": [
    "count_prospects_pdays = loan.groupby('pdays')['response'].sum().reset_index(name = 'count_prospects')\n",
    "No_of_prospect_pdays = loan.groupby('pdays')['response'].count().reset_index(name = 'No_of_prospects')\n",
    "agg_pdays = count_prospects_pdays.merge(No_of_prospect_pdays, on = 'pdays')\n",
    "agg_pdays['response_rate'] = 100*(agg_pdays['count_prospects']/agg_pdays['No_of_prospects']).round(4)\n",
    "agg_pdays"
   ]
  },
  {
   "cell_type": "code",
   "execution_count": 69,
   "metadata": {},
   "outputs": [
    {
     "data": {
      "image/png": "[encoded data removed]",
      "text/plain": [
       "<Figure size 432x288 with 1 Axes>"
      ]
     },
     "metadata": {
      "needs_background": "light"
     },
     "output_type": "display_data"
    }
   ],
   "source": [
    "ax = sns.barplot(x='pdays', y='response_rate', data=agg_pdays)\n",
    "ax.set_xticklabels(ax.get_xticklabels(),rotation=10)\n",
    "plt.show()"
   ]
  },
  {
   "cell_type": "markdown",
   "metadata": {},
   "source": [
    "Though there is a huge difference in the response rates of the three categories, it is important to note that there is also a huge difference in the volume of data entries in these categories"
   ]
  },
  {
   "cell_type": "markdown",
   "metadata": {},
   "source": [
    "#### Previous"
   ]
  },
  {
   "cell_type": "code",
   "execution_count": 70,
   "metadata": {},
   "outputs": [
    {
     "data": {
      "text/plain": [
       "0    35563\n",
       "1     4561\n",
       "2      754\n",
       "3      216\n",
       "4       70\n",
       "5       18\n",
       "6        5\n",
       "7        1\n",
       "Name: previous, dtype: int64"
      ]
     },
     "execution_count": 70,
     "metadata": {},
     "output_type": "execute_result"
    }
   ],
   "source": [
    "loan['previous'].value_counts()"
   ]
  },
  {
   "cell_type": "markdown",
   "metadata": {},
   "source": [
    "Since the data ranges from 0 to 7, we are going to break it into three categories, that is never contacted, contacted less than three times and contacted greater than three times"
   ]
  },
  {
   "cell_type": "code",
   "execution_count": 71,
   "metadata": {},
   "outputs": [],
   "source": [
    "loan['previous'][loan['previous'].isin([0])]='Never contacted'\n",
    "loan['previous'][loan['previous'].isin([1,2,3])]='Less_than_3_times'\n",
    "loan['previous'][loan['previous'].isin([4,5,6,7])]='More than_3_times'"
   ]
  },
  {
   "cell_type": "code",
   "execution_count": 72,
   "metadata": {},
   "outputs": [
    {
     "data": {
      "text/plain": [
       "Never contacted      35563\n",
       "Less_than_3_times     5531\n",
       "More than_3_times       94\n",
       "Name: previous, dtype: int64"
      ]
     },
     "execution_count": 72,
     "metadata": {},
     "output_type": "execute_result"
    }
   ],
   "source": [
    "loan['previous'].value_counts()"
   ]
  },
  {
   "cell_type": "code",
   "execution_count": 73,
   "metadata": {},
   "outputs": [
    {
     "data": {
      "text/html": [
       "<div>\n",
       "<style scoped>\n",
       "    .dataframe tbody tr th:only-of-type {\n",
       "        vertical-align: middle;\n",
       "    }\n",
       "\n",
       "    .dataframe tbody tr th {\n",
       "        vertical-align: top;\n",
       "    }\n",
       "\n",
       "    .dataframe thead th {\n",
       "        text-align: right;\n",
       "    }\n",
       "</style>\n",
       "<table border=\"1\" class=\"dataframe\">\n",
       "  <thead>\n",
       "    <tr style=\"text-align: right;\">\n",
       "      <th></th>\n",
       "      <th>previous</th>\n",
       "      <th>count_prospects</th>\n",
       "      <th>No_of_prospects</th>\n",
       "      <th>response_rate</th>\n",
       "    </tr>\n",
       "  </thead>\n",
       "  <tbody>\n",
       "    <tr>\n",
       "      <th>0</th>\n",
       "      <td>Less_than_3_times</td>\n",
       "      <td>1445</td>\n",
       "      <td>5531</td>\n",
       "      <td>26.13</td>\n",
       "    </tr>\n",
       "    <tr>\n",
       "      <th>1</th>\n",
       "      <td>More than_3_times</td>\n",
       "      <td>54</td>\n",
       "      <td>94</td>\n",
       "      <td>57.45</td>\n",
       "    </tr>\n",
       "    <tr>\n",
       "      <th>2</th>\n",
       "      <td>Never contacted</td>\n",
       "      <td>3141</td>\n",
       "      <td>35563</td>\n",
       "      <td>8.83</td>\n",
       "    </tr>\n",
       "  </tbody>\n",
       "</table>\n",
       "</div>"
      ],
      "text/plain": [
       "            previous  count_prospects  No_of_prospects  response_rate\n",
       "0  Less_than_3_times             1445             5531          26.13\n",
       "1  More than_3_times               54               94          57.45\n",
       "2    Never contacted             3141            35563           8.83"
      ]
     },
     "execution_count": 73,
     "metadata": {},
     "output_type": "execute_result"
    }
   ],
   "source": [
    "count_prospects_previous = loan.groupby('previous')['response'].sum().reset_index(name = 'count_prospects')\n",
    "No_of_prospect_previous = loan.groupby('previous')['response'].count().reset_index(name = 'No_of_prospects')\n",
    "agg_previous = count_prospects_previous.merge(No_of_prospect_previous, on = 'previous')\n",
    "agg_previous['response_rate'] = 100*(agg_previous['count_prospects']/agg_previous['No_of_prospects']).round(4)\n",
    "agg_previous"
   ]
  },
  {
   "cell_type": "code",
   "execution_count": 74,
   "metadata": {},
   "outputs": [
    {
     "data": {
      "image/png": "[encoded data removed]",
      "text/plain": [
       "<Figure size 432x288 with 1 Axes>"
      ]
     },
     "metadata": {
      "needs_background": "light"
     },
     "output_type": "display_data"
    }
   ],
   "source": [
    "ax = sns.barplot(x='previous', y='response_rate', data=agg_previous)\n",
    "ax.set_xticklabels(ax.get_xticklabels(),rotation=0)\n",
    "plt.show()"
   ]
  },
  {
   "cell_type": "markdown",
   "metadata": {},
   "source": [
    "We can note that the response rate is greatest for the the potential customers having previous contact of more than three. However,the number of data entries is very low for such cases, hence it's difficult to draw any inferences."
   ]
  },
  {
   "cell_type": "markdown",
   "metadata": {},
   "source": [
    "Now that we have analysed all the client related information, we will move to the wider social and economic variables, which gives us a clue of the conditions when a client is more likely to buy the product.\n",
    "\n",
    "- emp.var.rate: Employment Variation Rate - Quarterly Indicator\n",
    "- cons.price.idx: Consumer Price Index - Monthly Indicator \n",
    "- cons.conf.idx: Consumer Confidence Index - Monthly Indicator \n",
    "- euribor3m: Euribor 3 Month Rate - Daily Indicator\n",
    "- nr.employed: Number of Employees - Quarterly Indicator"
   ]
  },
  {
   "cell_type": "markdown",
   "metadata": {},
   "source": [
    "#### Employment Variation Rate"
   ]
  },
  {
   "cell_type": "code",
   "execution_count": 75,
   "metadata": {},
   "outputs": [
    {
     "data": {
      "image/png": "[encoded data removed]",
      "text/plain": [
       "<Figure size 432x288 with 1 Axes>"
      ]
     },
     "metadata": {
      "needs_background": "light"
     },
     "output_type": "display_data"
    }
   ],
   "source": [
    "sns.distplot(loan['emp.var.rate'])\n",
    "plt.show()"
   ]
  },
  {
   "cell_type": "code",
   "execution_count": 76,
   "metadata": {},
   "outputs": [
    {
     "data": {
      "text/plain": [
       "count    41188.000000\n",
       "mean         0.081886\n",
       "std          1.570960\n",
       "min         -3.400000\n",
       "25%         -1.800000\n",
       "50%          1.100000\n",
       "75%          1.400000\n",
       "95%          1.400000\n",
       "99%          1.400000\n",
       "max          1.400000\n",
       "Name: emp.var.rate, dtype: float64"
      ]
     },
     "execution_count": 76,
     "metadata": {},
     "output_type": "execute_result"
    }
   ],
   "source": [
    "loan['emp.var.rate'].describe(percentiles = [0.25,0.50,0.75,0.95,0.99])"
   ]
  },
  {
   "cell_type": "code",
   "execution_count": 77,
   "metadata": {},
   "outputs": [
    {
     "data": {
      "text/plain": [
       " 1.4    16234\n",
       "-1.8     9184\n",
       " 1.1     7763\n",
       "-0.1     3683\n",
       "-2.9     1663\n",
       "-3.4     1071\n",
       "-1.7      773\n",
       "-1.1      635\n",
       "-3.0      172\n",
       "-0.2       10\n",
       "Name: emp.var.rate, dtype: int64"
      ]
     },
     "execution_count": 77,
     "metadata": {},
     "output_type": "execute_result"
    }
   ],
   "source": [
    "loan['emp.var.rate'].value_counts()"
   ]
  },
  {
   "cell_type": "code",
   "execution_count": 78,
   "metadata": {},
   "outputs": [
    {
     "data": {
      "text/html": [
       "<div>\n",
       "<style scoped>\n",
       "    .dataframe tbody tr th:only-of-type {\n",
       "        vertical-align: middle;\n",
       "    }\n",
       "\n",
       "    .dataframe tbody tr th {\n",
       "        vertical-align: top;\n",
       "    }\n",
       "\n",
       "    .dataframe thead th {\n",
       "        text-align: right;\n",
       "    }\n",
       "</style>\n",
       "<table border=\"1\" class=\"dataframe\">\n",
       "  <thead>\n",
       "    <tr style=\"text-align: right;\">\n",
       "      <th></th>\n",
       "      <th>emp.var.rate</th>\n",
       "      <th>count_prospects</th>\n",
       "      <th>No_of_prospects</th>\n",
       "      <th>response_rate</th>\n",
       "    </tr>\n",
       "  </thead>\n",
       "  <tbody>\n",
       "    <tr>\n",
       "      <th>0</th>\n",
       "      <td>-3.4</td>\n",
       "      <td>454</td>\n",
       "      <td>1071</td>\n",
       "      <td>42.39</td>\n",
       "    </tr>\n",
       "    <tr>\n",
       "      <th>1</th>\n",
       "      <td>-3.0</td>\n",
       "      <td>88</td>\n",
       "      <td>172</td>\n",
       "      <td>51.16</td>\n",
       "    </tr>\n",
       "    <tr>\n",
       "      <th>2</th>\n",
       "      <td>-2.9</td>\n",
       "      <td>594</td>\n",
       "      <td>1663</td>\n",
       "      <td>35.72</td>\n",
       "    </tr>\n",
       "    <tr>\n",
       "      <th>3</th>\n",
       "      <td>-1.8</td>\n",
       "      <td>1461</td>\n",
       "      <td>9184</td>\n",
       "      <td>15.91</td>\n",
       "    </tr>\n",
       "    <tr>\n",
       "      <th>4</th>\n",
       "      <td>-1.7</td>\n",
       "      <td>403</td>\n",
       "      <td>773</td>\n",
       "      <td>52.13</td>\n",
       "    </tr>\n",
       "    <tr>\n",
       "      <th>5</th>\n",
       "      <td>-1.1</td>\n",
       "      <td>301</td>\n",
       "      <td>635</td>\n",
       "      <td>47.40</td>\n",
       "    </tr>\n",
       "    <tr>\n",
       "      <th>6</th>\n",
       "      <td>-0.2</td>\n",
       "      <td>1</td>\n",
       "      <td>10</td>\n",
       "      <td>10.00</td>\n",
       "    </tr>\n",
       "    <tr>\n",
       "      <th>7</th>\n",
       "      <td>-0.1</td>\n",
       "      <td>232</td>\n",
       "      <td>3683</td>\n",
       "      <td>6.30</td>\n",
       "    </tr>\n",
       "    <tr>\n",
       "      <th>8</th>\n",
       "      <td>1.1</td>\n",
       "      <td>240</td>\n",
       "      <td>7763</td>\n",
       "      <td>3.09</td>\n",
       "    </tr>\n",
       "    <tr>\n",
       "      <th>9</th>\n",
       "      <td>1.4</td>\n",
       "      <td>866</td>\n",
       "      <td>16234</td>\n",
       "      <td>5.33</td>\n",
       "    </tr>\n",
       "  </tbody>\n",
       "</table>\n",
       "</div>"
      ],
      "text/plain": [
       "   emp.var.rate  count_prospects  No_of_prospects  response_rate\n",
       "0          -3.4              454             1071          42.39\n",
       "1          -3.0               88              172          51.16\n",
       "2          -2.9              594             1663          35.72\n",
       "3          -1.8             1461             9184          15.91\n",
       "4          -1.7              403              773          52.13\n",
       "5          -1.1              301              635          47.40\n",
       "6          -0.2                1               10          10.00\n",
       "7          -0.1              232             3683           6.30\n",
       "8           1.1              240             7763           3.09\n",
       "9           1.4              866            16234           5.33"
      ]
     },
     "execution_count": 78,
     "metadata": {},
     "output_type": "execute_result"
    }
   ],
   "source": [
    "count_prospects_emp_var_rate = loan.groupby('emp.var.rate')['response'].sum().reset_index(name = 'count_prospects')\n",
    "No_of_prospect_emp_var_rate = loan.groupby('emp.var.rate')['response'].count().reset_index(name = 'No_of_prospects')\n",
    "agg_emp_var_rate = count_prospects_emp_var_rate.merge(No_of_prospect_emp_var_rate, on = 'emp.var.rate')\n",
    "agg_emp_var_rate['response_rate'] = 100*(agg_emp_var_rate['count_prospects']/agg_emp_var_rate['No_of_prospects']).round(4)\n",
    "agg_emp_var_rate"
   ]
  },
  {
   "cell_type": "code",
   "execution_count": 79,
   "metadata": {},
   "outputs": [
    {
     "data": {
      "image/png": "[encoded data removed]",
      "text/plain": [
       "<Figure size 432x288 with 1 Axes>"
      ]
     },
     "metadata": {
      "needs_background": "light"
     },
     "output_type": "display_data"
    }
   ],
   "source": [
    "ax = sns.barplot(x='emp.var.rate', y='response_rate', data=agg_emp_var_rate)\n",
    "ax.set_xticklabels(ax.get_xticklabels(),rotation=0)\n",
    "plt.show()"
   ]
  },
  {
   "cell_type": "markdown",
   "metadata": {},
   "source": [
    "We note that a negative employment variation rate seems to be related to higher response rates."
   ]
  },
  {
   "cell_type": "markdown",
   "metadata": {},
   "source": [
    "#### Consumer Price Index"
   ]
  },
  {
   "cell_type": "code",
   "execution_count": 80,
   "metadata": {},
   "outputs": [
    {
     "data": {
      "image/png": "[encoded data removed]",
      "text/plain": [
       "<Figure size 432x288 with 1 Axes>"
      ]
     },
     "metadata": {
      "needs_background": "light"
     },
     "output_type": "display_data"
    }
   ],
   "source": [
    "sns.distplot(loan['cons.price.idx'])\n",
    "plt.show()"
   ]
  },
  {
   "cell_type": "code",
   "execution_count": 81,
   "metadata": {},
   "outputs": [
    {
     "data": {
      "text/plain": [
       "count    41188.000000\n",
       "mean        93.575664\n",
       "std          0.578840\n",
       "min         92.201000\n",
       "25%         93.075000\n",
       "50%         93.749000\n",
       "75%         93.994000\n",
       "95%         94.465000\n",
       "99%         94.465000\n",
       "max         94.767000\n",
       "Name: cons.price.idx, dtype: float64"
      ]
     },
     "execution_count": 81,
     "metadata": {},
     "output_type": "execute_result"
    }
   ],
   "source": [
    "loan['cons.price.idx'].describe(percentiles = [0.25,0.50,0.75,0.95,0.99])"
   ]
  },
  {
   "cell_type": "code",
   "execution_count": 82,
   "metadata": {},
   "outputs": [
    {
     "data": {
      "text/plain": [
       "-36.4    7763\n",
       "-42.7    6685\n",
       "-46.2    5794\n",
       "-36.1    5175\n",
       "-41.8    4374\n",
       "-42.0    3616\n",
       "-47.1    2458\n",
       "-31.4     770\n",
       "-40.8     715\n",
       "-26.9     447\n",
       "-30.1     357\n",
       "-40.3     311\n",
       "-37.5     303\n",
       "-50.0     282\n",
       "-29.8     267\n",
       "-34.8     264\n",
       "-38.3     233\n",
       "-39.8     229\n",
       "-40.0     212\n",
       "-49.5     204\n",
       "-33.6     178\n",
       "-34.6     174\n",
       "-33.0     172\n",
       "-50.8     128\n",
       "-40.4      67\n",
       "-45.9      10\n",
       "Name: cons.conf.idx, dtype: int64"
      ]
     },
     "execution_count": 82,
     "metadata": {},
     "output_type": "execute_result"
    }
   ],
   "source": [
    "loan['cons.conf.idx'].value_counts()"
   ]
  },
  {
   "cell_type": "code",
   "execution_count": 83,
   "metadata": {},
   "outputs": [],
   "source": [
    "count_prospects_cons_price_idx = loan.groupby('cons.price.idx')['response'].sum().reset_index(name = 'count_prospects')\n",
    "No_of_prospect_cons_price_idx = loan.groupby('cons.price.idx')['response'].count().reset_index(name = 'No_of_prospects')\n",
    "agg_cons_price_idx = count_prospects_cons_price_idx.merge(No_of_prospect_cons_price_idx, on = 'cons.price.idx')\n",
    "agg_cons_price_idx['response_rate'] = 100*(agg_cons_price_idx['count_prospects']/agg_cons_price_idx['No_of_prospects']).round(4)"
   ]
  },
  {
   "cell_type": "code",
   "execution_count": 84,
   "metadata": {
    "scrolled": true
   },
   "outputs": [
    {
     "data": {
      "text/html": [
       "<div>\n",
       "<style scoped>\n",
       "    .dataframe tbody tr th:only-of-type {\n",
       "        vertical-align: middle;\n",
       "    }\n",
       "\n",
       "    .dataframe tbody tr th {\n",
       "        vertical-align: top;\n",
       "    }\n",
       "\n",
       "    .dataframe thead th {\n",
       "        text-align: right;\n",
       "    }\n",
       "</style>\n",
       "<table border=\"1\" class=\"dataframe\">\n",
       "  <thead>\n",
       "    <tr style=\"text-align: right;\">\n",
       "      <th></th>\n",
       "      <th>cons.price.idx</th>\n",
       "      <th>count_prospects</th>\n",
       "      <th>No_of_prospects</th>\n",
       "      <th>response_rate</th>\n",
       "    </tr>\n",
       "  </thead>\n",
       "  <tbody>\n",
       "    <tr>\n",
       "      <th>15</th>\n",
       "      <td>93.798</td>\n",
       "      <td>42</td>\n",
       "      <td>67</td>\n",
       "      <td>62.69</td>\n",
       "    </tr>\n",
       "    <tr>\n",
       "      <th>16</th>\n",
       "      <td>93.876</td>\n",
       "      <td>122</td>\n",
       "      <td>212</td>\n",
       "      <td>57.55</td>\n",
       "    </tr>\n",
       "    <tr>\n",
       "      <th>12</th>\n",
       "      <td>93.369</td>\n",
       "      <td>150</td>\n",
       "      <td>264</td>\n",
       "      <td>56.82</td>\n",
       "    </tr>\n",
       "    <tr>\n",
       "      <th>22</th>\n",
       "      <td>94.215</td>\n",
       "      <td>176</td>\n",
       "      <td>311</td>\n",
       "      <td>56.59</td>\n",
       "    </tr>\n",
       "    <tr>\n",
       "      <th>14</th>\n",
       "      <td>93.749</td>\n",
       "      <td>97</td>\n",
       "      <td>174</td>\n",
       "      <td>55.75</td>\n",
       "    </tr>\n",
       "  </tbody>\n",
       "</table>\n",
       "</div>"
      ],
      "text/plain": [
       "    cons.price.idx  count_prospects  No_of_prospects  response_rate\n",
       "15          93.798               42               67          62.69\n",
       "16          93.876              122              212          57.55\n",
       "12          93.369              150              264          56.82\n",
       "22          94.215              176              311          56.59\n",
       "14          93.749               97              174          55.75"
      ]
     },
     "execution_count": 84,
     "metadata": {},
     "output_type": "execute_result"
    }
   ],
   "source": [
    "agg_cons_price_idx.sort_values(by= 'response_rate', ascending = False).head()"
   ]
  },
  {
   "cell_type": "markdown",
   "metadata": {},
   "source": [
    "#### Euribor three month rate"
   ]
  },
  {
   "cell_type": "code",
   "execution_count": 85,
   "metadata": {
    "scrolled": true
   },
   "outputs": [
    {
     "data": {
      "image/png": "[encoded data removed]",
      "text/plain": [
       "<Figure size 432x288 with 1 Axes>"
      ]
     },
     "metadata": {
      "needs_background": "light"
     },
     "output_type": "display_data"
    }
   ],
   "source": [
    "sns.distplot(loan['euribor3m'])\n",
    "plt.show()"
   ]
  },
  {
   "cell_type": "code",
   "execution_count": 86,
   "metadata": {},
   "outputs": [
    {
     "data": {
      "text/plain": [
       "count    41188.000000\n",
       "mean         3.621291\n",
       "std          1.734447\n",
       "min          0.634000\n",
       "25%          1.344000\n",
       "50%          4.857000\n",
       "75%          4.961000\n",
       "95%          4.966000\n",
       "99%          4.968000\n",
       "max          5.045000\n",
       "Name: euribor3m, dtype: float64"
      ]
     },
     "execution_count": 86,
     "metadata": {},
     "output_type": "execute_result"
    }
   ],
   "source": [
    "loan['euribor3m'].describe(percentiles = [0.25,0.50,0.75,0.95,0.99])"
   ]
  },
  {
   "cell_type": "code",
   "execution_count": 87,
   "metadata": {},
   "outputs": [],
   "source": [
    "count_prospects_euribor = loan.groupby('euribor3m')['response'].sum().reset_index(name = 'count_prospects')\n",
    "No_of_prospect_euribor = loan.groupby('euribor3m')['response'].count().reset_index(name = 'No_of_prospects')\n",
    "agg_euribor = count_prospects_euribor.merge(No_of_prospect_euribor, on = 'euribor3m')\n",
    "agg_euribor['response_rate'] = 100*(agg_euribor['count_prospects']/agg_euribor['No_of_prospects']).round(4)"
   ]
  },
  {
   "cell_type": "code",
   "execution_count": 88,
   "metadata": {},
   "outputs": [
    {
     "data": {
      "text/html": [
       "<div>\n",
       "<style scoped>\n",
       "    .dataframe tbody tr th:only-of-type {\n",
       "        vertical-align: middle;\n",
       "    }\n",
       "\n",
       "    .dataframe tbody tr th {\n",
       "        vertical-align: top;\n",
       "    }\n",
       "\n",
       "    .dataframe thead th {\n",
       "        text-align: right;\n",
       "    }\n",
       "</style>\n",
       "<table border=\"1\" class=\"dataframe\">\n",
       "  <thead>\n",
       "    <tr style=\"text-align: right;\">\n",
       "      <th></th>\n",
       "      <th>euribor3m</th>\n",
       "      <th>count_prospects</th>\n",
       "      <th>No_of_prospects</th>\n",
       "      <th>response_rate</th>\n",
       "    </tr>\n",
       "  </thead>\n",
       "  <tbody>\n",
       "    <tr>\n",
       "      <th>255</th>\n",
       "      <td>3.053</td>\n",
       "      <td>1</td>\n",
       "      <td>1</td>\n",
       "      <td>100.00</td>\n",
       "    </tr>\n",
       "    <tr>\n",
       "      <th>28</th>\n",
       "      <td>0.688</td>\n",
       "      <td>3</td>\n",
       "      <td>3</td>\n",
       "      <td>100.00</td>\n",
       "    </tr>\n",
       "    <tr>\n",
       "      <th>148</th>\n",
       "      <td>0.933</td>\n",
       "      <td>1</td>\n",
       "      <td>1</td>\n",
       "      <td>100.00</td>\n",
       "    </tr>\n",
       "    <tr>\n",
       "      <th>117</th>\n",
       "      <td>0.870</td>\n",
       "      <td>12</td>\n",
       "      <td>13</td>\n",
       "      <td>92.31</td>\n",
       "    </tr>\n",
       "    <tr>\n",
       "      <th>128</th>\n",
       "      <td>0.885</td>\n",
       "      <td>9</td>\n",
       "      <td>10</td>\n",
       "      <td>90.00</td>\n",
       "    </tr>\n",
       "  </tbody>\n",
       "</table>\n",
       "</div>"
      ],
      "text/plain": [
       "     euribor3m  count_prospects  No_of_prospects  response_rate\n",
       "255      3.053                1                1         100.00\n",
       "28       0.688                3                3         100.00\n",
       "148      0.933                1                1         100.00\n",
       "117      0.870               12               13          92.31\n",
       "128      0.885                9               10          90.00"
      ]
     },
     "execution_count": 88,
     "metadata": {},
     "output_type": "execute_result"
    }
   ],
   "source": [
    "agg_euribor.sort_values(by= 'response_rate', ascending = False).head()"
   ]
  },
  {
   "cell_type": "markdown",
   "metadata": {},
   "source": [
    "#### Number of employeees"
   ]
  },
  {
   "cell_type": "code",
   "execution_count": 89,
   "metadata": {},
   "outputs": [
    {
     "data": {
      "image/png": "[encoded data removed]",
      "text/plain": [
       "<Figure size 432x288 with 1 Axes>"
      ]
     },
     "metadata": {
      "needs_background": "light"
     },
     "output_type": "display_data"
    }
   ],
   "source": [
    "sns.distplot(loan['nr.employed'])\n",
    "plt.show()"
   ]
  },
  {
   "cell_type": "code",
   "execution_count": 90,
   "metadata": {},
   "outputs": [
    {
     "data": {
      "text/plain": [
       "5228.1    16234\n",
       "5099.1     8534\n",
       "5191.0     7763\n",
       "5195.8     3683\n",
       "5076.2     1663\n",
       "5017.5     1071\n",
       "4991.6      773\n",
       "5008.7      650\n",
       "4963.6      635\n",
       "5023.5      172\n",
       "5176.3       10\n",
       "Name: nr.employed, dtype: int64"
      ]
     },
     "execution_count": 90,
     "metadata": {},
     "output_type": "execute_result"
    }
   ],
   "source": [
    "loan['nr.employed'].value_counts()"
   ]
  },
  {
   "cell_type": "code",
   "execution_count": 91,
   "metadata": {},
   "outputs": [
    {
     "data": {
      "text/plain": [
       "count    41188.000000\n",
       "mean      5167.035911\n",
       "std         72.251528\n",
       "min       4963.600000\n",
       "25%       5099.100000\n",
       "50%       5191.000000\n",
       "75%       5228.100000\n",
       "95%       5228.100000\n",
       "99%       5228.100000\n",
       "max       5228.100000\n",
       "Name: nr.employed, dtype: float64"
      ]
     },
     "execution_count": 91,
     "metadata": {},
     "output_type": "execute_result"
    }
   ],
   "source": [
    "loan['nr.employed'].describe(percentiles = [0.25,0.50,0.75,0.95,0.99])"
   ]
  },
  {
   "cell_type": "code",
   "execution_count": 92,
   "metadata": {},
   "outputs": [],
   "source": [
    "count_prospects_num_employed = loan.groupby('nr.employed')['response'].sum().reset_index(name = 'count_prospects')\n",
    "No_of_prospect_num_employed = loan.groupby('nr.employed')['response'].count().reset_index(name = 'No_of_prospects')\n",
    "agg_num_employed = count_prospects_num_employed.merge(No_of_prospect_num_employed, on = 'nr.employed')\n",
    "agg_num_employed['response_rate'] = 100*(agg_num_employed['count_prospects']/agg_euribor['No_of_prospects']).round(4)"
   ]
  },
  {
   "cell_type": "code",
   "execution_count": 93,
   "metadata": {},
   "outputs": [
    {
     "data": {
      "text/html": [
       "<div>\n",
       "<style scoped>\n",
       "    .dataframe tbody tr th:only-of-type {\n",
       "        vertical-align: middle;\n",
       "    }\n",
       "\n",
       "    .dataframe tbody tr th {\n",
       "        vertical-align: top;\n",
       "    }\n",
       "\n",
       "    .dataframe thead th {\n",
       "        text-align: right;\n",
       "    }\n",
       "</style>\n",
       "<table border=\"1\" class=\"dataframe\">\n",
       "  <thead>\n",
       "    <tr style=\"text-align: right;\">\n",
       "      <th></th>\n",
       "      <th>nr.employed</th>\n",
       "      <th>count_prospects</th>\n",
       "      <th>No_of_prospects</th>\n",
       "      <th>response_rate</th>\n",
       "    </tr>\n",
       "  </thead>\n",
       "  <tbody>\n",
       "    <tr>\n",
       "      <th>6</th>\n",
       "      <td>5099.1</td>\n",
       "      <td>1092</td>\n",
       "      <td>8534</td>\n",
       "      <td>10920.00</td>\n",
       "    </tr>\n",
       "    <tr>\n",
       "      <th>3</th>\n",
       "      <td>5017.5</td>\n",
       "      <td>454</td>\n",
       "      <td>1071</td>\n",
       "      <td>7566.67</td>\n",
       "    </tr>\n",
       "    <tr>\n",
       "      <th>0</th>\n",
       "      <td>4963.6</td>\n",
       "      <td>301</td>\n",
       "      <td>635</td>\n",
       "      <td>3762.50</td>\n",
       "    </tr>\n",
       "    <tr>\n",
       "      <th>5</th>\n",
       "      <td>5076.2</td>\n",
       "      <td>594</td>\n",
       "      <td>1663</td>\n",
       "      <td>3712.50</td>\n",
       "    </tr>\n",
       "    <tr>\n",
       "      <th>10</th>\n",
       "      <td>5228.1</td>\n",
       "      <td>866</td>\n",
       "      <td>16234</td>\n",
       "      <td>3330.77</td>\n",
       "    </tr>\n",
       "  </tbody>\n",
       "</table>\n",
       "</div>"
      ],
      "text/plain": [
       "    nr.employed  count_prospects  No_of_prospects  response_rate\n",
       "6        5099.1             1092             8534       10920.00\n",
       "3        5017.5              454             1071        7566.67\n",
       "0        4963.6              301              635        3762.50\n",
       "5        5076.2              594             1663        3712.50\n",
       "10       5228.1              866            16234        3330.77"
      ]
     },
     "execution_count": 93,
     "metadata": {},
     "output_type": "execute_result"
    }
   ],
   "source": [
    "agg_num_employed.sort_values(by= 'response_rate', ascending = False).head()"
   ]
  },
  {
   "cell_type": "code",
   "execution_count": 94,
   "metadata": {},
   "outputs": [
    {
     "data": {
      "image/png": "[encoded data removed]",
      "text/plain": [
       "<Figure size 504x288 with 1 Axes>"
      ]
     },
     "metadata": {
      "needs_background": "light"
     },
     "output_type": "display_data"
    }
   ],
   "source": [
    "plt.figure(figsize = (7,4))\n",
    "ax = sns.barplot(x='nr.employed', y='response_rate', data=agg_num_employed)\n",
    "ax.set_xticklabels(ax.get_xticklabels(),rotation=0)\n",
    "plt.show()"
   ]
  },
  {
   "cell_type": "markdown",
   "metadata": {},
   "source": [
    "Now that we have completed basic exploratory analysis, we can move to the next stage, that is data cleaning and data preparation"
   ]
  },
  {
   "cell_type": "markdown",
   "metadata": {},
   "source": [
    "#### Data Preparation"
   ]
  },
  {
   "cell_type": "code",
   "execution_count": 95,
   "metadata": {},
   "outputs": [
    {
     "data": {
      "text/plain": [
       "Index(['age', 'job', 'marital', 'education', 'default', 'housing', 'loan',\n",
       "       'contact', 'month', 'day_of_week', 'duration', 'campaign', 'pdays',\n",
       "       'previous', 'poutcome', 'emp.var.rate', 'cons.price.idx',\n",
       "       'cons.conf.idx', 'euribor3m', 'nr.employed', 'response', 'age_bins'],\n",
       "      dtype='object')"
      ]
     },
     "execution_count": 95,
     "metadata": {},
     "output_type": "execute_result"
    }
   ],
   "source": [
    "# inspect the columns\n",
    "loan.columns"
   ]
  },
  {
   "cell_type": "code",
   "execution_count": 96,
   "metadata": {},
   "outputs": [],
   "source": [
    "# Droping the column age_bins we had created for the purpose of data visualisation\n",
    "loan.drop(columns = 'age_bins', inplace = True)"
   ]
  },
  {
   "cell_type": "code",
   "execution_count": 97,
   "metadata": {},
   "outputs": [],
   "source": [
    "#creating a unique ID for each prospect.\n",
    "loan['prospect_id'] = range(1,len(loan)+1)\n",
    "loan.set_index('prospect_id',inplace = True)"
   ]
  },
  {
   "cell_type": "code",
   "execution_count": 98,
   "metadata": {},
   "outputs": [],
   "source": [
    "# Copy the dataset into a back up dataframe for future use\n",
    "loan_copy1 = loan[:]"
   ]
  },
  {
   "cell_type": "code",
   "execution_count": 99,
   "metadata": {},
   "outputs": [],
   "source": [
    "#Removing the \"duration\" column from the dataframe. \n",
    "# Since, the prospect data procured by the marketing team does not contain ‘duration’, since the call has not been made yet.\n",
    "#And also because, as the duration increases, it increase the cost of telemarketing which is a concern for the organization. \n",
    "loan.drop(columns ='duration', inplace = True)"
   ]
  },
  {
   "cell_type": "code",
   "execution_count": 100,
   "metadata": {},
   "outputs": [],
   "source": [
    "# Creating a dummy variable for the variable 'job' and dropping the first one.\n",
    "job = pd.get_dummies(loan['job'],prefix='job',drop_first=True)\n",
    "\n",
    "#Adding the results to the master dataframe\n",
    "loan = pd.concat([loan,job],axis=1)\n",
    "\n",
    "# Creating dummy variable for marital column\n",
    "marital = pd.get_dummies(loan['marital'],prefix='marital',drop_first=True)\n",
    "loan = pd.concat([loan,marital],axis=1)\n",
    "\n",
    "\n",
    "# Creating dummy variable for education column\n",
    "education = pd.get_dummies(loan['education'],prefix='education',drop_first=True)\n",
    "loan = pd.concat([loan,education],axis=1)\n",
    "\n",
    "# Creating dummy variable for default column\n",
    "default = pd.get_dummies(loan['default'],prefix='default',drop_first=True)\n",
    "loan = pd.concat([loan,default],axis=1)\n",
    "\n",
    "\n",
    "# Creating dummy variable for housing column\n",
    "housing = pd.get_dummies(loan['housing'],prefix='housing',drop_first=True)\n",
    "loan = pd.concat([loan,housing],axis=1)\n",
    "\n",
    "# Creating dummy variable for loan column\n",
    "loan_v= pd.get_dummies(loan['loan'],prefix='loan',drop_first=True)\n",
    "loan = pd.concat([loan,loan_v],axis=1)\n",
    "\n",
    "# Creating dummy variable for contact column\n",
    "contact = pd.get_dummies(loan['contact'],prefix='contact',drop_first=True)\n",
    "loan = pd.concat([loan,contact],axis=1)\n",
    "\n",
    "# Creating dummy variable for month column\n",
    "month = pd.get_dummies(loan['month'],prefix='month',drop_first=True)\n",
    "loan = pd.concat([loan,month],axis=1)\n",
    "\n",
    "# Creating dummy variable for day_of_week column\n",
    "day_of_week = pd.get_dummies(loan['day_of_week'],prefix='day_of_week',drop_first=True)\n",
    "loan = pd.concat([loan,day_of_week],axis=1)\n",
    "\n",
    "# Creating dummy variable for pdays column\n",
    "pdays = pd.get_dummies(loan['pdays'],prefix='pdays',drop_first=True)\n",
    "loan = pd.concat([loan,pdays],axis=1)\n",
    "\n",
    "# Creating dummy variable for previous column\n",
    "previous = pd.get_dummies(loan['previous'],prefix='previous',drop_first=True)\n",
    "loan = pd.concat([loan,previous],axis=1)\n",
    "\n",
    "\n",
    "# Creating dummy variable for poutcome column\n",
    "poutcome = pd.get_dummies(loan['poutcome'],prefix='poutcome',drop_first=True)\n",
    "loan = pd.concat([loan,poutcome],axis=1)"
   ]
  },
  {
   "cell_type": "code",
   "execution_count": 101,
   "metadata": {},
   "outputs": [
    {
     "data": {
      "text/html": [
       "<div>\n",
       "<style scoped>\n",
       "    .dataframe tbody tr th:only-of-type {\n",
       "        vertical-align: middle;\n",
       "    }\n",
       "\n",
       "    .dataframe tbody tr th {\n",
       "        vertical-align: top;\n",
       "    }\n",
       "\n",
       "    .dataframe thead th {\n",
       "        text-align: right;\n",
       "    }\n",
       "</style>\n",
       "<table border=\"1\" class=\"dataframe\">\n",
       "  <thead>\n",
       "    <tr style=\"text-align: right;\">\n",
       "      <th></th>\n",
       "      <th>age</th>\n",
       "      <th>job</th>\n",
       "      <th>marital</th>\n",
       "      <th>education</th>\n",
       "      <th>default</th>\n",
       "      <th>housing</th>\n",
       "      <th>loan</th>\n",
       "      <th>contact</th>\n",
       "      <th>month</th>\n",
       "      <th>day_of_week</th>\n",
       "      <th>...</th>\n",
       "      <th>day_of_week_mon</th>\n",
       "      <th>day_of_week_thu</th>\n",
       "      <th>day_of_week_tue</th>\n",
       "      <th>day_of_week_wed</th>\n",
       "      <th>pdays_Contacted_in_first_10days</th>\n",
       "      <th>pdays_First_time_contacted</th>\n",
       "      <th>previous_More than_3_times</th>\n",
       "      <th>previous_Never contacted</th>\n",
       "      <th>poutcome_nonexistent</th>\n",
       "      <th>poutcome_success</th>\n",
       "    </tr>\n",
       "    <tr>\n",
       "      <th>prospect_id</th>\n",
       "      <th></th>\n",
       "      <th></th>\n",
       "      <th></th>\n",
       "      <th></th>\n",
       "      <th></th>\n",
       "      <th></th>\n",
       "      <th></th>\n",
       "      <th></th>\n",
       "      <th></th>\n",
       "      <th></th>\n",
       "      <th></th>\n",
       "      <th></th>\n",
       "      <th></th>\n",
       "      <th></th>\n",
       "      <th></th>\n",
       "      <th></th>\n",
       "      <th></th>\n",
       "      <th></th>\n",
       "      <th></th>\n",
       "      <th></th>\n",
       "      <th></th>\n",
       "    </tr>\n",
       "  </thead>\n",
       "  <tbody>\n",
       "    <tr>\n",
       "      <th>1</th>\n",
       "      <td>56</td>\n",
       "      <td>housemaid</td>\n",
       "      <td>married</td>\n",
       "      <td>Primary_Education</td>\n",
       "      <td>no</td>\n",
       "      <td>no</td>\n",
       "      <td>no</td>\n",
       "      <td>telephone</td>\n",
       "      <td>may</td>\n",
       "      <td>mon</td>\n",
       "      <td>...</td>\n",
       "      <td>1</td>\n",
       "      <td>0</td>\n",
       "      <td>0</td>\n",
       "      <td>0</td>\n",
       "      <td>0</td>\n",
       "      <td>1</td>\n",
       "      <td>0</td>\n",
       "      <td>1</td>\n",
       "      <td>1</td>\n",
       "      <td>0</td>\n",
       "    </tr>\n",
       "    <tr>\n",
       "      <th>2</th>\n",
       "      <td>57</td>\n",
       "      <td>services</td>\n",
       "      <td>married</td>\n",
       "      <td>Secondary_Education</td>\n",
       "      <td>unknown</td>\n",
       "      <td>no</td>\n",
       "      <td>no</td>\n",
       "      <td>telephone</td>\n",
       "      <td>may</td>\n",
       "      <td>mon</td>\n",
       "      <td>...</td>\n",
       "      <td>1</td>\n",
       "      <td>0</td>\n",
       "      <td>0</td>\n",
       "      <td>0</td>\n",
       "      <td>0</td>\n",
       "      <td>1</td>\n",
       "      <td>0</td>\n",
       "      <td>1</td>\n",
       "      <td>1</td>\n",
       "      <td>0</td>\n",
       "    </tr>\n",
       "    <tr>\n",
       "      <th>3</th>\n",
       "      <td>37</td>\n",
       "      <td>services</td>\n",
       "      <td>married</td>\n",
       "      <td>Secondary_Education</td>\n",
       "      <td>no</td>\n",
       "      <td>yes</td>\n",
       "      <td>no</td>\n",
       "      <td>telephone</td>\n",
       "      <td>may</td>\n",
       "      <td>mon</td>\n",
       "      <td>...</td>\n",
       "      <td>1</td>\n",
       "      <td>0</td>\n",
       "      <td>0</td>\n",
       "      <td>0</td>\n",
       "      <td>0</td>\n",
       "      <td>1</td>\n",
       "      <td>0</td>\n",
       "      <td>1</td>\n",
       "      <td>1</td>\n",
       "      <td>0</td>\n",
       "    </tr>\n",
       "    <tr>\n",
       "      <th>4</th>\n",
       "      <td>40</td>\n",
       "      <td>admin.</td>\n",
       "      <td>married</td>\n",
       "      <td>Primary_Education</td>\n",
       "      <td>no</td>\n",
       "      <td>no</td>\n",
       "      <td>no</td>\n",
       "      <td>telephone</td>\n",
       "      <td>may</td>\n",
       "      <td>mon</td>\n",
       "      <td>...</td>\n",
       "      <td>1</td>\n",
       "      <td>0</td>\n",
       "      <td>0</td>\n",
       "      <td>0</td>\n",
       "      <td>0</td>\n",
       "      <td>1</td>\n",
       "      <td>0</td>\n",
       "      <td>1</td>\n",
       "      <td>1</td>\n",
       "      <td>0</td>\n",
       "    </tr>\n",
       "    <tr>\n",
       "      <th>5</th>\n",
       "      <td>56</td>\n",
       "      <td>services</td>\n",
       "      <td>married</td>\n",
       "      <td>Secondary_Education</td>\n",
       "      <td>no</td>\n",
       "      <td>no</td>\n",
       "      <td>yes</td>\n",
       "      <td>telephone</td>\n",
       "      <td>may</td>\n",
       "      <td>mon</td>\n",
       "      <td>...</td>\n",
       "      <td>1</td>\n",
       "      <td>0</td>\n",
       "      <td>0</td>\n",
       "      <td>0</td>\n",
       "      <td>0</td>\n",
       "      <td>1</td>\n",
       "      <td>0</td>\n",
       "      <td>1</td>\n",
       "      <td>1</td>\n",
       "      <td>0</td>\n",
       "    </tr>\n",
       "  </tbody>\n",
       "</table>\n",
       "<p>5 rows × 63 columns</p>\n",
       "</div>"
      ],
      "text/plain": [
       "             age        job  marital            education  default housing  \\\n",
       "prospect_id                                                                  \n",
       "1             56  housemaid  married    Primary_Education       no      no   \n",
       "2             57   services  married  Secondary_Education  unknown      no   \n",
       "3             37   services  married  Secondary_Education       no     yes   \n",
       "4             40     admin.  married    Primary_Education       no      no   \n",
       "5             56   services  married  Secondary_Education       no      no   \n",
       "\n",
       "            loan    contact month day_of_week  ...  day_of_week_mon  \\\n",
       "prospect_id                                    ...                    \n",
       "1             no  telephone   may         mon  ...                1   \n",
       "2             no  telephone   may         mon  ...                1   \n",
       "3             no  telephone   may         mon  ...                1   \n",
       "4             no  telephone   may         mon  ...                1   \n",
       "5            yes  telephone   may         mon  ...                1   \n",
       "\n",
       "            day_of_week_thu day_of_week_tue day_of_week_wed  \\\n",
       "prospect_id                                                   \n",
       "1                         0               0               0   \n",
       "2                         0               0               0   \n",
       "3                         0               0               0   \n",
       "4                         0               0               0   \n",
       "5                         0               0               0   \n",
       "\n",
       "             pdays_Contacted_in_first_10days  pdays_First_time_contacted  \\\n",
       "prospect_id                                                                \n",
       "1                                          0                           1   \n",
       "2                                          0                           1   \n",
       "3                                          0                           1   \n",
       "4                                          0                           1   \n",
       "5                                          0                           1   \n",
       "\n",
       "             previous_More than_3_times  previous_Never contacted  \\\n",
       "prospect_id                                                         \n",
       "1                                     0                         1   \n",
       "2                                     0                         1   \n",
       "3                                     0                         1   \n",
       "4                                     0                         1   \n",
       "5                                     0                         1   \n",
       "\n",
       "             poutcome_nonexistent  poutcome_success  \n",
       "prospect_id                                          \n",
       "1                               1                 0  \n",
       "2                               1                 0  \n",
       "3                               1                 0  \n",
       "4                               1                 0  \n",
       "5                               1                 0  \n",
       "\n",
       "[5 rows x 63 columns]"
      ]
     },
     "execution_count": 101,
     "metadata": {},
     "output_type": "execute_result"
    }
   ],
   "source": [
    "#ispecting the df\n",
    "loan.head()"
   ]
  },
  {
   "cell_type": "code",
   "execution_count": 102,
   "metadata": {},
   "outputs": [],
   "source": [
    "# Drop all features for whom dummy variable has been created\n",
    "loan.drop(columns = ['job','marital','education','default','housing','loan','contact','month','day_of_week','pdays','previous','poutcome'], inplace=True)"
   ]
  },
  {
   "cell_type": "code",
   "execution_count": 103,
   "metadata": {},
   "outputs": [
    {
     "data": {
      "text/html": [
       "<div>\n",
       "<style scoped>\n",
       "    .dataframe tbody tr th:only-of-type {\n",
       "        vertical-align: middle;\n",
       "    }\n",
       "\n",
       "    .dataframe tbody tr th {\n",
       "        vertical-align: top;\n",
       "    }\n",
       "\n",
       "    .dataframe thead th {\n",
       "        text-align: right;\n",
       "    }\n",
       "</style>\n",
       "<table border=\"1\" class=\"dataframe\">\n",
       "  <thead>\n",
       "    <tr style=\"text-align: right;\">\n",
       "      <th></th>\n",
       "      <th>age</th>\n",
       "      <th>campaign</th>\n",
       "      <th>emp.var.rate</th>\n",
       "      <th>cons.price.idx</th>\n",
       "      <th>cons.conf.idx</th>\n",
       "      <th>euribor3m</th>\n",
       "      <th>nr.employed</th>\n",
       "      <th>response</th>\n",
       "      <th>job_blue-collar</th>\n",
       "      <th>job_entrepreneur</th>\n",
       "      <th>...</th>\n",
       "      <th>day_of_week_mon</th>\n",
       "      <th>day_of_week_thu</th>\n",
       "      <th>day_of_week_tue</th>\n",
       "      <th>day_of_week_wed</th>\n",
       "      <th>pdays_Contacted_in_first_10days</th>\n",
       "      <th>pdays_First_time_contacted</th>\n",
       "      <th>previous_More than_3_times</th>\n",
       "      <th>previous_Never contacted</th>\n",
       "      <th>poutcome_nonexistent</th>\n",
       "      <th>poutcome_success</th>\n",
       "    </tr>\n",
       "    <tr>\n",
       "      <th>prospect_id</th>\n",
       "      <th></th>\n",
       "      <th></th>\n",
       "      <th></th>\n",
       "      <th></th>\n",
       "      <th></th>\n",
       "      <th></th>\n",
       "      <th></th>\n",
       "      <th></th>\n",
       "      <th></th>\n",
       "      <th></th>\n",
       "      <th></th>\n",
       "      <th></th>\n",
       "      <th></th>\n",
       "      <th></th>\n",
       "      <th></th>\n",
       "      <th></th>\n",
       "      <th></th>\n",
       "      <th></th>\n",
       "      <th></th>\n",
       "      <th></th>\n",
       "      <th></th>\n",
       "    </tr>\n",
       "  </thead>\n",
       "  <tbody>\n",
       "    <tr>\n",
       "      <th>1</th>\n",
       "      <td>56</td>\n",
       "      <td>1</td>\n",
       "      <td>1.1</td>\n",
       "      <td>93.994</td>\n",
       "      <td>-36.4</td>\n",
       "      <td>4.857</td>\n",
       "      <td>5191.0</td>\n",
       "      <td>0</td>\n",
       "      <td>0</td>\n",
       "      <td>0</td>\n",
       "      <td>...</td>\n",
       "      <td>1</td>\n",
       "      <td>0</td>\n",
       "      <td>0</td>\n",
       "      <td>0</td>\n",
       "      <td>0</td>\n",
       "      <td>1</td>\n",
       "      <td>0</td>\n",
       "      <td>1</td>\n",
       "      <td>1</td>\n",
       "      <td>0</td>\n",
       "    </tr>\n",
       "    <tr>\n",
       "      <th>2</th>\n",
       "      <td>57</td>\n",
       "      <td>1</td>\n",
       "      <td>1.1</td>\n",
       "      <td>93.994</td>\n",
       "      <td>-36.4</td>\n",
       "      <td>4.857</td>\n",
       "      <td>5191.0</td>\n",
       "      <td>0</td>\n",
       "      <td>0</td>\n",
       "      <td>0</td>\n",
       "      <td>...</td>\n",
       "      <td>1</td>\n",
       "      <td>0</td>\n",
       "      <td>0</td>\n",
       "      <td>0</td>\n",
       "      <td>0</td>\n",
       "      <td>1</td>\n",
       "      <td>0</td>\n",
       "      <td>1</td>\n",
       "      <td>1</td>\n",
       "      <td>0</td>\n",
       "    </tr>\n",
       "    <tr>\n",
       "      <th>3</th>\n",
       "      <td>37</td>\n",
       "      <td>1</td>\n",
       "      <td>1.1</td>\n",
       "      <td>93.994</td>\n",
       "      <td>-36.4</td>\n",
       "      <td>4.857</td>\n",
       "      <td>5191.0</td>\n",
       "      <td>0</td>\n",
       "      <td>0</td>\n",
       "      <td>0</td>\n",
       "      <td>...</td>\n",
       "      <td>1</td>\n",
       "      <td>0</td>\n",
       "      <td>0</td>\n",
       "      <td>0</td>\n",
       "      <td>0</td>\n",
       "      <td>1</td>\n",
       "      <td>0</td>\n",
       "      <td>1</td>\n",
       "      <td>1</td>\n",
       "      <td>0</td>\n",
       "    </tr>\n",
       "    <tr>\n",
       "      <th>4</th>\n",
       "      <td>40</td>\n",
       "      <td>1</td>\n",
       "      <td>1.1</td>\n",
       "      <td>93.994</td>\n",
       "      <td>-36.4</td>\n",
       "      <td>4.857</td>\n",
       "      <td>5191.0</td>\n",
       "      <td>0</td>\n",
       "      <td>0</td>\n",
       "      <td>0</td>\n",
       "      <td>...</td>\n",
       "      <td>1</td>\n",
       "      <td>0</td>\n",
       "      <td>0</td>\n",
       "      <td>0</td>\n",
       "      <td>0</td>\n",
       "      <td>1</td>\n",
       "      <td>0</td>\n",
       "      <td>1</td>\n",
       "      <td>1</td>\n",
       "      <td>0</td>\n",
       "    </tr>\n",
       "    <tr>\n",
       "      <th>5</th>\n",
       "      <td>56</td>\n",
       "      <td>1</td>\n",
       "      <td>1.1</td>\n",
       "      <td>93.994</td>\n",
       "      <td>-36.4</td>\n",
       "      <td>4.857</td>\n",
       "      <td>5191.0</td>\n",
       "      <td>0</td>\n",
       "      <td>0</td>\n",
       "      <td>0</td>\n",
       "      <td>...</td>\n",
       "      <td>1</td>\n",
       "      <td>0</td>\n",
       "      <td>0</td>\n",
       "      <td>0</td>\n",
       "      <td>0</td>\n",
       "      <td>1</td>\n",
       "      <td>0</td>\n",
       "      <td>1</td>\n",
       "      <td>1</td>\n",
       "      <td>0</td>\n",
       "    </tr>\n",
       "  </tbody>\n",
       "</table>\n",
       "<p>5 rows × 51 columns</p>\n",
       "</div>"
      ],
      "text/plain": [
       "             age  campaign  emp.var.rate  cons.price.idx  cons.conf.idx  \\\n",
       "prospect_id                                                               \n",
       "1             56         1           1.1          93.994          -36.4   \n",
       "2             57         1           1.1          93.994          -36.4   \n",
       "3             37         1           1.1          93.994          -36.4   \n",
       "4             40         1           1.1          93.994          -36.4   \n",
       "5             56         1           1.1          93.994          -36.4   \n",
       "\n",
       "             euribor3m  nr.employed  response  job_blue-collar  \\\n",
       "prospect_id                                                      \n",
       "1                4.857       5191.0         0                0   \n",
       "2                4.857       5191.0         0                0   \n",
       "3                4.857       5191.0         0                0   \n",
       "4                4.857       5191.0         0                0   \n",
       "5                4.857       5191.0         0                0   \n",
       "\n",
       "             job_entrepreneur  ...  day_of_week_mon  day_of_week_thu  \\\n",
       "prospect_id                    ...                                     \n",
       "1                           0  ...                1                0   \n",
       "2                           0  ...                1                0   \n",
       "3                           0  ...                1                0   \n",
       "4                           0  ...                1                0   \n",
       "5                           0  ...                1                0   \n",
       "\n",
       "             day_of_week_tue  day_of_week_wed  \\\n",
       "prospect_id                                     \n",
       "1                          0                0   \n",
       "2                          0                0   \n",
       "3                          0                0   \n",
       "4                          0                0   \n",
       "5                          0                0   \n",
       "\n",
       "             pdays_Contacted_in_first_10days  pdays_First_time_contacted  \\\n",
       "prospect_id                                                                \n",
       "1                                          0                           1   \n",
       "2                                          0                           1   \n",
       "3                                          0                           1   \n",
       "4                                          0                           1   \n",
       "5                                          0                           1   \n",
       "\n",
       "             previous_More than_3_times  previous_Never contacted  \\\n",
       "prospect_id                                                         \n",
       "1                                     0                         1   \n",
       "2                                     0                         1   \n",
       "3                                     0                         1   \n",
       "4                                     0                         1   \n",
       "5                                     0                         1   \n",
       "\n",
       "             poutcome_nonexistent  poutcome_success  \n",
       "prospect_id                                          \n",
       "1                               1                 0  \n",
       "2                               1                 0  \n",
       "3                               1                 0  \n",
       "4                               1                 0  \n",
       "5                               1                 0  \n",
       "\n",
       "[5 rows x 51 columns]"
      ]
     },
     "execution_count": 103,
     "metadata": {},
     "output_type": "execute_result"
    }
   ],
   "source": [
    "#rechecking the dataframe\n",
    "loan.head()"
   ]
  },
  {
   "cell_type": "code",
   "execution_count": 104,
   "metadata": {},
   "outputs": [
    {
     "name": "stdout",
     "output_type": "stream",
     "text": [
      "<class 'pandas.core.frame.DataFrame'>\n",
      "Int64Index: 41188 entries, 1 to 41188\n",
      "Data columns (total 51 columns):\n",
      "age                                41188 non-null int64\n",
      "campaign                           41188 non-null int64\n",
      "emp.var.rate                       41188 non-null float64\n",
      "cons.price.idx                     41188 non-null float64\n",
      "cons.conf.idx                      41188 non-null float64\n",
      "euribor3m                          41188 non-null float64\n",
      "nr.employed                        41188 non-null float64\n",
      "response                           41188 non-null int64\n",
      "job_blue-collar                    41188 non-null uint8\n",
      "job_entrepreneur                   41188 non-null uint8\n",
      "job_housemaid                      41188 non-null uint8\n",
      "job_management                     41188 non-null uint8\n",
      "job_retired                        41188 non-null uint8\n",
      "job_self-employed                  41188 non-null uint8\n",
      "job_services                       41188 non-null uint8\n",
      "job_student                        41188 non-null uint8\n",
      "job_technician                     41188 non-null uint8\n",
      "job_unemployed                     41188 non-null uint8\n",
      "job_unknown                        41188 non-null uint8\n",
      "marital_married                    41188 non-null uint8\n",
      "marital_single                     41188 non-null uint8\n",
      "education_Secondary_Education      41188 non-null uint8\n",
      "education_Tertiary_Education       41188 non-null uint8\n",
      "education_professional.course      41188 non-null uint8\n",
      "education_unknown                  41188 non-null uint8\n",
      "default_unknown                    41188 non-null uint8\n",
      "default_yes                        41188 non-null uint8\n",
      "housing_unknown                    41188 non-null uint8\n",
      "housing_yes                        41188 non-null uint8\n",
      "loan_unknown                       41188 non-null uint8\n",
      "loan_yes                           41188 non-null uint8\n",
      "contact_telephone                  41188 non-null uint8\n",
      "month_aug                          41188 non-null uint8\n",
      "month_dec                          41188 non-null uint8\n",
      "month_jul                          41188 non-null uint8\n",
      "month_jun                          41188 non-null uint8\n",
      "month_mar                          41188 non-null uint8\n",
      "month_may                          41188 non-null uint8\n",
      "month_nov                          41188 non-null uint8\n",
      "month_oct                          41188 non-null uint8\n",
      "month_sep                          41188 non-null uint8\n",
      "day_of_week_mon                    41188 non-null uint8\n",
      "day_of_week_thu                    41188 non-null uint8\n",
      "day_of_week_tue                    41188 non-null uint8\n",
      "day_of_week_wed                    41188 non-null uint8\n",
      "pdays_Contacted_in_first_10days    41188 non-null uint8\n",
      "pdays_First_time_contacted         41188 non-null uint8\n",
      "previous_More than_3_times         41188 non-null uint8\n",
      "previous_Never contacted           41188 non-null uint8\n",
      "poutcome_nonexistent               41188 non-null uint8\n",
      "poutcome_success                   41188 non-null uint8\n",
      "dtypes: float64(5), int64(3), uint8(43)\n",
      "memory usage: 4.5 MB\n"
     ]
    }
   ],
   "source": [
    "# let us check the info\n",
    "loan.info()"
   ]
  },
  {
   "cell_type": "markdown",
   "metadata": {},
   "source": [
    "#### Model Building:"
   ]
  },
  {
   "cell_type": "code",
   "execution_count": 105,
   "metadata": {},
   "outputs": [],
   "source": [
    "# Import library to split the dataset into test and train\n",
    "from sklearn.model_selection import train_test_split"
   ]
  },
  {
   "cell_type": "code",
   "execution_count": 106,
   "metadata": {},
   "outputs": [],
   "source": [
    "# Putting feature variable to X\n",
    "X = loan.drop(['response'],axis=1)\n",
    "\n",
    "# Putting response variable to y\n",
    "y = loan['response']"
   ]
  },
  {
   "cell_type": "code",
   "execution_count": 107,
   "metadata": {},
   "outputs": [],
   "source": [
    "# Splitting the data into train and test\n",
    "X_train, X_test, y_train, y_test = train_test_split(X,y, train_size=0.7,test_size=0.3,random_state=100)"
   ]
  },
  {
   "cell_type": "markdown",
   "metadata": {},
   "source": [
    "#### Standardisation"
   ]
  },
  {
   "cell_type": "code",
   "execution_count": 108,
   "metadata": {},
   "outputs": [
    {
     "data": {
      "text/html": [
       "<div>\n",
       "<style scoped>\n",
       "    .dataframe tbody tr th:only-of-type {\n",
       "        vertical-align: middle;\n",
       "    }\n",
       "\n",
       "    .dataframe tbody tr th {\n",
       "        vertical-align: top;\n",
       "    }\n",
       "\n",
       "    .dataframe thead th {\n",
       "        text-align: right;\n",
       "    }\n",
       "</style>\n",
       "<table border=\"1\" class=\"dataframe\">\n",
       "  <thead>\n",
       "    <tr style=\"text-align: right;\">\n",
       "      <th></th>\n",
       "      <th>age</th>\n",
       "      <th>campaign</th>\n",
       "      <th>emp.var.rate</th>\n",
       "      <th>cons.price.idx</th>\n",
       "      <th>cons.conf.idx</th>\n",
       "      <th>euribor3m</th>\n",
       "      <th>nr.employed</th>\n",
       "      <th>job_blue-collar</th>\n",
       "      <th>job_entrepreneur</th>\n",
       "      <th>job_housemaid</th>\n",
       "      <th>...</th>\n",
       "      <th>day_of_week_mon</th>\n",
       "      <th>day_of_week_thu</th>\n",
       "      <th>day_of_week_tue</th>\n",
       "      <th>day_of_week_wed</th>\n",
       "      <th>pdays_Contacted_in_first_10days</th>\n",
       "      <th>pdays_First_time_contacted</th>\n",
       "      <th>previous_More than_3_times</th>\n",
       "      <th>previous_Never contacted</th>\n",
       "      <th>poutcome_nonexistent</th>\n",
       "      <th>poutcome_success</th>\n",
       "    </tr>\n",
       "    <tr>\n",
       "      <th>prospect_id</th>\n",
       "      <th></th>\n",
       "      <th></th>\n",
       "      <th></th>\n",
       "      <th></th>\n",
       "      <th></th>\n",
       "      <th></th>\n",
       "      <th></th>\n",
       "      <th></th>\n",
       "      <th></th>\n",
       "      <th></th>\n",
       "      <th></th>\n",
       "      <th></th>\n",
       "      <th></th>\n",
       "      <th></th>\n",
       "      <th></th>\n",
       "      <th></th>\n",
       "      <th></th>\n",
       "      <th></th>\n",
       "      <th></th>\n",
       "      <th></th>\n",
       "      <th></th>\n",
       "    </tr>\n",
       "  </thead>\n",
       "  <tbody>\n",
       "    <tr>\n",
       "      <th>7020</th>\n",
       "      <td>31</td>\n",
       "      <td>4</td>\n",
       "      <td>1.1</td>\n",
       "      <td>93.994</td>\n",
       "      <td>-36.4</td>\n",
       "      <td>4.860</td>\n",
       "      <td>5191.0</td>\n",
       "      <td>0</td>\n",
       "      <td>0</td>\n",
       "      <td>0</td>\n",
       "      <td>...</td>\n",
       "      <td>0</td>\n",
       "      <td>1</td>\n",
       "      <td>0</td>\n",
       "      <td>0</td>\n",
       "      <td>0</td>\n",
       "      <td>1</td>\n",
       "      <td>0</td>\n",
       "      <td>1</td>\n",
       "      <td>1</td>\n",
       "      <td>0</td>\n",
       "    </tr>\n",
       "    <tr>\n",
       "      <th>27176</th>\n",
       "      <td>51</td>\n",
       "      <td>3</td>\n",
       "      <td>-0.1</td>\n",
       "      <td>93.200</td>\n",
       "      <td>-42.0</td>\n",
       "      <td>4.021</td>\n",
       "      <td>5195.8</td>\n",
       "      <td>0</td>\n",
       "      <td>0</td>\n",
       "      <td>0</td>\n",
       "      <td>...</td>\n",
       "      <td>0</td>\n",
       "      <td>0</td>\n",
       "      <td>0</td>\n",
       "      <td>0</td>\n",
       "      <td>0</td>\n",
       "      <td>1</td>\n",
       "      <td>0</td>\n",
       "      <td>1</td>\n",
       "      <td>1</td>\n",
       "      <td>0</td>\n",
       "    </tr>\n",
       "    <tr>\n",
       "      <th>15818</th>\n",
       "      <td>39</td>\n",
       "      <td>3</td>\n",
       "      <td>1.4</td>\n",
       "      <td>93.918</td>\n",
       "      <td>-42.7</td>\n",
       "      <td>4.960</td>\n",
       "      <td>5228.1</td>\n",
       "      <td>0</td>\n",
       "      <td>0</td>\n",
       "      <td>0</td>\n",
       "      <td>...</td>\n",
       "      <td>1</td>\n",
       "      <td>0</td>\n",
       "      <td>0</td>\n",
       "      <td>0</td>\n",
       "      <td>0</td>\n",
       "      <td>1</td>\n",
       "      <td>0</td>\n",
       "      <td>1</td>\n",
       "      <td>1</td>\n",
       "      <td>0</td>\n",
       "    </tr>\n",
       "    <tr>\n",
       "      <th>40972</th>\n",
       "      <td>68</td>\n",
       "      <td>4</td>\n",
       "      <td>-1.1</td>\n",
       "      <td>94.601</td>\n",
       "      <td>-49.5</td>\n",
       "      <td>1.000</td>\n",
       "      <td>4963.6</td>\n",
       "      <td>0</td>\n",
       "      <td>0</td>\n",
       "      <td>0</td>\n",
       "      <td>...</td>\n",
       "      <td>1</td>\n",
       "      <td>0</td>\n",
       "      <td>0</td>\n",
       "      <td>0</td>\n",
       "      <td>0</td>\n",
       "      <td>1</td>\n",
       "      <td>0</td>\n",
       "      <td>0</td>\n",
       "      <td>0</td>\n",
       "      <td>0</td>\n",
       "    </tr>\n",
       "    <tr>\n",
       "      <th>8468</th>\n",
       "      <td>37</td>\n",
       "      <td>3</td>\n",
       "      <td>1.4</td>\n",
       "      <td>94.465</td>\n",
       "      <td>-41.8</td>\n",
       "      <td>4.864</td>\n",
       "      <td>5228.1</td>\n",
       "      <td>0</td>\n",
       "      <td>0</td>\n",
       "      <td>0</td>\n",
       "      <td>...</td>\n",
       "      <td>0</td>\n",
       "      <td>0</td>\n",
       "      <td>1</td>\n",
       "      <td>0</td>\n",
       "      <td>0</td>\n",
       "      <td>1</td>\n",
       "      <td>0</td>\n",
       "      <td>1</td>\n",
       "      <td>1</td>\n",
       "      <td>0</td>\n",
       "    </tr>\n",
       "  </tbody>\n",
       "</table>\n",
       "<p>5 rows × 50 columns</p>\n",
       "</div>"
      ],
      "text/plain": [
       "             age  campaign  emp.var.rate  cons.price.idx  cons.conf.idx  \\\n",
       "prospect_id                                                               \n",
       "7020          31         4           1.1          93.994          -36.4   \n",
       "27176         51         3          -0.1          93.200          -42.0   \n",
       "15818         39         3           1.4          93.918          -42.7   \n",
       "40972         68         4          -1.1          94.601          -49.5   \n",
       "8468          37         3           1.4          94.465          -41.8   \n",
       "\n",
       "             euribor3m  nr.employed  job_blue-collar  job_entrepreneur  \\\n",
       "prospect_id                                                              \n",
       "7020             4.860       5191.0                0                 0   \n",
       "27176            4.021       5195.8                0                 0   \n",
       "15818            4.960       5228.1                0                 0   \n",
       "40972            1.000       4963.6                0                 0   \n",
       "8468             4.864       5228.1                0                 0   \n",
       "\n",
       "             job_housemaid  ...  day_of_week_mon  day_of_week_thu  \\\n",
       "prospect_id                 ...                                     \n",
       "7020                     0  ...                0                1   \n",
       "27176                    0  ...                0                0   \n",
       "15818                    0  ...                1                0   \n",
       "40972                    0  ...                1                0   \n",
       "8468                     0  ...                0                0   \n",
       "\n",
       "             day_of_week_tue  day_of_week_wed  \\\n",
       "prospect_id                                     \n",
       "7020                       0                0   \n",
       "27176                      0                0   \n",
       "15818                      0                0   \n",
       "40972                      0                0   \n",
       "8468                       1                0   \n",
       "\n",
       "             pdays_Contacted_in_first_10days  pdays_First_time_contacted  \\\n",
       "prospect_id                                                                \n",
       "7020                                       0                           1   \n",
       "27176                                      0                           1   \n",
       "15818                                      0                           1   \n",
       "40972                                      0                           1   \n",
       "8468                                       0                           1   \n",
       "\n",
       "             previous_More than_3_times  previous_Never contacted  \\\n",
       "prospect_id                                                         \n",
       "7020                                  0                         1   \n",
       "27176                                 0                         1   \n",
       "15818                                 0                         1   \n",
       "40972                                 0                         0   \n",
       "8468                                  0                         1   \n",
       "\n",
       "             poutcome_nonexistent  poutcome_success  \n",
       "prospect_id                                          \n",
       "7020                            1                 0  \n",
       "27176                           1                 0  \n",
       "15818                           1                 0  \n",
       "40972                           0                 0  \n",
       "8468                            1                 0  \n",
       "\n",
       "[5 rows x 50 columns]"
      ]
     },
     "execution_count": 108,
     "metadata": {},
     "output_type": "execute_result"
    }
   ],
   "source": [
    "X_train.head()"
   ]
  },
  {
   "cell_type": "code",
   "execution_count": 109,
   "metadata": {},
   "outputs": [],
   "source": [
    "# Standardisation continuous features for X_train\n",
    "col_list = ['age','campaign','emp.var.rate','cons.price.idx','cons.conf.idx','euribor3m','nr.employed']"
   ]
  },
  {
   "cell_type": "code",
   "execution_count": 110,
   "metadata": {},
   "outputs": [],
   "source": [
    "scaler = StandardScaler()\n",
    "X_train[col_list]=scaler.fit_transform(X_train[col_list])"
   ]
  },
  {
   "cell_type": "code",
   "execution_count": 111,
   "metadata": {},
   "outputs": [
    {
     "data": {
      "text/html": [
       "<div>\n",
       "<style scoped>\n",
       "    .dataframe tbody tr th:only-of-type {\n",
       "        vertical-align: middle;\n",
       "    }\n",
       "\n",
       "    .dataframe tbody tr th {\n",
       "        vertical-align: top;\n",
       "    }\n",
       "\n",
       "    .dataframe thead th {\n",
       "        text-align: right;\n",
       "    }\n",
       "</style>\n",
       "<table border=\"1\" class=\"dataframe\">\n",
       "  <thead>\n",
       "    <tr style=\"text-align: right;\">\n",
       "      <th></th>\n",
       "      <th>age</th>\n",
       "      <th>campaign</th>\n",
       "      <th>emp.var.rate</th>\n",
       "      <th>cons.price.idx</th>\n",
       "      <th>cons.conf.idx</th>\n",
       "      <th>euribor3m</th>\n",
       "      <th>nr.employed</th>\n",
       "      <th>job_blue-collar</th>\n",
       "      <th>job_entrepreneur</th>\n",
       "      <th>job_housemaid</th>\n",
       "      <th>...</th>\n",
       "      <th>day_of_week_mon</th>\n",
       "      <th>day_of_week_thu</th>\n",
       "      <th>day_of_week_tue</th>\n",
       "      <th>day_of_week_wed</th>\n",
       "      <th>pdays_Contacted_in_first_10days</th>\n",
       "      <th>pdays_First_time_contacted</th>\n",
       "      <th>previous_More than_3_times</th>\n",
       "      <th>previous_Never contacted</th>\n",
       "      <th>poutcome_nonexistent</th>\n",
       "      <th>poutcome_success</th>\n",
       "    </tr>\n",
       "  </thead>\n",
       "  <tbody>\n",
       "    <tr>\n",
       "      <th>count</th>\n",
       "      <td>2.883100e+04</td>\n",
       "      <td>2.883100e+04</td>\n",
       "      <td>2.883100e+04</td>\n",
       "      <td>2.883100e+04</td>\n",
       "      <td>2.883100e+04</td>\n",
       "      <td>2.883100e+04</td>\n",
       "      <td>2.883100e+04</td>\n",
       "      <td>28831.000000</td>\n",
       "      <td>28831.000000</td>\n",
       "      <td>28831.000000</td>\n",
       "      <td>...</td>\n",
       "      <td>28831.000000</td>\n",
       "      <td>28831.000000</td>\n",
       "      <td>28831.000000</td>\n",
       "      <td>28831.000000</td>\n",
       "      <td>28831.000000</td>\n",
       "      <td>28831.000000</td>\n",
       "      <td>28831.000000</td>\n",
       "      <td>28831.000000</td>\n",
       "      <td>28831.000000</td>\n",
       "      <td>28831.000000</td>\n",
       "    </tr>\n",
       "    <tr>\n",
       "      <th>mean</th>\n",
       "      <td>-2.798759e-17</td>\n",
       "      <td>1.050073e-15</td>\n",
       "      <td>-1.128191e-15</td>\n",
       "      <td>3.710612e-15</td>\n",
       "      <td>-2.356025e-15</td>\n",
       "      <td>2.208894e-16</td>\n",
       "      <td>-2.317349e-14</td>\n",
       "      <td>0.223405</td>\n",
       "      <td>0.035691</td>\n",
       "      <td>0.026152</td>\n",
       "      <td>...</td>\n",
       "      <td>0.206479</td>\n",
       "      <td>0.208630</td>\n",
       "      <td>0.194929</td>\n",
       "      <td>0.199716</td>\n",
       "      <td>0.032118</td>\n",
       "      <td>0.962783</td>\n",
       "      <td>0.002220</td>\n",
       "      <td>0.862891</td>\n",
       "      <td>0.862891</td>\n",
       "      <td>0.033575</td>\n",
       "    </tr>\n",
       "    <tr>\n",
       "      <th>std</th>\n",
       "      <td>1.000017e+00</td>\n",
       "      <td>1.000017e+00</td>\n",
       "      <td>1.000017e+00</td>\n",
       "      <td>1.000017e+00</td>\n",
       "      <td>1.000017e+00</td>\n",
       "      <td>1.000017e+00</td>\n",
       "      <td>1.000017e+00</td>\n",
       "      <td>0.416535</td>\n",
       "      <td>0.185521</td>\n",
       "      <td>0.159591</td>\n",
       "      <td>...</td>\n",
       "      <td>0.404785</td>\n",
       "      <td>0.406336</td>\n",
       "      <td>0.396153</td>\n",
       "      <td>0.399793</td>\n",
       "      <td>0.176317</td>\n",
       "      <td>0.189296</td>\n",
       "      <td>0.047064</td>\n",
       "      <td>0.343969</td>\n",
       "      <td>0.343969</td>\n",
       "      <td>0.180136</td>\n",
       "    </tr>\n",
       "    <tr>\n",
       "      <th>min</th>\n",
       "      <td>-2.250120e+00</td>\n",
       "      <td>-6.520321e-01</td>\n",
       "      <td>-2.216618e+00</td>\n",
       "      <td>-2.379774e+00</td>\n",
       "      <td>-2.223618e+00</td>\n",
       "      <td>-1.720004e+00</td>\n",
       "      <td>-2.813682e+00</td>\n",
       "      <td>0.000000</td>\n",
       "      <td>0.000000</td>\n",
       "      <td>0.000000</td>\n",
       "      <td>...</td>\n",
       "      <td>0.000000</td>\n",
       "      <td>0.000000</td>\n",
       "      <td>0.000000</td>\n",
       "      <td>0.000000</td>\n",
       "      <td>0.000000</td>\n",
       "      <td>0.000000</td>\n",
       "      <td>0.000000</td>\n",
       "      <td>0.000000</td>\n",
       "      <td>0.000000</td>\n",
       "      <td>0.000000</td>\n",
       "    </tr>\n",
       "    <tr>\n",
       "      <th>25%</th>\n",
       "      <td>-7.789567e-01</td>\n",
       "      <td>-6.520321e-01</td>\n",
       "      <td>-1.197458e+00</td>\n",
       "      <td>-8.671720e-01</td>\n",
       "      <td>-4.711719e-01</td>\n",
       "      <td>-1.310828e+00</td>\n",
       "      <td>-9.383087e-01</td>\n",
       "      <td>0.000000</td>\n",
       "      <td>0.000000</td>\n",
       "      <td>0.000000</td>\n",
       "      <td>...</td>\n",
       "      <td>0.000000</td>\n",
       "      <td>0.000000</td>\n",
       "      <td>0.000000</td>\n",
       "      <td>0.000000</td>\n",
       "      <td>0.000000</td>\n",
       "      <td>1.000000</td>\n",
       "      <td>0.000000</td>\n",
       "      <td>1.000000</td>\n",
       "      <td>1.000000</td>\n",
       "      <td>0.000000</td>\n",
       "    </tr>\n",
       "    <tr>\n",
       "      <th>50%</th>\n",
       "      <td>-1.904912e-01</td>\n",
       "      <td>-2.190411e-01</td>\n",
       "      <td>6.497693e-01</td>\n",
       "      <td>2.992969e-01</td>\n",
       "      <td>-2.764556e-01</td>\n",
       "      <td>7.137315e-01</td>\n",
       "      <td>3.336237e-01</td>\n",
       "      <td>0.000000</td>\n",
       "      <td>0.000000</td>\n",
       "      <td>0.000000</td>\n",
       "      <td>...</td>\n",
       "      <td>0.000000</td>\n",
       "      <td>0.000000</td>\n",
       "      <td>0.000000</td>\n",
       "      <td>0.000000</td>\n",
       "      <td>0.000000</td>\n",
       "      <td>1.000000</td>\n",
       "      <td>0.000000</td>\n",
       "      <td>1.000000</td>\n",
       "      <td>1.000000</td>\n",
       "      <td>0.000000</td>\n",
       "    </tr>\n",
       "    <tr>\n",
       "      <th>75%</th>\n",
       "      <td>6.922071e-01</td>\n",
       "      <td>2.139499e-01</td>\n",
       "      <td>8.408618e-01</td>\n",
       "      <td>7.233101e-01</td>\n",
       "      <td>8.918417e-01</td>\n",
       "      <td>7.736672e-01</td>\n",
       "      <td>8.471024e-01</td>\n",
       "      <td>0.000000</td>\n",
       "      <td>0.000000</td>\n",
       "      <td>0.000000</td>\n",
       "      <td>...</td>\n",
       "      <td>0.000000</td>\n",
       "      <td>0.000000</td>\n",
       "      <td>0.000000</td>\n",
       "      <td>0.000000</td>\n",
       "      <td>0.000000</td>\n",
       "      <td>1.000000</td>\n",
       "      <td>0.000000</td>\n",
       "      <td>1.000000</td>\n",
       "      <td>1.000000</td>\n",
       "      <td>0.000000</td>\n",
       "    </tr>\n",
       "    <tr>\n",
       "      <th>max</th>\n",
       "      <td>3.046069e+00</td>\n",
       "      <td>4.976851e+00</td>\n",
       "      <td>8.408618e-01</td>\n",
       "      <td>2.061115e+00</td>\n",
       "      <td>2.947180e+00</td>\n",
       "      <td>8.220768e-01</td>\n",
       "      <td>8.471024e-01</td>\n",
       "      <td>1.000000</td>\n",
       "      <td>1.000000</td>\n",
       "      <td>1.000000</td>\n",
       "      <td>...</td>\n",
       "      <td>1.000000</td>\n",
       "      <td>1.000000</td>\n",
       "      <td>1.000000</td>\n",
       "      <td>1.000000</td>\n",
       "      <td>1.000000</td>\n",
       "      <td>1.000000</td>\n",
       "      <td>1.000000</td>\n",
       "      <td>1.000000</td>\n",
       "      <td>1.000000</td>\n",
       "      <td>1.000000</td>\n",
       "    </tr>\n",
       "  </tbody>\n",
       "</table>\n",
       "<p>8 rows × 50 columns</p>\n",
       "</div>"
      ],
      "text/plain": [
       "                age      campaign  emp.var.rate  cons.price.idx  \\\n",
       "count  2.883100e+04  2.883100e+04  2.883100e+04    2.883100e+04   \n",
       "mean  -2.798759e-17  1.050073e-15 -1.128191e-15    3.710612e-15   \n",
       "std    1.000017e+00  1.000017e+00  1.000017e+00    1.000017e+00   \n",
       "min   -2.250120e+00 -6.520321e-01 -2.216618e+00   -2.379774e+00   \n",
       "25%   -7.789567e-01 -6.520321e-01 -1.197458e+00   -8.671720e-01   \n",
       "50%   -1.904912e-01 -2.190411e-01  6.497693e-01    2.992969e-01   \n",
       "75%    6.922071e-01  2.139499e-01  8.408618e-01    7.233101e-01   \n",
       "max    3.046069e+00  4.976851e+00  8.408618e-01    2.061115e+00   \n",
       "\n",
       "       cons.conf.idx     euribor3m   nr.employed  job_blue-collar  \\\n",
       "count   2.883100e+04  2.883100e+04  2.883100e+04     28831.000000   \n",
       "mean   -2.356025e-15  2.208894e-16 -2.317349e-14         0.223405   \n",
       "std     1.000017e+00  1.000017e+00  1.000017e+00         0.416535   \n",
       "min    -2.223618e+00 -1.720004e+00 -2.813682e+00         0.000000   \n",
       "25%    -4.711719e-01 -1.310828e+00 -9.383087e-01         0.000000   \n",
       "50%    -2.764556e-01  7.137315e-01  3.336237e-01         0.000000   \n",
       "75%     8.918417e-01  7.736672e-01  8.471024e-01         0.000000   \n",
       "max     2.947180e+00  8.220768e-01  8.471024e-01         1.000000   \n",
       "\n",
       "       job_entrepreneur  job_housemaid  ...  day_of_week_mon  day_of_week_thu  \\\n",
       "count      28831.000000   28831.000000  ...     28831.000000     28831.000000   \n",
       "mean           0.035691       0.026152  ...         0.206479         0.208630   \n",
       "std            0.185521       0.159591  ...         0.404785         0.406336   \n",
       "min            0.000000       0.000000  ...         0.000000         0.000000   \n",
       "25%            0.000000       0.000000  ...         0.000000         0.000000   \n",
       "50%            0.000000       0.000000  ...         0.000000         0.000000   \n",
       "75%            0.000000       0.000000  ...         0.000000         0.000000   \n",
       "max            1.000000       1.000000  ...         1.000000         1.000000   \n",
       "\n",
       "       day_of_week_tue  day_of_week_wed  pdays_Contacted_in_first_10days  \\\n",
       "count     28831.000000     28831.000000                     28831.000000   \n",
       "mean          0.194929         0.199716                         0.032118   \n",
       "std           0.396153         0.399793                         0.176317   \n",
       "min           0.000000         0.000000                         0.000000   \n",
       "25%           0.000000         0.000000                         0.000000   \n",
       "50%           0.000000         0.000000                         0.000000   \n",
       "75%           0.000000         0.000000                         0.000000   \n",
       "max           1.000000         1.000000                         1.000000   \n",
       "\n",
       "       pdays_First_time_contacted  previous_More than_3_times  \\\n",
       "count                28831.000000                28831.000000   \n",
       "mean                     0.962783                    0.002220   \n",
       "std                      0.189296                    0.047064   \n",
       "min                      0.000000                    0.000000   \n",
       "25%                      1.000000                    0.000000   \n",
       "50%                      1.000000                    0.000000   \n",
       "75%                      1.000000                    0.000000   \n",
       "max                      1.000000                    1.000000   \n",
       "\n",
       "       previous_Never contacted  poutcome_nonexistent  poutcome_success  \n",
       "count              28831.000000          28831.000000      28831.000000  \n",
       "mean                   0.862891              0.862891          0.033575  \n",
       "std                    0.343969              0.343969          0.180136  \n",
       "min                    0.000000              0.000000          0.000000  \n",
       "25%                    1.000000              1.000000          0.000000  \n",
       "50%                    1.000000              1.000000          0.000000  \n",
       "75%                    1.000000              1.000000          0.000000  \n",
       "max                    1.000000              1.000000          1.000000  \n",
       "\n",
       "[8 rows x 50 columns]"
      ]
     },
     "execution_count": 111,
     "metadata": {},
     "output_type": "execute_result"
    }
   ],
   "source": [
    "X_train.describe()"
   ]
  },
  {
   "cell_type": "code",
   "execution_count": 112,
   "metadata": {},
   "outputs": [
    {
     "data": {
      "text/html": [
       "<div>\n",
       "<style scoped>\n",
       "    .dataframe tbody tr th:only-of-type {\n",
       "        vertical-align: middle;\n",
       "    }\n",
       "\n",
       "    .dataframe tbody tr th {\n",
       "        vertical-align: top;\n",
       "    }\n",
       "\n",
       "    .dataframe thead th {\n",
       "        text-align: right;\n",
       "    }\n",
       "</style>\n",
       "<table border=\"1\" class=\"dataframe\">\n",
       "  <thead>\n",
       "    <tr style=\"text-align: right;\">\n",
       "      <th></th>\n",
       "      <th>age</th>\n",
       "      <th>campaign</th>\n",
       "      <th>emp.var.rate</th>\n",
       "      <th>cons.price.idx</th>\n",
       "      <th>cons.conf.idx</th>\n",
       "      <th>euribor3m</th>\n",
       "      <th>nr.employed</th>\n",
       "      <th>job_blue-collar</th>\n",
       "      <th>job_entrepreneur</th>\n",
       "      <th>job_housemaid</th>\n",
       "      <th>...</th>\n",
       "      <th>day_of_week_mon</th>\n",
       "      <th>day_of_week_thu</th>\n",
       "      <th>day_of_week_tue</th>\n",
       "      <th>day_of_week_wed</th>\n",
       "      <th>pdays_Contacted_in_first_10days</th>\n",
       "      <th>pdays_First_time_contacted</th>\n",
       "      <th>previous_More than_3_times</th>\n",
       "      <th>previous_Never contacted</th>\n",
       "      <th>poutcome_nonexistent</th>\n",
       "      <th>poutcome_success</th>\n",
       "    </tr>\n",
       "    <tr>\n",
       "      <th>prospect_id</th>\n",
       "      <th></th>\n",
       "      <th></th>\n",
       "      <th></th>\n",
       "      <th></th>\n",
       "      <th></th>\n",
       "      <th></th>\n",
       "      <th></th>\n",
       "      <th></th>\n",
       "      <th></th>\n",
       "      <th></th>\n",
       "      <th></th>\n",
       "      <th></th>\n",
       "      <th></th>\n",
       "      <th></th>\n",
       "      <th></th>\n",
       "      <th></th>\n",
       "      <th></th>\n",
       "      <th></th>\n",
       "      <th></th>\n",
       "      <th></th>\n",
       "      <th></th>\n",
       "    </tr>\n",
       "  </thead>\n",
       "  <tbody>\n",
       "    <tr>\n",
       "      <th>7020</th>\n",
       "      <td>-0.877034</td>\n",
       "      <td>0.646941</td>\n",
       "      <td>0.649769</td>\n",
       "      <td>0.723310</td>\n",
       "      <td>0.891842</td>\n",
       "      <td>0.715460</td>\n",
       "      <td>0.333624</td>\n",
       "      <td>0</td>\n",
       "      <td>0</td>\n",
       "      <td>0</td>\n",
       "      <td>...</td>\n",
       "      <td>0</td>\n",
       "      <td>1</td>\n",
       "      <td>0</td>\n",
       "      <td>0</td>\n",
       "      <td>0</td>\n",
       "      <td>1</td>\n",
       "      <td>0</td>\n",
       "      <td>1</td>\n",
       "      <td>1</td>\n",
       "      <td>0</td>\n",
       "    </tr>\n",
       "    <tr>\n",
       "      <th>27176</th>\n",
       "      <td>1.084517</td>\n",
       "      <td>0.213950</td>\n",
       "      <td>-0.114601</td>\n",
       "      <td>-0.650839</td>\n",
       "      <td>-0.319726</td>\n",
       "      <td>0.231941</td>\n",
       "      <td>0.400058</td>\n",
       "      <td>0</td>\n",
       "      <td>0</td>\n",
       "      <td>0</td>\n",
       "      <td>...</td>\n",
       "      <td>0</td>\n",
       "      <td>0</td>\n",
       "      <td>0</td>\n",
       "      <td>0</td>\n",
       "      <td>0</td>\n",
       "      <td>1</td>\n",
       "      <td>0</td>\n",
       "      <td>1</td>\n",
       "      <td>1</td>\n",
       "      <td>0</td>\n",
       "    </tr>\n",
       "    <tr>\n",
       "      <th>15818</th>\n",
       "      <td>-0.092414</td>\n",
       "      <td>0.213950</td>\n",
       "      <td>0.840862</td>\n",
       "      <td>0.591780</td>\n",
       "      <td>-0.471172</td>\n",
       "      <td>0.773091</td>\n",
       "      <td>0.847102</td>\n",
       "      <td>0</td>\n",
       "      <td>0</td>\n",
       "      <td>0</td>\n",
       "      <td>...</td>\n",
       "      <td>1</td>\n",
       "      <td>0</td>\n",
       "      <td>0</td>\n",
       "      <td>0</td>\n",
       "      <td>0</td>\n",
       "      <td>1</td>\n",
       "      <td>0</td>\n",
       "      <td>1</td>\n",
       "      <td>1</td>\n",
       "      <td>0</td>\n",
       "    </tr>\n",
       "    <tr>\n",
       "      <th>40972</th>\n",
       "      <td>2.751836</td>\n",
       "      <td>0.646941</td>\n",
       "      <td>-0.751576</td>\n",
       "      <td>1.773824</td>\n",
       "      <td>-1.942361</td>\n",
       "      <td>-1.509077</td>\n",
       "      <td>-2.813682</td>\n",
       "      <td>0</td>\n",
       "      <td>0</td>\n",
       "      <td>0</td>\n",
       "      <td>...</td>\n",
       "      <td>1</td>\n",
       "      <td>0</td>\n",
       "      <td>0</td>\n",
       "      <td>0</td>\n",
       "      <td>0</td>\n",
       "      <td>1</td>\n",
       "      <td>0</td>\n",
       "      <td>0</td>\n",
       "      <td>0</td>\n",
       "      <td>0</td>\n",
       "    </tr>\n",
       "    <tr>\n",
       "      <th>8468</th>\n",
       "      <td>-0.288569</td>\n",
       "      <td>0.213950</td>\n",
       "      <td>0.840862</td>\n",
       "      <td>1.538454</td>\n",
       "      <td>-0.276456</td>\n",
       "      <td>0.717766</td>\n",
       "      <td>0.847102</td>\n",
       "      <td>0</td>\n",
       "      <td>0</td>\n",
       "      <td>0</td>\n",
       "      <td>...</td>\n",
       "      <td>0</td>\n",
       "      <td>0</td>\n",
       "      <td>1</td>\n",
       "      <td>0</td>\n",
       "      <td>0</td>\n",
       "      <td>1</td>\n",
       "      <td>0</td>\n",
       "      <td>1</td>\n",
       "      <td>1</td>\n",
       "      <td>0</td>\n",
       "    </tr>\n",
       "  </tbody>\n",
       "</table>\n",
       "<p>5 rows × 50 columns</p>\n",
       "</div>"
      ],
      "text/plain": [
       "                  age  campaign  emp.var.rate  cons.price.idx  cons.conf.idx  \\\n",
       "prospect_id                                                                    \n",
       "7020        -0.877034  0.646941      0.649769        0.723310       0.891842   \n",
       "27176        1.084517  0.213950     -0.114601       -0.650839      -0.319726   \n",
       "15818       -0.092414  0.213950      0.840862        0.591780      -0.471172   \n",
       "40972        2.751836  0.646941     -0.751576        1.773824      -1.942361   \n",
       "8468        -0.288569  0.213950      0.840862        1.538454      -0.276456   \n",
       "\n",
       "             euribor3m  nr.employed  job_blue-collar  job_entrepreneur  \\\n",
       "prospect_id                                                              \n",
       "7020          0.715460     0.333624                0                 0   \n",
       "27176         0.231941     0.400058                0                 0   \n",
       "15818         0.773091     0.847102                0                 0   \n",
       "40972        -1.509077    -2.813682                0                 0   \n",
       "8468          0.717766     0.847102                0                 0   \n",
       "\n",
       "             job_housemaid  ...  day_of_week_mon  day_of_week_thu  \\\n",
       "prospect_id                 ...                                     \n",
       "7020                     0  ...                0                1   \n",
       "27176                    0  ...                0                0   \n",
       "15818                    0  ...                1                0   \n",
       "40972                    0  ...                1                0   \n",
       "8468                     0  ...                0                0   \n",
       "\n",
       "             day_of_week_tue  day_of_week_wed  \\\n",
       "prospect_id                                     \n",
       "7020                       0                0   \n",
       "27176                      0                0   \n",
       "15818                      0                0   \n",
       "40972                      0                0   \n",
       "8468                       1                0   \n",
       "\n",
       "             pdays_Contacted_in_first_10days  pdays_First_time_contacted  \\\n",
       "prospect_id                                                                \n",
       "7020                                       0                           1   \n",
       "27176                                      0                           1   \n",
       "15818                                      0                           1   \n",
       "40972                                      0                           1   \n",
       "8468                                       0                           1   \n",
       "\n",
       "             previous_More than_3_times  previous_Never contacted  \\\n",
       "prospect_id                                                         \n",
       "7020                                  0                         1   \n",
       "27176                                 0                         1   \n",
       "15818                                 0                         1   \n",
       "40972                                 0                         0   \n",
       "8468                                  0                         1   \n",
       "\n",
       "             poutcome_nonexistent  poutcome_success  \n",
       "prospect_id                                          \n",
       "7020                            1                 0  \n",
       "27176                           1                 0  \n",
       "15818                           1                 0  \n",
       "40972                           0                 0  \n",
       "8468                            1                 0  \n",
       "\n",
       "[5 rows x 50 columns]"
      ]
     },
     "execution_count": 112,
     "metadata": {},
     "output_type": "execute_result"
    }
   ],
   "source": [
    "X_train.head()"
   ]
  },
  {
   "cell_type": "code",
   "execution_count": 113,
   "metadata": {},
   "outputs": [],
   "source": [
    "# Standardisation continuous features for X_test\n",
    "X_test[col_list] = scaler.transform(X_test[col_list])"
   ]
  },
  {
   "cell_type": "code",
   "execution_count": 114,
   "metadata": {},
   "outputs": [
    {
     "data": {
      "text/html": [
       "<div>\n",
       "<style scoped>\n",
       "    .dataframe tbody tr th:only-of-type {\n",
       "        vertical-align: middle;\n",
       "    }\n",
       "\n",
       "    .dataframe tbody tr th {\n",
       "        vertical-align: top;\n",
       "    }\n",
       "\n",
       "    .dataframe thead th {\n",
       "        text-align: right;\n",
       "    }\n",
       "</style>\n",
       "<table border=\"1\" class=\"dataframe\">\n",
       "  <thead>\n",
       "    <tr style=\"text-align: right;\">\n",
       "      <th></th>\n",
       "      <th>age</th>\n",
       "      <th>campaign</th>\n",
       "      <th>emp.var.rate</th>\n",
       "      <th>cons.price.idx</th>\n",
       "      <th>cons.conf.idx</th>\n",
       "      <th>euribor3m</th>\n",
       "      <th>nr.employed</th>\n",
       "      <th>job_blue-collar</th>\n",
       "      <th>job_entrepreneur</th>\n",
       "      <th>job_housemaid</th>\n",
       "      <th>...</th>\n",
       "      <th>day_of_week_mon</th>\n",
       "      <th>day_of_week_thu</th>\n",
       "      <th>day_of_week_tue</th>\n",
       "      <th>day_of_week_wed</th>\n",
       "      <th>pdays_Contacted_in_first_10days</th>\n",
       "      <th>pdays_First_time_contacted</th>\n",
       "      <th>previous_More than_3_times</th>\n",
       "      <th>previous_Never contacted</th>\n",
       "      <th>poutcome_nonexistent</th>\n",
       "      <th>poutcome_success</th>\n",
       "    </tr>\n",
       "    <tr>\n",
       "      <th>prospect_id</th>\n",
       "      <th></th>\n",
       "      <th></th>\n",
       "      <th></th>\n",
       "      <th></th>\n",
       "      <th></th>\n",
       "      <th></th>\n",
       "      <th></th>\n",
       "      <th></th>\n",
       "      <th></th>\n",
       "      <th></th>\n",
       "      <th></th>\n",
       "      <th></th>\n",
       "      <th></th>\n",
       "      <th></th>\n",
       "      <th></th>\n",
       "      <th></th>\n",
       "      <th></th>\n",
       "      <th></th>\n",
       "      <th></th>\n",
       "      <th></th>\n",
       "      <th></th>\n",
       "    </tr>\n",
       "  </thead>\n",
       "  <tbody>\n",
       "    <tr>\n",
       "      <th>33149</th>\n",
       "      <td>-1.171267</td>\n",
       "      <td>-0.652032</td>\n",
       "      <td>-1.197458</td>\n",
       "      <td>-1.182153</td>\n",
       "      <td>-1.228402</td>\n",
       "      <td>-1.341372</td>\n",
       "      <td>-0.938309</td>\n",
       "      <td>0</td>\n",
       "      <td>0</td>\n",
       "      <td>0</td>\n",
       "      <td>...</td>\n",
       "      <td>0</td>\n",
       "      <td>0</td>\n",
       "      <td>1</td>\n",
       "      <td>0</td>\n",
       "      <td>0</td>\n",
       "      <td>1</td>\n",
       "      <td>0</td>\n",
       "      <td>1</td>\n",
       "      <td>1</td>\n",
       "      <td>0</td>\n",
       "    </tr>\n",
       "    <tr>\n",
       "      <th>27586</th>\n",
       "      <td>0.103742</td>\n",
       "      <td>0.646941</td>\n",
       "      <td>-0.114601</td>\n",
       "      <td>-0.650839</td>\n",
       "      <td>-0.319726</td>\n",
       "      <td>0.231941</td>\n",
       "      <td>0.400058</td>\n",
       "      <td>0</td>\n",
       "      <td>0</td>\n",
       "      <td>0</td>\n",
       "      <td>...</td>\n",
       "      <td>0</td>\n",
       "      <td>0</td>\n",
       "      <td>0</td>\n",
       "      <td>0</td>\n",
       "      <td>0</td>\n",
       "      <td>1</td>\n",
       "      <td>0</td>\n",
       "      <td>1</td>\n",
       "      <td>1</td>\n",
       "      <td>0</td>\n",
       "    </tr>\n",
       "    <tr>\n",
       "      <th>15723</th>\n",
       "      <td>-0.582801</td>\n",
       "      <td>-0.652032</td>\n",
       "      <td>0.840862</td>\n",
       "      <td>0.591780</td>\n",
       "      <td>-0.471172</td>\n",
       "      <td>0.773091</td>\n",
       "      <td>0.847102</td>\n",
       "      <td>1</td>\n",
       "      <td>0</td>\n",
       "      <td>0</td>\n",
       "      <td>...</td>\n",
       "      <td>1</td>\n",
       "      <td>0</td>\n",
       "      <td>0</td>\n",
       "      <td>0</td>\n",
       "      <td>0</td>\n",
       "      <td>1</td>\n",
       "      <td>0</td>\n",
       "      <td>1</td>\n",
       "      <td>1</td>\n",
       "      <td>0</td>\n",
       "    </tr>\n",
       "    <tr>\n",
       "      <th>40350</th>\n",
       "      <td>-1.171267</td>\n",
       "      <td>-0.219041</td>\n",
       "      <td>-1.133761</td>\n",
       "      <td>0.780422</td>\n",
       "      <td>0.480774</td>\n",
       "      <td>-1.567283</td>\n",
       "      <td>-2.426151</td>\n",
       "      <td>0</td>\n",
       "      <td>0</td>\n",
       "      <td>0</td>\n",
       "      <td>...</td>\n",
       "      <td>0</td>\n",
       "      <td>0</td>\n",
       "      <td>1</td>\n",
       "      <td>0</td>\n",
       "      <td>1</td>\n",
       "      <td>0</td>\n",
       "      <td>0</td>\n",
       "      <td>0</td>\n",
       "      <td>0</td>\n",
       "      <td>1</td>\n",
       "    </tr>\n",
       "    <tr>\n",
       "      <th>2577</th>\n",
       "      <td>1.476828</td>\n",
       "      <td>-0.219041</td>\n",
       "      <td>0.649769</td>\n",
       "      <td>0.723310</td>\n",
       "      <td>0.891842</td>\n",
       "      <td>0.713155</td>\n",
       "      <td>0.333624</td>\n",
       "      <td>0</td>\n",
       "      <td>0</td>\n",
       "      <td>0</td>\n",
       "      <td>...</td>\n",
       "      <td>0</td>\n",
       "      <td>0</td>\n",
       "      <td>1</td>\n",
       "      <td>0</td>\n",
       "      <td>0</td>\n",
       "      <td>1</td>\n",
       "      <td>0</td>\n",
       "      <td>1</td>\n",
       "      <td>1</td>\n",
       "      <td>0</td>\n",
       "    </tr>\n",
       "  </tbody>\n",
       "</table>\n",
       "<p>5 rows × 50 columns</p>\n",
       "</div>"
      ],
      "text/plain": [
       "                  age  campaign  emp.var.rate  cons.price.idx  cons.conf.idx  \\\n",
       "prospect_id                                                                    \n",
       "33149       -1.171267 -0.652032     -1.197458       -1.182153      -1.228402   \n",
       "27586        0.103742  0.646941     -0.114601       -0.650839      -0.319726   \n",
       "15723       -0.582801 -0.652032      0.840862        0.591780      -0.471172   \n",
       "40350       -1.171267 -0.219041     -1.133761        0.780422       0.480774   \n",
       "2577         1.476828 -0.219041      0.649769        0.723310       0.891842   \n",
       "\n",
       "             euribor3m  nr.employed  job_blue-collar  job_entrepreneur  \\\n",
       "prospect_id                                                              \n",
       "33149        -1.341372    -0.938309                0                 0   \n",
       "27586         0.231941     0.400058                0                 0   \n",
       "15723         0.773091     0.847102                1                 0   \n",
       "40350        -1.567283    -2.426151                0                 0   \n",
       "2577          0.713155     0.333624                0                 0   \n",
       "\n",
       "             job_housemaid  ...  day_of_week_mon  day_of_week_thu  \\\n",
       "prospect_id                 ...                                     \n",
       "33149                    0  ...                0                0   \n",
       "27586                    0  ...                0                0   \n",
       "15723                    0  ...                1                0   \n",
       "40350                    0  ...                0                0   \n",
       "2577                     0  ...                0                0   \n",
       "\n",
       "             day_of_week_tue  day_of_week_wed  \\\n",
       "prospect_id                                     \n",
       "33149                      1                0   \n",
       "27586                      0                0   \n",
       "15723                      0                0   \n",
       "40350                      1                0   \n",
       "2577                       1                0   \n",
       "\n",
       "             pdays_Contacted_in_first_10days  pdays_First_time_contacted  \\\n",
       "prospect_id                                                                \n",
       "33149                                      0                           1   \n",
       "27586                                      0                           1   \n",
       "15723                                      0                           1   \n",
       "40350                                      1                           0   \n",
       "2577                                       0                           1   \n",
       "\n",
       "             previous_More than_3_times  previous_Never contacted  \\\n",
       "prospect_id                                                         \n",
       "33149                                 0                         1   \n",
       "27586                                 0                         1   \n",
       "15723                                 0                         1   \n",
       "40350                                 0                         0   \n",
       "2577                                  0                         1   \n",
       "\n",
       "             poutcome_nonexistent  poutcome_success  \n",
       "prospect_id                                          \n",
       "33149                           1                 0  \n",
       "27586                           1                 0  \n",
       "15723                           1                 0  \n",
       "40350                           0                 1  \n",
       "2577                            1                 0  \n",
       "\n",
       "[5 rows x 50 columns]"
      ]
     },
     "execution_count": 114,
     "metadata": {},
     "output_type": "execute_result"
    }
   ],
   "source": [
    "X_test.head()"
   ]
  },
  {
   "cell_type": "code",
   "execution_count": 115,
   "metadata": {},
   "outputs": [],
   "source": [
    "X_train1 = X_train[:]"
   ]
  },
  {
   "cell_type": "code",
   "execution_count": 116,
   "metadata": {},
   "outputs": [],
   "source": [
    "X_test1 = X_test[:]"
   ]
  },
  {
   "cell_type": "markdown",
   "metadata": {},
   "source": [
    "### Modelling\n",
    "\n",
    "Now that the data preparation step is complete, we will jump straight into modelling:"
   ]
  },
  {
   "cell_type": "markdown",
   "metadata": {},
   "source": [
    "#### Logistic Regression"
   ]
  },
  {
   "cell_type": "code",
   "execution_count": 117,
   "metadata": {},
   "outputs": [
    {
     "data": {
      "text/html": [
       "<table class=\"simpletable\">\n",
       "<caption>Generalized Linear Model Regression Results</caption>\n",
       "<tr>\n",
       "  <th>Dep. Variable:</th>      <td>response</td>     <th>  No. Observations:  </th>  <td> 28831</td>  \n",
       "</tr>\n",
       "<tr>\n",
       "  <th>Model:</th>                 <td>GLM</td>       <th>  Df Residuals:      </th>  <td> 28782</td>  \n",
       "</tr>\n",
       "<tr>\n",
       "  <th>Model Family:</th>       <td>Binomial</td>     <th>  Df Model:          </th>  <td>    48</td>  \n",
       "</tr>\n",
       "<tr>\n",
       "  <th>Link Function:</th>        <td>logit</td>      <th>  Scale:             </th> <td>  1.0000</td> \n",
       "</tr>\n",
       "<tr>\n",
       "  <th>Method:</th>               <td>IRLS</td>       <th>  Log-Likelihood:    </th> <td>     nan</td> \n",
       "</tr>\n",
       "<tr>\n",
       "  <th>Date:</th>           <td>Mon, 04 Nov 2019</td> <th>  Deviance:          </th> <td>     nan</td> \n",
       "</tr>\n",
       "<tr>\n",
       "  <th>Time:</th>               <td>18:21:04</td>     <th>  Pearson chi2:      </th> <td>1.51e+19</td> \n",
       "</tr>\n",
       "<tr>\n",
       "  <th>No. Iterations:</th>        <td>100</td>       <th>  Covariance Type:   </th> <td>nonrobust</td>\n",
       "</tr>\n",
       "</table>\n",
       "<table class=\"simpletable\">\n",
       "<tr>\n",
       "                 <td></td>                    <th>coef</th>     <th>std err</th>      <th>z</th>      <th>P>|z|</th>  <th>[0.025</th>    <th>0.975]</th>  \n",
       "</tr>\n",
       "<tr>\n",
       "  <th>const</th>                           <td>-1.555e+15</td> <td> 8.34e+06</td> <td>-1.87e+08</td> <td> 0.000</td> <td>-1.56e+15</td> <td>-1.56e+15</td>\n",
       "</tr>\n",
       "<tr>\n",
       "  <th>age</th>                             <td> 2.409e+13</td> <td> 5.06e+05</td> <td> 4.76e+07</td> <td> 0.000</td> <td> 2.41e+13</td> <td> 2.41e+13</td>\n",
       "</tr>\n",
       "<tr>\n",
       "  <th>campaign</th>                        <td>-1.527e+14</td> <td> 4.05e+05</td> <td>-3.77e+08</td> <td> 0.000</td> <td>-1.53e+14</td> <td>-1.53e+14</td>\n",
       "</tr>\n",
       "<tr>\n",
       "  <th>emp.var.rate</th>                    <td> -2.16e+15</td> <td> 6.04e+06</td> <td>-3.57e+08</td> <td> 0.000</td> <td>-2.16e+15</td> <td>-2.16e+15</td>\n",
       "</tr>\n",
       "<tr>\n",
       "  <th>cons.price.idx</th>                  <td> 1.546e+15</td> <td> 3.69e+06</td> <td> 4.19e+08</td> <td> 0.000</td> <td> 1.55e+15</td> <td> 1.55e+15</td>\n",
       "</tr>\n",
       "<tr>\n",
       "  <th>cons.conf.idx</th>                   <td>  2.61e+14</td> <td> 1.03e+06</td> <td> 2.54e+08</td> <td> 0.000</td> <td> 2.61e+14</td> <td> 2.61e+14</td>\n",
       "</tr>\n",
       "<tr>\n",
       "  <th>euribor3m</th>                       <td>-1.102e+15</td> <td> 5.56e+06</td> <td>-1.98e+08</td> <td> 0.000</td> <td> -1.1e+15</td> <td> -1.1e+15</td>\n",
       "</tr>\n",
       "<tr>\n",
       "  <th>nr.employed</th>                     <td> 1.832e+15</td> <td> 5.53e+06</td> <td> 3.31e+08</td> <td> 0.000</td> <td> 1.83e+15</td> <td> 1.83e+15</td>\n",
       "</tr>\n",
       "<tr>\n",
       "  <th>job_blue-collar</th>                 <td>-1.415e+14</td> <td> 1.48e+06</td> <td>-9.58e+07</td> <td> 0.000</td> <td>-1.42e+14</td> <td>-1.42e+14</td>\n",
       "</tr>\n",
       "<tr>\n",
       "  <th>job_entrepreneur</th>                <td>-5.111e+14</td> <td> 2.27e+06</td> <td>-2.25e+08</td> <td> 0.000</td> <td>-5.11e+14</td> <td>-5.11e+14</td>\n",
       "</tr>\n",
       "<tr>\n",
       "  <th>job_housemaid</th>                   <td> 1.245e+12</td> <td> 2.67e+06</td> <td> 4.66e+05</td> <td> 0.000</td> <td> 1.24e+12</td> <td> 1.24e+12</td>\n",
       "</tr>\n",
       "<tr>\n",
       "  <th>job_management</th>                  <td>-2.693e+14</td> <td> 1.72e+06</td> <td>-1.57e+08</td> <td> 0.000</td> <td>-2.69e+14</td> <td>-2.69e+14</td>\n",
       "</tr>\n",
       "<tr>\n",
       "  <th>job_retired</th>                     <td>-1.067e+13</td> <td> 2.39e+06</td> <td>-4.46e+06</td> <td> 0.000</td> <td>-1.07e+13</td> <td>-1.07e+13</td>\n",
       "</tr>\n",
       "<tr>\n",
       "  <th>job_self-employed</th>               <td>-1.253e+14</td> <td> 2.31e+06</td> <td>-5.43e+07</td> <td> 0.000</td> <td>-1.25e+14</td> <td>-1.25e+14</td>\n",
       "</tr>\n",
       "<tr>\n",
       "  <th>job_services</th>                    <td> 4.162e+13</td> <td> 1.59e+06</td> <td> 2.61e+07</td> <td> 0.000</td> <td> 4.16e+13</td> <td> 4.16e+13</td>\n",
       "</tr>\n",
       "<tr>\n",
       "  <th>job_student</th>                     <td> 1.066e+14</td> <td> 3.01e+06</td> <td> 3.54e+07</td> <td> 0.000</td> <td> 1.07e+14</td> <td> 1.07e+14</td>\n",
       "</tr>\n",
       "<tr>\n",
       "  <th>job_technician</th>                  <td>-1.276e+14</td> <td> 1.42e+06</td> <td>-8.99e+07</td> <td> 0.000</td> <td>-1.28e+14</td> <td>-1.28e+14</td>\n",
       "</tr>\n",
       "<tr>\n",
       "  <th>job_unemployed</th>                  <td>-1.645e+14</td> <td> 2.67e+06</td> <td>-6.17e+07</td> <td> 0.000</td> <td>-1.65e+14</td> <td>-1.65e+14</td>\n",
       "</tr>\n",
       "<tr>\n",
       "  <th>job_unknown</th>                     <td>-2.831e+14</td> <td> 4.63e+06</td> <td>-6.12e+07</td> <td> 0.000</td> <td>-2.83e+14</td> <td>-2.83e+14</td>\n",
       "</tr>\n",
       "<tr>\n",
       "  <th>marital_married</th>                 <td> 3.132e+13</td> <td>  1.3e+06</td> <td>  2.4e+07</td> <td> 0.000</td> <td> 3.13e+13</td> <td> 3.13e+13</td>\n",
       "</tr>\n",
       "<tr>\n",
       "  <th>marital_single</th>                  <td>  5.86e+13</td> <td>  1.5e+06</td> <td>  3.9e+07</td> <td> 0.000</td> <td> 5.86e+13</td> <td> 5.86e+13</td>\n",
       "</tr>\n",
       "<tr>\n",
       "  <th>education_Secondary_Education</th>   <td> 6.091e+13</td> <td> 1.32e+06</td> <td> 4.61e+07</td> <td> 0.000</td> <td> 6.09e+13</td> <td> 6.09e+13</td>\n",
       "</tr>\n",
       "<tr>\n",
       "  <th>education_Tertiary_Education</th>    <td> 1.585e+14</td> <td> 1.37e+06</td> <td> 1.16e+08</td> <td> 0.000</td> <td> 1.58e+14</td> <td> 1.58e+14</td>\n",
       "</tr>\n",
       "<tr>\n",
       "  <th>education_professional.course</th>   <td> 1.222e+14</td> <td> 1.61e+06</td> <td>  7.6e+07</td> <td> 0.000</td> <td> 1.22e+14</td> <td> 1.22e+14</td>\n",
       "</tr>\n",
       "<tr>\n",
       "  <th>education_unknown</th>               <td> 2.869e+14</td> <td> 2.13e+06</td> <td> 1.34e+08</td> <td> 0.000</td> <td> 2.87e+14</td> <td> 2.87e+14</td>\n",
       "</tr>\n",
       "<tr>\n",
       "  <th>default_unknown</th>                 <td>-6.777e+14</td> <td> 1.05e+06</td> <td>-6.48e+08</td> <td> 0.000</td> <td>-6.78e+14</td> <td>-6.78e+14</td>\n",
       "</tr>\n",
       "<tr>\n",
       "  <th>default_yes</th>                     <td>-3.271e+15</td> <td> 4.75e+07</td> <td>-6.89e+07</td> <td> 0.000</td> <td>-3.27e+15</td> <td>-3.27e+15</td>\n",
       "</tr>\n",
       "<tr>\n",
       "  <th>housing_unknown</th>                 <td> 1.069e+23</td> <td> 1.19e+17</td> <td> 8.99e+05</td> <td> 0.000</td> <td> 1.07e+23</td> <td> 1.07e+23</td>\n",
       "</tr>\n",
       "<tr>\n",
       "  <th>housing_yes</th>                     <td>-2.862e+13</td> <td> 8.08e+05</td> <td>-3.54e+07</td> <td> 0.000</td> <td>-2.86e+13</td> <td>-2.86e+13</td>\n",
       "</tr>\n",
       "<tr>\n",
       "  <th>loan_unknown</th>                    <td>-1.069e+23</td> <td> 1.19e+17</td> <td>-8.99e+05</td> <td> 0.000</td> <td>-1.07e+23</td> <td>-1.07e+23</td>\n",
       "</tr>\n",
       "<tr>\n",
       "  <th>loan_yes</th>                        <td> 8.642e+13</td> <td> 1.11e+06</td> <td>  7.8e+07</td> <td> 0.000</td> <td> 8.64e+13</td> <td> 8.64e+13</td>\n",
       "</tr>\n",
       "<tr>\n",
       "  <th>contact_telephone</th>               <td>-3.122e+14</td> <td> 1.55e+06</td> <td>-2.01e+08</td> <td> 0.000</td> <td>-3.12e+14</td> <td>-3.12e+14</td>\n",
       "</tr>\n",
       "<tr>\n",
       "  <th>month_aug</th>                       <td> 9.179e+14</td> <td> 3.58e+06</td> <td> 2.56e+08</td> <td> 0.000</td> <td> 9.18e+14</td> <td> 9.18e+14</td>\n",
       "</tr>\n",
       "<tr>\n",
       "  <th>month_dec</th>                       <td> 2.829e+14</td> <td> 6.59e+06</td> <td> 4.29e+07</td> <td> 0.000</td> <td> 2.83e+14</td> <td> 2.83e+14</td>\n",
       "</tr>\n",
       "<tr>\n",
       "  <th>month_jul</th>                       <td> 1.808e+14</td> <td> 2.22e+06</td> <td> 8.16e+07</td> <td> 0.000</td> <td> 1.81e+14</td> <td> 1.81e+14</td>\n",
       "</tr>\n",
       "<tr>\n",
       "  <th>month_jun</th>                       <td>-9.237e+14</td> <td> 3.53e+06</td> <td>-2.62e+08</td> <td> 0.000</td> <td>-9.24e+14</td> <td>-9.24e+14</td>\n",
       "</tr>\n",
       "<tr>\n",
       "  <th>month_mar</th>                       <td> 3.628e+14</td> <td> 4.43e+06</td> <td> 8.19e+07</td> <td> 0.000</td> <td> 3.63e+14</td> <td> 3.63e+14</td>\n",
       "</tr>\n",
       "<tr>\n",
       "  <th>month_may</th>                       <td> 3.577e+14</td> <td> 2.08e+06</td> <td> 1.72e+08</td> <td> 0.000</td> <td> 3.58e+14</td> <td> 3.58e+14</td>\n",
       "</tr>\n",
       "<tr>\n",
       "  <th>month_nov</th>                       <td> 4.096e+14</td> <td> 2.69e+06</td> <td> 1.52e+08</td> <td> 0.000</td> <td>  4.1e+14</td> <td>  4.1e+14</td>\n",
       "</tr>\n",
       "<tr>\n",
       "  <th>month_oct</th>                       <td>-3.518e+14</td> <td> 4.14e+06</td> <td>-8.51e+07</td> <td> 0.000</td> <td>-3.52e+14</td> <td>-3.52e+14</td>\n",
       "</tr>\n",
       "<tr>\n",
       "  <th>month_sep</th>                       <td> 1.556e+15</td> <td> 5.09e+06</td> <td> 3.06e+08</td> <td> 0.000</td> <td> 1.56e+15</td> <td> 1.56e+15</td>\n",
       "</tr>\n",
       "<tr>\n",
       "  <th>day_of_week_mon</th>                 <td>-3.088e+14</td> <td> 1.26e+06</td> <td>-2.45e+08</td> <td> 0.000</td> <td>-3.09e+14</td> <td>-3.09e+14</td>\n",
       "</tr>\n",
       "<tr>\n",
       "  <th>day_of_week_thu</th>                 <td> 1.823e+14</td> <td> 1.26e+06</td> <td> 1.45e+08</td> <td> 0.000</td> <td> 1.82e+14</td> <td> 1.82e+14</td>\n",
       "</tr>\n",
       "<tr>\n",
       "  <th>day_of_week_tue</th>                 <td> 2.125e+14</td> <td> 1.28e+06</td> <td> 1.65e+08</td> <td> 0.000</td> <td> 2.12e+14</td> <td> 2.12e+14</td>\n",
       "</tr>\n",
       "<tr>\n",
       "  <th>day_of_week_wed</th>                 <td> 2.966e+14</td> <td> 1.27e+06</td> <td> 2.33e+08</td> <td> 0.000</td> <td> 2.97e+14</td> <td> 2.97e+14</td>\n",
       "</tr>\n",
       "<tr>\n",
       "  <th>pdays_Contacted_in_first_10days</th> <td> 1.277e+14</td> <td> 6.13e+06</td> <td> 2.08e+07</td> <td> 0.000</td> <td> 1.28e+14</td> <td> 1.28e+14</td>\n",
       "</tr>\n",
       "<tr>\n",
       "  <th>pdays_First_time_contacted</th>      <td> 1.601e+14</td> <td> 7.86e+06</td> <td> 2.04e+07</td> <td> 0.000</td> <td>  1.6e+14</td> <td>  1.6e+14</td>\n",
       "</tr>\n",
       "<tr>\n",
       "  <th>previous_More than_3_times</th>      <td> 1.497e+14</td> <td> 8.79e+06</td> <td>  1.7e+07</td> <td> 0.000</td> <td>  1.5e+14</td> <td>  1.5e+14</td>\n",
       "</tr>\n",
       "<tr>\n",
       "  <th>previous_Never contacted</th>        <td>-1.525e+25</td> <td>  1.7e+19</td> <td>-8.99e+05</td> <td> 0.000</td> <td>-1.52e+25</td> <td>-1.52e+25</td>\n",
       "</tr>\n",
       "<tr>\n",
       "  <th>poutcome_nonexistent</th>            <td> 1.525e+25</td> <td>  1.7e+19</td> <td> 8.99e+05</td> <td> 0.000</td> <td> 1.52e+25</td> <td> 1.52e+25</td>\n",
       "</tr>\n",
       "<tr>\n",
       "  <th>poutcome_success</th>                <td> 1.521e+14</td> <td> 7.14e+06</td> <td> 2.13e+07</td> <td> 0.000</td> <td> 1.52e+14</td> <td> 1.52e+14</td>\n",
       "</tr>\n",
       "</table>"
      ],
      "text/plain": [
       "<class 'statsmodels.iolib.summary.Summary'>\n",
       "\"\"\"\n",
       "                 Generalized Linear Model Regression Results                  \n",
       "==============================================================================\n",
       "Dep. Variable:               response   No. Observations:                28831\n",
       "Model:                            GLM   Df Residuals:                    28782\n",
       "Model Family:                Binomial   Df Model:                           48\n",
       "Link Function:                  logit   Scale:                          1.0000\n",
       "Method:                          IRLS   Log-Likelihood:                    nan\n",
       "Date:                Mon, 04 Nov 2019   Deviance:                          nan\n",
       "Time:                        18:21:04   Pearson chi2:                 1.51e+19\n",
       "No. Iterations:                   100   Covariance Type:             nonrobust\n",
       "===================================================================================================\n",
       "                                      coef    std err          z      P>|z|      [0.025      0.975]\n",
       "---------------------------------------------------------------------------------------------------\n",
       "const                           -1.555e+15   8.34e+06  -1.87e+08      0.000   -1.56e+15   -1.56e+15\n",
       "age                              2.409e+13   5.06e+05   4.76e+07      0.000    2.41e+13    2.41e+13\n",
       "campaign                        -1.527e+14   4.05e+05  -3.77e+08      0.000   -1.53e+14   -1.53e+14\n",
       "emp.var.rate                     -2.16e+15   6.04e+06  -3.57e+08      0.000   -2.16e+15   -2.16e+15\n",
       "cons.price.idx                   1.546e+15   3.69e+06   4.19e+08      0.000    1.55e+15    1.55e+15\n",
       "cons.conf.idx                     2.61e+14   1.03e+06   2.54e+08      0.000    2.61e+14    2.61e+14\n",
       "euribor3m                       -1.102e+15   5.56e+06  -1.98e+08      0.000    -1.1e+15    -1.1e+15\n",
       "nr.employed                      1.832e+15   5.53e+06   3.31e+08      0.000    1.83e+15    1.83e+15\n",
       "job_blue-collar                 -1.415e+14   1.48e+06  -9.58e+07      0.000   -1.42e+14   -1.42e+14\n",
       "job_entrepreneur                -5.111e+14   2.27e+06  -2.25e+08      0.000   -5.11e+14   -5.11e+14\n",
       "job_housemaid                    1.245e+12   2.67e+06   4.66e+05      0.000    1.24e+12    1.24e+12\n",
       "job_management                  -2.693e+14   1.72e+06  -1.57e+08      0.000   -2.69e+14   -2.69e+14\n",
       "job_retired                     -1.067e+13   2.39e+06  -4.46e+06      0.000   -1.07e+13   -1.07e+13\n",
       "job_self-employed               -1.253e+14   2.31e+06  -5.43e+07      0.000   -1.25e+14   -1.25e+14\n",
       "job_services                     4.162e+13   1.59e+06   2.61e+07      0.000    4.16e+13    4.16e+13\n",
       "job_student                      1.066e+14   3.01e+06   3.54e+07      0.000    1.07e+14    1.07e+14\n",
       "job_technician                  -1.276e+14   1.42e+06  -8.99e+07      0.000   -1.28e+14   -1.28e+14\n",
       "job_unemployed                  -1.645e+14   2.67e+06  -6.17e+07      0.000   -1.65e+14   -1.65e+14\n",
       "job_unknown                     -2.831e+14   4.63e+06  -6.12e+07      0.000   -2.83e+14   -2.83e+14\n",
       "marital_married                  3.132e+13    1.3e+06    2.4e+07      0.000    3.13e+13    3.13e+13\n",
       "marital_single                    5.86e+13    1.5e+06    3.9e+07      0.000    5.86e+13    5.86e+13\n",
       "education_Secondary_Education    6.091e+13   1.32e+06   4.61e+07      0.000    6.09e+13    6.09e+13\n",
       "education_Tertiary_Education     1.585e+14   1.37e+06   1.16e+08      0.000    1.58e+14    1.58e+14\n",
       "education_professional.course    1.222e+14   1.61e+06    7.6e+07      0.000    1.22e+14    1.22e+14\n",
       "education_unknown                2.869e+14   2.13e+06   1.34e+08      0.000    2.87e+14    2.87e+14\n",
       "default_unknown                 -6.777e+14   1.05e+06  -6.48e+08      0.000   -6.78e+14   -6.78e+14\n",
       "default_yes                     -3.271e+15   4.75e+07  -6.89e+07      0.000   -3.27e+15   -3.27e+15\n",
       "housing_unknown                  1.069e+23   1.19e+17   8.99e+05      0.000    1.07e+23    1.07e+23\n",
       "housing_yes                     -2.862e+13   8.08e+05  -3.54e+07      0.000   -2.86e+13   -2.86e+13\n",
       "loan_unknown                    -1.069e+23   1.19e+17  -8.99e+05      0.000   -1.07e+23   -1.07e+23\n",
       "loan_yes                         8.642e+13   1.11e+06    7.8e+07      0.000    8.64e+13    8.64e+13\n",
       "contact_telephone               -3.122e+14   1.55e+06  -2.01e+08      0.000   -3.12e+14   -3.12e+14\n",
       "month_aug                        9.179e+14   3.58e+06   2.56e+08      0.000    9.18e+14    9.18e+14\n",
       "month_dec                        2.829e+14   6.59e+06   4.29e+07      0.000    2.83e+14    2.83e+14\n",
       "month_jul                        1.808e+14   2.22e+06   8.16e+07      0.000    1.81e+14    1.81e+14\n",
       "month_jun                       -9.237e+14   3.53e+06  -2.62e+08      0.000   -9.24e+14   -9.24e+14\n",
       "month_mar                        3.628e+14   4.43e+06   8.19e+07      0.000    3.63e+14    3.63e+14\n",
       "month_may                        3.577e+14   2.08e+06   1.72e+08      0.000    3.58e+14    3.58e+14\n",
       "month_nov                        4.096e+14   2.69e+06   1.52e+08      0.000     4.1e+14     4.1e+14\n",
       "month_oct                       -3.518e+14   4.14e+06  -8.51e+07      0.000   -3.52e+14   -3.52e+14\n",
       "month_sep                        1.556e+15   5.09e+06   3.06e+08      0.000    1.56e+15    1.56e+15\n",
       "day_of_week_mon                 -3.088e+14   1.26e+06  -2.45e+08      0.000   -3.09e+14   -3.09e+14\n",
       "day_of_week_thu                  1.823e+14   1.26e+06   1.45e+08      0.000    1.82e+14    1.82e+14\n",
       "day_of_week_tue                  2.125e+14   1.28e+06   1.65e+08      0.000    2.12e+14    2.12e+14\n",
       "day_of_week_wed                  2.966e+14   1.27e+06   2.33e+08      0.000    2.97e+14    2.97e+14\n",
       "pdays_Contacted_in_first_10days  1.277e+14   6.13e+06   2.08e+07      0.000    1.28e+14    1.28e+14\n",
       "pdays_First_time_contacted       1.601e+14   7.86e+06   2.04e+07      0.000     1.6e+14     1.6e+14\n",
       "previous_More than_3_times       1.497e+14   8.79e+06    1.7e+07      0.000     1.5e+14     1.5e+14\n",
       "previous_Never contacted        -1.525e+25    1.7e+19  -8.99e+05      0.000   -1.52e+25   -1.52e+25\n",
       "poutcome_nonexistent             1.525e+25    1.7e+19   8.99e+05      0.000    1.52e+25    1.52e+25\n",
       "poutcome_success                 1.521e+14   7.14e+06   2.13e+07      0.000    1.52e+14    1.52e+14\n",
       "===================================================================================================\n",
       "\"\"\""
      ]
     },
     "execution_count": 117,
     "metadata": {},
     "output_type": "execute_result"
    }
   ],
   "source": [
    "# Fit a logistic Regression model on X_train after adding a constant and output the summary\n",
    "X_train_sm = sm.add_constant(X_train)\n",
    "logm1 = sm.GLM(y_train, X_train_sm, family = sm.families.Binomial())\n",
    "res = logm1.fit()\n",
    "res.summary()"
   ]
  },
  {
   "cell_type": "markdown",
   "metadata": {},
   "source": [
    "There are many features which are not significant and also there are 50 features, so let us do feature selection."
   ]
  },
  {
   "cell_type": "markdown",
   "metadata": {},
   "source": [
    "#### Feature selection using RFE:"
   ]
  },
  {
   "cell_type": "code",
   "execution_count": 118,
   "metadata": {},
   "outputs": [],
   "source": [
    "# Import RFE and select 20 variables\n",
    "from sklearn.feature_selection import RFE\n",
    "logreg = LogisticRegression(class_weight='balanced',random_state = 42)\n",
    "rfe = RFE(logreg, 20)             # running RFE with 20 variables as output\n",
    "rfe = rfe.fit(X_train, y_train)"
   ]
  },
  {
   "cell_type": "code",
   "execution_count": 119,
   "metadata": {},
   "outputs": [
    {
     "data": {
      "text/plain": [
       "[('age', False, 29),\n",
       " ('campaign', False, 16),\n",
       " ('emp.var.rate', True, 1),\n",
       " ('cons.price.idx', True, 1),\n",
       " ('cons.conf.idx', False, 12),\n",
       " ('euribor3m', True, 1),\n",
       " ('nr.employed', False, 11),\n",
       " ('job_blue-collar', False, 17),\n",
       " ('job_entrepreneur', False, 9),\n",
       " ('job_housemaid', False, 25),\n",
       " ('job_management', False, 10),\n",
       " ('job_retired', True, 1),\n",
       " ('job_self-employed', False, 31),\n",
       " ('job_services', False, 22),\n",
       " ('job_student', True, 1),\n",
       " ('job_technician', False, 28),\n",
       " ('job_unemployed', False, 19),\n",
       " ('job_unknown', False, 21),\n",
       " ('marital_married', False, 24),\n",
       " ('marital_single', False, 8),\n",
       " ('education_Secondary_Education', False, 27),\n",
       " ('education_Tertiary_Education', False, 6),\n",
       " ('education_professional.course', False, 23),\n",
       " ('education_unknown', False, 5),\n",
       " ('default_unknown', True, 1),\n",
       " ('default_yes', True, 1),\n",
       " ('housing_unknown', False, 3),\n",
       " ('housing_yes', False, 20),\n",
       " ('loan_unknown', False, 13),\n",
       " ('loan_yes', False, 26),\n",
       " ('contact_telephone', True, 1),\n",
       " ('month_aug', True, 1),\n",
       " ('month_dec', True, 1),\n",
       " ('month_jul', False, 15),\n",
       " ('month_jun', True, 1),\n",
       " ('month_mar', True, 1),\n",
       " ('month_may', True, 1),\n",
       " ('month_nov', True, 1),\n",
       " ('month_oct', False, 14),\n",
       " ('month_sep', True, 1),\n",
       " ('day_of_week_mon', False, 2),\n",
       " ('day_of_week_thu', False, 18),\n",
       " ('day_of_week_tue', False, 30),\n",
       " ('day_of_week_wed', False, 4),\n",
       " ('pdays_Contacted_in_first_10days', False, 7),\n",
       " ('pdays_First_time_contacted', True, 1),\n",
       " ('previous_More than_3_times', True, 1),\n",
       " ('previous_Never contacted', True, 1),\n",
       " ('poutcome_nonexistent', True, 1),\n",
       " ('poutcome_success', True, 1)]"
      ]
     },
     "execution_count": 119,
     "metadata": {},
     "output_type": "execute_result"
    }
   ],
   "source": [
    "# Let's take a look at which features have been selected by RFE\n",
    "list(zip(X_train.columns, rfe.support_, rfe.ranking_))"
   ]
  },
  {
   "cell_type": "code",
   "execution_count": 120,
   "metadata": {},
   "outputs": [
    {
     "data": {
      "text/plain": [
       "Index(['emp.var.rate', 'cons.price.idx', 'euribor3m', 'job_retired',\n",
       "       'job_student', 'default_unknown', 'default_yes', 'contact_telephone',\n",
       "       'month_aug', 'month_dec', 'month_jun', 'month_mar', 'month_may',\n",
       "       'month_nov', 'month_sep', 'pdays_First_time_contacted',\n",
       "       'previous_More than_3_times', 'previous_Never contacted',\n",
       "       'poutcome_nonexistent', 'poutcome_success'],\n",
       "      dtype='object')"
      ]
     },
     "execution_count": 120,
     "metadata": {},
     "output_type": "execute_result"
    }
   ],
   "source": [
    "# Put all the columns selected by RFE in the variable 'col'\n",
    "col = X_train.columns[rfe.support_]\n",
    "col"
   ]
  },
  {
   "cell_type": "markdown",
   "metadata": {},
   "source": [
    "Now we have variables selected by RFE and since we care about the statistics part, i.e. the p-values and the VIFs, \n",
    "let's use these variables to create a logistic regression model using statsmodels."
   ]
  },
  {
   "cell_type": "markdown",
   "metadata": {},
   "source": [
    "#### Model 1:"
   ]
  },
  {
   "cell_type": "code",
   "execution_count": 121,
   "metadata": {},
   "outputs": [],
   "source": [
    "# Select only the columns selected by RFE\n",
    "X_train = X_train[col]"
   ]
  },
  {
   "cell_type": "code",
   "execution_count": 122,
   "metadata": {},
   "outputs": [
    {
     "data": {
      "text/html": [
       "<table class=\"simpletable\">\n",
       "<caption>Generalized Linear Model Regression Results</caption>\n",
       "<tr>\n",
       "  <th>Dep. Variable:</th>      <td>response</td>     <th>  No. Observations:  </th>  <td> 28831</td>  \n",
       "</tr>\n",
       "<tr>\n",
       "  <th>Model:</th>                 <td>GLM</td>       <th>  Df Residuals:      </th>  <td> 28811</td>  \n",
       "</tr>\n",
       "<tr>\n",
       "  <th>Model Family:</th>       <td>Binomial</td>     <th>  Df Model:          </th>  <td>    19</td>  \n",
       "</tr>\n",
       "<tr>\n",
       "  <th>Link Function:</th>        <td>logit</td>      <th>  Scale:             </th> <td>  1.0000</td> \n",
       "</tr>\n",
       "<tr>\n",
       "  <th>Method:</th>               <td>IRLS</td>       <th>  Log-Likelihood:    </th> <td> -7980.6</td> \n",
       "</tr>\n",
       "<tr>\n",
       "  <th>Date:</th>           <td>Mon, 04 Nov 2019</td> <th>  Deviance:          </th> <td>  15961.</td> \n",
       "</tr>\n",
       "<tr>\n",
       "  <th>Time:</th>               <td>18:21:26</td>     <th>  Pearson chi2:      </th> <td>2.87e+04</td> \n",
       "</tr>\n",
       "<tr>\n",
       "  <th>No. Iterations:</th>        <td>19</td>        <th>  Covariance Type:   </th> <td>nonrobust</td>\n",
       "</tr>\n",
       "</table>\n",
       "<table class=\"simpletable\">\n",
       "<tr>\n",
       "               <td></td>                 <th>coef</th>     <th>std err</th>      <th>z</th>      <th>P>|z|</th>  <th>[0.025</th>    <th>0.975]</th>  \n",
       "</tr>\n",
       "<tr>\n",
       "  <th>const</th>                      <td>   -1.5338</td> <td>    0.217</td> <td>   -7.078</td> <td> 0.000</td> <td>   -1.958</td> <td>   -1.109</td>\n",
       "</tr>\n",
       "<tr>\n",
       "  <th>emp.var.rate</th>               <td>   -2.3782</td> <td>    0.150</td> <td>  -15.894</td> <td> 0.000</td> <td>   -2.672</td> <td>   -2.085</td>\n",
       "</tr>\n",
       "<tr>\n",
       "  <th>cons.price.idx</th>             <td>    0.9653</td> <td>    0.057</td> <td>   16.929</td> <td> 0.000</td> <td>    0.854</td> <td>    1.077</td>\n",
       "</tr>\n",
       "<tr>\n",
       "  <th>euribor3m</th>                  <td>    1.0020</td> <td>    0.125</td> <td>    8.040</td> <td> 0.000</td> <td>    0.758</td> <td>    1.246</td>\n",
       "</tr>\n",
       "<tr>\n",
       "  <th>job_retired</th>                <td>    0.3088</td> <td>    0.083</td> <td>    3.704</td> <td> 0.000</td> <td>    0.145</td> <td>    0.472</td>\n",
       "</tr>\n",
       "<tr>\n",
       "  <th>job_student</th>                <td>    0.3548</td> <td>    0.105</td> <td>    3.383</td> <td> 0.001</td> <td>    0.149</td> <td>    0.560</td>\n",
       "</tr>\n",
       "<tr>\n",
       "  <th>default_unknown</th>            <td>   -0.3183</td> <td>    0.068</td> <td>   -4.713</td> <td> 0.000</td> <td>   -0.451</td> <td>   -0.186</td>\n",
       "</tr>\n",
       "<tr>\n",
       "  <th>default_yes</th>                <td>  -17.5215</td> <td> 1.25e+04</td> <td>   -0.001</td> <td> 0.999</td> <td>-2.46e+04</td> <td> 2.45e+04</td>\n",
       "</tr>\n",
       "<tr>\n",
       "  <th>contact_telephone</th>          <td>   -0.5702</td> <td>    0.070</td> <td>   -8.190</td> <td> 0.000</td> <td>   -0.707</td> <td>   -0.434</td>\n",
       "</tr>\n",
       "<tr>\n",
       "  <th>month_aug</th>                  <td>    0.5358</td> <td>    0.080</td> <td>    6.737</td> <td> 0.000</td> <td>    0.380</td> <td>    0.692</td>\n",
       "</tr>\n",
       "<tr>\n",
       "  <th>month_dec</th>                  <td>    0.2602</td> <td>    0.200</td> <td>    1.299</td> <td> 0.194</td> <td>   -0.132</td> <td>    0.653</td>\n",
       "</tr>\n",
       "<tr>\n",
       "  <th>month_jun</th>                  <td>   -0.5426</td> <td>    0.084</td> <td>   -6.498</td> <td> 0.000</td> <td>   -0.706</td> <td>   -0.379</td>\n",
       "</tr>\n",
       "<tr>\n",
       "  <th>month_mar</th>                  <td>    1.3465</td> <td>    0.120</td> <td>   11.248</td> <td> 0.000</td> <td>    1.112</td> <td>    1.581</td>\n",
       "</tr>\n",
       "<tr>\n",
       "  <th>month_may</th>                  <td>   -0.4646</td> <td>    0.065</td> <td>   -7.150</td> <td> 0.000</td> <td>   -0.592</td> <td>   -0.337</td>\n",
       "</tr>\n",
       "<tr>\n",
       "  <th>month_nov</th>                  <td>   -0.5357</td> <td>    0.086</td> <td>   -6.212</td> <td> 0.000</td> <td>   -0.705</td> <td>   -0.367</td>\n",
       "</tr>\n",
       "<tr>\n",
       "  <th>month_sep</th>                  <td>    0.2943</td> <td>    0.118</td> <td>    2.497</td> <td> 0.013</td> <td>    0.063</td> <td>    0.525</td>\n",
       "</tr>\n",
       "<tr>\n",
       "  <th>pdays_First_time_contacted</th> <td>   -1.0075</td> <td>    0.217</td> <td>   -4.636</td> <td> 0.000</td> <td>   -1.433</td> <td>   -0.582</td>\n",
       "</tr>\n",
       "<tr>\n",
       "  <th>previous_More than_3_times</th> <td>   -0.3152</td> <td>    0.283</td> <td>   -1.114</td> <td> 0.265</td> <td>   -0.870</td> <td>    0.240</td>\n",
       "</tr>\n",
       "<tr>\n",
       "  <th>previous_Never contacted</th>   <td>    0.2408</td> <td>    0.034</td> <td>    7.174</td> <td> 0.000</td> <td>    0.175</td> <td>    0.307</td>\n",
       "</tr>\n",
       "<tr>\n",
       "  <th>poutcome_nonexistent</th>       <td>    0.2408</td> <td>    0.034</td> <td>    7.174</td> <td> 0.000</td> <td>    0.175</td> <td>    0.307</td>\n",
       "</tr>\n",
       "<tr>\n",
       "  <th>poutcome_success</th>           <td>    0.8579</td> <td>    0.219</td> <td>    3.914</td> <td> 0.000</td> <td>    0.428</td> <td>    1.287</td>\n",
       "</tr>\n",
       "</table>"
      ],
      "text/plain": [
       "<class 'statsmodels.iolib.summary.Summary'>\n",
       "\"\"\"\n",
       "                 Generalized Linear Model Regression Results                  \n",
       "==============================================================================\n",
       "Dep. Variable:               response   No. Observations:                28831\n",
       "Model:                            GLM   Df Residuals:                    28811\n",
       "Model Family:                Binomial   Df Model:                           19\n",
       "Link Function:                  logit   Scale:                          1.0000\n",
       "Method:                          IRLS   Log-Likelihood:                -7980.6\n",
       "Date:                Mon, 04 Nov 2019   Deviance:                       15961.\n",
       "Time:                        18:21:26   Pearson chi2:                 2.87e+04\n",
       "No. Iterations:                    19   Covariance Type:             nonrobust\n",
       "==============================================================================================\n",
       "                                 coef    std err          z      P>|z|      [0.025      0.975]\n",
       "----------------------------------------------------------------------------------------------\n",
       "const                         -1.5338      0.217     -7.078      0.000      -1.958      -1.109\n",
       "emp.var.rate                  -2.3782      0.150    -15.894      0.000      -2.672      -2.085\n",
       "cons.price.idx                 0.9653      0.057     16.929      0.000       0.854       1.077\n",
       "euribor3m                      1.0020      0.125      8.040      0.000       0.758       1.246\n",
       "job_retired                    0.3088      0.083      3.704      0.000       0.145       0.472\n",
       "job_student                    0.3548      0.105      3.383      0.001       0.149       0.560\n",
       "default_unknown               -0.3183      0.068     -4.713      0.000      -0.451      -0.186\n",
       "default_yes                  -17.5215   1.25e+04     -0.001      0.999   -2.46e+04    2.45e+04\n",
       "contact_telephone             -0.5702      0.070     -8.190      0.000      -0.707      -0.434\n",
       "month_aug                      0.5358      0.080      6.737      0.000       0.380       0.692\n",
       "month_dec                      0.2602      0.200      1.299      0.194      -0.132       0.653\n",
       "month_jun                     -0.5426      0.084     -6.498      0.000      -0.706      -0.379\n",
       "month_mar                      1.3465      0.120     11.248      0.000       1.112       1.581\n",
       "month_may                     -0.4646      0.065     -7.150      0.000      -0.592      -0.337\n",
       "month_nov                     -0.5357      0.086     -6.212      0.000      -0.705      -0.367\n",
       "month_sep                      0.2943      0.118      2.497      0.013       0.063       0.525\n",
       "pdays_First_time_contacted    -1.0075      0.217     -4.636      0.000      -1.433      -0.582\n",
       "previous_More than_3_times    -0.3152      0.283     -1.114      0.265      -0.870       0.240\n",
       "previous_Never contacted       0.2408      0.034      7.174      0.000       0.175       0.307\n",
       "poutcome_nonexistent           0.2408      0.034      7.174      0.000       0.175       0.307\n",
       "poutcome_success               0.8579      0.219      3.914      0.000       0.428       1.287\n",
       "==============================================================================================\n",
       "\"\"\""
      ]
     },
     "execution_count": 122,
     "metadata": {},
     "output_type": "execute_result"
    }
   ],
   "source": [
    "# Fit a logistic Regression model on X_train after adding a constant and output the summary\n",
    "\n",
    "X_train_sm = sm.add_constant(X_train)\n",
    "model_1 = sm.GLM(y_train, X_train_sm, family = sm.families.Binomial())\n",
    "res = model_1.fit()\n",
    "res.summary()"
   ]
  },
  {
   "cell_type": "markdown",
   "metadata": {},
   "source": [
    "There are quite a few variable which have a p-value greater than 0.05. We will need to take care of them. But first, let's also look at the VIFs."
   ]
  },
  {
   "cell_type": "code",
   "execution_count": 123,
   "metadata": {},
   "outputs": [
    {
     "data": {
      "text/html": [
       "<div>\n",
       "<style scoped>\n",
       "    .dataframe tbody tr th:only-of-type {\n",
       "        vertical-align: middle;\n",
       "    }\n",
       "\n",
       "    .dataframe tbody tr th {\n",
       "        vertical-align: top;\n",
       "    }\n",
       "\n",
       "    .dataframe thead th {\n",
       "        text-align: right;\n",
       "    }\n",
       "</style>\n",
       "<table border=\"1\" class=\"dataframe\">\n",
       "  <thead>\n",
       "    <tr style=\"text-align: right;\">\n",
       "      <th></th>\n",
       "      <th>Features</th>\n",
       "      <th>VIF</th>\n",
       "    </tr>\n",
       "  </thead>\n",
       "  <tbody>\n",
       "    <tr>\n",
       "      <th>18</th>\n",
       "      <td>poutcome_nonexistent</td>\n",
       "      <td>inf</td>\n",
       "    </tr>\n",
       "    <tr>\n",
       "      <th>17</th>\n",
       "      <td>previous_Never contacted</td>\n",
       "      <td>inf</td>\n",
       "    </tr>\n",
       "    <tr>\n",
       "      <th>0</th>\n",
       "      <td>emp.var.rate</td>\n",
       "      <td>76.33</td>\n",
       "    </tr>\n",
       "    <tr>\n",
       "      <th>2</th>\n",
       "      <td>euribor3m</td>\n",
       "      <td>48.29</td>\n",
       "    </tr>\n",
       "    <tr>\n",
       "      <th>15</th>\n",
       "      <td>pdays_First_time_contacted</td>\n",
       "      <td>15.21</td>\n",
       "    </tr>\n",
       "    <tr>\n",
       "      <th>1</th>\n",
       "      <td>cons.price.idx</td>\n",
       "      <td>11.49</td>\n",
       "    </tr>\n",
       "    <tr>\n",
       "      <th>7</th>\n",
       "      <td>contact_telephone</td>\n",
       "      <td>4.81</td>\n",
       "    </tr>\n",
       "    <tr>\n",
       "      <th>12</th>\n",
       "      <td>month_may</td>\n",
       "      <td>3.49</td>\n",
       "    </tr>\n",
       "    <tr>\n",
       "      <th>8</th>\n",
       "      <td>month_aug</td>\n",
       "      <td>2.60</td>\n",
       "    </tr>\n",
       "    <tr>\n",
       "      <th>10</th>\n",
       "      <td>month_jun</td>\n",
       "      <td>2.39</td>\n",
       "    </tr>\n",
       "    <tr>\n",
       "      <th>13</th>\n",
       "      <td>month_nov</td>\n",
       "      <td>1.97</td>\n",
       "    </tr>\n",
       "    <tr>\n",
       "      <th>5</th>\n",
       "      <td>default_unknown</td>\n",
       "      <td>1.34</td>\n",
       "    </tr>\n",
       "    <tr>\n",
       "      <th>19</th>\n",
       "      <td>poutcome_success</td>\n",
       "      <td>1.33</td>\n",
       "    </tr>\n",
       "    <tr>\n",
       "      <th>11</th>\n",
       "      <td>month_mar</td>\n",
       "      <td>1.13</td>\n",
       "    </tr>\n",
       "    <tr>\n",
       "      <th>14</th>\n",
       "      <td>month_sep</td>\n",
       "      <td>1.13</td>\n",
       "    </tr>\n",
       "    <tr>\n",
       "      <th>3</th>\n",
       "      <td>job_retired</td>\n",
       "      <td>1.09</td>\n",
       "    </tr>\n",
       "    <tr>\n",
       "      <th>9</th>\n",
       "      <td>month_dec</td>\n",
       "      <td>1.06</td>\n",
       "    </tr>\n",
       "    <tr>\n",
       "      <th>16</th>\n",
       "      <td>previous_More than_3_times</td>\n",
       "      <td>1.06</td>\n",
       "    </tr>\n",
       "    <tr>\n",
       "      <th>4</th>\n",
       "      <td>job_student</td>\n",
       "      <td>1.06</td>\n",
       "    </tr>\n",
       "    <tr>\n",
       "      <th>6</th>\n",
       "      <td>default_yes</td>\n",
       "      <td>1.00</td>\n",
       "    </tr>\n",
       "  </tbody>\n",
       "</table>\n",
       "</div>"
      ],
      "text/plain": [
       "                      Features    VIF\n",
       "18        poutcome_nonexistent    inf\n",
       "17    previous_Never contacted    inf\n",
       "0                 emp.var.rate  76.33\n",
       "2                    euribor3m  48.29\n",
       "15  pdays_First_time_contacted  15.21\n",
       "1               cons.price.idx  11.49\n",
       "7            contact_telephone   4.81\n",
       "12                   month_may   3.49\n",
       "8                    month_aug   2.60\n",
       "10                   month_jun   2.39\n",
       "13                   month_nov   1.97\n",
       "5              default_unknown   1.34\n",
       "19            poutcome_success   1.33\n",
       "11                   month_mar   1.13\n",
       "14                   month_sep   1.13\n",
       "3                  job_retired   1.09\n",
       "9                    month_dec   1.06\n",
       "16  previous_More than_3_times   1.06\n",
       "4                  job_student   1.06\n",
       "6                  default_yes   1.00"
      ]
     },
     "execution_count": 123,
     "metadata": {},
     "output_type": "execute_result"
    }
   ],
   "source": [
    "# Make a VIF dataframe for all the variables present\n",
    "vif = pd.DataFrame()\n",
    "vif['Features'] = X_train.columns\n",
    "vif['VIF'] = [variance_inflation_factor(X_train.values, i) for i in range(X_train.shape[1])]\n",
    "vif['VIF'] = round(vif['VIF'], 2)\n",
    "vif = vif.sort_values(by = \"VIF\", ascending = False)\n",
    "vif"
   ]
  },
  {
   "cell_type": "markdown",
   "metadata": {},
   "source": [
    "Let's first drop the variable `poutcome_nonexistent` since it has a high p-value as well as a high VIF."
   ]
  },
  {
   "cell_type": "code",
   "execution_count": 124,
   "metadata": {},
   "outputs": [],
   "source": [
    "X_train.drop('poutcome_nonexistent', axis = 1, inplace = True)"
   ]
  },
  {
   "cell_type": "markdown",
   "metadata": {},
   "source": [
    "#### Model 2:"
   ]
  },
  {
   "cell_type": "code",
   "execution_count": 125,
   "metadata": {},
   "outputs": [
    {
     "data": {
      "text/html": [
       "<table class=\"simpletable\">\n",
       "<caption>Generalized Linear Model Regression Results</caption>\n",
       "<tr>\n",
       "  <th>Dep. Variable:</th>      <td>response</td>     <th>  No. Observations:  </th>  <td> 28831</td>  \n",
       "</tr>\n",
       "<tr>\n",
       "  <th>Model:</th>                 <td>GLM</td>       <th>  Df Residuals:      </th>  <td> 28811</td>  \n",
       "</tr>\n",
       "<tr>\n",
       "  <th>Model Family:</th>       <td>Binomial</td>     <th>  Df Model:          </th>  <td>    19</td>  \n",
       "</tr>\n",
       "<tr>\n",
       "  <th>Link Function:</th>        <td>logit</td>      <th>  Scale:             </th> <td>  1.0000</td> \n",
       "</tr>\n",
       "<tr>\n",
       "  <th>Method:</th>               <td>IRLS</td>       <th>  Log-Likelihood:    </th> <td> -7980.6</td> \n",
       "</tr>\n",
       "<tr>\n",
       "  <th>Date:</th>           <td>Mon, 04 Nov 2019</td> <th>  Deviance:          </th> <td>  15961.</td> \n",
       "</tr>\n",
       "<tr>\n",
       "  <th>Time:</th>               <td>18:21:31</td>     <th>  Pearson chi2:      </th> <td>2.87e+04</td> \n",
       "</tr>\n",
       "<tr>\n",
       "  <th>No. Iterations:</th>        <td>19</td>        <th>  Covariance Type:   </th> <td>nonrobust</td>\n",
       "</tr>\n",
       "</table>\n",
       "<table class=\"simpletable\">\n",
       "<tr>\n",
       "               <td></td>                 <th>coef</th>     <th>std err</th>      <th>z</th>      <th>P>|z|</th>  <th>[0.025</th>    <th>0.975]</th>  \n",
       "</tr>\n",
       "<tr>\n",
       "  <th>const</th>                      <td>   -1.5338</td> <td>    0.217</td> <td>   -7.078</td> <td> 0.000</td> <td>   -1.958</td> <td>   -1.109</td>\n",
       "</tr>\n",
       "<tr>\n",
       "  <th>emp.var.rate</th>               <td>   -2.3782</td> <td>    0.150</td> <td>  -15.894</td> <td> 0.000</td> <td>   -2.672</td> <td>   -2.085</td>\n",
       "</tr>\n",
       "<tr>\n",
       "  <th>cons.price.idx</th>             <td>    0.9653</td> <td>    0.057</td> <td>   16.929</td> <td> 0.000</td> <td>    0.854</td> <td>    1.077</td>\n",
       "</tr>\n",
       "<tr>\n",
       "  <th>euribor3m</th>                  <td>    1.0020</td> <td>    0.125</td> <td>    8.040</td> <td> 0.000</td> <td>    0.758</td> <td>    1.246</td>\n",
       "</tr>\n",
       "<tr>\n",
       "  <th>job_retired</th>                <td>    0.3088</td> <td>    0.083</td> <td>    3.704</td> <td> 0.000</td> <td>    0.145</td> <td>    0.472</td>\n",
       "</tr>\n",
       "<tr>\n",
       "  <th>job_student</th>                <td>    0.3548</td> <td>    0.105</td> <td>    3.383</td> <td> 0.001</td> <td>    0.149</td> <td>    0.560</td>\n",
       "</tr>\n",
       "<tr>\n",
       "  <th>default_unknown</th>            <td>   -0.3183</td> <td>    0.068</td> <td>   -4.713</td> <td> 0.000</td> <td>   -0.451</td> <td>   -0.186</td>\n",
       "</tr>\n",
       "<tr>\n",
       "  <th>default_yes</th>                <td>  -17.5215</td> <td> 1.25e+04</td> <td>   -0.001</td> <td> 0.999</td> <td>-2.46e+04</td> <td> 2.45e+04</td>\n",
       "</tr>\n",
       "<tr>\n",
       "  <th>contact_telephone</th>          <td>   -0.5702</td> <td>    0.070</td> <td>   -8.190</td> <td> 0.000</td> <td>   -0.707</td> <td>   -0.434</td>\n",
       "</tr>\n",
       "<tr>\n",
       "  <th>month_aug</th>                  <td>    0.5358</td> <td>    0.080</td> <td>    6.737</td> <td> 0.000</td> <td>    0.380</td> <td>    0.692</td>\n",
       "</tr>\n",
       "<tr>\n",
       "  <th>month_dec</th>                  <td>    0.2602</td> <td>    0.200</td> <td>    1.299</td> <td> 0.194</td> <td>   -0.132</td> <td>    0.653</td>\n",
       "</tr>\n",
       "<tr>\n",
       "  <th>month_jun</th>                  <td>   -0.5426</td> <td>    0.084</td> <td>   -6.498</td> <td> 0.000</td> <td>   -0.706</td> <td>   -0.379</td>\n",
       "</tr>\n",
       "<tr>\n",
       "  <th>month_mar</th>                  <td>    1.3465</td> <td>    0.120</td> <td>   11.248</td> <td> 0.000</td> <td>    1.112</td> <td>    1.581</td>\n",
       "</tr>\n",
       "<tr>\n",
       "  <th>month_may</th>                  <td>   -0.4646</td> <td>    0.065</td> <td>   -7.150</td> <td> 0.000</td> <td>   -0.592</td> <td>   -0.337</td>\n",
       "</tr>\n",
       "<tr>\n",
       "  <th>month_nov</th>                  <td>   -0.5357</td> <td>    0.086</td> <td>   -6.212</td> <td> 0.000</td> <td>   -0.705</td> <td>   -0.367</td>\n",
       "</tr>\n",
       "<tr>\n",
       "  <th>month_sep</th>                  <td>    0.2943</td> <td>    0.118</td> <td>    2.497</td> <td> 0.013</td> <td>    0.063</td> <td>    0.525</td>\n",
       "</tr>\n",
       "<tr>\n",
       "  <th>pdays_First_time_contacted</th> <td>   -1.0075</td> <td>    0.217</td> <td>   -4.636</td> <td> 0.000</td> <td>   -1.433</td> <td>   -0.582</td>\n",
       "</tr>\n",
       "<tr>\n",
       "  <th>previous_More than_3_times</th> <td>   -0.3152</td> <td>    0.283</td> <td>   -1.114</td> <td> 0.265</td> <td>   -0.870</td> <td>    0.240</td>\n",
       "</tr>\n",
       "<tr>\n",
       "  <th>previous_Never contacted</th>   <td>    0.4817</td> <td>    0.067</td> <td>    7.174</td> <td> 0.000</td> <td>    0.350</td> <td>    0.613</td>\n",
       "</tr>\n",
       "<tr>\n",
       "  <th>poutcome_success</th>           <td>    0.8579</td> <td>    0.219</td> <td>    3.914</td> <td> 0.000</td> <td>    0.428</td> <td>    1.287</td>\n",
       "</tr>\n",
       "</table>"
      ],
      "text/plain": [
       "<class 'statsmodels.iolib.summary.Summary'>\n",
       "\"\"\"\n",
       "                 Generalized Linear Model Regression Results                  \n",
       "==============================================================================\n",
       "Dep. Variable:               response   No. Observations:                28831\n",
       "Model:                            GLM   Df Residuals:                    28811\n",
       "Model Family:                Binomial   Df Model:                           19\n",
       "Link Function:                  logit   Scale:                          1.0000\n",
       "Method:                          IRLS   Log-Likelihood:                -7980.6\n",
       "Date:                Mon, 04 Nov 2019   Deviance:                       15961.\n",
       "Time:                        18:21:31   Pearson chi2:                 2.87e+04\n",
       "No. Iterations:                    19   Covariance Type:             nonrobust\n",
       "==============================================================================================\n",
       "                                 coef    std err          z      P>|z|      [0.025      0.975]\n",
       "----------------------------------------------------------------------------------------------\n",
       "const                         -1.5338      0.217     -7.078      0.000      -1.958      -1.109\n",
       "emp.var.rate                  -2.3782      0.150    -15.894      0.000      -2.672      -2.085\n",
       "cons.price.idx                 0.9653      0.057     16.929      0.000       0.854       1.077\n",
       "euribor3m                      1.0020      0.125      8.040      0.000       0.758       1.246\n",
       "job_retired                    0.3088      0.083      3.704      0.000       0.145       0.472\n",
       "job_student                    0.3548      0.105      3.383      0.001       0.149       0.560\n",
       "default_unknown               -0.3183      0.068     -4.713      0.000      -0.451      -0.186\n",
       "default_yes                  -17.5215   1.25e+04     -0.001      0.999   -2.46e+04    2.45e+04\n",
       "contact_telephone             -0.5702      0.070     -8.190      0.000      -0.707      -0.434\n",
       "month_aug                      0.5358      0.080      6.737      0.000       0.380       0.692\n",
       "month_dec                      0.2602      0.200      1.299      0.194      -0.132       0.653\n",
       "month_jun                     -0.5426      0.084     -6.498      0.000      -0.706      -0.379\n",
       "month_mar                      1.3465      0.120     11.248      0.000       1.112       1.581\n",
       "month_may                     -0.4646      0.065     -7.150      0.000      -0.592      -0.337\n",
       "month_nov                     -0.5357      0.086     -6.212      0.000      -0.705      -0.367\n",
       "month_sep                      0.2943      0.118      2.497      0.013       0.063       0.525\n",
       "pdays_First_time_contacted    -1.0075      0.217     -4.636      0.000      -1.433      -0.582\n",
       "previous_More than_3_times    -0.3152      0.283     -1.114      0.265      -0.870       0.240\n",
       "previous_Never contacted       0.4817      0.067      7.174      0.000       0.350       0.613\n",
       "poutcome_success               0.8579      0.219      3.914      0.000       0.428       1.287\n",
       "==============================================================================================\n",
       "\"\"\""
      ]
     },
     "execution_count": 125,
     "metadata": {},
     "output_type": "execute_result"
    }
   ],
   "source": [
    "# Refit the model with the new set of features\n",
    "model_2 = sm.GLM(y_train,(sm.add_constant(X_train)), family = sm.families.Binomial())\n",
    "model_2.fit().summary()"
   ]
  },
  {
   "cell_type": "code",
   "execution_count": 126,
   "metadata": {},
   "outputs": [
    {
     "data": {
      "text/html": [
       "<div>\n",
       "<style scoped>\n",
       "    .dataframe tbody tr th:only-of-type {\n",
       "        vertical-align: middle;\n",
       "    }\n",
       "\n",
       "    .dataframe tbody tr th {\n",
       "        vertical-align: top;\n",
       "    }\n",
       "\n",
       "    .dataframe thead th {\n",
       "        text-align: right;\n",
       "    }\n",
       "</style>\n",
       "<table border=\"1\" class=\"dataframe\">\n",
       "  <thead>\n",
       "    <tr style=\"text-align: right;\">\n",
       "      <th></th>\n",
       "      <th>Features</th>\n",
       "      <th>VIF</th>\n",
       "    </tr>\n",
       "  </thead>\n",
       "  <tbody>\n",
       "    <tr>\n",
       "      <th>0</th>\n",
       "      <td>emp.var.rate</td>\n",
       "      <td>76.33</td>\n",
       "    </tr>\n",
       "    <tr>\n",
       "      <th>2</th>\n",
       "      <td>euribor3m</td>\n",
       "      <td>51.42</td>\n",
       "    </tr>\n",
       "    <tr>\n",
       "      <th>15</th>\n",
       "      <td>pdays_First_time_contacted</td>\n",
       "      <td>15.22</td>\n",
       "    </tr>\n",
       "    <tr>\n",
       "      <th>17</th>\n",
       "      <td>previous_Never contacted</td>\n",
       "      <td>11.93</td>\n",
       "    </tr>\n",
       "    <tr>\n",
       "      <th>1</th>\n",
       "      <td>cons.price.idx</td>\n",
       "      <td>11.59</td>\n",
       "    </tr>\n",
       "    <tr>\n",
       "      <th>7</th>\n",
       "      <td>contact_telephone</td>\n",
       "      <td>4.81</td>\n",
       "    </tr>\n",
       "    <tr>\n",
       "      <th>12</th>\n",
       "      <td>month_may</td>\n",
       "      <td>3.49</td>\n",
       "    </tr>\n",
       "    <tr>\n",
       "      <th>8</th>\n",
       "      <td>month_aug</td>\n",
       "      <td>2.60</td>\n",
       "    </tr>\n",
       "    <tr>\n",
       "      <th>10</th>\n",
       "      <td>month_jun</td>\n",
       "      <td>2.39</td>\n",
       "    </tr>\n",
       "    <tr>\n",
       "      <th>13</th>\n",
       "      <td>month_nov</td>\n",
       "      <td>1.97</td>\n",
       "    </tr>\n",
       "    <tr>\n",
       "      <th>5</th>\n",
       "      <td>default_unknown</td>\n",
       "      <td>1.34</td>\n",
       "    </tr>\n",
       "    <tr>\n",
       "      <th>18</th>\n",
       "      <td>poutcome_success</td>\n",
       "      <td>1.33</td>\n",
       "    </tr>\n",
       "    <tr>\n",
       "      <th>11</th>\n",
       "      <td>month_mar</td>\n",
       "      <td>1.13</td>\n",
       "    </tr>\n",
       "    <tr>\n",
       "      <th>14</th>\n",
       "      <td>month_sep</td>\n",
       "      <td>1.13</td>\n",
       "    </tr>\n",
       "    <tr>\n",
       "      <th>3</th>\n",
       "      <td>job_retired</td>\n",
       "      <td>1.09</td>\n",
       "    </tr>\n",
       "    <tr>\n",
       "      <th>4</th>\n",
       "      <td>job_student</td>\n",
       "      <td>1.06</td>\n",
       "    </tr>\n",
       "    <tr>\n",
       "      <th>16</th>\n",
       "      <td>previous_More than_3_times</td>\n",
       "      <td>1.06</td>\n",
       "    </tr>\n",
       "    <tr>\n",
       "      <th>9</th>\n",
       "      <td>month_dec</td>\n",
       "      <td>1.06</td>\n",
       "    </tr>\n",
       "    <tr>\n",
       "      <th>6</th>\n",
       "      <td>default_yes</td>\n",
       "      <td>1.00</td>\n",
       "    </tr>\n",
       "  </tbody>\n",
       "</table>\n",
       "</div>"
      ],
      "text/plain": [
       "                      Features    VIF\n",
       "0                 emp.var.rate  76.33\n",
       "2                    euribor3m  51.42\n",
       "15  pdays_First_time_contacted  15.22\n",
       "17    previous_Never contacted  11.93\n",
       "1               cons.price.idx  11.59\n",
       "7            contact_telephone   4.81\n",
       "12                   month_may   3.49\n",
       "8                    month_aug   2.60\n",
       "10                   month_jun   2.39\n",
       "13                   month_nov   1.97\n",
       "5              default_unknown   1.34\n",
       "18            poutcome_success   1.33\n",
       "11                   month_mar   1.13\n",
       "14                   month_sep   1.13\n",
       "3                  job_retired   1.09\n",
       "4                  job_student   1.06\n",
       "16  previous_More than_3_times   1.06\n",
       "9                    month_dec   1.06\n",
       "6                  default_yes   1.00"
      ]
     },
     "execution_count": 126,
     "metadata": {},
     "output_type": "execute_result"
    }
   ],
   "source": [
    "#calculating vif\n",
    "vif = pd.DataFrame()\n",
    "vif['Features'] = X_train.columns\n",
    "vif['VIF'] = [variance_inflation_factor(X_train.values, i) for i in range(X_train.shape[1])]\n",
    "vif['VIF'] = round(vif['VIF'], 2)\n",
    "vif = vif.sort_values(by = \"VIF\", ascending = False)\n",
    "vif"
   ]
  },
  {
   "cell_type": "markdown",
   "metadata": {},
   "source": [
    "Let's drop the variable `default_yes` since it has a high pvalue."
   ]
  },
  {
   "cell_type": "code",
   "execution_count": 127,
   "metadata": {},
   "outputs": [],
   "source": [
    "X_train.drop('default_yes', axis = 1, inplace = True)"
   ]
  },
  {
   "cell_type": "markdown",
   "metadata": {},
   "source": [
    "\n",
    "#### Model 3:"
   ]
  },
  {
   "cell_type": "code",
   "execution_count": 128,
   "metadata": {},
   "outputs": [
    {
     "data": {
      "text/html": [
       "<table class=\"simpletable\">\n",
       "<caption>Generalized Linear Model Regression Results</caption>\n",
       "<tr>\n",
       "  <th>Dep. Variable:</th>      <td>response</td>     <th>  No. Observations:  </th>  <td> 28831</td>  \n",
       "</tr>\n",
       "<tr>\n",
       "  <th>Model:</th>                 <td>GLM</td>       <th>  Df Residuals:      </th>  <td> 28812</td>  \n",
       "</tr>\n",
       "<tr>\n",
       "  <th>Model Family:</th>       <td>Binomial</td>     <th>  Df Model:          </th>  <td>    18</td>  \n",
       "</tr>\n",
       "<tr>\n",
       "  <th>Link Function:</th>        <td>logit</td>      <th>  Scale:             </th> <td>  1.0000</td> \n",
       "</tr>\n",
       "<tr>\n",
       "  <th>Method:</th>               <td>IRLS</td>       <th>  Log-Likelihood:    </th> <td> -7980.7</td> \n",
       "</tr>\n",
       "<tr>\n",
       "  <th>Date:</th>           <td>Mon, 04 Nov 2019</td> <th>  Deviance:          </th> <td>  15961.</td> \n",
       "</tr>\n",
       "<tr>\n",
       "  <th>Time:</th>               <td>18:21:33</td>     <th>  Pearson chi2:      </th> <td>2.87e+04</td> \n",
       "</tr>\n",
       "<tr>\n",
       "  <th>No. Iterations:</th>         <td>6</td>        <th>  Covariance Type:   </th> <td>nonrobust</td>\n",
       "</tr>\n",
       "</table>\n",
       "<table class=\"simpletable\">\n",
       "<tr>\n",
       "               <td></td>                 <th>coef</th>     <th>std err</th>      <th>z</th>      <th>P>|z|</th>  <th>[0.025</th>    <th>0.975]</th>  \n",
       "</tr>\n",
       "<tr>\n",
       "  <th>const</th>                      <td>   -1.5338</td> <td>    0.217</td> <td>   -7.078</td> <td> 0.000</td> <td>   -1.959</td> <td>   -1.109</td>\n",
       "</tr>\n",
       "<tr>\n",
       "  <th>emp.var.rate</th>               <td>   -2.3783</td> <td>    0.150</td> <td>  -15.894</td> <td> 0.000</td> <td>   -2.672</td> <td>   -2.085</td>\n",
       "</tr>\n",
       "<tr>\n",
       "  <th>cons.price.idx</th>             <td>    0.9653</td> <td>    0.057</td> <td>   16.930</td> <td> 0.000</td> <td>    0.854</td> <td>    1.077</td>\n",
       "</tr>\n",
       "<tr>\n",
       "  <th>euribor3m</th>                  <td>    1.0020</td> <td>    0.125</td> <td>    8.040</td> <td> 0.000</td> <td>    0.758</td> <td>    1.246</td>\n",
       "</tr>\n",
       "<tr>\n",
       "  <th>job_retired</th>                <td>    0.3089</td> <td>    0.083</td> <td>    3.704</td> <td> 0.000</td> <td>    0.145</td> <td>    0.472</td>\n",
       "</tr>\n",
       "<tr>\n",
       "  <th>job_student</th>                <td>    0.3548</td> <td>    0.105</td> <td>    3.383</td> <td> 0.001</td> <td>    0.149</td> <td>    0.560</td>\n",
       "</tr>\n",
       "<tr>\n",
       "  <th>default_unknown</th>            <td>   -0.3182</td> <td>    0.068</td> <td>   -4.712</td> <td> 0.000</td> <td>   -0.451</td> <td>   -0.186</td>\n",
       "</tr>\n",
       "<tr>\n",
       "  <th>contact_telephone</th>          <td>   -0.5702</td> <td>    0.070</td> <td>   -8.190</td> <td> 0.000</td> <td>   -0.707</td> <td>   -0.434</td>\n",
       "</tr>\n",
       "<tr>\n",
       "  <th>month_aug</th>                  <td>    0.5357</td> <td>    0.080</td> <td>    6.736</td> <td> 0.000</td> <td>    0.380</td> <td>    0.692</td>\n",
       "</tr>\n",
       "<tr>\n",
       "  <th>month_dec</th>                  <td>    0.2601</td> <td>    0.200</td> <td>    1.299</td> <td> 0.194</td> <td>   -0.132</td> <td>    0.653</td>\n",
       "</tr>\n",
       "<tr>\n",
       "  <th>month_jun</th>                  <td>   -0.5426</td> <td>    0.084</td> <td>   -6.498</td> <td> 0.000</td> <td>   -0.706</td> <td>   -0.379</td>\n",
       "</tr>\n",
       "<tr>\n",
       "  <th>month_mar</th>                  <td>    1.3465</td> <td>    0.120</td> <td>   11.248</td> <td> 0.000</td> <td>    1.112</td> <td>    1.581</td>\n",
       "</tr>\n",
       "<tr>\n",
       "  <th>month_may</th>                  <td>   -0.4646</td> <td>    0.065</td> <td>   -7.150</td> <td> 0.000</td> <td>   -0.592</td> <td>   -0.337</td>\n",
       "</tr>\n",
       "<tr>\n",
       "  <th>month_nov</th>                  <td>   -0.5359</td> <td>    0.086</td> <td>   -6.214</td> <td> 0.000</td> <td>   -0.705</td> <td>   -0.367</td>\n",
       "</tr>\n",
       "<tr>\n",
       "  <th>month_sep</th>                  <td>    0.2942</td> <td>    0.118</td> <td>    2.496</td> <td> 0.013</td> <td>    0.063</td> <td>    0.525</td>\n",
       "</tr>\n",
       "<tr>\n",
       "  <th>pdays_First_time_contacted</th> <td>   -1.0076</td> <td>    0.217</td> <td>   -4.637</td> <td> 0.000</td> <td>   -1.434</td> <td>   -0.582</td>\n",
       "</tr>\n",
       "<tr>\n",
       "  <th>previous_More than_3_times</th> <td>   -0.3152</td> <td>    0.283</td> <td>   -1.114</td> <td> 0.265</td> <td>   -0.870</td> <td>    0.240</td>\n",
       "</tr>\n",
       "<tr>\n",
       "  <th>previous_Never contacted</th>   <td>    0.4818</td> <td>    0.067</td> <td>    7.176</td> <td> 0.000</td> <td>    0.350</td> <td>    0.613</td>\n",
       "</tr>\n",
       "<tr>\n",
       "  <th>poutcome_success</th>           <td>    0.8579</td> <td>    0.219</td> <td>    3.914</td> <td> 0.000</td> <td>    0.428</td> <td>    1.287</td>\n",
       "</tr>\n",
       "</table>"
      ],
      "text/plain": [
       "<class 'statsmodels.iolib.summary.Summary'>\n",
       "\"\"\"\n",
       "                 Generalized Linear Model Regression Results                  \n",
       "==============================================================================\n",
       "Dep. Variable:               response   No. Observations:                28831\n",
       "Model:                            GLM   Df Residuals:                    28812\n",
       "Model Family:                Binomial   Df Model:                           18\n",
       "Link Function:                  logit   Scale:                          1.0000\n",
       "Method:                          IRLS   Log-Likelihood:                -7980.7\n",
       "Date:                Mon, 04 Nov 2019   Deviance:                       15961.\n",
       "Time:                        18:21:33   Pearson chi2:                 2.87e+04\n",
       "No. Iterations:                     6   Covariance Type:             nonrobust\n",
       "==============================================================================================\n",
       "                                 coef    std err          z      P>|z|      [0.025      0.975]\n",
       "----------------------------------------------------------------------------------------------\n",
       "const                         -1.5338      0.217     -7.078      0.000      -1.959      -1.109\n",
       "emp.var.rate                  -2.3783      0.150    -15.894      0.000      -2.672      -2.085\n",
       "cons.price.idx                 0.9653      0.057     16.930      0.000       0.854       1.077\n",
       "euribor3m                      1.0020      0.125      8.040      0.000       0.758       1.246\n",
       "job_retired                    0.3089      0.083      3.704      0.000       0.145       0.472\n",
       "job_student                    0.3548      0.105      3.383      0.001       0.149       0.560\n",
       "default_unknown               -0.3182      0.068     -4.712      0.000      -0.451      -0.186\n",
       "contact_telephone             -0.5702      0.070     -8.190      0.000      -0.707      -0.434\n",
       "month_aug                      0.5357      0.080      6.736      0.000       0.380       0.692\n",
       "month_dec                      0.2601      0.200      1.299      0.194      -0.132       0.653\n",
       "month_jun                     -0.5426      0.084     -6.498      0.000      -0.706      -0.379\n",
       "month_mar                      1.3465      0.120     11.248      0.000       1.112       1.581\n",
       "month_may                     -0.4646      0.065     -7.150      0.000      -0.592      -0.337\n",
       "month_nov                     -0.5359      0.086     -6.214      0.000      -0.705      -0.367\n",
       "month_sep                      0.2942      0.118      2.496      0.013       0.063       0.525\n",
       "pdays_First_time_contacted    -1.0076      0.217     -4.637      0.000      -1.434      -0.582\n",
       "previous_More than_3_times    -0.3152      0.283     -1.114      0.265      -0.870       0.240\n",
       "previous_Never contacted       0.4818      0.067      7.176      0.000       0.350       0.613\n",
       "poutcome_success               0.8579      0.219      3.914      0.000       0.428       1.287\n",
       "==============================================================================================\n",
       "\"\"\""
      ]
     },
     "execution_count": 128,
     "metadata": {},
     "output_type": "execute_result"
    }
   ],
   "source": [
    "# Refit the model with the new set of features\n",
    "model_3 = sm.GLM(y_train,(sm.add_constant(X_train)), family = sm.families.Binomial())\n",
    "model_3.fit().summary()"
   ]
  },
  {
   "cell_type": "code",
   "execution_count": 129,
   "metadata": {},
   "outputs": [
    {
     "data": {
      "text/html": [
       "<div>\n",
       "<style scoped>\n",
       "    .dataframe tbody tr th:only-of-type {\n",
       "        vertical-align: middle;\n",
       "    }\n",
       "\n",
       "    .dataframe tbody tr th {\n",
       "        vertical-align: top;\n",
       "    }\n",
       "\n",
       "    .dataframe thead th {\n",
       "        text-align: right;\n",
       "    }\n",
       "</style>\n",
       "<table border=\"1\" class=\"dataframe\">\n",
       "  <thead>\n",
       "    <tr style=\"text-align: right;\">\n",
       "      <th></th>\n",
       "      <th>Features</th>\n",
       "      <th>VIF</th>\n",
       "    </tr>\n",
       "  </thead>\n",
       "  <tbody>\n",
       "    <tr>\n",
       "      <th>0</th>\n",
       "      <td>emp.var.rate</td>\n",
       "      <td>76.33</td>\n",
       "    </tr>\n",
       "    <tr>\n",
       "      <th>2</th>\n",
       "      <td>euribor3m</td>\n",
       "      <td>51.42</td>\n",
       "    </tr>\n",
       "    <tr>\n",
       "      <th>14</th>\n",
       "      <td>pdays_First_time_contacted</td>\n",
       "      <td>15.21</td>\n",
       "    </tr>\n",
       "    <tr>\n",
       "      <th>16</th>\n",
       "      <td>previous_Never contacted</td>\n",
       "      <td>11.93</td>\n",
       "    </tr>\n",
       "    <tr>\n",
       "      <th>1</th>\n",
       "      <td>cons.price.idx</td>\n",
       "      <td>11.59</td>\n",
       "    </tr>\n",
       "    <tr>\n",
       "      <th>6</th>\n",
       "      <td>contact_telephone</td>\n",
       "      <td>4.81</td>\n",
       "    </tr>\n",
       "    <tr>\n",
       "      <th>11</th>\n",
       "      <td>month_may</td>\n",
       "      <td>3.49</td>\n",
       "    </tr>\n",
       "    <tr>\n",
       "      <th>7</th>\n",
       "      <td>month_aug</td>\n",
       "      <td>2.60</td>\n",
       "    </tr>\n",
       "    <tr>\n",
       "      <th>9</th>\n",
       "      <td>month_jun</td>\n",
       "      <td>2.39</td>\n",
       "    </tr>\n",
       "    <tr>\n",
       "      <th>12</th>\n",
       "      <td>month_nov</td>\n",
       "      <td>1.97</td>\n",
       "    </tr>\n",
       "    <tr>\n",
       "      <th>5</th>\n",
       "      <td>default_unknown</td>\n",
       "      <td>1.34</td>\n",
       "    </tr>\n",
       "    <tr>\n",
       "      <th>17</th>\n",
       "      <td>poutcome_success</td>\n",
       "      <td>1.33</td>\n",
       "    </tr>\n",
       "    <tr>\n",
       "      <th>10</th>\n",
       "      <td>month_mar</td>\n",
       "      <td>1.13</td>\n",
       "    </tr>\n",
       "    <tr>\n",
       "      <th>13</th>\n",
       "      <td>month_sep</td>\n",
       "      <td>1.13</td>\n",
       "    </tr>\n",
       "    <tr>\n",
       "      <th>3</th>\n",
       "      <td>job_retired</td>\n",
       "      <td>1.09</td>\n",
       "    </tr>\n",
       "    <tr>\n",
       "      <th>8</th>\n",
       "      <td>month_dec</td>\n",
       "      <td>1.06</td>\n",
       "    </tr>\n",
       "    <tr>\n",
       "      <th>4</th>\n",
       "      <td>job_student</td>\n",
       "      <td>1.06</td>\n",
       "    </tr>\n",
       "    <tr>\n",
       "      <th>15</th>\n",
       "      <td>previous_More than_3_times</td>\n",
       "      <td>1.06</td>\n",
       "    </tr>\n",
       "  </tbody>\n",
       "</table>\n",
       "</div>"
      ],
      "text/plain": [
       "                      Features    VIF\n",
       "0                 emp.var.rate  76.33\n",
       "2                    euribor3m  51.42\n",
       "14  pdays_First_time_contacted  15.21\n",
       "16    previous_Never contacted  11.93\n",
       "1               cons.price.idx  11.59\n",
       "6            contact_telephone   4.81\n",
       "11                   month_may   3.49\n",
       "7                    month_aug   2.60\n",
       "9                    month_jun   2.39\n",
       "12                   month_nov   1.97\n",
       "5              default_unknown   1.34\n",
       "17            poutcome_success   1.33\n",
       "10                   month_mar   1.13\n",
       "13                   month_sep   1.13\n",
       "3                  job_retired   1.09\n",
       "8                    month_dec   1.06\n",
       "4                  job_student   1.06\n",
       "15  previous_More than_3_times   1.06"
      ]
     },
     "execution_count": 129,
     "metadata": {},
     "output_type": "execute_result"
    }
   ],
   "source": [
    "#calculating vif\n",
    "vif = pd.DataFrame()\n",
    "vif['Features'] = X_train.columns\n",
    "vif['VIF'] = [variance_inflation_factor(X_train.values, i) for i in range(X_train.shape[1])]\n",
    "vif['VIF'] = round(vif['VIF'], 2)\n",
    "vif = vif.sort_values(by = \"VIF\", ascending = False)\n",
    "vif"
   ]
  },
  {
   "cell_type": "markdown",
   "metadata": {},
   "source": [
    "Let us drop `emp.var.rate` as it has high VIF."
   ]
  },
  {
   "cell_type": "code",
   "execution_count": 130,
   "metadata": {},
   "outputs": [],
   "source": [
    "X_train.drop('emp.var.rate', axis = 1, inplace = True)"
   ]
  },
  {
   "cell_type": "markdown",
   "metadata": {},
   "source": [
    "#### Model 4:"
   ]
  },
  {
   "cell_type": "code",
   "execution_count": 131,
   "metadata": {},
   "outputs": [
    {
     "data": {
      "text/html": [
       "<table class=\"simpletable\">\n",
       "<caption>Generalized Linear Model Regression Results</caption>\n",
       "<tr>\n",
       "  <th>Dep. Variable:</th>      <td>response</td>     <th>  No. Observations:  </th>  <td> 28831</td>  \n",
       "</tr>\n",
       "<tr>\n",
       "  <th>Model:</th>                 <td>GLM</td>       <th>  Df Residuals:      </th>  <td> 28813</td>  \n",
       "</tr>\n",
       "<tr>\n",
       "  <th>Model Family:</th>       <td>Binomial</td>     <th>  Df Model:          </th>  <td>    17</td>  \n",
       "</tr>\n",
       "<tr>\n",
       "  <th>Link Function:</th>        <td>logit</td>      <th>  Scale:             </th> <td>  1.0000</td> \n",
       "</tr>\n",
       "<tr>\n",
       "  <th>Method:</th>               <td>IRLS</td>       <th>  Log-Likelihood:    </th> <td> -8103.2</td> \n",
       "</tr>\n",
       "<tr>\n",
       "  <th>Date:</th>           <td>Mon, 04 Nov 2019</td> <th>  Deviance:          </th> <td>  16206.</td> \n",
       "</tr>\n",
       "<tr>\n",
       "  <th>Time:</th>               <td>18:21:37</td>     <th>  Pearson chi2:      </th> <td>3.07e+04</td> \n",
       "</tr>\n",
       "<tr>\n",
       "  <th>No. Iterations:</th>         <td>6</td>        <th>  Covariance Type:   </th> <td>nonrobust</td>\n",
       "</tr>\n",
       "</table>\n",
       "<table class=\"simpletable\">\n",
       "<tr>\n",
       "               <td></td>                 <th>coef</th>     <th>std err</th>      <th>z</th>      <th>P>|z|</th>  <th>[0.025</th>    <th>0.975]</th>  \n",
       "</tr>\n",
       "<tr>\n",
       "  <th>const</th>                      <td>   -1.4205</td> <td>    0.215</td> <td>   -6.618</td> <td> 0.000</td> <td>   -1.841</td> <td>   -1.000</td>\n",
       "</tr>\n",
       "<tr>\n",
       "  <th>cons.price.idx</th>             <td>    0.1767</td> <td>    0.027</td> <td>    6.530</td> <td> 0.000</td> <td>    0.124</td> <td>    0.230</td>\n",
       "</tr>\n",
       "<tr>\n",
       "  <th>euribor3m</th>                  <td>   -0.9242</td> <td>    0.030</td> <td>  -30.348</td> <td> 0.000</td> <td>   -0.984</td> <td>   -0.865</td>\n",
       "</tr>\n",
       "<tr>\n",
       "  <th>job_retired</th>                <td>    0.4285</td> <td>    0.082</td> <td>    5.245</td> <td> 0.000</td> <td>    0.268</td> <td>    0.589</td>\n",
       "</tr>\n",
       "<tr>\n",
       "  <th>job_student</th>                <td>    0.4365</td> <td>    0.103</td> <td>    4.231</td> <td> 0.000</td> <td>    0.234</td> <td>    0.639</td>\n",
       "</tr>\n",
       "<tr>\n",
       "  <th>default_unknown</th>            <td>   -0.3649</td> <td>    0.067</td> <td>   -5.428</td> <td> 0.000</td> <td>   -0.497</td> <td>   -0.233</td>\n",
       "</tr>\n",
       "<tr>\n",
       "  <th>contact_telephone</th>          <td>   -0.2074</td> <td>    0.063</td> <td>   -3.291</td> <td> 0.001</td> <td>   -0.331</td> <td>   -0.084</td>\n",
       "</tr>\n",
       "<tr>\n",
       "  <th>month_aug</th>                  <td>    0.0815</td> <td>    0.072</td> <td>    1.131</td> <td> 0.258</td> <td>   -0.060</td> <td>    0.223</td>\n",
       "</tr>\n",
       "<tr>\n",
       "  <th>month_dec</th>                  <td>    0.4705</td> <td>    0.198</td> <td>    2.371</td> <td> 0.018</td> <td>    0.082</td> <td>    0.860</td>\n",
       "</tr>\n",
       "<tr>\n",
       "  <th>month_jun</th>                  <td>    0.0647</td> <td>    0.075</td> <td>    0.863</td> <td> 0.388</td> <td>   -0.082</td> <td>    0.211</td>\n",
       "</tr>\n",
       "<tr>\n",
       "  <th>month_mar</th>                  <td>    0.8334</td> <td>    0.116</td> <td>    7.172</td> <td> 0.000</td> <td>    0.606</td> <td>    1.061</td>\n",
       "</tr>\n",
       "<tr>\n",
       "  <th>month_may</th>                  <td>   -0.8500</td> <td>    0.060</td> <td>  -14.264</td> <td> 0.000</td> <td>   -0.967</td> <td>   -0.733</td>\n",
       "</tr>\n",
       "<tr>\n",
       "  <th>month_nov</th>                  <td>   -0.0656</td> <td>    0.080</td> <td>   -0.820</td> <td> 0.412</td> <td>   -0.223</td> <td>    0.091</td>\n",
       "</tr>\n",
       "<tr>\n",
       "  <th>month_sep</th>                  <td>    0.2881</td> <td>    0.118</td> <td>    2.435</td> <td> 0.015</td> <td>    0.056</td> <td>    0.520</td>\n",
       "</tr>\n",
       "<tr>\n",
       "  <th>pdays_First_time_contacted</th> <td>   -1.1926</td> <td>    0.215</td> <td>   -5.547</td> <td> 0.000</td> <td>   -1.614</td> <td>   -0.771</td>\n",
       "</tr>\n",
       "<tr>\n",
       "  <th>previous_More than_3_times</th> <td>   -0.3405</td> <td>    0.284</td> <td>   -1.199</td> <td> 0.231</td> <td>   -0.897</td> <td>    0.216</td>\n",
       "</tr>\n",
       "<tr>\n",
       "  <th>previous_Never contacted</th>   <td>    0.4743</td> <td>    0.066</td> <td>    7.230</td> <td> 0.000</td> <td>    0.346</td> <td>    0.603</td>\n",
       "</tr>\n",
       "<tr>\n",
       "  <th>poutcome_success</th>           <td>    0.7769</td> <td>    0.217</td> <td>    3.584</td> <td> 0.000</td> <td>    0.352</td> <td>    1.202</td>\n",
       "</tr>\n",
       "</table>"
      ],
      "text/plain": [
       "<class 'statsmodels.iolib.summary.Summary'>\n",
       "\"\"\"\n",
       "                 Generalized Linear Model Regression Results                  \n",
       "==============================================================================\n",
       "Dep. Variable:               response   No. Observations:                28831\n",
       "Model:                            GLM   Df Residuals:                    28813\n",
       "Model Family:                Binomial   Df Model:                           17\n",
       "Link Function:                  logit   Scale:                          1.0000\n",
       "Method:                          IRLS   Log-Likelihood:                -8103.2\n",
       "Date:                Mon, 04 Nov 2019   Deviance:                       16206.\n",
       "Time:                        18:21:37   Pearson chi2:                 3.07e+04\n",
       "No. Iterations:                     6   Covariance Type:             nonrobust\n",
       "==============================================================================================\n",
       "                                 coef    std err          z      P>|z|      [0.025      0.975]\n",
       "----------------------------------------------------------------------------------------------\n",
       "const                         -1.4205      0.215     -6.618      0.000      -1.841      -1.000\n",
       "cons.price.idx                 0.1767      0.027      6.530      0.000       0.124       0.230\n",
       "euribor3m                     -0.9242      0.030    -30.348      0.000      -0.984      -0.865\n",
       "job_retired                    0.4285      0.082      5.245      0.000       0.268       0.589\n",
       "job_student                    0.4365      0.103      4.231      0.000       0.234       0.639\n",
       "default_unknown               -0.3649      0.067     -5.428      0.000      -0.497      -0.233\n",
       "contact_telephone             -0.2074      0.063     -3.291      0.001      -0.331      -0.084\n",
       "month_aug                      0.0815      0.072      1.131      0.258      -0.060       0.223\n",
       "month_dec                      0.4705      0.198      2.371      0.018       0.082       0.860\n",
       "month_jun                      0.0647      0.075      0.863      0.388      -0.082       0.211\n",
       "month_mar                      0.8334      0.116      7.172      0.000       0.606       1.061\n",
       "month_may                     -0.8500      0.060    -14.264      0.000      -0.967      -0.733\n",
       "month_nov                     -0.0656      0.080     -0.820      0.412      -0.223       0.091\n",
       "month_sep                      0.2881      0.118      2.435      0.015       0.056       0.520\n",
       "pdays_First_time_contacted    -1.1926      0.215     -5.547      0.000      -1.614      -0.771\n",
       "previous_More than_3_times    -0.3405      0.284     -1.199      0.231      -0.897       0.216\n",
       "previous_Never contacted       0.4743      0.066      7.230      0.000       0.346       0.603\n",
       "poutcome_success               0.7769      0.217      3.584      0.000       0.352       1.202\n",
       "==============================================================================================\n",
       "\"\"\""
      ]
     },
     "execution_count": 131,
     "metadata": {},
     "output_type": "execute_result"
    }
   ],
   "source": [
    "# Refit the model with the new set of features\n",
    "model_4 = sm.GLM(y_train,(sm.add_constant(X_train)), family = sm.families.Binomial())\n",
    "model_4.fit().summary()"
   ]
  },
  {
   "cell_type": "code",
   "execution_count": 132,
   "metadata": {},
   "outputs": [
    {
     "data": {
      "text/html": [
       "<div>\n",
       "<style scoped>\n",
       "    .dataframe tbody tr th:only-of-type {\n",
       "        vertical-align: middle;\n",
       "    }\n",
       "\n",
       "    .dataframe tbody tr th {\n",
       "        vertical-align: top;\n",
       "    }\n",
       "\n",
       "    .dataframe thead th {\n",
       "        text-align: right;\n",
       "    }\n",
       "</style>\n",
       "<table border=\"1\" class=\"dataframe\">\n",
       "  <thead>\n",
       "    <tr style=\"text-align: right;\">\n",
       "      <th></th>\n",
       "      <th>Features</th>\n",
       "      <th>VIF</th>\n",
       "    </tr>\n",
       "  </thead>\n",
       "  <tbody>\n",
       "    <tr>\n",
       "      <th>13</th>\n",
       "      <td>pdays_First_time_contacted</td>\n",
       "      <td>14.92</td>\n",
       "    </tr>\n",
       "    <tr>\n",
       "      <th>15</th>\n",
       "      <td>previous_Never contacted</td>\n",
       "      <td>11.92</td>\n",
       "    </tr>\n",
       "    <tr>\n",
       "      <th>0</th>\n",
       "      <td>cons.price.idx</td>\n",
       "      <td>4.18</td>\n",
       "    </tr>\n",
       "    <tr>\n",
       "      <th>1</th>\n",
       "      <td>euribor3m</td>\n",
       "      <td>3.91</td>\n",
       "    </tr>\n",
       "    <tr>\n",
       "      <th>5</th>\n",
       "      <td>contact_telephone</td>\n",
       "      <td>3.86</td>\n",
       "    </tr>\n",
       "    <tr>\n",
       "      <th>10</th>\n",
       "      <td>month_may</td>\n",
       "      <td>3.34</td>\n",
       "    </tr>\n",
       "    <tr>\n",
       "      <th>8</th>\n",
       "      <td>month_jun</td>\n",
       "      <td>2.15</td>\n",
       "    </tr>\n",
       "    <tr>\n",
       "      <th>6</th>\n",
       "      <td>month_aug</td>\n",
       "      <td>2.05</td>\n",
       "    </tr>\n",
       "    <tr>\n",
       "      <th>11</th>\n",
       "      <td>month_nov</td>\n",
       "      <td>1.69</td>\n",
       "    </tr>\n",
       "    <tr>\n",
       "      <th>4</th>\n",
       "      <td>default_unknown</td>\n",
       "      <td>1.33</td>\n",
       "    </tr>\n",
       "    <tr>\n",
       "      <th>16</th>\n",
       "      <td>poutcome_success</td>\n",
       "      <td>1.33</td>\n",
       "    </tr>\n",
       "    <tr>\n",
       "      <th>12</th>\n",
       "      <td>month_sep</td>\n",
       "      <td>1.13</td>\n",
       "    </tr>\n",
       "    <tr>\n",
       "      <th>9</th>\n",
       "      <td>month_mar</td>\n",
       "      <td>1.10</td>\n",
       "    </tr>\n",
       "    <tr>\n",
       "      <th>2</th>\n",
       "      <td>job_retired</td>\n",
       "      <td>1.08</td>\n",
       "    </tr>\n",
       "    <tr>\n",
       "      <th>3</th>\n",
       "      <td>job_student</td>\n",
       "      <td>1.06</td>\n",
       "    </tr>\n",
       "    <tr>\n",
       "      <th>14</th>\n",
       "      <td>previous_More than_3_times</td>\n",
       "      <td>1.06</td>\n",
       "    </tr>\n",
       "    <tr>\n",
       "      <th>7</th>\n",
       "      <td>month_dec</td>\n",
       "      <td>1.05</td>\n",
       "    </tr>\n",
       "  </tbody>\n",
       "</table>\n",
       "</div>"
      ],
      "text/plain": [
       "                      Features    VIF\n",
       "13  pdays_First_time_contacted  14.92\n",
       "15    previous_Never contacted  11.92\n",
       "0               cons.price.idx   4.18\n",
       "1                    euribor3m   3.91\n",
       "5            contact_telephone   3.86\n",
       "10                   month_may   3.34\n",
       "8                    month_jun   2.15\n",
       "6                    month_aug   2.05\n",
       "11                   month_nov   1.69\n",
       "4              default_unknown   1.33\n",
       "16            poutcome_success   1.33\n",
       "12                   month_sep   1.13\n",
       "9                    month_mar   1.10\n",
       "2                  job_retired   1.08\n",
       "3                  job_student   1.06\n",
       "14  previous_More than_3_times   1.06\n",
       "7                    month_dec   1.05"
      ]
     },
     "execution_count": 132,
     "metadata": {},
     "output_type": "execute_result"
    }
   ],
   "source": [
    "#calculating vif\n",
    "vif = pd.DataFrame()\n",
    "vif['Features'] = X_train.columns\n",
    "vif['VIF'] = [variance_inflation_factor(X_train.values, i) for i in range(X_train.shape[1])]\n",
    "vif['VIF'] = round(vif['VIF'], 2)\n",
    "vif = vif.sort_values(by = \"VIF\", ascending = False)\n",
    "vif"
   ]
  },
  {
   "cell_type": "markdown",
   "metadata": {},
   "source": [
    "Let us drop `month_nov` as it has high p-value."
   ]
  },
  {
   "cell_type": "code",
   "execution_count": 133,
   "metadata": {},
   "outputs": [],
   "source": [
    "X_train.drop('month_nov', axis = 1, inplace = True)"
   ]
  },
  {
   "cell_type": "markdown",
   "metadata": {},
   "source": [
    "#### Model 5:"
   ]
  },
  {
   "cell_type": "code",
   "execution_count": 134,
   "metadata": {},
   "outputs": [
    {
     "data": {
      "text/html": [
       "<table class=\"simpletable\">\n",
       "<caption>Generalized Linear Model Regression Results</caption>\n",
       "<tr>\n",
       "  <th>Dep. Variable:</th>      <td>response</td>     <th>  No. Observations:  </th>  <td> 28831</td>  \n",
       "</tr>\n",
       "<tr>\n",
       "  <th>Model:</th>                 <td>GLM</td>       <th>  Df Residuals:      </th>  <td> 28814</td>  \n",
       "</tr>\n",
       "<tr>\n",
       "  <th>Model Family:</th>       <td>Binomial</td>     <th>  Df Model:          </th>  <td>    16</td>  \n",
       "</tr>\n",
       "<tr>\n",
       "  <th>Link Function:</th>        <td>logit</td>      <th>  Scale:             </th> <td>  1.0000</td> \n",
       "</tr>\n",
       "<tr>\n",
       "  <th>Method:</th>               <td>IRLS</td>       <th>  Log-Likelihood:    </th> <td> -8103.6</td> \n",
       "</tr>\n",
       "<tr>\n",
       "  <th>Date:</th>           <td>Mon, 04 Nov 2019</td> <th>  Deviance:          </th> <td>  16207.</td> \n",
       "</tr>\n",
       "<tr>\n",
       "  <th>Time:</th>               <td>18:21:38</td>     <th>  Pearson chi2:      </th> <td>3.08e+04</td> \n",
       "</tr>\n",
       "<tr>\n",
       "  <th>No. Iterations:</th>         <td>6</td>        <th>  Covariance Type:   </th> <td>nonrobust</td>\n",
       "</tr>\n",
       "</table>\n",
       "<table class=\"simpletable\">\n",
       "<tr>\n",
       "               <td></td>                 <th>coef</th>     <th>std err</th>      <th>z</th>      <th>P>|z|</th>  <th>[0.025</th>    <th>0.975]</th>  \n",
       "</tr>\n",
       "<tr>\n",
       "  <th>const</th>                      <td>   -1.4477</td> <td>    0.212</td> <td>   -6.825</td> <td> 0.000</td> <td>   -1.863</td> <td>   -1.032</td>\n",
       "</tr>\n",
       "<tr>\n",
       "  <th>cons.price.idx</th>             <td>    0.1820</td> <td>    0.026</td> <td>    6.930</td> <td> 0.000</td> <td>    0.131</td> <td>    0.233</td>\n",
       "</tr>\n",
       "<tr>\n",
       "  <th>euribor3m</th>                  <td>   -0.9303</td> <td>    0.030</td> <td>  -31.526</td> <td> 0.000</td> <td>   -0.988</td> <td>   -0.872</td>\n",
       "</tr>\n",
       "<tr>\n",
       "  <th>job_retired</th>                <td>    0.4288</td> <td>    0.082</td> <td>    5.249</td> <td> 0.000</td> <td>    0.269</td> <td>    0.589</td>\n",
       "</tr>\n",
       "<tr>\n",
       "  <th>job_student</th>                <td>    0.4365</td> <td>    0.103</td> <td>    4.229</td> <td> 0.000</td> <td>    0.234</td> <td>    0.639</td>\n",
       "</tr>\n",
       "<tr>\n",
       "  <th>default_unknown</th>            <td>   -0.3612</td> <td>    0.067</td> <td>   -5.385</td> <td> 0.000</td> <td>   -0.493</td> <td>   -0.230</td>\n",
       "</tr>\n",
       "<tr>\n",
       "  <th>contact_telephone</th>          <td>   -0.2083</td> <td>    0.063</td> <td>   -3.305</td> <td> 0.001</td> <td>   -0.332</td> <td>   -0.085</td>\n",
       "</tr>\n",
       "<tr>\n",
       "  <th>month_aug</th>                  <td>    0.1016</td> <td>    0.068</td> <td>    1.498</td> <td> 0.134</td> <td>   -0.031</td> <td>    0.235</td>\n",
       "</tr>\n",
       "<tr>\n",
       "  <th>month_dec</th>                  <td>    0.4873</td> <td>    0.197</td> <td>    2.469</td> <td> 0.014</td> <td>    0.100</td> <td>    0.874</td>\n",
       "</tr>\n",
       "<tr>\n",
       "  <th>month_jun</th>                  <td>    0.0773</td> <td>    0.073</td> <td>    1.054</td> <td> 0.292</td> <td>   -0.066</td> <td>    0.221</td>\n",
       "</tr>\n",
       "<tr>\n",
       "  <th>month_mar</th>                  <td>    0.8473</td> <td>    0.115</td> <td>    7.367</td> <td> 0.000</td> <td>    0.622</td> <td>    1.073</td>\n",
       "</tr>\n",
       "<tr>\n",
       "  <th>month_may</th>                  <td>   -0.8347</td> <td>    0.057</td> <td>  -14.734</td> <td> 0.000</td> <td>   -0.946</td> <td>   -0.724</td>\n",
       "</tr>\n",
       "<tr>\n",
       "  <th>month_sep</th>                  <td>    0.2999</td> <td>    0.117</td> <td>    2.553</td> <td> 0.011</td> <td>    0.070</td> <td>    0.530</td>\n",
       "</tr>\n",
       "<tr>\n",
       "  <th>pdays_First_time_contacted</th> <td>   -1.1860</td> <td>    0.215</td> <td>   -5.520</td> <td> 0.000</td> <td>   -1.607</td> <td>   -0.765</td>\n",
       "</tr>\n",
       "<tr>\n",
       "  <th>previous_More than_3_times</th> <td>   -0.3549</td> <td>    0.283</td> <td>   -1.252</td> <td> 0.210</td> <td>   -0.910</td> <td>    0.201</td>\n",
       "</tr>\n",
       "<tr>\n",
       "  <th>previous_Never contacted</th>   <td>    0.4786</td> <td>    0.065</td> <td>    7.320</td> <td> 0.000</td> <td>    0.350</td> <td>    0.607</td>\n",
       "</tr>\n",
       "<tr>\n",
       "  <th>poutcome_success</th>           <td>    0.7808</td> <td>    0.217</td> <td>    3.603</td> <td> 0.000</td> <td>    0.356</td> <td>    1.206</td>\n",
       "</tr>\n",
       "</table>"
      ],
      "text/plain": [
       "<class 'statsmodels.iolib.summary.Summary'>\n",
       "\"\"\"\n",
       "                 Generalized Linear Model Regression Results                  \n",
       "==============================================================================\n",
       "Dep. Variable:               response   No. Observations:                28831\n",
       "Model:                            GLM   Df Residuals:                    28814\n",
       "Model Family:                Binomial   Df Model:                           16\n",
       "Link Function:                  logit   Scale:                          1.0000\n",
       "Method:                          IRLS   Log-Likelihood:                -8103.6\n",
       "Date:                Mon, 04 Nov 2019   Deviance:                       16207.\n",
       "Time:                        18:21:38   Pearson chi2:                 3.08e+04\n",
       "No. Iterations:                     6   Covariance Type:             nonrobust\n",
       "==============================================================================================\n",
       "                                 coef    std err          z      P>|z|      [0.025      0.975]\n",
       "----------------------------------------------------------------------------------------------\n",
       "const                         -1.4477      0.212     -6.825      0.000      -1.863      -1.032\n",
       "cons.price.idx                 0.1820      0.026      6.930      0.000       0.131       0.233\n",
       "euribor3m                     -0.9303      0.030    -31.526      0.000      -0.988      -0.872\n",
       "job_retired                    0.4288      0.082      5.249      0.000       0.269       0.589\n",
       "job_student                    0.4365      0.103      4.229      0.000       0.234       0.639\n",
       "default_unknown               -0.3612      0.067     -5.385      0.000      -0.493      -0.230\n",
       "contact_telephone             -0.2083      0.063     -3.305      0.001      -0.332      -0.085\n",
       "month_aug                      0.1016      0.068      1.498      0.134      -0.031       0.235\n",
       "month_dec                      0.4873      0.197      2.469      0.014       0.100       0.874\n",
       "month_jun                      0.0773      0.073      1.054      0.292      -0.066       0.221\n",
       "month_mar                      0.8473      0.115      7.367      0.000       0.622       1.073\n",
       "month_may                     -0.8347      0.057    -14.734      0.000      -0.946      -0.724\n",
       "month_sep                      0.2999      0.117      2.553      0.011       0.070       0.530\n",
       "pdays_First_time_contacted    -1.1860      0.215     -5.520      0.000      -1.607      -0.765\n",
       "previous_More than_3_times    -0.3549      0.283     -1.252      0.210      -0.910       0.201\n",
       "previous_Never contacted       0.4786      0.065      7.320      0.000       0.350       0.607\n",
       "poutcome_success               0.7808      0.217      3.603      0.000       0.356       1.206\n",
       "==============================================================================================\n",
       "\"\"\""
      ]
     },
     "execution_count": 134,
     "metadata": {},
     "output_type": "execute_result"
    }
   ],
   "source": [
    "# Refit the model with the new set of features\n",
    "model_5 = sm.GLM(y_train,(sm.add_constant(X_train)), family = sm.families.Binomial())\n",
    "model_5.fit().summary()"
   ]
  },
  {
   "cell_type": "code",
   "execution_count": 135,
   "metadata": {},
   "outputs": [
    {
     "data": {
      "text/html": [
       "<div>\n",
       "<style scoped>\n",
       "    .dataframe tbody tr th:only-of-type {\n",
       "        vertical-align: middle;\n",
       "    }\n",
       "\n",
       "    .dataframe tbody tr th {\n",
       "        vertical-align: top;\n",
       "    }\n",
       "\n",
       "    .dataframe thead th {\n",
       "        text-align: right;\n",
       "    }\n",
       "</style>\n",
       "<table border=\"1\" class=\"dataframe\">\n",
       "  <thead>\n",
       "    <tr style=\"text-align: right;\">\n",
       "      <th></th>\n",
       "      <th>Features</th>\n",
       "      <th>VIF</th>\n",
       "    </tr>\n",
       "  </thead>\n",
       "  <tbody>\n",
       "    <tr>\n",
       "      <th>12</th>\n",
       "      <td>pdays_First_time_contacted</td>\n",
       "      <td>12.98</td>\n",
       "    </tr>\n",
       "    <tr>\n",
       "      <th>14</th>\n",
       "      <td>previous_Never contacted</td>\n",
       "      <td>11.74</td>\n",
       "    </tr>\n",
       "    <tr>\n",
       "      <th>5</th>\n",
       "      <td>contact_telephone</td>\n",
       "      <td>3.83</td>\n",
       "    </tr>\n",
       "    <tr>\n",
       "      <th>1</th>\n",
       "      <td>euribor3m</td>\n",
       "      <td>3.49</td>\n",
       "    </tr>\n",
       "    <tr>\n",
       "      <th>0</th>\n",
       "      <td>cons.price.idx</td>\n",
       "      <td>3.47</td>\n",
       "    </tr>\n",
       "    <tr>\n",
       "      <th>10</th>\n",
       "      <td>month_may</td>\n",
       "      <td>2.91</td>\n",
       "    </tr>\n",
       "    <tr>\n",
       "      <th>8</th>\n",
       "      <td>month_jun</td>\n",
       "      <td>2.12</td>\n",
       "    </tr>\n",
       "    <tr>\n",
       "      <th>6</th>\n",
       "      <td>month_aug</td>\n",
       "      <td>1.65</td>\n",
       "    </tr>\n",
       "    <tr>\n",
       "      <th>4</th>\n",
       "      <td>default_unknown</td>\n",
       "      <td>1.33</td>\n",
       "    </tr>\n",
       "    <tr>\n",
       "      <th>15</th>\n",
       "      <td>poutcome_success</td>\n",
       "      <td>1.24</td>\n",
       "    </tr>\n",
       "    <tr>\n",
       "      <th>11</th>\n",
       "      <td>month_sep</td>\n",
       "      <td>1.12</td>\n",
       "    </tr>\n",
       "    <tr>\n",
       "      <th>2</th>\n",
       "      <td>job_retired</td>\n",
       "      <td>1.08</td>\n",
       "    </tr>\n",
       "    <tr>\n",
       "      <th>9</th>\n",
       "      <td>month_mar</td>\n",
       "      <td>1.08</td>\n",
       "    </tr>\n",
       "    <tr>\n",
       "      <th>3</th>\n",
       "      <td>job_student</td>\n",
       "      <td>1.06</td>\n",
       "    </tr>\n",
       "    <tr>\n",
       "      <th>13</th>\n",
       "      <td>previous_More than_3_times</td>\n",
       "      <td>1.05</td>\n",
       "    </tr>\n",
       "    <tr>\n",
       "      <th>7</th>\n",
       "      <td>month_dec</td>\n",
       "      <td>1.04</td>\n",
       "    </tr>\n",
       "  </tbody>\n",
       "</table>\n",
       "</div>"
      ],
      "text/plain": [
       "                      Features    VIF\n",
       "12  pdays_First_time_contacted  12.98\n",
       "14    previous_Never contacted  11.74\n",
       "5            contact_telephone   3.83\n",
       "1                    euribor3m   3.49\n",
       "0               cons.price.idx   3.47\n",
       "10                   month_may   2.91\n",
       "8                    month_jun   2.12\n",
       "6                    month_aug   1.65\n",
       "4              default_unknown   1.33\n",
       "15            poutcome_success   1.24\n",
       "11                   month_sep   1.12\n",
       "2                  job_retired   1.08\n",
       "9                    month_mar   1.08\n",
       "3                  job_student   1.06\n",
       "13  previous_More than_3_times   1.05\n",
       "7                    month_dec   1.04"
      ]
     },
     "execution_count": 135,
     "metadata": {},
     "output_type": "execute_result"
    }
   ],
   "source": [
    "#calculating vif\n",
    "vif = pd.DataFrame()\n",
    "vif['Features'] = X_train.columns\n",
    "vif['VIF'] = [variance_inflation_factor(X_train.values, i) for i in range(X_train.shape[1])]\n",
    "vif['VIF'] = round(vif['VIF'], 2)\n",
    "vif = vif.sort_values(by = \"VIF\", ascending = False)\n",
    "vif"
   ]
  },
  {
   "cell_type": "markdown",
   "metadata": {},
   "source": [
    "Let us drop `pdays_First_time_contacted` as it has high VIF."
   ]
  },
  {
   "cell_type": "code",
   "execution_count": 136,
   "metadata": {},
   "outputs": [],
   "source": [
    "X_train.drop('pdays_First_time_contacted', axis = 1, inplace = True)"
   ]
  },
  {
   "cell_type": "markdown",
   "metadata": {},
   "source": [
    "#### Model 6:"
   ]
  },
  {
   "cell_type": "code",
   "execution_count": 137,
   "metadata": {},
   "outputs": [
    {
     "data": {
      "text/html": [
       "<table class=\"simpletable\">\n",
       "<caption>Generalized Linear Model Regression Results</caption>\n",
       "<tr>\n",
       "  <th>Dep. Variable:</th>      <td>response</td>     <th>  No. Observations:  </th>  <td> 28831</td>  \n",
       "</tr>\n",
       "<tr>\n",
       "  <th>Model:</th>                 <td>GLM</td>       <th>  Df Residuals:      </th>  <td> 28815</td>  \n",
       "</tr>\n",
       "<tr>\n",
       "  <th>Model Family:</th>       <td>Binomial</td>     <th>  Df Model:          </th>  <td>    15</td>  \n",
       "</tr>\n",
       "<tr>\n",
       "  <th>Link Function:</th>        <td>logit</td>      <th>  Scale:             </th> <td>  1.0000</td> \n",
       "</tr>\n",
       "<tr>\n",
       "  <th>Method:</th>               <td>IRLS</td>       <th>  Log-Likelihood:    </th> <td> -8118.3</td> \n",
       "</tr>\n",
       "<tr>\n",
       "  <th>Date:</th>           <td>Mon, 04 Nov 2019</td> <th>  Deviance:          </th> <td>  16237.</td> \n",
       "</tr>\n",
       "<tr>\n",
       "  <th>Time:</th>               <td>18:21:40</td>     <th>  Pearson chi2:      </th> <td>3.08e+04</td> \n",
       "</tr>\n",
       "<tr>\n",
       "  <th>No. Iterations:</th>         <td>6</td>        <th>  Covariance Type:   </th> <td>nonrobust</td>\n",
       "</tr>\n",
       "</table>\n",
       "<table class=\"simpletable\">\n",
       "<tr>\n",
       "               <td></td>                 <th>coef</th>     <th>std err</th>      <th>z</th>      <th>P>|z|</th>  <th>[0.025</th>    <th>0.975]</th>  \n",
       "</tr>\n",
       "<tr>\n",
       "  <th>const</th>                      <td>   -2.5634</td> <td>    0.068</td> <td>  -37.932</td> <td> 0.000</td> <td>   -2.696</td> <td>   -2.431</td>\n",
       "</tr>\n",
       "<tr>\n",
       "  <th>cons.price.idx</th>             <td>    0.1902</td> <td>    0.026</td> <td>    7.266</td> <td> 0.000</td> <td>    0.139</td> <td>    0.242</td>\n",
       "</tr>\n",
       "<tr>\n",
       "  <th>euribor3m</th>                  <td>   -0.9387</td> <td>    0.029</td> <td>  -31.915</td> <td> 0.000</td> <td>   -0.996</td> <td>   -0.881</td>\n",
       "</tr>\n",
       "<tr>\n",
       "  <th>job_retired</th>                <td>    0.4301</td> <td>    0.082</td> <td>    5.274</td> <td> 0.000</td> <td>    0.270</td> <td>    0.590</td>\n",
       "</tr>\n",
       "<tr>\n",
       "  <th>job_student</th>                <td>    0.4614</td> <td>    0.103</td> <td>    4.491</td> <td> 0.000</td> <td>    0.260</td> <td>    0.663</td>\n",
       "</tr>\n",
       "<tr>\n",
       "  <th>default_unknown</th>            <td>   -0.3631</td> <td>    0.067</td> <td>   -5.417</td> <td> 0.000</td> <td>   -0.494</td> <td>   -0.232</td>\n",
       "</tr>\n",
       "<tr>\n",
       "  <th>contact_telephone</th>          <td>   -0.2076</td> <td>    0.063</td> <td>   -3.294</td> <td> 0.001</td> <td>   -0.331</td> <td>   -0.084</td>\n",
       "</tr>\n",
       "<tr>\n",
       "  <th>month_aug</th>                  <td>    0.1178</td> <td>    0.068</td> <td>    1.741</td> <td> 0.082</td> <td>   -0.015</td> <td>    0.250</td>\n",
       "</tr>\n",
       "<tr>\n",
       "  <th>month_dec</th>                  <td>    0.4816</td> <td>    0.197</td> <td>    2.447</td> <td> 0.014</td> <td>    0.096</td> <td>    0.867</td>\n",
       "</tr>\n",
       "<tr>\n",
       "  <th>month_jun</th>                  <td>    0.0714</td> <td>    0.073</td> <td>    0.974</td> <td> 0.330</td> <td>   -0.072</td> <td>    0.215</td>\n",
       "</tr>\n",
       "<tr>\n",
       "  <th>month_mar</th>                  <td>    0.8518</td> <td>    0.115</td> <td>    7.427</td> <td> 0.000</td> <td>    0.627</td> <td>    1.077</td>\n",
       "</tr>\n",
       "<tr>\n",
       "  <th>month_may</th>                  <td>   -0.8427</td> <td>    0.057</td> <td>  -14.894</td> <td> 0.000</td> <td>   -0.954</td> <td>   -0.732</td>\n",
       "</tr>\n",
       "<tr>\n",
       "  <th>month_sep</th>                  <td>    0.3012</td> <td>    0.117</td> <td>    2.568</td> <td> 0.010</td> <td>    0.071</td> <td>    0.531</td>\n",
       "</tr>\n",
       "<tr>\n",
       "  <th>previous_More than_3_times</th> <td>   -0.0864</td> <td>    0.290</td> <td>   -0.298</td> <td> 0.766</td> <td>   -0.655</td> <td>    0.482</td>\n",
       "</tr>\n",
       "<tr>\n",
       "  <th>previous_Never contacted</th>   <td>    0.4065</td> <td>    0.063</td> <td>    6.445</td> <td> 0.000</td> <td>    0.283</td> <td>    0.530</td>\n",
       "</tr>\n",
       "<tr>\n",
       "  <th>poutcome_success</th>           <td>    1.8751</td> <td>    0.090</td> <td>   20.789</td> <td> 0.000</td> <td>    1.698</td> <td>    2.052</td>\n",
       "</tr>\n",
       "</table>"
      ],
      "text/plain": [
       "<class 'statsmodels.iolib.summary.Summary'>\n",
       "\"\"\"\n",
       "                 Generalized Linear Model Regression Results                  \n",
       "==============================================================================\n",
       "Dep. Variable:               response   No. Observations:                28831\n",
       "Model:                            GLM   Df Residuals:                    28815\n",
       "Model Family:                Binomial   Df Model:                           15\n",
       "Link Function:                  logit   Scale:                          1.0000\n",
       "Method:                          IRLS   Log-Likelihood:                -8118.3\n",
       "Date:                Mon, 04 Nov 2019   Deviance:                       16237.\n",
       "Time:                        18:21:40   Pearson chi2:                 3.08e+04\n",
       "No. Iterations:                     6   Covariance Type:             nonrobust\n",
       "==============================================================================================\n",
       "                                 coef    std err          z      P>|z|      [0.025      0.975]\n",
       "----------------------------------------------------------------------------------------------\n",
       "const                         -2.5634      0.068    -37.932      0.000      -2.696      -2.431\n",
       "cons.price.idx                 0.1902      0.026      7.266      0.000       0.139       0.242\n",
       "euribor3m                     -0.9387      0.029    -31.915      0.000      -0.996      -0.881\n",
       "job_retired                    0.4301      0.082      5.274      0.000       0.270       0.590\n",
       "job_student                    0.4614      0.103      4.491      0.000       0.260       0.663\n",
       "default_unknown               -0.3631      0.067     -5.417      0.000      -0.494      -0.232\n",
       "contact_telephone             -0.2076      0.063     -3.294      0.001      -0.331      -0.084\n",
       "month_aug                      0.1178      0.068      1.741      0.082      -0.015       0.250\n",
       "month_dec                      0.4816      0.197      2.447      0.014       0.096       0.867\n",
       "month_jun                      0.0714      0.073      0.974      0.330      -0.072       0.215\n",
       "month_mar                      0.8518      0.115      7.427      0.000       0.627       1.077\n",
       "month_may                     -0.8427      0.057    -14.894      0.000      -0.954      -0.732\n",
       "month_sep                      0.3012      0.117      2.568      0.010       0.071       0.531\n",
       "previous_More than_3_times    -0.0864      0.290     -0.298      0.766      -0.655       0.482\n",
       "previous_Never contacted       0.4065      0.063      6.445      0.000       0.283       0.530\n",
       "poutcome_success               1.8751      0.090     20.789      0.000       1.698       2.052\n",
       "==============================================================================================\n",
       "\"\"\""
      ]
     },
     "execution_count": 137,
     "metadata": {},
     "output_type": "execute_result"
    }
   ],
   "source": [
    "# Refit the model with the new set of features\n",
    "model_6 = sm.GLM(y_train,(sm.add_constant(X_train)), family = sm.families.Binomial())\n",
    "model_6.fit().summary()"
   ]
  },
  {
   "cell_type": "code",
   "execution_count": 138,
   "metadata": {},
   "outputs": [
    {
     "data": {
      "text/html": [
       "<div>\n",
       "<style scoped>\n",
       "    .dataframe tbody tr th:only-of-type {\n",
       "        vertical-align: middle;\n",
       "    }\n",
       "\n",
       "    .dataframe tbody tr th {\n",
       "        vertical-align: top;\n",
       "    }\n",
       "\n",
       "    .dataframe thead th {\n",
       "        text-align: right;\n",
       "    }\n",
       "</style>\n",
       "<table border=\"1\" class=\"dataframe\">\n",
       "  <thead>\n",
       "    <tr style=\"text-align: right;\">\n",
       "      <th></th>\n",
       "      <th>Features</th>\n",
       "      <th>VIF</th>\n",
       "    </tr>\n",
       "  </thead>\n",
       "  <tbody>\n",
       "    <tr>\n",
       "      <th>5</th>\n",
       "      <td>contact_telephone</td>\n",
       "      <td>3.82</td>\n",
       "    </tr>\n",
       "    <tr>\n",
       "      <th>0</th>\n",
       "      <td>cons.price.idx</td>\n",
       "      <td>3.44</td>\n",
       "    </tr>\n",
       "    <tr>\n",
       "      <th>1</th>\n",
       "      <td>euribor3m</td>\n",
       "      <td>3.39</td>\n",
       "    </tr>\n",
       "    <tr>\n",
       "      <th>13</th>\n",
       "      <td>previous_Never contacted</td>\n",
       "      <td>2.94</td>\n",
       "    </tr>\n",
       "    <tr>\n",
       "      <th>10</th>\n",
       "      <td>month_may</td>\n",
       "      <td>2.78</td>\n",
       "    </tr>\n",
       "    <tr>\n",
       "      <th>8</th>\n",
       "      <td>month_jun</td>\n",
       "      <td>2.07</td>\n",
       "    </tr>\n",
       "    <tr>\n",
       "      <th>6</th>\n",
       "      <td>month_aug</td>\n",
       "      <td>1.61</td>\n",
       "    </tr>\n",
       "    <tr>\n",
       "      <th>4</th>\n",
       "      <td>default_unknown</td>\n",
       "      <td>1.31</td>\n",
       "    </tr>\n",
       "    <tr>\n",
       "      <th>14</th>\n",
       "      <td>poutcome_success</td>\n",
       "      <td>1.20</td>\n",
       "    </tr>\n",
       "    <tr>\n",
       "      <th>11</th>\n",
       "      <td>month_sep</td>\n",
       "      <td>1.12</td>\n",
       "    </tr>\n",
       "    <tr>\n",
       "      <th>9</th>\n",
       "      <td>month_mar</td>\n",
       "      <td>1.08</td>\n",
       "    </tr>\n",
       "    <tr>\n",
       "      <th>2</th>\n",
       "      <td>job_retired</td>\n",
       "      <td>1.07</td>\n",
       "    </tr>\n",
       "    <tr>\n",
       "      <th>3</th>\n",
       "      <td>job_student</td>\n",
       "      <td>1.06</td>\n",
       "    </tr>\n",
       "    <tr>\n",
       "      <th>12</th>\n",
       "      <td>previous_More than_3_times</td>\n",
       "      <td>1.05</td>\n",
       "    </tr>\n",
       "    <tr>\n",
       "      <th>7</th>\n",
       "      <td>month_dec</td>\n",
       "      <td>1.04</td>\n",
       "    </tr>\n",
       "  </tbody>\n",
       "</table>\n",
       "</div>"
      ],
      "text/plain": [
       "                      Features   VIF\n",
       "5            contact_telephone  3.82\n",
       "0               cons.price.idx  3.44\n",
       "1                    euribor3m  3.39\n",
       "13    previous_Never contacted  2.94\n",
       "10                   month_may  2.78\n",
       "8                    month_jun  2.07\n",
       "6                    month_aug  1.61\n",
       "4              default_unknown  1.31\n",
       "14            poutcome_success  1.20\n",
       "11                   month_sep  1.12\n",
       "9                    month_mar  1.08\n",
       "2                  job_retired  1.07\n",
       "3                  job_student  1.06\n",
       "12  previous_More than_3_times  1.05\n",
       "7                    month_dec  1.04"
      ]
     },
     "execution_count": 138,
     "metadata": {},
     "output_type": "execute_result"
    }
   ],
   "source": [
    "#calculating vif\n",
    "vif = pd.DataFrame()\n",
    "vif['Features'] = X_train.columns\n",
    "vif['VIF'] = [variance_inflation_factor(X_train.values, i) for i in range(X_train.shape[1])]\n",
    "vif['VIF'] = round(vif['VIF'], 2)\n",
    "vif = vif.sort_values(by = \"VIF\", ascending = False)\n",
    "vif"
   ]
  },
  {
   "cell_type": "markdown",
   "metadata": {},
   "source": [
    "Let us drop `previous_More than_3_times` as it has high p-value."
   ]
  },
  {
   "cell_type": "code",
   "execution_count": 139,
   "metadata": {},
   "outputs": [],
   "source": [
    "X_train.drop('previous_More than_3_times', axis = 1, inplace = True)"
   ]
  },
  {
   "cell_type": "markdown",
   "metadata": {},
   "source": [
    "#### Model 7:"
   ]
  },
  {
   "cell_type": "code",
   "execution_count": 140,
   "metadata": {},
   "outputs": [
    {
     "data": {
      "text/html": [
       "<table class=\"simpletable\">\n",
       "<caption>Generalized Linear Model Regression Results</caption>\n",
       "<tr>\n",
       "  <th>Dep. Variable:</th>      <td>response</td>     <th>  No. Observations:  </th>  <td> 28831</td>  \n",
       "</tr>\n",
       "<tr>\n",
       "  <th>Model:</th>                 <td>GLM</td>       <th>  Df Residuals:      </th>  <td> 28816</td>  \n",
       "</tr>\n",
       "<tr>\n",
       "  <th>Model Family:</th>       <td>Binomial</td>     <th>  Df Model:          </th>  <td>    14</td>  \n",
       "</tr>\n",
       "<tr>\n",
       "  <th>Link Function:</th>        <td>logit</td>      <th>  Scale:             </th> <td>  1.0000</td> \n",
       "</tr>\n",
       "<tr>\n",
       "  <th>Method:</th>               <td>IRLS</td>       <th>  Log-Likelihood:    </th> <td> -8118.4</td> \n",
       "</tr>\n",
       "<tr>\n",
       "  <th>Date:</th>           <td>Mon, 04 Nov 2019</td> <th>  Deviance:          </th> <td>  16237.</td> \n",
       "</tr>\n",
       "<tr>\n",
       "  <th>Time:</th>               <td>18:21:42</td>     <th>  Pearson chi2:      </th> <td>3.08e+04</td> \n",
       "</tr>\n",
       "<tr>\n",
       "  <th>No. Iterations:</th>         <td>6</td>        <th>  Covariance Type:   </th> <td>nonrobust</td>\n",
       "</tr>\n",
       "</table>\n",
       "<table class=\"simpletable\">\n",
       "<tr>\n",
       "              <td></td>                <th>coef</th>     <th>std err</th>      <th>z</th>      <th>P>|z|</th>  <th>[0.025</th>    <th>0.975]</th>  \n",
       "</tr>\n",
       "<tr>\n",
       "  <th>const</th>                    <td>   -2.5643</td> <td>    0.068</td> <td>  -37.987</td> <td> 0.000</td> <td>   -2.697</td> <td>   -2.432</td>\n",
       "</tr>\n",
       "<tr>\n",
       "  <th>cons.price.idx</th>           <td>    0.1891</td> <td>    0.026</td> <td>    7.302</td> <td> 0.000</td> <td>    0.138</td> <td>    0.240</td>\n",
       "</tr>\n",
       "<tr>\n",
       "  <th>euribor3m</th>                <td>   -0.9380</td> <td>    0.029</td> <td>  -31.998</td> <td> 0.000</td> <td>   -0.995</td> <td>   -0.881</td>\n",
       "</tr>\n",
       "<tr>\n",
       "  <th>job_retired</th>              <td>    0.4301</td> <td>    0.082</td> <td>    5.275</td> <td> 0.000</td> <td>    0.270</td> <td>    0.590</td>\n",
       "</tr>\n",
       "<tr>\n",
       "  <th>job_student</th>              <td>    0.4601</td> <td>    0.103</td> <td>    4.481</td> <td> 0.000</td> <td>    0.259</td> <td>    0.661</td>\n",
       "</tr>\n",
       "<tr>\n",
       "  <th>default_unknown</th>          <td>   -0.3629</td> <td>    0.067</td> <td>   -5.414</td> <td> 0.000</td> <td>   -0.494</td> <td>   -0.231</td>\n",
       "</tr>\n",
       "<tr>\n",
       "  <th>contact_telephone</th>        <td>   -0.2072</td> <td>    0.063</td> <td>   -3.288</td> <td> 0.001</td> <td>   -0.331</td> <td>   -0.084</td>\n",
       "</tr>\n",
       "<tr>\n",
       "  <th>month_aug</th>                <td>    0.1166</td> <td>    0.068</td> <td>    1.727</td> <td> 0.084</td> <td>   -0.016</td> <td>    0.249</td>\n",
       "</tr>\n",
       "<tr>\n",
       "  <th>month_dec</th>                <td>    0.4819</td> <td>    0.197</td> <td>    2.449</td> <td> 0.014</td> <td>    0.096</td> <td>    0.868</td>\n",
       "</tr>\n",
       "<tr>\n",
       "  <th>month_jun</th>                <td>    0.0719</td> <td>    0.073</td> <td>    0.981</td> <td> 0.326</td> <td>   -0.072</td> <td>    0.215</td>\n",
       "</tr>\n",
       "<tr>\n",
       "  <th>month_mar</th>                <td>    0.8518</td> <td>    0.115</td> <td>    7.427</td> <td> 0.000</td> <td>    0.627</td> <td>    1.077</td>\n",
       "</tr>\n",
       "<tr>\n",
       "  <th>month_may</th>                <td>   -0.8428</td> <td>    0.057</td> <td>  -14.896</td> <td> 0.000</td> <td>   -0.954</td> <td>   -0.732</td>\n",
       "</tr>\n",
       "<tr>\n",
       "  <th>month_sep</th>                <td>    0.3004</td> <td>    0.117</td> <td>    2.561</td> <td> 0.010</td> <td>    0.071</td> <td>    0.530</td>\n",
       "</tr>\n",
       "<tr>\n",
       "  <th>previous_Never contacted</th> <td>    0.4075</td> <td>    0.063</td> <td>    6.468</td> <td> 0.000</td> <td>    0.284</td> <td>    0.531</td>\n",
       "</tr>\n",
       "<tr>\n",
       "  <th>poutcome_success</th>         <td>    1.8736</td> <td>    0.090</td> <td>   20.808</td> <td> 0.000</td> <td>    1.697</td> <td>    2.050</td>\n",
       "</tr>\n",
       "</table>"
      ],
      "text/plain": [
       "<class 'statsmodels.iolib.summary.Summary'>\n",
       "\"\"\"\n",
       "                 Generalized Linear Model Regression Results                  \n",
       "==============================================================================\n",
       "Dep. Variable:               response   No. Observations:                28831\n",
       "Model:                            GLM   Df Residuals:                    28816\n",
       "Model Family:                Binomial   Df Model:                           14\n",
       "Link Function:                  logit   Scale:                          1.0000\n",
       "Method:                          IRLS   Log-Likelihood:                -8118.4\n",
       "Date:                Mon, 04 Nov 2019   Deviance:                       16237.\n",
       "Time:                        18:21:42   Pearson chi2:                 3.08e+04\n",
       "No. Iterations:                     6   Covariance Type:             nonrobust\n",
       "============================================================================================\n",
       "                               coef    std err          z      P>|z|      [0.025      0.975]\n",
       "--------------------------------------------------------------------------------------------\n",
       "const                       -2.5643      0.068    -37.987      0.000      -2.697      -2.432\n",
       "cons.price.idx               0.1891      0.026      7.302      0.000       0.138       0.240\n",
       "euribor3m                   -0.9380      0.029    -31.998      0.000      -0.995      -0.881\n",
       "job_retired                  0.4301      0.082      5.275      0.000       0.270       0.590\n",
       "job_student                  0.4601      0.103      4.481      0.000       0.259       0.661\n",
       "default_unknown             -0.3629      0.067     -5.414      0.000      -0.494      -0.231\n",
       "contact_telephone           -0.2072      0.063     -3.288      0.001      -0.331      -0.084\n",
       "month_aug                    0.1166      0.068      1.727      0.084      -0.016       0.249\n",
       "month_dec                    0.4819      0.197      2.449      0.014       0.096       0.868\n",
       "month_jun                    0.0719      0.073      0.981      0.326      -0.072       0.215\n",
       "month_mar                    0.8518      0.115      7.427      0.000       0.627       1.077\n",
       "month_may                   -0.8428      0.057    -14.896      0.000      -0.954      -0.732\n",
       "month_sep                    0.3004      0.117      2.561      0.010       0.071       0.530\n",
       "previous_Never contacted     0.4075      0.063      6.468      0.000       0.284       0.531\n",
       "poutcome_success             1.8736      0.090     20.808      0.000       1.697       2.050\n",
       "============================================================================================\n",
       "\"\"\""
      ]
     },
     "execution_count": 140,
     "metadata": {},
     "output_type": "execute_result"
    }
   ],
   "source": [
    "# Refit the model with the new set of features\n",
    "model_7 = sm.GLM(y_train,(sm.add_constant(X_train)), family = sm.families.Binomial())\n",
    "model_7.fit().summary()"
   ]
  },
  {
   "cell_type": "code",
   "execution_count": 141,
   "metadata": {},
   "outputs": [
    {
     "data": {
      "text/html": [
       "<div>\n",
       "<style scoped>\n",
       "    .dataframe tbody tr th:only-of-type {\n",
       "        vertical-align: middle;\n",
       "    }\n",
       "\n",
       "    .dataframe tbody tr th {\n",
       "        vertical-align: top;\n",
       "    }\n",
       "\n",
       "    .dataframe thead th {\n",
       "        text-align: right;\n",
       "    }\n",
       "</style>\n",
       "<table border=\"1\" class=\"dataframe\">\n",
       "  <thead>\n",
       "    <tr style=\"text-align: right;\">\n",
       "      <th></th>\n",
       "      <th>Features</th>\n",
       "      <th>VIF</th>\n",
       "    </tr>\n",
       "  </thead>\n",
       "  <tbody>\n",
       "    <tr>\n",
       "      <th>5</th>\n",
       "      <td>contact_telephone</td>\n",
       "      <td>3.81</td>\n",
       "    </tr>\n",
       "    <tr>\n",
       "      <th>0</th>\n",
       "      <td>cons.price.idx</td>\n",
       "      <td>3.37</td>\n",
       "    </tr>\n",
       "    <tr>\n",
       "      <th>1</th>\n",
       "      <td>euribor3m</td>\n",
       "      <td>3.35</td>\n",
       "    </tr>\n",
       "    <tr>\n",
       "      <th>12</th>\n",
       "      <td>previous_Never contacted</td>\n",
       "      <td>2.94</td>\n",
       "    </tr>\n",
       "    <tr>\n",
       "      <th>10</th>\n",
       "      <td>month_may</td>\n",
       "      <td>2.78</td>\n",
       "    </tr>\n",
       "    <tr>\n",
       "      <th>8</th>\n",
       "      <td>month_jun</td>\n",
       "      <td>2.06</td>\n",
       "    </tr>\n",
       "    <tr>\n",
       "      <th>6</th>\n",
       "      <td>month_aug</td>\n",
       "      <td>1.60</td>\n",
       "    </tr>\n",
       "    <tr>\n",
       "      <th>4</th>\n",
       "      <td>default_unknown</td>\n",
       "      <td>1.31</td>\n",
       "    </tr>\n",
       "    <tr>\n",
       "      <th>13</th>\n",
       "      <td>poutcome_success</td>\n",
       "      <td>1.19</td>\n",
       "    </tr>\n",
       "    <tr>\n",
       "      <th>11</th>\n",
       "      <td>month_sep</td>\n",
       "      <td>1.11</td>\n",
       "    </tr>\n",
       "    <tr>\n",
       "      <th>9</th>\n",
       "      <td>month_mar</td>\n",
       "      <td>1.08</td>\n",
       "    </tr>\n",
       "    <tr>\n",
       "      <th>2</th>\n",
       "      <td>job_retired</td>\n",
       "      <td>1.07</td>\n",
       "    </tr>\n",
       "    <tr>\n",
       "      <th>3</th>\n",
       "      <td>job_student</td>\n",
       "      <td>1.06</td>\n",
       "    </tr>\n",
       "    <tr>\n",
       "      <th>7</th>\n",
       "      <td>month_dec</td>\n",
       "      <td>1.04</td>\n",
       "    </tr>\n",
       "  </tbody>\n",
       "</table>\n",
       "</div>"
      ],
      "text/plain": [
       "                    Features   VIF\n",
       "5          contact_telephone  3.81\n",
       "0             cons.price.idx  3.37\n",
       "1                  euribor3m  3.35\n",
       "12  previous_Never contacted  2.94\n",
       "10                 month_may  2.78\n",
       "8                  month_jun  2.06\n",
       "6                  month_aug  1.60\n",
       "4            default_unknown  1.31\n",
       "13          poutcome_success  1.19\n",
       "11                 month_sep  1.11\n",
       "9                  month_mar  1.08\n",
       "2                job_retired  1.07\n",
       "3                job_student  1.06\n",
       "7                  month_dec  1.04"
      ]
     },
     "execution_count": 141,
     "metadata": {},
     "output_type": "execute_result"
    }
   ],
   "source": [
    "#calculating vif\n",
    "vif = pd.DataFrame()\n",
    "vif['Features'] = X_train.columns\n",
    "vif['VIF'] = [variance_inflation_factor(X_train.values, i) for i in range(X_train.shape[1])]\n",
    "vif['VIF'] = round(vif['VIF'], 2)\n",
    "vif = vif.sort_values(by = \"VIF\", ascending = False)\n",
    "vif"
   ]
  },
  {
   "cell_type": "markdown",
   "metadata": {},
   "source": [
    "Let us drop `month_jun` has it has high pvalue."
   ]
  },
  {
   "cell_type": "code",
   "execution_count": 142,
   "metadata": {},
   "outputs": [],
   "source": [
    "X_train.drop('month_jun', axis = 1, inplace = True)"
   ]
  },
  {
   "cell_type": "markdown",
   "metadata": {},
   "source": [
    "#### Model 8:"
   ]
  },
  {
   "cell_type": "code",
   "execution_count": 143,
   "metadata": {},
   "outputs": [
    {
     "data": {
      "text/html": [
       "<table class=\"simpletable\">\n",
       "<caption>Generalized Linear Model Regression Results</caption>\n",
       "<tr>\n",
       "  <th>Dep. Variable:</th>      <td>response</td>     <th>  No. Observations:  </th>  <td> 28831</td>  \n",
       "</tr>\n",
       "<tr>\n",
       "  <th>Model:</th>                 <td>GLM</td>       <th>  Df Residuals:      </th>  <td> 28817</td>  \n",
       "</tr>\n",
       "<tr>\n",
       "  <th>Model Family:</th>       <td>Binomial</td>     <th>  Df Model:          </th>  <td>    13</td>  \n",
       "</tr>\n",
       "<tr>\n",
       "  <th>Link Function:</th>        <td>logit</td>      <th>  Scale:             </th> <td>  1.0000</td> \n",
       "</tr>\n",
       "<tr>\n",
       "  <th>Method:</th>               <td>IRLS</td>       <th>  Log-Likelihood:    </th> <td> -8118.9</td> \n",
       "</tr>\n",
       "<tr>\n",
       "  <th>Date:</th>           <td>Mon, 04 Nov 2019</td> <th>  Deviance:          </th> <td>  16238.</td> \n",
       "</tr>\n",
       "<tr>\n",
       "  <th>Time:</th>               <td>18:21:44</td>     <th>  Pearson chi2:      </th> <td>3.07e+04</td> \n",
       "</tr>\n",
       "<tr>\n",
       "  <th>No. Iterations:</th>         <td>6</td>        <th>  Covariance Type:   </th> <td>nonrobust</td>\n",
       "</tr>\n",
       "</table>\n",
       "<table class=\"simpletable\">\n",
       "<tr>\n",
       "              <td></td>                <th>coef</th>     <th>std err</th>      <th>z</th>      <th>P>|z|</th>  <th>[0.025</th>    <th>0.975]</th>  \n",
       "</tr>\n",
       "<tr>\n",
       "  <th>const</th>                    <td>   -2.5546</td> <td>    0.067</td> <td>  -38.289</td> <td> 0.000</td> <td>   -2.685</td> <td>   -2.424</td>\n",
       "</tr>\n",
       "<tr>\n",
       "  <th>cons.price.idx</th>           <td>    0.1931</td> <td>    0.026</td> <td>    7.554</td> <td> 0.000</td> <td>    0.143</td> <td>    0.243</td>\n",
       "</tr>\n",
       "<tr>\n",
       "  <th>euribor3m</th>                <td>   -0.9413</td> <td>    0.029</td> <td>  -32.392</td> <td> 0.000</td> <td>   -0.998</td> <td>   -0.884</td>\n",
       "</tr>\n",
       "<tr>\n",
       "  <th>job_retired</th>              <td>    0.4266</td> <td>    0.081</td> <td>    5.236</td> <td> 0.000</td> <td>    0.267</td> <td>    0.586</td>\n",
       "</tr>\n",
       "<tr>\n",
       "  <th>job_student</th>              <td>    0.4588</td> <td>    0.103</td> <td>    4.467</td> <td> 0.000</td> <td>    0.257</td> <td>    0.660</td>\n",
       "</tr>\n",
       "<tr>\n",
       "  <th>default_unknown</th>          <td>   -0.3620</td> <td>    0.067</td> <td>   -5.402</td> <td> 0.000</td> <td>   -0.493</td> <td>   -0.231</td>\n",
       "</tr>\n",
       "<tr>\n",
       "  <th>contact_telephone</th>        <td>   -0.1871</td> <td>    0.059</td> <td>   -3.149</td> <td> 0.002</td> <td>   -0.304</td> <td>   -0.071</td>\n",
       "</tr>\n",
       "<tr>\n",
       "  <th>month_aug</th>                <td>    0.1067</td> <td>    0.067</td> <td>    1.599</td> <td> 0.110</td> <td>   -0.024</td> <td>    0.237</td>\n",
       "</tr>\n",
       "<tr>\n",
       "  <th>month_dec</th>                <td>    0.4690</td> <td>    0.196</td> <td>    2.389</td> <td> 0.017</td> <td>    0.084</td> <td>    0.854</td>\n",
       "</tr>\n",
       "<tr>\n",
       "  <th>month_mar</th>                <td>    0.8373</td> <td>    0.114</td> <td>    7.362</td> <td> 0.000</td> <td>    0.614</td> <td>    1.060</td>\n",
       "</tr>\n",
       "<tr>\n",
       "  <th>month_may</th>                <td>   -0.8597</td> <td>    0.054</td> <td>  -15.978</td> <td> 0.000</td> <td>   -0.965</td> <td>   -0.754</td>\n",
       "</tr>\n",
       "<tr>\n",
       "  <th>month_sep</th>                <td>    0.2829</td> <td>    0.116</td> <td>    2.441</td> <td> 0.015</td> <td>    0.056</td> <td>    0.510</td>\n",
       "</tr>\n",
       "<tr>\n",
       "  <th>previous_Never contacted</th> <td>    0.4094</td> <td>    0.063</td> <td>    6.500</td> <td> 0.000</td> <td>    0.286</td> <td>    0.533</td>\n",
       "</tr>\n",
       "<tr>\n",
       "  <th>poutcome_success</th>         <td>    1.8754</td> <td>    0.090</td> <td>   20.829</td> <td> 0.000</td> <td>    1.699</td> <td>    2.052</td>\n",
       "</tr>\n",
       "</table>"
      ],
      "text/plain": [
       "<class 'statsmodels.iolib.summary.Summary'>\n",
       "\"\"\"\n",
       "                 Generalized Linear Model Regression Results                  \n",
       "==============================================================================\n",
       "Dep. Variable:               response   No. Observations:                28831\n",
       "Model:                            GLM   Df Residuals:                    28817\n",
       "Model Family:                Binomial   Df Model:                           13\n",
       "Link Function:                  logit   Scale:                          1.0000\n",
       "Method:                          IRLS   Log-Likelihood:                -8118.9\n",
       "Date:                Mon, 04 Nov 2019   Deviance:                       16238.\n",
       "Time:                        18:21:44   Pearson chi2:                 3.07e+04\n",
       "No. Iterations:                     6   Covariance Type:             nonrobust\n",
       "============================================================================================\n",
       "                               coef    std err          z      P>|z|      [0.025      0.975]\n",
       "--------------------------------------------------------------------------------------------\n",
       "const                       -2.5546      0.067    -38.289      0.000      -2.685      -2.424\n",
       "cons.price.idx               0.1931      0.026      7.554      0.000       0.143       0.243\n",
       "euribor3m                   -0.9413      0.029    -32.392      0.000      -0.998      -0.884\n",
       "job_retired                  0.4266      0.081      5.236      0.000       0.267       0.586\n",
       "job_student                  0.4588      0.103      4.467      0.000       0.257       0.660\n",
       "default_unknown             -0.3620      0.067     -5.402      0.000      -0.493      -0.231\n",
       "contact_telephone           -0.1871      0.059     -3.149      0.002      -0.304      -0.071\n",
       "month_aug                    0.1067      0.067      1.599      0.110      -0.024       0.237\n",
       "month_dec                    0.4690      0.196      2.389      0.017       0.084       0.854\n",
       "month_mar                    0.8373      0.114      7.362      0.000       0.614       1.060\n",
       "month_may                   -0.8597      0.054    -15.978      0.000      -0.965      -0.754\n",
       "month_sep                    0.2829      0.116      2.441      0.015       0.056       0.510\n",
       "previous_Never contacted     0.4094      0.063      6.500      0.000       0.286       0.533\n",
       "poutcome_success             1.8754      0.090     20.829      0.000       1.699       2.052\n",
       "============================================================================================\n",
       "\"\"\""
      ]
     },
     "execution_count": 143,
     "metadata": {},
     "output_type": "execute_result"
    }
   ],
   "source": [
    "# Refit the model with the new set of features\n",
    "model_8 = sm.GLM(y_train,(sm.add_constant(X_train)), family = sm.families.Binomial())\n",
    "model_8.fit().summary()"
   ]
  },
  {
   "cell_type": "code",
   "execution_count": 144,
   "metadata": {},
   "outputs": [
    {
     "data": {
      "text/html": [
       "<div>\n",
       "<style scoped>\n",
       "    .dataframe tbody tr th:only-of-type {\n",
       "        vertical-align: middle;\n",
       "    }\n",
       "\n",
       "    .dataframe tbody tr th {\n",
       "        vertical-align: top;\n",
       "    }\n",
       "\n",
       "    .dataframe thead th {\n",
       "        text-align: right;\n",
       "    }\n",
       "</style>\n",
       "<table border=\"1\" class=\"dataframe\">\n",
       "  <thead>\n",
       "    <tr style=\"text-align: right;\">\n",
       "      <th></th>\n",
       "      <th>Features</th>\n",
       "      <th>VIF</th>\n",
       "    </tr>\n",
       "  </thead>\n",
       "  <tbody>\n",
       "    <tr>\n",
       "      <th>5</th>\n",
       "      <td>contact_telephone</td>\n",
       "      <td>3.17</td>\n",
       "    </tr>\n",
       "    <tr>\n",
       "      <th>0</th>\n",
       "      <td>cons.price.idx</td>\n",
       "      <td>3.04</td>\n",
       "    </tr>\n",
       "    <tr>\n",
       "      <th>1</th>\n",
       "      <td>euribor3m</td>\n",
       "      <td>2.83</td>\n",
       "    </tr>\n",
       "    <tr>\n",
       "      <th>11</th>\n",
       "      <td>previous_Never contacted</td>\n",
       "      <td>2.67</td>\n",
       "    </tr>\n",
       "    <tr>\n",
       "      <th>9</th>\n",
       "      <td>month_may</td>\n",
       "      <td>2.14</td>\n",
       "    </tr>\n",
       "    <tr>\n",
       "      <th>6</th>\n",
       "      <td>month_aug</td>\n",
       "      <td>1.60</td>\n",
       "    </tr>\n",
       "    <tr>\n",
       "      <th>4</th>\n",
       "      <td>default_unknown</td>\n",
       "      <td>1.31</td>\n",
       "    </tr>\n",
       "    <tr>\n",
       "      <th>12</th>\n",
       "      <td>poutcome_success</td>\n",
       "      <td>1.19</td>\n",
       "    </tr>\n",
       "    <tr>\n",
       "      <th>10</th>\n",
       "      <td>month_sep</td>\n",
       "      <td>1.09</td>\n",
       "    </tr>\n",
       "    <tr>\n",
       "      <th>2</th>\n",
       "      <td>job_retired</td>\n",
       "      <td>1.07</td>\n",
       "    </tr>\n",
       "    <tr>\n",
       "      <th>8</th>\n",
       "      <td>month_mar</td>\n",
       "      <td>1.07</td>\n",
       "    </tr>\n",
       "    <tr>\n",
       "      <th>3</th>\n",
       "      <td>job_student</td>\n",
       "      <td>1.05</td>\n",
       "    </tr>\n",
       "    <tr>\n",
       "      <th>7</th>\n",
       "      <td>month_dec</td>\n",
       "      <td>1.04</td>\n",
       "    </tr>\n",
       "  </tbody>\n",
       "</table>\n",
       "</div>"
      ],
      "text/plain": [
       "                    Features   VIF\n",
       "5          contact_telephone  3.17\n",
       "0             cons.price.idx  3.04\n",
       "1                  euribor3m  2.83\n",
       "11  previous_Never contacted  2.67\n",
       "9                  month_may  2.14\n",
       "6                  month_aug  1.60\n",
       "4            default_unknown  1.31\n",
       "12          poutcome_success  1.19\n",
       "10                 month_sep  1.09\n",
       "2                job_retired  1.07\n",
       "8                  month_mar  1.07\n",
       "3                job_student  1.05\n",
       "7                  month_dec  1.04"
      ]
     },
     "execution_count": 144,
     "metadata": {},
     "output_type": "execute_result"
    }
   ],
   "source": [
    "#calculating vif\n",
    "vif = pd.DataFrame()\n",
    "vif['Features'] = X_train.columns\n",
    "vif['VIF'] = [variance_inflation_factor(X_train.values, i) for i in range(X_train.shape[1])]\n",
    "vif['VIF'] = round(vif['VIF'], 2)\n",
    "vif = vif.sort_values(by = \"VIF\", ascending = False)\n",
    "vif"
   ]
  },
  {
   "cell_type": "markdown",
   "metadata": {},
   "source": [
    "Let us drop `month_aug` has it has high p-value."
   ]
  },
  {
   "cell_type": "code",
   "execution_count": 145,
   "metadata": {},
   "outputs": [],
   "source": [
    "X_train.drop('month_aug', axis = 1, inplace = True)"
   ]
  },
  {
   "cell_type": "markdown",
   "metadata": {},
   "source": [
    "#### Model 9:"
   ]
  },
  {
   "cell_type": "code",
   "execution_count": 146,
   "metadata": {},
   "outputs": [
    {
     "data": {
      "text/html": [
       "<table class=\"simpletable\">\n",
       "<caption>Generalized Linear Model Regression Results</caption>\n",
       "<tr>\n",
       "  <th>Dep. Variable:</th>      <td>response</td>     <th>  No. Observations:  </th>  <td> 28831</td>  \n",
       "</tr>\n",
       "<tr>\n",
       "  <th>Model:</th>                 <td>GLM</td>       <th>  Df Residuals:      </th>  <td> 28818</td>  \n",
       "</tr>\n",
       "<tr>\n",
       "  <th>Model Family:</th>       <td>Binomial</td>     <th>  Df Model:          </th>  <td>    12</td>  \n",
       "</tr>\n",
       "<tr>\n",
       "  <th>Link Function:</th>        <td>logit</td>      <th>  Scale:             </th> <td>  1.0000</td> \n",
       "</tr>\n",
       "<tr>\n",
       "  <th>Method:</th>               <td>IRLS</td>       <th>  Log-Likelihood:    </th> <td> -8120.1</td> \n",
       "</tr>\n",
       "<tr>\n",
       "  <th>Date:</th>           <td>Mon, 04 Nov 2019</td> <th>  Deviance:          </th> <td>  16240.</td> \n",
       "</tr>\n",
       "<tr>\n",
       "  <th>Time:</th>               <td>18:21:44</td>     <th>  Pearson chi2:      </th> <td>3.08e+04</td> \n",
       "</tr>\n",
       "<tr>\n",
       "  <th>No. Iterations:</th>         <td>6</td>        <th>  Covariance Type:   </th> <td>nonrobust</td>\n",
       "</tr>\n",
       "</table>\n",
       "<table class=\"simpletable\">\n",
       "<tr>\n",
       "              <td></td>                <th>coef</th>     <th>std err</th>      <th>z</th>      <th>P>|z|</th>  <th>[0.025</th>    <th>0.975]</th>  \n",
       "</tr>\n",
       "<tr>\n",
       "  <th>const</th>                    <td>   -2.5298</td> <td>    0.065</td> <td>  -39.104</td> <td> 0.000</td> <td>   -2.657</td> <td>   -2.403</td>\n",
       "</tr>\n",
       "<tr>\n",
       "  <th>cons.price.idx</th>           <td>    0.1815</td> <td>    0.025</td> <td>    7.402</td> <td> 0.000</td> <td>    0.133</td> <td>    0.230</td>\n",
       "</tr>\n",
       "<tr>\n",
       "  <th>euribor3m</th>                <td>   -0.9292</td> <td>    0.028</td> <td>  -33.095</td> <td> 0.000</td> <td>   -0.984</td> <td>   -0.874</td>\n",
       "</tr>\n",
       "<tr>\n",
       "  <th>job_retired</th>              <td>    0.4338</td> <td>    0.081</td> <td>    5.333</td> <td> 0.000</td> <td>    0.274</td> <td>    0.593</td>\n",
       "</tr>\n",
       "<tr>\n",
       "  <th>job_student</th>              <td>    0.4666</td> <td>    0.102</td> <td>    4.553</td> <td> 0.000</td> <td>    0.266</td> <td>    0.667</td>\n",
       "</tr>\n",
       "<tr>\n",
       "  <th>default_unknown</th>          <td>   -0.3635</td> <td>    0.067</td> <td>   -5.424</td> <td> 0.000</td> <td>   -0.495</td> <td>   -0.232</td>\n",
       "</tr>\n",
       "<tr>\n",
       "  <th>contact_telephone</th>        <td>   -0.1933</td> <td>    0.059</td> <td>   -3.263</td> <td> 0.001</td> <td>   -0.309</td> <td>   -0.077</td>\n",
       "</tr>\n",
       "<tr>\n",
       "  <th>month_dec</th>                <td>    0.4441</td> <td>    0.196</td> <td>    2.269</td> <td> 0.023</td> <td>    0.060</td> <td>    0.828</td>\n",
       "</tr>\n",
       "<tr>\n",
       "  <th>month_mar</th>                <td>    0.8193</td> <td>    0.113</td> <td>    7.243</td> <td> 0.000</td> <td>    0.598</td> <td>    1.041</td>\n",
       "</tr>\n",
       "<tr>\n",
       "  <th>month_may</th>                <td>   -0.8794</td> <td>    0.052</td> <td>  -16.809</td> <td> 0.000</td> <td>   -0.982</td> <td>   -0.777</td>\n",
       "</tr>\n",
       "<tr>\n",
       "  <th>month_sep</th>                <td>    0.2711</td> <td>    0.116</td> <td>    2.344</td> <td> 0.019</td> <td>    0.044</td> <td>    0.498</td>\n",
       "</tr>\n",
       "<tr>\n",
       "  <th>previous_Never contacted</th> <td>    0.4076</td> <td>    0.063</td> <td>    6.484</td> <td> 0.000</td> <td>    0.284</td> <td>    0.531</td>\n",
       "</tr>\n",
       "<tr>\n",
       "  <th>poutcome_success</th>         <td>    1.8859</td> <td>    0.090</td> <td>   21.017</td> <td> 0.000</td> <td>    1.710</td> <td>    2.062</td>\n",
       "</tr>\n",
       "</table>"
      ],
      "text/plain": [
       "<class 'statsmodels.iolib.summary.Summary'>\n",
       "\"\"\"\n",
       "                 Generalized Linear Model Regression Results                  \n",
       "==============================================================================\n",
       "Dep. Variable:               response   No. Observations:                28831\n",
       "Model:                            GLM   Df Residuals:                    28818\n",
       "Model Family:                Binomial   Df Model:                           12\n",
       "Link Function:                  logit   Scale:                          1.0000\n",
       "Method:                          IRLS   Log-Likelihood:                -8120.1\n",
       "Date:                Mon, 04 Nov 2019   Deviance:                       16240.\n",
       "Time:                        18:21:44   Pearson chi2:                 3.08e+04\n",
       "No. Iterations:                     6   Covariance Type:             nonrobust\n",
       "============================================================================================\n",
       "                               coef    std err          z      P>|z|      [0.025      0.975]\n",
       "--------------------------------------------------------------------------------------------\n",
       "const                       -2.5298      0.065    -39.104      0.000      -2.657      -2.403\n",
       "cons.price.idx               0.1815      0.025      7.402      0.000       0.133       0.230\n",
       "euribor3m                   -0.9292      0.028    -33.095      0.000      -0.984      -0.874\n",
       "job_retired                  0.4338      0.081      5.333      0.000       0.274       0.593\n",
       "job_student                  0.4666      0.102      4.553      0.000       0.266       0.667\n",
       "default_unknown             -0.3635      0.067     -5.424      0.000      -0.495      -0.232\n",
       "contact_telephone           -0.1933      0.059     -3.263      0.001      -0.309      -0.077\n",
       "month_dec                    0.4441      0.196      2.269      0.023       0.060       0.828\n",
       "month_mar                    0.8193      0.113      7.243      0.000       0.598       1.041\n",
       "month_may                   -0.8794      0.052    -16.809      0.000      -0.982      -0.777\n",
       "month_sep                    0.2711      0.116      2.344      0.019       0.044       0.498\n",
       "previous_Never contacted     0.4076      0.063      6.484      0.000       0.284       0.531\n",
       "poutcome_success             1.8859      0.090     21.017      0.000       1.710       2.062\n",
       "============================================================================================\n",
       "\"\"\""
      ]
     },
     "execution_count": 146,
     "metadata": {},
     "output_type": "execute_result"
    }
   ],
   "source": [
    "# Refit the model with the new set of features\n",
    "model_9 = sm.GLM(y_train,(sm.add_constant(X_train)), family = sm.families.Binomial())\n",
    "model_9.fit().summary()"
   ]
  },
  {
   "cell_type": "code",
   "execution_count": 147,
   "metadata": {},
   "outputs": [
    {
     "data": {
      "text/html": [
       "<div>\n",
       "<style scoped>\n",
       "    .dataframe tbody tr th:only-of-type {\n",
       "        vertical-align: middle;\n",
       "    }\n",
       "\n",
       "    .dataframe tbody tr th {\n",
       "        vertical-align: top;\n",
       "    }\n",
       "\n",
       "    .dataframe thead th {\n",
       "        text-align: right;\n",
       "    }\n",
       "</style>\n",
       "<table border=\"1\" class=\"dataframe\">\n",
       "  <thead>\n",
       "    <tr style=\"text-align: right;\">\n",
       "      <th></th>\n",
       "      <th>Features</th>\n",
       "      <th>VIF</th>\n",
       "    </tr>\n",
       "  </thead>\n",
       "  <tbody>\n",
       "    <tr>\n",
       "      <th>5</th>\n",
       "      <td>contact_telephone</td>\n",
       "      <td>3.15</td>\n",
       "    </tr>\n",
       "    <tr>\n",
       "      <th>0</th>\n",
       "      <td>cons.price.idx</td>\n",
       "      <td>2.65</td>\n",
       "    </tr>\n",
       "    <tr>\n",
       "      <th>1</th>\n",
       "      <td>euribor3m</td>\n",
       "      <td>2.50</td>\n",
       "    </tr>\n",
       "    <tr>\n",
       "      <th>10</th>\n",
       "      <td>previous_Never contacted</td>\n",
       "      <td>2.24</td>\n",
       "    </tr>\n",
       "    <tr>\n",
       "      <th>8</th>\n",
       "      <td>month_may</td>\n",
       "      <td>2.07</td>\n",
       "    </tr>\n",
       "    <tr>\n",
       "      <th>4</th>\n",
       "      <td>default_unknown</td>\n",
       "      <td>1.31</td>\n",
       "    </tr>\n",
       "    <tr>\n",
       "      <th>11</th>\n",
       "      <td>poutcome_success</td>\n",
       "      <td>1.14</td>\n",
       "    </tr>\n",
       "    <tr>\n",
       "      <th>9</th>\n",
       "      <td>month_sep</td>\n",
       "      <td>1.09</td>\n",
       "    </tr>\n",
       "    <tr>\n",
       "      <th>2</th>\n",
       "      <td>job_retired</td>\n",
       "      <td>1.07</td>\n",
       "    </tr>\n",
       "    <tr>\n",
       "      <th>7</th>\n",
       "      <td>month_mar</td>\n",
       "      <td>1.07</td>\n",
       "    </tr>\n",
       "    <tr>\n",
       "      <th>3</th>\n",
       "      <td>job_student</td>\n",
       "      <td>1.05</td>\n",
       "    </tr>\n",
       "    <tr>\n",
       "      <th>6</th>\n",
       "      <td>month_dec</td>\n",
       "      <td>1.03</td>\n",
       "    </tr>\n",
       "  </tbody>\n",
       "</table>\n",
       "</div>"
      ],
      "text/plain": [
       "                    Features   VIF\n",
       "5          contact_telephone  3.15\n",
       "0             cons.price.idx  2.65\n",
       "1                  euribor3m  2.50\n",
       "10  previous_Never contacted  2.24\n",
       "8                  month_may  2.07\n",
       "4            default_unknown  1.31\n",
       "11          poutcome_success  1.14\n",
       "9                  month_sep  1.09\n",
       "2                job_retired  1.07\n",
       "7                  month_mar  1.07\n",
       "3                job_student  1.05\n",
       "6                  month_dec  1.03"
      ]
     },
     "execution_count": 147,
     "metadata": {},
     "output_type": "execute_result"
    }
   ],
   "source": [
    "#calculating vif\n",
    "vif = pd.DataFrame()\n",
    "vif['Features'] = X_train.columns\n",
    "vif['VIF'] = [variance_inflation_factor(X_train.values, i) for i in range(X_train.shape[1])]\n",
    "vif['VIF'] = round(vif['VIF'], 2)\n",
    "vif = vif.sort_values(by = \"VIF\", ascending = False)\n",
    "vif"
   ]
  },
  {
   "cell_type": "markdown",
   "metadata": {},
   "source": [
    "We are good to go! We have a model with features having less than 0.05 p-values and less than 5 VIF."
   ]
  },
  {
   "cell_type": "code",
   "execution_count": 148,
   "metadata": {},
   "outputs": [
    {
     "data": {
      "text/plain": [
       "Index(['cons.price.idx', 'euribor3m', 'job_retired', 'job_student',\n",
       "       'default_unknown', 'contact_telephone', 'month_dec', 'month_mar',\n",
       "       'month_may', 'month_sep', 'previous_Never contacted',\n",
       "       'poutcome_success'],\n",
       "      dtype='object')"
      ]
     },
     "execution_count": 148,
     "metadata": {},
     "output_type": "execute_result"
    }
   ],
   "source": [
    "# Let us check our final columns\n",
    "final_cols = X_train.columns\n",
    "final_cols"
   ]
  },
  {
   "cell_type": "markdown",
   "metadata": {},
   "source": [
    "#### Let us use grid search for hyper parameter tuning:"
   ]
  },
  {
   "cell_type": "code",
   "execution_count": 149,
   "metadata": {},
   "outputs": [
    {
     "data": {
      "text/plain": [
       "GridSearchCV(cv=StratifiedKFold(n_splits=5, random_state=42, shuffle=True),\n",
       "             error_score='raise-deprecating',\n",
       "             estimator=LogisticRegression(C=1.0, class_weight='balanced',\n",
       "                                          dual=False, fit_intercept=True,\n",
       "                                          intercept_scaling=1, l1_ratio=None,\n",
       "                                          max_iter=100, multi_class='warn',\n",
       "                                          n_jobs=None, penalty='l2',\n",
       "                                          random_state=42, solver='warn',\n",
       "                                          tol=0.0001, verbose=0,\n",
       "                                          warm_start=False),\n",
       "             iid='warn', n_jobs=None,\n",
       "             param_grid=[{'C': [0.1, 0.3, 0.4, 0.5, 0.8, 0.9, 1, 2],\n",
       "                          'penalty': ['l1', 'l2']}],\n",
       "             pre_dispatch='2*n_jobs', refit=True, return_train_score=False,\n",
       "             scoring='roc_auc', verbose=0)"
      ]
     },
     "execution_count": 149,
     "metadata": {},
     "output_type": "execute_result"
    }
   ],
   "source": [
    "logistic = LogisticRegression(class_weight='balanced',random_state = 42)\n",
    "params = [{'C': [0.1, 0.3, 0.4 ,0.5, 0.8, 0.9, 1, 2], 'penalty': ['l1', 'l2']}]\n",
    "folds = StratifiedKFold(n_splits = 5, shuffle = True, random_state = 42)\n",
    "logreg_model = GridSearchCV(estimator=logistic, cv=folds, param_grid=params, scoring='roc_auc')\n",
    "logreg_model.fit(X_train[final_cols],y_train)"
   ]
  },
  {
   "cell_type": "code",
   "execution_count": 150,
   "metadata": {},
   "outputs": [
    {
     "name": "stdout",
     "output_type": "stream",
     "text": [
      "Best AUC:  0.7851066637215725\n",
      "Best hyperparameters:  {'C': 1, 'penalty': 'l1'}\n"
     ]
    }
   ],
   "source": [
    "# print best hyperparameters\n",
    "print(\"Best AUC: \", logreg_model.best_score_)\n",
    "print(\"Best hyperparameters: \", logreg_model.best_params_)"
   ]
  },
  {
   "cell_type": "code",
   "execution_count": 151,
   "metadata": {},
   "outputs": [
    {
     "name": "stdout",
     "output_type": "stream",
     "text": [
      "[[20082  5491]\n",
      " [ 1034  2224]]\n",
      "Sensitivity: \t0.6826\n",
      "Specificity: \t0.7853\n",
      "AUC:    \t 0.7857\n"
     ]
    }
   ],
   "source": [
    "# predicting response on train data using our model\n",
    "y_pred = logreg_model.predict(X_train[final_cols])\n",
    "\n",
    "# create confusion matrix\n",
    "cm = confusion_matrix(y_train, y_pred)\n",
    "print(cm)\n",
    "\n",
    "# check sensitivity and specificity\n",
    "sensitivity, specificity, _ = sensitivity_specificity_support(y_train, y_pred, average='binary')\n",
    "print(\"Sensitivity: \\t\", round(sensitivity, 4), \"\\n\", \"Specificity: \\t\", round(specificity, 4), sep='')\n",
    "\n",
    "# check area under curve\n",
    "y_pred_prob = logreg_model.predict_proba(X_train[final_cols])[:, 1]\n",
    "print(\"AUC:    \\t\", round(roc_auc_score(y_train, y_pred_prob),4))"
   ]
  },
  {
   "cell_type": "code",
   "execution_count": 152,
   "metadata": {},
   "outputs": [
    {
     "name": "stdout",
     "output_type": "stream",
     "text": [
      "[[8584 2391]\n",
      " [ 460  922]]\n",
      "Sensitivity: \t0.6671\n",
      "Specificity: \t0.7821\n",
      "AUC:    \t 0.7742\n"
     ]
    }
   ],
   "source": [
    "# predicting response on test data using our model\n",
    "y_pred = logreg_model.predict(X_test[final_cols])\n",
    "\n",
    "# create onfusion matrix\n",
    "cm = confusion_matrix(y_test, y_pred)\n",
    "print(cm)\n",
    "\n",
    "# check sensitivity and specificity\n",
    "sensitivity, specificity, _ = sensitivity_specificity_support(y_test, y_pred, average='binary')\n",
    "print(\"Sensitivity: \\t\", round(sensitivity, 4), \"\\n\", \"Specificity: \\t\", round(specificity, 4), sep='')\n",
    "\n",
    "# check area under curve\n",
    "y_pred_prob = logreg_model.predict_proba(X_test[final_cols])[:, 1]\n",
    "print(\"AUC:    \\t\", round(roc_auc_score(y_test, y_pred_prob),4))"
   ]
  },
  {
   "cell_type": "markdown",
   "metadata": {},
   "source": [
    "We see that sensitivity of our train set is 68.2% and test is 66.71%. Let us see if this is going to improve with optimal probability cut off."
   ]
  },
  {
   "cell_type": "markdown",
   "metadata": {},
   "source": [
    "#### To find the optimal probability cut-off and reporting the evaluation metrics:"
   ]
  },
  {
   "cell_type": "code",
   "execution_count": 153,
   "metadata": {},
   "outputs": [
    {
     "data": {
      "text/plain": [
       "array([[0.8231876 , 0.1768124 ],\n",
       "       [0.63108956, 0.36891044],\n",
       "       [0.66966317, 0.33033683],\n",
       "       [0.16798105, 0.83201895],\n",
       "       [0.64204083, 0.35795917],\n",
       "       [0.76316467, 0.23683533],\n",
       "       [0.65331961, 0.34668039],\n",
       "       [0.16724095, 0.83275905],\n",
       "       [0.61509784, 0.38490216],\n",
       "       [0.30073314, 0.69926686]])"
      ]
     },
     "execution_count": 153,
     "metadata": {},
     "output_type": "execute_result"
    }
   ],
   "source": [
    "#y train probability prediction\n",
    "y_train_prob_pred = logreg_model.predict_proba(X_train[final_cols])\n",
    "y_train_prob_pred[:10]"
   ]
  },
  {
   "cell_type": "code",
   "execution_count": 154,
   "metadata": {},
   "outputs": [],
   "source": [
    "# combining X_train prospect id and y_train_prob_pred\n",
    "y_train_pred_final = pd.DataFrame(y_train_prob_pred[:,1],index = X_train.index).reset_index().rename(columns = {0:'response_prob'})"
   ]
  },
  {
   "cell_type": "code",
   "execution_count": 155,
   "metadata": {},
   "outputs": [
    {
     "data": {
      "text/html": [
       "<div>\n",
       "<style scoped>\n",
       "    .dataframe tbody tr th:only-of-type {\n",
       "        vertical-align: middle;\n",
       "    }\n",
       "\n",
       "    .dataframe tbody tr th {\n",
       "        vertical-align: top;\n",
       "    }\n",
       "\n",
       "    .dataframe thead th {\n",
       "        text-align: right;\n",
       "    }\n",
       "</style>\n",
       "<table border=\"1\" class=\"dataframe\">\n",
       "  <thead>\n",
       "    <tr style=\"text-align: right;\">\n",
       "      <th></th>\n",
       "      <th>prospect_id</th>\n",
       "      <th>response_prob</th>\n",
       "    </tr>\n",
       "  </thead>\n",
       "  <tbody>\n",
       "    <tr>\n",
       "      <th>0</th>\n",
       "      <td>7020</td>\n",
       "      <td>0.176812</td>\n",
       "    </tr>\n",
       "    <tr>\n",
       "      <th>1</th>\n",
       "      <td>27176</td>\n",
       "      <td>0.368910</td>\n",
       "    </tr>\n",
       "    <tr>\n",
       "      <th>2</th>\n",
       "      <td>15818</td>\n",
       "      <td>0.330337</td>\n",
       "    </tr>\n",
       "    <tr>\n",
       "      <th>3</th>\n",
       "      <td>40972</td>\n",
       "      <td>0.832019</td>\n",
       "    </tr>\n",
       "    <tr>\n",
       "      <th>4</th>\n",
       "      <td>8468</td>\n",
       "      <td>0.357959</td>\n",
       "    </tr>\n",
       "  </tbody>\n",
       "</table>\n",
       "</div>"
      ],
      "text/plain": [
       "   prospect_id  response_prob\n",
       "0         7020       0.176812\n",
       "1        27176       0.368910\n",
       "2        15818       0.330337\n",
       "3        40972       0.832019\n",
       "4         8468       0.357959"
      ]
     },
     "execution_count": 155,
     "metadata": {},
     "output_type": "execute_result"
    }
   ],
   "source": [
    "y_train_pred_final.head()"
   ]
  },
  {
   "cell_type": "code",
   "execution_count": 156,
   "metadata": {},
   "outputs": [
    {
     "data": {
      "text/html": [
       "<div>\n",
       "<style scoped>\n",
       "    .dataframe tbody tr th:only-of-type {\n",
       "        vertical-align: middle;\n",
       "    }\n",
       "\n",
       "    .dataframe tbody tr th {\n",
       "        vertical-align: top;\n",
       "    }\n",
       "\n",
       "    .dataframe thead th {\n",
       "        text-align: right;\n",
       "    }\n",
       "</style>\n",
       "<table border=\"1\" class=\"dataframe\">\n",
       "  <thead>\n",
       "    <tr style=\"text-align: right;\">\n",
       "      <th></th>\n",
       "      <th>prospect_id</th>\n",
       "      <th>response_prob</th>\n",
       "      <th>response</th>\n",
       "    </tr>\n",
       "  </thead>\n",
       "  <tbody>\n",
       "    <tr>\n",
       "      <th>0</th>\n",
       "      <td>39341</td>\n",
       "      <td>0.986596</td>\n",
       "      <td>1</td>\n",
       "    </tr>\n",
       "    <tr>\n",
       "      <th>1</th>\n",
       "      <td>39337</td>\n",
       "      <td>0.986582</td>\n",
       "      <td>1</td>\n",
       "    </tr>\n",
       "    <tr>\n",
       "      <th>2</th>\n",
       "      <td>39326</td>\n",
       "      <td>0.986569</td>\n",
       "      <td>1</td>\n",
       "    </tr>\n",
       "    <tr>\n",
       "      <th>3</th>\n",
       "      <td>39327</td>\n",
       "      <td>0.986569</td>\n",
       "      <td>0</td>\n",
       "    </tr>\n",
       "    <tr>\n",
       "      <th>4</th>\n",
       "      <td>39259</td>\n",
       "      <td>0.986500</td>\n",
       "      <td>1</td>\n",
       "    </tr>\n",
       "  </tbody>\n",
       "</table>\n",
       "</div>"
      ],
      "text/plain": [
       "   prospect_id  response_prob  response\n",
       "0        39341       0.986596         1\n",
       "1        39337       0.986582         1\n",
       "2        39326       0.986569         1\n",
       "3        39327       0.986569         0\n",
       "4        39259       0.986500         1"
      ]
     },
     "execution_count": 156,
     "metadata": {},
     "output_type": "execute_result"
    }
   ],
   "source": [
    "# sorting values in descending order and Merging with y_train response\n",
    "y_train_pred_final = y_train_pred_final.sort_values(by='response_prob',ascending = False)\n",
    "y_train_pred_final = y_train_pred_final.merge(y_train.reset_index(),on='prospect_id')\n",
    "y_train_pred_final.head()"
   ]
  },
  {
   "cell_type": "markdown",
   "metadata": {},
   "source": [
    "#### ROC Curve:"
   ]
  },
  {
   "cell_type": "code",
   "execution_count": 157,
   "metadata": {},
   "outputs": [],
   "source": [
    "# ROC function\n",
    "\n",
    "def draw_roc( actual, probs ):\n",
    "    fpr, tpr, thresholds = metrics.roc_curve( actual, probs,\n",
    "                                              drop_intermediate = False )\n",
    "    auc_score = metrics.roc_auc_score( actual, probs )\n",
    "    plt.figure(figsize=(5, 5))\n",
    "    plt.plot( fpr, tpr, label='ROC curve (area = %0.2f)' % auc_score )\n",
    "    plt.plot([0, 1], [0, 1], 'k--')\n",
    "    plt.xlim([0.0, 1.0])\n",
    "    plt.ylim([0.0, 1.05])\n",
    "    plt.xlabel('False Positive Rate or [1 - True Negative Rate]')\n",
    "    plt.ylabel('True Positive Rate')\n",
    "    plt.title('Receiver operating characteristic example')\n",
    "    plt.legend(loc=\"lower right\")\n",
    "    plt.show()\n",
    "\n",
    "    return None"
   ]
  },
  {
   "cell_type": "code",
   "execution_count": 158,
   "metadata": {},
   "outputs": [
    {
     "data": {
      "image/png": "[encoded data removed]",
      "text/plain": [
       "<Figure size 360x360 with 1 Axes>"
      ]
     },
     "metadata": {
      "needs_background": "light"
     },
     "output_type": "display_data"
    }
   ],
   "source": [
    "# Call the ROC function\n",
    "draw_roc(y_train_pred_final.response, y_train_pred_final.response_prob)"
   ]
  },
  {
   "cell_type": "markdown",
   "metadata": {},
   "source": [
    "The area under the curve of the ROC is 0.79 which is quite good. So we seem to have a good model. Let's also check the sensitivity and specificity tradeoff to find the optimal cutoff point."
   ]
  },
  {
   "cell_type": "code",
   "execution_count": 159,
   "metadata": {},
   "outputs": [
    {
     "data": {
      "text/html": [
       "<div>\n",
       "<style scoped>\n",
       "    .dataframe tbody tr th:only-of-type {\n",
       "        vertical-align: middle;\n",
       "    }\n",
       "\n",
       "    .dataframe tbody tr th {\n",
       "        vertical-align: top;\n",
       "    }\n",
       "\n",
       "    .dataframe thead th {\n",
       "        text-align: right;\n",
       "    }\n",
       "</style>\n",
       "<table border=\"1\" class=\"dataframe\">\n",
       "  <thead>\n",
       "    <tr style=\"text-align: right;\">\n",
       "      <th></th>\n",
       "      <th>prospect_id</th>\n",
       "      <th>response_prob</th>\n",
       "      <th>response</th>\n",
       "      <th>0.0</th>\n",
       "      <th>0.1</th>\n",
       "      <th>0.2</th>\n",
       "      <th>0.3</th>\n",
       "      <th>0.4</th>\n",
       "      <th>0.5</th>\n",
       "      <th>0.6</th>\n",
       "      <th>0.7</th>\n",
       "      <th>0.8</th>\n",
       "      <th>0.9</th>\n",
       "    </tr>\n",
       "  </thead>\n",
       "  <tbody>\n",
       "    <tr>\n",
       "      <th>0</th>\n",
       "      <td>39341</td>\n",
       "      <td>0.986596</td>\n",
       "      <td>1</td>\n",
       "      <td>1</td>\n",
       "      <td>1</td>\n",
       "      <td>1</td>\n",
       "      <td>1</td>\n",
       "      <td>1</td>\n",
       "      <td>1</td>\n",
       "      <td>1</td>\n",
       "      <td>1</td>\n",
       "      <td>1</td>\n",
       "      <td>1</td>\n",
       "    </tr>\n",
       "    <tr>\n",
       "      <th>1</th>\n",
       "      <td>39337</td>\n",
       "      <td>0.986582</td>\n",
       "      <td>1</td>\n",
       "      <td>1</td>\n",
       "      <td>1</td>\n",
       "      <td>1</td>\n",
       "      <td>1</td>\n",
       "      <td>1</td>\n",
       "      <td>1</td>\n",
       "      <td>1</td>\n",
       "      <td>1</td>\n",
       "      <td>1</td>\n",
       "      <td>1</td>\n",
       "    </tr>\n",
       "    <tr>\n",
       "      <th>2</th>\n",
       "      <td>39326</td>\n",
       "      <td>0.986569</td>\n",
       "      <td>1</td>\n",
       "      <td>1</td>\n",
       "      <td>1</td>\n",
       "      <td>1</td>\n",
       "      <td>1</td>\n",
       "      <td>1</td>\n",
       "      <td>1</td>\n",
       "      <td>1</td>\n",
       "      <td>1</td>\n",
       "      <td>1</td>\n",
       "      <td>1</td>\n",
       "    </tr>\n",
       "    <tr>\n",
       "      <th>3</th>\n",
       "      <td>39327</td>\n",
       "      <td>0.986569</td>\n",
       "      <td>0</td>\n",
       "      <td>1</td>\n",
       "      <td>1</td>\n",
       "      <td>1</td>\n",
       "      <td>1</td>\n",
       "      <td>1</td>\n",
       "      <td>1</td>\n",
       "      <td>1</td>\n",
       "      <td>1</td>\n",
       "      <td>1</td>\n",
       "      <td>1</td>\n",
       "    </tr>\n",
       "    <tr>\n",
       "      <th>4</th>\n",
       "      <td>39259</td>\n",
       "      <td>0.986500</td>\n",
       "      <td>1</td>\n",
       "      <td>1</td>\n",
       "      <td>1</td>\n",
       "      <td>1</td>\n",
       "      <td>1</td>\n",
       "      <td>1</td>\n",
       "      <td>1</td>\n",
       "      <td>1</td>\n",
       "      <td>1</td>\n",
       "      <td>1</td>\n",
       "      <td>1</td>\n",
       "    </tr>\n",
       "  </tbody>\n",
       "</table>\n",
       "</div>"
      ],
      "text/plain": [
       "   prospect_id  response_prob  response  0.0  0.1  0.2  0.3  0.4  0.5  0.6  \\\n",
       "0        39341       0.986596         1    1    1    1    1    1    1    1   \n",
       "1        39337       0.986582         1    1    1    1    1    1    1    1   \n",
       "2        39326       0.986569         1    1    1    1    1    1    1    1   \n",
       "3        39327       0.986569         0    1    1    1    1    1    1    1   \n",
       "4        39259       0.986500         1    1    1    1    1    1    1    1   \n",
       "\n",
       "   0.7  0.8  0.9  \n",
       "0    1    1    1  \n",
       "1    1    1    1  \n",
       "2    1    1    1  \n",
       "3    1    1    1  \n",
       "4    1    1    1  "
      ]
     },
     "execution_count": 159,
     "metadata": {},
     "output_type": "execute_result"
    }
   ],
   "source": [
    "# Let's create columns with different probability cutoffs \n",
    "numbers = [float(x)/10 for x in range(10)]\n",
    "for i in numbers:\n",
    "    y_train_pred_final[i]= y_train_pred_final.response_prob.map(lambda x: 1 if x > i else 0)\n",
    "y_train_pred_final.head()"
   ]
  },
  {
   "cell_type": "code",
   "execution_count": 160,
   "metadata": {},
   "outputs": [
    {
     "name": "stdout",
     "output_type": "stream",
     "text": [
      "     prob  accuracy     sensi     speci\n",
      "0.0   0.0  0.113003  1.000000  0.000000\n",
      "0.1   0.1  0.113003  1.000000  0.000000\n",
      "0.2   0.2  0.285699  0.945979  0.201580\n",
      "0.3   0.3  0.479276  0.860037  0.430767\n",
      "0.4   0.4  0.718671  0.723757  0.718023\n",
      "0.5   0.5  0.773681  0.682627  0.785281\n",
      "0.6   0.6  0.835663  0.611111  0.864271\n",
      "0.7   0.7  0.858763  0.546654  0.898526\n",
      "0.8   0.8  0.891818  0.338551  0.962304\n",
      "0.9   0.9  0.898824  0.188459  0.989325\n"
     ]
    }
   ],
   "source": [
    "# Let's create a dataframe to see the values of accuracy, sensitivity, and specificity at different values of probabiity cutoffs\n",
    "\n",
    "cutoff_df = pd.DataFrame( columns = ['prob','accuracy','sensi','speci'])\n",
    "from sklearn.metrics import confusion_matrix\n",
    "\n",
    "# TP = confusion[1,1] # true positive \n",
    "# TN = confusion[0,0] # true negatives\n",
    "# FP = confusion[0,1] # false positives\n",
    "# FN = confusion[1,0] # false negatives\n",
    "\n",
    "num = [0.0,0.1,0.2,0.3,0.4,0.5,0.6,0.7,0.8,0.9]\n",
    "for i in num:\n",
    "    cm1 = metrics.confusion_matrix(y_train_pred_final.response, y_train_pred_final[i] )\n",
    "    total1=sum(sum(cm1))\n",
    "    accuracy = (cm1[0,0]+cm1[1,1])/total1\n",
    "    \n",
    "    speci = cm1[0,0]/(cm1[0,0]+cm1[0,1])\n",
    "    sensi = cm1[1,1]/(cm1[1,0]+cm1[1,1])\n",
    "    cutoff_df.loc[i] =[ i ,accuracy,sensi,speci]\n",
    "print(cutoff_df)"
   ]
  },
  {
   "cell_type": "code",
   "execution_count": 161,
   "metadata": {},
   "outputs": [
    {
     "data": {
      "image/png": "[encoded data removed]",
      "text/plain": [
       "<Figure size 432x288 with 1 Axes>"
      ]
     },
     "metadata": {},
     "output_type": "display_data"
    }
   ],
   "source": [
    "# Let's plot accuracy sensitivity and specificity for various probabilities.\n",
    "sns.set()\n",
    "cutoff_df.plot.line(x='prob', y=['accuracy','sensi','speci'])\n",
    "plt.xticks(np.arange(0,1,0.05))\n",
    "plt.xticks(rotation='vertical')\n",
    "plt.show()"
   ]
  },
  {
   "cell_type": "code",
   "execution_count": 162,
   "metadata": {},
   "outputs": [
    {
     "data": {
      "image/png": "[encoded data removed]",
      "text/plain": [
       "<Figure size 432x288 with 1 Axes>"
      ]
     },
     "metadata": {},
     "output_type": "display_data"
    }
   ],
   "source": [
    "# Let's plot accuracy sensitivity and specificity for various probabilities.\n",
    "cutoff_df.plot.line(x='prob', y=['accuracy','sensi','speci'])\n",
    "plt.xticks(np.arange(0.38,0.43,0.01))\n",
    "plt.xticks(rotation='vertical')\n",
    "plt.xlim(0.38,0.43)\n",
    "plt.show()"
   ]
  },
  {
   "cell_type": "markdown",
   "metadata": {},
   "source": [
    "#### Optimal cutoff probability is 0.405."
   ]
  },
  {
   "cell_type": "code",
   "execution_count": 163,
   "metadata": {},
   "outputs": [
    {
     "data": {
      "text/html": [
       "<div>\n",
       "<style scoped>\n",
       "    .dataframe tbody tr th:only-of-type {\n",
       "        vertical-align: middle;\n",
       "    }\n",
       "\n",
       "    .dataframe tbody tr th {\n",
       "        vertical-align: top;\n",
       "    }\n",
       "\n",
       "    .dataframe thead th {\n",
       "        text-align: right;\n",
       "    }\n",
       "</style>\n",
       "<table border=\"1\" class=\"dataframe\">\n",
       "  <thead>\n",
       "    <tr style=\"text-align: right;\">\n",
       "      <th></th>\n",
       "      <th>prospect_id</th>\n",
       "      <th>response_prob</th>\n",
       "      <th>response</th>\n",
       "      <th>0.0</th>\n",
       "      <th>0.1</th>\n",
       "      <th>0.2</th>\n",
       "      <th>0.3</th>\n",
       "      <th>0.4</th>\n",
       "      <th>0.5</th>\n",
       "      <th>0.6</th>\n",
       "      <th>0.7</th>\n",
       "      <th>0.8</th>\n",
       "      <th>0.9</th>\n",
       "      <th>final_train_prediction</th>\n",
       "    </tr>\n",
       "  </thead>\n",
       "  <tbody>\n",
       "    <tr>\n",
       "      <th>0</th>\n",
       "      <td>39341</td>\n",
       "      <td>0.986596</td>\n",
       "      <td>1</td>\n",
       "      <td>1</td>\n",
       "      <td>1</td>\n",
       "      <td>1</td>\n",
       "      <td>1</td>\n",
       "      <td>1</td>\n",
       "      <td>1</td>\n",
       "      <td>1</td>\n",
       "      <td>1</td>\n",
       "      <td>1</td>\n",
       "      <td>1</td>\n",
       "      <td>1</td>\n",
       "    </tr>\n",
       "    <tr>\n",
       "      <th>1</th>\n",
       "      <td>39337</td>\n",
       "      <td>0.986582</td>\n",
       "      <td>1</td>\n",
       "      <td>1</td>\n",
       "      <td>1</td>\n",
       "      <td>1</td>\n",
       "      <td>1</td>\n",
       "      <td>1</td>\n",
       "      <td>1</td>\n",
       "      <td>1</td>\n",
       "      <td>1</td>\n",
       "      <td>1</td>\n",
       "      <td>1</td>\n",
       "      <td>1</td>\n",
       "    </tr>\n",
       "    <tr>\n",
       "      <th>2</th>\n",
       "      <td>39326</td>\n",
       "      <td>0.986569</td>\n",
       "      <td>1</td>\n",
       "      <td>1</td>\n",
       "      <td>1</td>\n",
       "      <td>1</td>\n",
       "      <td>1</td>\n",
       "      <td>1</td>\n",
       "      <td>1</td>\n",
       "      <td>1</td>\n",
       "      <td>1</td>\n",
       "      <td>1</td>\n",
       "      <td>1</td>\n",
       "      <td>1</td>\n",
       "    </tr>\n",
       "    <tr>\n",
       "      <th>3</th>\n",
       "      <td>39327</td>\n",
       "      <td>0.986569</td>\n",
       "      <td>0</td>\n",
       "      <td>1</td>\n",
       "      <td>1</td>\n",
       "      <td>1</td>\n",
       "      <td>1</td>\n",
       "      <td>1</td>\n",
       "      <td>1</td>\n",
       "      <td>1</td>\n",
       "      <td>1</td>\n",
       "      <td>1</td>\n",
       "      <td>1</td>\n",
       "      <td>1</td>\n",
       "    </tr>\n",
       "    <tr>\n",
       "      <th>4</th>\n",
       "      <td>39259</td>\n",
       "      <td>0.986500</td>\n",
       "      <td>1</td>\n",
       "      <td>1</td>\n",
       "      <td>1</td>\n",
       "      <td>1</td>\n",
       "      <td>1</td>\n",
       "      <td>1</td>\n",
       "      <td>1</td>\n",
       "      <td>1</td>\n",
       "      <td>1</td>\n",
       "      <td>1</td>\n",
       "      <td>1</td>\n",
       "      <td>1</td>\n",
       "    </tr>\n",
       "  </tbody>\n",
       "</table>\n",
       "</div>"
      ],
      "text/plain": [
       "   prospect_id  response_prob  response  0.0  0.1  0.2  0.3  0.4  0.5  0.6  \\\n",
       "0        39341       0.986596         1    1    1    1    1    1    1    1   \n",
       "1        39337       0.986582         1    1    1    1    1    1    1    1   \n",
       "2        39326       0.986569         1    1    1    1    1    1    1    1   \n",
       "3        39327       0.986569         0    1    1    1    1    1    1    1   \n",
       "4        39259       0.986500         1    1    1    1    1    1    1    1   \n",
       "\n",
       "   0.7  0.8  0.9  final_train_prediction  \n",
       "0    1    1    1                       1  \n",
       "1    1    1    1                       1  \n",
       "2    1    1    1                       1  \n",
       "3    1    1    1                       1  \n",
       "4    1    1    1                       1  "
      ]
     },
     "execution_count": 163,
     "metadata": {},
     "output_type": "execute_result"
    }
   ],
   "source": [
    "#creating final prediction on train dataset\n",
    "y_train_pred_final['final_train_prediction'] = y_train_pred_final.response_prob.map( lambda x: 1 if x > 0.405 else 0)\n",
    "y_train_pred_final.head()"
   ]
  },
  {
   "cell_type": "markdown",
   "metadata": {},
   "source": [
    "#### Evaluation matrix with optimal cutoff:"
   ]
  },
  {
   "cell_type": "markdown",
   "metadata": {},
   "source": [
    "#### Train Dataset:"
   ]
  },
  {
   "cell_type": "code",
   "execution_count": 164,
   "metadata": {},
   "outputs": [
    {
     "name": "stdout",
     "output_type": "stream",
     "text": [
      "Train Accuracy: 0.720717283479588\n",
      "[[18427  7146]\n",
      " [  906  2352]]\n",
      "Sensitivity: 0.7219152854511971\n",
      "Specificity: 0.7205646580377743\n",
      "False poisitive rate: 0.2794353419622258\n",
      "Positive predictive power : 0.2476310802274163\n",
      "Negative predictive power : 0.9531371230538458\n"
     ]
    }
   ],
   "source": [
    "# Let's check the overall accuracy.\n",
    "print('Train Accuracy:', accuracy_score(y_train_pred_final.response, y_train_pred_final.final_train_prediction))\n",
    "\n",
    "confusion_train = confusion_matrix(y_train_pred_final.response, y_train_pred_final.final_train_prediction)\n",
    "print(confusion_train)\n",
    "\n",
    "TP = confusion_train[1,1] # true positive \n",
    "TN = confusion_train[0,0] # true negatives\n",
    "FP = confusion_train[0,1] # false positives\n",
    "FN = confusion_train[1,0] # false negatives\n",
    "\n",
    "# Let's see the sensitivity of our logistic regression model\n",
    "print(\"Sensitivity:\",TP / float(TP+FN))\n",
    "\n",
    "# Let us calculate specificity\n",
    "print(\"Specificity:\", TN / float(TN+FP))\n",
    "\n",
    "# Calculate false postive rate \n",
    "print('False poisitive rate:',FP/ float(TN+FP))\n",
    "\n",
    "# Positive predictive value \n",
    "print ('Positive predictive power :',TP / float(TP+FP))\n",
    "\n",
    "# Negative predictive value\n",
    "print ('Negative predictive power :',TN / float(TN+ FN))"
   ]
  },
  {
   "cell_type": "markdown",
   "metadata": {},
   "source": [
    "#### Making prediction on test dataset:"
   ]
  },
  {
   "cell_type": "code",
   "execution_count": 165,
   "metadata": {},
   "outputs": [],
   "source": [
    "y_test_pred = logreg_model.predict_proba(X_test[final_cols])"
   ]
  },
  {
   "cell_type": "code",
   "execution_count": 166,
   "metadata": {},
   "outputs": [
    {
     "data": {
      "text/html": [
       "<div>\n",
       "<style scoped>\n",
       "    .dataframe tbody tr th:only-of-type {\n",
       "        vertical-align: middle;\n",
       "    }\n",
       "\n",
       "    .dataframe tbody tr th {\n",
       "        vertical-align: top;\n",
       "    }\n",
       "\n",
       "    .dataframe thead th {\n",
       "        text-align: right;\n",
       "    }\n",
       "</style>\n",
       "<table border=\"1\" class=\"dataframe\">\n",
       "  <thead>\n",
       "    <tr style=\"text-align: right;\">\n",
       "      <th></th>\n",
       "      <th>prospect_id</th>\n",
       "      <th>response_prob</th>\n",
       "    </tr>\n",
       "  </thead>\n",
       "  <tbody>\n",
       "    <tr>\n",
       "      <th>0</th>\n",
       "      <td>33149</td>\n",
       "      <td>0.518761</td>\n",
       "    </tr>\n",
       "    <tr>\n",
       "      <th>1</th>\n",
       "      <td>27586</td>\n",
       "      <td>0.391699</td>\n",
       "    </tr>\n",
       "    <tr>\n",
       "      <th>2</th>\n",
       "      <td>15723</td>\n",
       "      <td>0.330337</td>\n",
       "    </tr>\n",
       "    <tr>\n",
       "      <th>3</th>\n",
       "      <td>40350</td>\n",
       "      <td>0.949514</td>\n",
       "    </tr>\n",
       "    <tr>\n",
       "      <th>4</th>\n",
       "      <td>2577</td>\n",
       "      <td>0.177116</td>\n",
       "    </tr>\n",
       "  </tbody>\n",
       "</table>\n",
       "</div>"
      ],
      "text/plain": [
       "   prospect_id  response_prob\n",
       "0        33149       0.518761\n",
       "1        27586       0.391699\n",
       "2        15723       0.330337\n",
       "3        40350       0.949514\n",
       "4         2577       0.177116"
      ]
     },
     "execution_count": 166,
     "metadata": {},
     "output_type": "execute_result"
    }
   ],
   "source": [
    "# combining X_test prospect id and y_test_pred\n",
    "y_test_pred_final = pd.DataFrame(y_test_pred[:,1],index = X_test.index).reset_index().rename(columns = {0:'response_prob'})\n",
    "y_test_pred_final.head()"
   ]
  },
  {
   "cell_type": "code",
   "execution_count": 167,
   "metadata": {},
   "outputs": [],
   "source": [
    "#sorting the dataframe\n",
    "y_test_pred_final = y_test_pred_final.sort_values(by='response_prob',ascending = False)"
   ]
  },
  {
   "cell_type": "code",
   "execution_count": 168,
   "metadata": {},
   "outputs": [
    {
     "data": {
      "text/html": [
       "<div>\n",
       "<style scoped>\n",
       "    .dataframe tbody tr th:only-of-type {\n",
       "        vertical-align: middle;\n",
       "    }\n",
       "\n",
       "    .dataframe tbody tr th {\n",
       "        vertical-align: top;\n",
       "    }\n",
       "\n",
       "    .dataframe thead th {\n",
       "        text-align: right;\n",
       "    }\n",
       "</style>\n",
       "<table border=\"1\" class=\"dataframe\">\n",
       "  <thead>\n",
       "    <tr style=\"text-align: right;\">\n",
       "      <th></th>\n",
       "      <th>prospect_id</th>\n",
       "      <th>response_prob</th>\n",
       "      <th>response</th>\n",
       "      <th>final_test_prediction</th>\n",
       "    </tr>\n",
       "  </thead>\n",
       "  <tbody>\n",
       "    <tr>\n",
       "      <th>0</th>\n",
       "      <td>39148</td>\n",
       "      <td>0.986458</td>\n",
       "      <td>1</td>\n",
       "      <td>1</td>\n",
       "    </tr>\n",
       "    <tr>\n",
       "      <th>1</th>\n",
       "      <td>39154</td>\n",
       "      <td>0.986458</td>\n",
       "      <td>1</td>\n",
       "      <td>1</td>\n",
       "    </tr>\n",
       "    <tr>\n",
       "      <th>2</th>\n",
       "      <td>39379</td>\n",
       "      <td>0.985813</td>\n",
       "      <td>1</td>\n",
       "      <td>1</td>\n",
       "    </tr>\n",
       "    <tr>\n",
       "      <th>3</th>\n",
       "      <td>39228</td>\n",
       "      <td>0.985689</td>\n",
       "      <td>1</td>\n",
       "      <td>1</td>\n",
       "    </tr>\n",
       "    <tr>\n",
       "      <th>4</th>\n",
       "      <td>40732</td>\n",
       "      <td>0.979209</td>\n",
       "      <td>1</td>\n",
       "      <td>1</td>\n",
       "    </tr>\n",
       "  </tbody>\n",
       "</table>\n",
       "</div>"
      ],
      "text/plain": [
       "   prospect_id  response_prob  response  final_test_prediction\n",
       "0        39148       0.986458         1                      1\n",
       "1        39154       0.986458         1                      1\n",
       "2        39379       0.985813         1                      1\n",
       "3        39228       0.985689         1                      1\n",
       "4        40732       0.979209         1                      1"
      ]
     },
     "execution_count": 168,
     "metadata": {},
     "output_type": "execute_result"
    }
   ],
   "source": [
    "y_test_pred_final = pd.merge(y_test_pred_final,y_test.reset_index(), on = 'prospect_id')\n",
    "y_test_pred_final['final_test_prediction'] = y_test_pred_final.response_prob.map(lambda x : 1 if x > 0.405 else 0)\n",
    "y_test_pred_final.head()"
   ]
  },
  {
   "cell_type": "markdown",
   "metadata": {},
   "source": [
    "#### Evaluating the test data set:"
   ]
  },
  {
   "cell_type": "code",
   "execution_count": 169,
   "metadata": {},
   "outputs": [
    {
     "name": "stdout",
     "output_type": "stream",
     "text": [
      "Test Accuracy: 0.7202395403415068\n",
      "[[7929 3046]\n",
      " [ 411  971]]\n",
      "Sensitivity: 0.7026049204052098\n",
      "Specificity: 0.7224601366742597\n",
      "False poisitive rate: 0.2775398633257403\n",
      "Positive predictive power : 0.2417226786158825\n",
      "Negative predictive power : 0.9507194244604317\n"
     ]
    }
   ],
   "source": [
    "# Let's check the overall accuracy.\n",
    "print('Test Accuracy:', accuracy_score(y_test_pred_final.response, y_test_pred_final.final_test_prediction))\n",
    "\n",
    "confusion_test = confusion_matrix(y_test_pred_final.response, y_test_pred_final.final_test_prediction)\n",
    "print(confusion_test)\n",
    "\n",
    "TP = confusion_test[1,1] # true positive \n",
    "TN = confusion_test[0,0] # true negatives\n",
    "FP = confusion_test[0,1] # false positives\n",
    "FN = confusion_test[1,0] # false negatives\n",
    "\n",
    "# Let's see the sensitivity of our logistic regression model\n",
    "print(\"Sensitivity:\",TP / float(TP+FN))\n",
    "\n",
    "# Let us calculate specificity\n",
    "print(\"Specificity:\", TN / float(TN+FP))\n",
    "\n",
    "# Calculate false postive rate \n",
    "print('False poisitive rate:',FP/ float(TN+FP))\n",
    "\n",
    "# Positive predictive value \n",
    "print ('Positive predictive power :',TP / float(TP+FP))\n",
    "\n",
    "# Negative predictive value\n",
    "print ('Negative predictive power :',TN / float(TN+ FN))"
   ]
  },
  {
   "cell_type": "markdown",
   "metadata": {},
   "source": [
    "Definitely, there is improvement in sensitivity by using optimal prob cut- off.\n",
    "Our sensitivity on train dataset is 72.19% and test is 70.26%."
   ]
  },
  {
   "cell_type": "markdown",
   "metadata": {},
   "source": [
    "#### Final model:"
   ]
  },
  {
   "cell_type": "markdown",
   "metadata": {},
   "source": [
    "Because we have to find 80% of total responders, it doesn't make sense to take only train or test dataset. \n",
    "So let us combine this to form our entire dataset again."
   ]
  },
  {
   "cell_type": "code",
   "execution_count": 170,
   "metadata": {},
   "outputs": [],
   "source": [
    "#creating the complete dataset of X\n",
    "total_X = pd.concat([X_train1,X_test1],axis = 0).sort_index()\n",
    "\n",
    "#creating the complete dataset of y\n",
    "total_y = pd.concat([y_train,y_test],axis = 0).sort_index()"
   ]
  },
  {
   "cell_type": "code",
   "execution_count": 171,
   "metadata": {},
   "outputs": [],
   "source": [
    "#final model probability prediction\n",
    "probability_pred = logreg_model.predict_proba(total_X[final_cols])"
   ]
  },
  {
   "cell_type": "code",
   "execution_count": 172,
   "metadata": {},
   "outputs": [
    {
     "data": {
      "text/html": [
       "<div>\n",
       "<style scoped>\n",
       "    .dataframe tbody tr th:only-of-type {\n",
       "        vertical-align: middle;\n",
       "    }\n",
       "\n",
       "    .dataframe tbody tr th {\n",
       "        vertical-align: top;\n",
       "    }\n",
       "\n",
       "    .dataframe thead th {\n",
       "        text-align: right;\n",
       "    }\n",
       "</style>\n",
       "<table border=\"1\" class=\"dataframe\">\n",
       "  <thead>\n",
       "    <tr style=\"text-align: right;\">\n",
       "      <th></th>\n",
       "      <th>prospect_id</th>\n",
       "      <th>probability of response</th>\n",
       "      <th>response</th>\n",
       "      <th>predicted response</th>\n",
       "    </tr>\n",
       "  </thead>\n",
       "  <tbody>\n",
       "    <tr>\n",
       "      <th>0</th>\n",
       "      <td>39341</td>\n",
       "      <td>0.986596</td>\n",
       "      <td>1</td>\n",
       "      <td>1</td>\n",
       "    </tr>\n",
       "    <tr>\n",
       "      <th>1</th>\n",
       "      <td>39337</td>\n",
       "      <td>0.986582</td>\n",
       "      <td>1</td>\n",
       "      <td>1</td>\n",
       "    </tr>\n",
       "    <tr>\n",
       "      <th>2</th>\n",
       "      <td>39327</td>\n",
       "      <td>0.986569</td>\n",
       "      <td>0</td>\n",
       "      <td>1</td>\n",
       "    </tr>\n",
       "    <tr>\n",
       "      <th>3</th>\n",
       "      <td>39326</td>\n",
       "      <td>0.986569</td>\n",
       "      <td>1</td>\n",
       "      <td>1</td>\n",
       "    </tr>\n",
       "    <tr>\n",
       "      <th>4</th>\n",
       "      <td>39259</td>\n",
       "      <td>0.986500</td>\n",
       "      <td>1</td>\n",
       "      <td>1</td>\n",
       "    </tr>\n",
       "  </tbody>\n",
       "</table>\n",
       "</div>"
      ],
      "text/plain": [
       "   prospect_id  probability of response  response  predicted response\n",
       "0        39341                 0.986596         1                   1\n",
       "1        39337                 0.986582         1                   1\n",
       "2        39327                 0.986569         0                   1\n",
       "3        39326                 0.986569         1                   1\n",
       "4        39259                 0.986500         1                   1"
      ]
     },
     "execution_count": 172,
     "metadata": {},
     "output_type": "execute_result"
    }
   ],
   "source": [
    "final_df = pd.DataFrame(probability_pred[:,1],index = total_X.index).reset_index().rename(columns = {0:'probability of response'})\n",
    "final_df = final_df.sort_values(by='probability of response',ascending = False)\n",
    "final_df = final_df.merge(total_y.reset_index(),on='prospect_id')\n",
    "final_df['predicted response'] = final_df['probability of response'].apply(lambda x : 1 if x> 0.405 else 0)\n",
    "final_df.head()"
   ]
  },
  {
   "cell_type": "markdown",
   "metadata": {},
   "source": [
    "#### Evaluation on entire dataset:"
   ]
  },
  {
   "cell_type": "code",
   "execution_count": 173,
   "metadata": {},
   "outputs": [
    {
     "name": "stdout",
     "output_type": "stream",
     "text": [
      "Accuracy of entire dataset: 0.7205739535787122\n",
      "[[26356 10192]\n",
      " [ 1317  3323]]\n",
      "Sensitivity: 0.7161637931034482\n",
      "Specificity: 0.7211338513735361\n",
      "False poisitive rate: 0.2788661486264638\n",
      "Positive predictive power : 0.24587495375508694\n",
      "Negative predictive power : 0.9524084848046833\n"
     ]
    }
   ],
   "source": [
    "# Let's check the overall accuracy.\n",
    "print('Accuracy of entire dataset:', accuracy_score(final_df.response, final_df['predicted response']))\n",
    "\n",
    "cm = confusion_matrix(final_df.response, final_df['predicted response'])\n",
    "print(cm)\n",
    "\n",
    "TP = cm[1,1] # true positive \n",
    "TN = cm[0,0] # true negatives\n",
    "FP = cm[0,1] # false positives\n",
    "FN = cm[1,0] # false negatives\n",
    "\n",
    "# Let's see the sensitivity of our logistic regression model\n",
    "print(\"Sensitivity:\",TP / float(TP+FN))\n",
    "\n",
    "# Let us calculate specificity\n",
    "print(\"Specificity:\", TN / float(TN+FP))\n",
    "\n",
    "# Calculate false postive rate \n",
    "print('False poisitive rate:',FP/ float(TN+FP))\n",
    "\n",
    "# Positive predictive value \n",
    "print ('Positive predictive power :',TP / float(TP+FP))\n",
    "\n",
    "# Negative predictive value\n",
    "print ('Negative predictive power :',TN / float(TN+ FN))"
   ]
  },
  {
   "cell_type": "markdown",
   "metadata": {},
   "source": [
    "#### Checkpoint 3:\n",
    "#### Create a data frame with the variables prospect ID, actual response, predicted response, predicted probability of response, duration of the call in seconds and cost of the call:"
   ]
  },
  {
   "cell_type": "code",
   "execution_count": 174,
   "metadata": {},
   "outputs": [],
   "source": [
    "final_df = pd.merge(final_df,loan_copy1.duration, on = 'prospect_id')"
   ]
  },
  {
   "cell_type": "code",
   "execution_count": 175,
   "metadata": {},
   "outputs": [
    {
     "data": {
      "text/html": [
       "<div>\n",
       "<style scoped>\n",
       "    .dataframe tbody tr th:only-of-type {\n",
       "        vertical-align: middle;\n",
       "    }\n",
       "\n",
       "    .dataframe tbody tr th {\n",
       "        vertical-align: top;\n",
       "    }\n",
       "\n",
       "    .dataframe thead th {\n",
       "        text-align: right;\n",
       "    }\n",
       "</style>\n",
       "<table border=\"1\" class=\"dataframe\">\n",
       "  <thead>\n",
       "    <tr style=\"text-align: right;\">\n",
       "      <th></th>\n",
       "      <th>prospect_id</th>\n",
       "      <th>probability of response</th>\n",
       "      <th>response</th>\n",
       "      <th>predicted response</th>\n",
       "      <th>duration</th>\n",
       "    </tr>\n",
       "  </thead>\n",
       "  <tbody>\n",
       "    <tr>\n",
       "      <th>0</th>\n",
       "      <td>39341</td>\n",
       "      <td>0.986596</td>\n",
       "      <td>1</td>\n",
       "      <td>1</td>\n",
       "      <td>101</td>\n",
       "    </tr>\n",
       "    <tr>\n",
       "      <th>1</th>\n",
       "      <td>39337</td>\n",
       "      <td>0.986582</td>\n",
       "      <td>1</td>\n",
       "      <td>1</td>\n",
       "      <td>136</td>\n",
       "    </tr>\n",
       "    <tr>\n",
       "      <th>2</th>\n",
       "      <td>39327</td>\n",
       "      <td>0.986569</td>\n",
       "      <td>0</td>\n",
       "      <td>1</td>\n",
       "      <td>344</td>\n",
       "    </tr>\n",
       "    <tr>\n",
       "      <th>3</th>\n",
       "      <td>39326</td>\n",
       "      <td>0.986569</td>\n",
       "      <td>1</td>\n",
       "      <td>1</td>\n",
       "      <td>248</td>\n",
       "    </tr>\n",
       "    <tr>\n",
       "      <th>4</th>\n",
       "      <td>39259</td>\n",
       "      <td>0.986500</td>\n",
       "      <td>1</td>\n",
       "      <td>1</td>\n",
       "      <td>215</td>\n",
       "    </tr>\n",
       "  </tbody>\n",
       "</table>\n",
       "</div>"
      ],
      "text/plain": [
       "   prospect_id  probability of response  response  predicted response  \\\n",
       "0        39341                 0.986596         1                   1   \n",
       "1        39337                 0.986582         1                   1   \n",
       "2        39327                 0.986569         0                   1   \n",
       "3        39326                 0.986569         1                   1   \n",
       "4        39259                 0.986500         1                   1   \n",
       "\n",
       "   duration  \n",
       "0       101  \n",
       "1       136  \n",
       "2       344  \n",
       "3       248  \n",
       "4       215  "
      ]
     },
     "execution_count": 175,
     "metadata": {},
     "output_type": "execute_result"
    }
   ],
   "source": [
    "final_df.head()"
   ]
  },
  {
   "cell_type": "markdown",
   "metadata": {},
   "source": [
    "#### Assumption:"
   ]
  },
  {
   "cell_type": "markdown",
   "metadata": {},
   "source": [
    "##### Cost of call is 50 paisa per minute. [Rs 0.50 per 60 seconds]"
   ]
  },
  {
   "cell_type": "code",
   "execution_count": 176,
   "metadata": {},
   "outputs": [],
   "source": [
    "#calculating cost per call\n",
    "final_df['cost_per_call_in_Rs'] = ((0.50*(final_df.duration))/60)"
   ]
  },
  {
   "cell_type": "code",
   "execution_count": 177,
   "metadata": {},
   "outputs": [
    {
     "data": {
      "text/html": [
       "<div>\n",
       "<style scoped>\n",
       "    .dataframe tbody tr th:only-of-type {\n",
       "        vertical-align: middle;\n",
       "    }\n",
       "\n",
       "    .dataframe tbody tr th {\n",
       "        vertical-align: top;\n",
       "    }\n",
       "\n",
       "    .dataframe thead th {\n",
       "        text-align: right;\n",
       "    }\n",
       "</style>\n",
       "<table border=\"1\" class=\"dataframe\">\n",
       "  <thead>\n",
       "    <tr style=\"text-align: right;\">\n",
       "      <th></th>\n",
       "      <th>prospect_id</th>\n",
       "      <th>probability of response</th>\n",
       "      <th>response</th>\n",
       "      <th>predicted response</th>\n",
       "      <th>duration</th>\n",
       "      <th>cost_per_call_in_Rs</th>\n",
       "    </tr>\n",
       "  </thead>\n",
       "  <tbody>\n",
       "    <tr>\n",
       "      <th>0</th>\n",
       "      <td>39341</td>\n",
       "      <td>0.986596</td>\n",
       "      <td>1</td>\n",
       "      <td>1</td>\n",
       "      <td>101</td>\n",
       "      <td>0.841667</td>\n",
       "    </tr>\n",
       "    <tr>\n",
       "      <th>1</th>\n",
       "      <td>39337</td>\n",
       "      <td>0.986582</td>\n",
       "      <td>1</td>\n",
       "      <td>1</td>\n",
       "      <td>136</td>\n",
       "      <td>1.133333</td>\n",
       "    </tr>\n",
       "    <tr>\n",
       "      <th>2</th>\n",
       "      <td>39327</td>\n",
       "      <td>0.986569</td>\n",
       "      <td>0</td>\n",
       "      <td>1</td>\n",
       "      <td>344</td>\n",
       "      <td>2.866667</td>\n",
       "    </tr>\n",
       "    <tr>\n",
       "      <th>3</th>\n",
       "      <td>39326</td>\n",
       "      <td>0.986569</td>\n",
       "      <td>1</td>\n",
       "      <td>1</td>\n",
       "      <td>248</td>\n",
       "      <td>2.066667</td>\n",
       "    </tr>\n",
       "    <tr>\n",
       "      <th>4</th>\n",
       "      <td>39259</td>\n",
       "      <td>0.986500</td>\n",
       "      <td>1</td>\n",
       "      <td>1</td>\n",
       "      <td>215</td>\n",
       "      <td>1.791667</td>\n",
       "    </tr>\n",
       "  </tbody>\n",
       "</table>\n",
       "</div>"
      ],
      "text/plain": [
       "   prospect_id  probability of response  response  predicted response  \\\n",
       "0        39341                 0.986596         1                   1   \n",
       "1        39337                 0.986582         1                   1   \n",
       "2        39327                 0.986569         0                   1   \n",
       "3        39326                 0.986569         1                   1   \n",
       "4        39259                 0.986500         1                   1   \n",
       "\n",
       "   duration  cost_per_call_in_Rs  \n",
       "0       101             0.841667  \n",
       "1       136             1.133333  \n",
       "2       344             2.866667  \n",
       "3       248             2.066667  \n",
       "4       215             1.791667  "
      ]
     },
     "execution_count": 177,
     "metadata": {},
     "output_type": "execute_result"
    }
   ],
   "source": [
    "final_df.head()"
   ]
  },
  {
   "cell_type": "markdown",
   "metadata": {},
   "source": [
    "#### Top X% target analysis:"
   ]
  },
  {
   "cell_type": "code",
   "execution_count": 178,
   "metadata": {},
   "outputs": [],
   "source": [
    "#creating a copy\n",
    "decile_df = final_df[:]"
   ]
  },
  {
   "cell_type": "code",
   "execution_count": 179,
   "metadata": {},
   "outputs": [
    {
     "data": {
      "text/html": [
       "<div>\n",
       "<style scoped>\n",
       "    .dataframe tbody tr th:only-of-type {\n",
       "        vertical-align: middle;\n",
       "    }\n",
       "\n",
       "    .dataframe tbody tr th {\n",
       "        vertical-align: top;\n",
       "    }\n",
       "\n",
       "    .dataframe thead th {\n",
       "        text-align: right;\n",
       "    }\n",
       "</style>\n",
       "<table border=\"1\" class=\"dataframe\">\n",
       "  <thead>\n",
       "    <tr style=\"text-align: right;\">\n",
       "      <th></th>\n",
       "      <th>prospect_id</th>\n",
       "      <th>probability of response</th>\n",
       "      <th>response</th>\n",
       "      <th>predicted response</th>\n",
       "      <th>duration</th>\n",
       "      <th>cost_per_call_in_Rs</th>\n",
       "      <th>decile</th>\n",
       "    </tr>\n",
       "  </thead>\n",
       "  <tbody>\n",
       "    <tr>\n",
       "      <th>0</th>\n",
       "      <td>39341</td>\n",
       "      <td>0.986596</td>\n",
       "      <td>1</td>\n",
       "      <td>1</td>\n",
       "      <td>101</td>\n",
       "      <td>0.841667</td>\n",
       "      <td>1</td>\n",
       "    </tr>\n",
       "    <tr>\n",
       "      <th>1</th>\n",
       "      <td>39337</td>\n",
       "      <td>0.986582</td>\n",
       "      <td>1</td>\n",
       "      <td>1</td>\n",
       "      <td>136</td>\n",
       "      <td>1.133333</td>\n",
       "      <td>1</td>\n",
       "    </tr>\n",
       "    <tr>\n",
       "      <th>2</th>\n",
       "      <td>39327</td>\n",
       "      <td>0.986569</td>\n",
       "      <td>0</td>\n",
       "      <td>1</td>\n",
       "      <td>344</td>\n",
       "      <td>2.866667</td>\n",
       "      <td>1</td>\n",
       "    </tr>\n",
       "    <tr>\n",
       "      <th>3</th>\n",
       "      <td>39326</td>\n",
       "      <td>0.986569</td>\n",
       "      <td>1</td>\n",
       "      <td>1</td>\n",
       "      <td>248</td>\n",
       "      <td>2.066667</td>\n",
       "      <td>1</td>\n",
       "    </tr>\n",
       "    <tr>\n",
       "      <th>4</th>\n",
       "      <td>39259</td>\n",
       "      <td>0.986500</td>\n",
       "      <td>1</td>\n",
       "      <td>1</td>\n",
       "      <td>215</td>\n",
       "      <td>1.791667</td>\n",
       "      <td>1</td>\n",
       "    </tr>\n",
       "  </tbody>\n",
       "</table>\n",
       "</div>"
      ],
      "text/plain": [
       "   prospect_id  probability of response  response  predicted response  \\\n",
       "0        39341                 0.986596         1                   1   \n",
       "1        39337                 0.986582         1                   1   \n",
       "2        39327                 0.986569         0                   1   \n",
       "3        39326                 0.986569         1                   1   \n",
       "4        39259                 0.986500         1                   1   \n",
       "\n",
       "   duration  cost_per_call_in_Rs decile  \n",
       "0       101             0.841667      1  \n",
       "1       136             1.133333      1  \n",
       "2       344             2.866667      1  \n",
       "3       248             2.066667      1  \n",
       "4       215             1.791667      1  "
      ]
     },
     "execution_count": 179,
     "metadata": {},
     "output_type": "execute_result"
    }
   ],
   "source": [
    "#creating decile\n",
    "decile_df['decile'] = pd.qcut(decile_df['probability of response'], 10, labels=np.arange(10, 0, -1))\n",
    "decile_df.head()"
   ]
  },
  {
   "cell_type": "code",
   "execution_count": 180,
   "metadata": {},
   "outputs": [
    {
     "data": {
      "text/html": [
       "<div>\n",
       "<style scoped>\n",
       "    .dataframe tbody tr th:only-of-type {\n",
       "        vertical-align: middle;\n",
       "    }\n",
       "\n",
       "    .dataframe tbody tr th {\n",
       "        vertical-align: top;\n",
       "    }\n",
       "\n",
       "    .dataframe thead th {\n",
       "        text-align: right;\n",
       "    }\n",
       "</style>\n",
       "<table border=\"1\" class=\"dataframe\">\n",
       "  <thead>\n",
       "    <tr style=\"text-align: right;\">\n",
       "      <th></th>\n",
       "      <th>decile</th>\n",
       "      <th>probability of response</th>\n",
       "    </tr>\n",
       "  </thead>\n",
       "  <tbody>\n",
       "    <tr>\n",
       "      <th>0</th>\n",
       "      <td>10</td>\n",
       "      <td>4218</td>\n",
       "    </tr>\n",
       "    <tr>\n",
       "      <th>1</th>\n",
       "      <td>9</td>\n",
       "      <td>4086</td>\n",
       "    </tr>\n",
       "    <tr>\n",
       "      <th>2</th>\n",
       "      <td>8</td>\n",
       "      <td>4126</td>\n",
       "    </tr>\n",
       "    <tr>\n",
       "      <th>3</th>\n",
       "      <td>7</td>\n",
       "      <td>4063</td>\n",
       "    </tr>\n",
       "    <tr>\n",
       "      <th>4</th>\n",
       "      <td>6</td>\n",
       "      <td>4118</td>\n",
       "    </tr>\n",
       "    <tr>\n",
       "      <th>5</th>\n",
       "      <td>5</td>\n",
       "      <td>4382</td>\n",
       "    </tr>\n",
       "    <tr>\n",
       "      <th>6</th>\n",
       "      <td>4</td>\n",
       "      <td>3976</td>\n",
       "    </tr>\n",
       "    <tr>\n",
       "      <th>7</th>\n",
       "      <td>3</td>\n",
       "      <td>4139</td>\n",
       "    </tr>\n",
       "    <tr>\n",
       "      <th>8</th>\n",
       "      <td>2</td>\n",
       "      <td>3963</td>\n",
       "    </tr>\n",
       "    <tr>\n",
       "      <th>9</th>\n",
       "      <td>1</td>\n",
       "      <td>4117</td>\n",
       "    </tr>\n",
       "  </tbody>\n",
       "</table>\n",
       "</div>"
      ],
      "text/plain": [
       "  decile  probability of response\n",
       "0     10                     4218\n",
       "1      9                     4086\n",
       "2      8                     4126\n",
       "3      7                     4063\n",
       "4      6                     4118\n",
       "5      5                     4382\n",
       "6      4                     3976\n",
       "7      3                     4139\n",
       "8      2                     3963\n",
       "9      1                     4117"
      ]
     },
     "execution_count": 180,
     "metadata": {},
     "output_type": "execute_result"
    }
   ],
   "source": [
    "#finding total count per decile\n",
    "lift_df = decile_df.groupby('decile')['probability of response'].count().reset_index()\n",
    "lift_df"
   ]
  },
  {
   "cell_type": "code",
   "execution_count": 181,
   "metadata": {},
   "outputs": [],
   "source": [
    "lift_df.rename({'probability of response':'total'}, axis=1, inplace=True)"
   ]
  },
  {
   "cell_type": "code",
   "execution_count": 182,
   "metadata": {},
   "outputs": [],
   "source": [
    "lift_df_pred = decile_df[decile_df['response']==1].groupby('decile')['response'].count().reset_index()"
   ]
  },
  {
   "cell_type": "code",
   "execution_count": 183,
   "metadata": {},
   "outputs": [],
   "source": [
    "lift_df_final = lift_df.merge(lift_df_pred,on = 'decile')"
   ]
  },
  {
   "cell_type": "code",
   "execution_count": 184,
   "metadata": {},
   "outputs": [],
   "source": [
    "lift_df_final = lift_df_final.sort_values(['decile'], ascending=False)"
   ]
  },
  {
   "cell_type": "code",
   "execution_count": 185,
   "metadata": {},
   "outputs": [],
   "source": [
    "lift_df_final['cumresp'] = lift_df_final['response'].cumsum()"
   ]
  },
  {
   "cell_type": "code",
   "execution_count": 186,
   "metadata": {},
   "outputs": [],
   "source": [
    "lift_df_final['gain'] = 100*(lift_df_final['cumresp']/sum(lift_df_final['response']))"
   ]
  },
  {
   "cell_type": "code",
   "execution_count": 187,
   "metadata": {},
   "outputs": [],
   "source": [
    "lift_df_final['cumlift'] = lift_df_final['gain']/(lift_df_final['decile'].astype('int')*(100/10))"
   ]
  },
  {
   "cell_type": "code",
   "execution_count": 188,
   "metadata": {},
   "outputs": [
    {
     "data": {
      "text/html": [
       "<div>\n",
       "<style scoped>\n",
       "    .dataframe tbody tr th:only-of-type {\n",
       "        vertical-align: middle;\n",
       "    }\n",
       "\n",
       "    .dataframe tbody tr th {\n",
       "        vertical-align: top;\n",
       "    }\n",
       "\n",
       "    .dataframe thead th {\n",
       "        text-align: right;\n",
       "    }\n",
       "</style>\n",
       "<table border=\"1\" class=\"dataframe\">\n",
       "  <thead>\n",
       "    <tr style=\"text-align: right;\">\n",
       "      <th></th>\n",
       "      <th>decile</th>\n",
       "      <th>total</th>\n",
       "      <th>response</th>\n",
       "      <th>cumresp</th>\n",
       "      <th>gain</th>\n",
       "      <th>cumlift</th>\n",
       "      <th>duration</th>\n",
       "    </tr>\n",
       "  </thead>\n",
       "  <tbody>\n",
       "    <tr>\n",
       "      <th>0</th>\n",
       "      <td>1</td>\n",
       "      <td>4117</td>\n",
       "      <td>1966</td>\n",
       "      <td>1966</td>\n",
       "      <td>42.370690</td>\n",
       "      <td>4.237069</td>\n",
       "      <td>1183069</td>\n",
       "    </tr>\n",
       "    <tr>\n",
       "      <th>1</th>\n",
       "      <td>2</td>\n",
       "      <td>3963</td>\n",
       "      <td>887</td>\n",
       "      <td>2853</td>\n",
       "      <td>61.487069</td>\n",
       "      <td>3.074353</td>\n",
       "      <td>1074082</td>\n",
       "    </tr>\n",
       "    <tr>\n",
       "      <th>2</th>\n",
       "      <td>3</td>\n",
       "      <td>4139</td>\n",
       "      <td>384</td>\n",
       "      <td>3237</td>\n",
       "      <td>69.762931</td>\n",
       "      <td>2.325431</td>\n",
       "      <td>1065006</td>\n",
       "    </tr>\n",
       "    <tr>\n",
       "      <th>3</th>\n",
       "      <td>4</td>\n",
       "      <td>3976</td>\n",
       "      <td>220</td>\n",
       "      <td>3457</td>\n",
       "      <td>74.504310</td>\n",
       "      <td>1.862608</td>\n",
       "      <td>959090</td>\n",
       "    </tr>\n",
       "    <tr>\n",
       "      <th>4</th>\n",
       "      <td>5</td>\n",
       "      <td>4382</td>\n",
       "      <td>230</td>\n",
       "      <td>3687</td>\n",
       "      <td>79.461207</td>\n",
       "      <td>1.589224</td>\n",
       "      <td>1087228</td>\n",
       "    </tr>\n",
       "    <tr>\n",
       "      <th>5</th>\n",
       "      <td>6</td>\n",
       "      <td>4118</td>\n",
       "      <td>262</td>\n",
       "      <td>3949</td>\n",
       "      <td>85.107759</td>\n",
       "      <td>1.418463</td>\n",
       "      <td>1073691</td>\n",
       "    </tr>\n",
       "    <tr>\n",
       "      <th>6</th>\n",
       "      <td>7</td>\n",
       "      <td>4063</td>\n",
       "      <td>231</td>\n",
       "      <td>4180</td>\n",
       "      <td>90.086207</td>\n",
       "      <td>1.286946</td>\n",
       "      <td>917071</td>\n",
       "    </tr>\n",
       "    <tr>\n",
       "      <th>7</th>\n",
       "      <td>8</td>\n",
       "      <td>4126</td>\n",
       "      <td>185</td>\n",
       "      <td>4365</td>\n",
       "      <td>94.073276</td>\n",
       "      <td>1.175916</td>\n",
       "      <td>972874</td>\n",
       "    </tr>\n",
       "    <tr>\n",
       "      <th>8</th>\n",
       "      <td>9</td>\n",
       "      <td>4086</td>\n",
       "      <td>128</td>\n",
       "      <td>4493</td>\n",
       "      <td>96.831897</td>\n",
       "      <td>1.075910</td>\n",
       "      <td>1021963</td>\n",
       "    </tr>\n",
       "    <tr>\n",
       "      <th>9</th>\n",
       "      <td>10</td>\n",
       "      <td>4218</td>\n",
       "      <td>147</td>\n",
       "      <td>4640</td>\n",
       "      <td>100.000000</td>\n",
       "      <td>1.000000</td>\n",
       "      <td>1122062</td>\n",
       "    </tr>\n",
       "  </tbody>\n",
       "</table>\n",
       "</div>"
      ],
      "text/plain": [
       "  decile  total  response  cumresp        gain   cumlift  duration\n",
       "0      1   4117      1966     1966   42.370690  4.237069   1183069\n",
       "1      2   3963       887     2853   61.487069  3.074353   1074082\n",
       "2      3   4139       384     3237   69.762931  2.325431   1065006\n",
       "3      4   3976       220     3457   74.504310  1.862608    959090\n",
       "4      5   4382       230     3687   79.461207  1.589224   1087228\n",
       "5      6   4118       262     3949   85.107759  1.418463   1073691\n",
       "6      7   4063       231     4180   90.086207  1.286946    917071\n",
       "7      8   4126       185     4365   94.073276  1.175916    972874\n",
       "8      9   4086       128     4493   96.831897  1.075910   1021963\n",
       "9     10   4218       147     4640  100.000000  1.000000   1122062"
      ]
     },
     "execution_count": 188,
     "metadata": {},
     "output_type": "execute_result"
    }
   ],
   "source": [
    "lift_df_final = lift_df_final.merge(decile_df.groupby('decile').duration.sum().reset_index(),on='decile')\n",
    "lift_df_final"
   ]
  },
  {
   "cell_type": "code",
   "execution_count": 189,
   "metadata": {},
   "outputs": [
    {
     "data": {
      "text/plain": [
       "<matplotlib.axes._subplots.AxesSubplot at 0xd8dec88>"
      ]
     },
     "execution_count": 189,
     "metadata": {},
     "output_type": "execute_result"
    },
    {
     "data": {
      "image/png": "[encoded data removed]",
      "text/plain": [
       "<Figure size 432x288 with 1 Axes>"
      ]
     },
     "metadata": {},
     "output_type": "display_data"
    }
   ],
   "source": [
    "lift_df_final.plot.line(x='decile', y=['gain'])"
   ]
  },
  {
   "cell_type": "code",
   "execution_count": 190,
   "metadata": {},
   "outputs": [
    {
     "data": {
      "text/plain": [
       "<matplotlib.axes._subplots.AxesSubplot at 0xdc8d940>"
      ]
     },
     "execution_count": 190,
     "metadata": {},
     "output_type": "execute_result"
    },
    {
     "data": {
      "image/png": "[encoded data removed]",
      "text/plain": [
       "<Figure size 432x288 with 1 Axes>"
      ]
     },
     "metadata": {},
     "output_type": "display_data"
    }
   ],
   "source": [
    "lift_df_final.plot.line(x='decile', y=['cumlift'])"
   ]
  },
  {
   "cell_type": "markdown",
   "metadata": {},
   "source": [
    "Our per business objective we have to reach out 80% of the responders.\n",
    "\n",
    "So if we target the people in top 5 deciles we can reach out to 79.46% (Approx 80%) of the responders(approx 24,577).\n",
    "We can reach out to top 6 deciles as well, to reach exactly 80% or more than 80%(85.1%) of the responders. But it will be an extra 4118 calls.\n",
    "So going ahead with 5 deciles."
   ]
  },
  {
   "cell_type": "markdown",
   "metadata": {},
   "source": [
    "#### Let us separate the target prospect(5 decile):"
   ]
  },
  {
   "cell_type": "code",
   "execution_count": 191,
   "metadata": {},
   "outputs": [],
   "source": [
    "target_prospect = decile_df[(decile_df['decile'] ==1) | (decile_df['decile']  ==2) | (decile_df['decile']  ==3) | (decile_df['decile']  ==4) | (decile_df['decile']  ==5)]"
   ]
  },
  {
   "cell_type": "code",
   "execution_count": 192,
   "metadata": {},
   "outputs": [
    {
     "data": {
      "text/html": [
       "<div>\n",
       "<style scoped>\n",
       "    .dataframe tbody tr th:only-of-type {\n",
       "        vertical-align: middle;\n",
       "    }\n",
       "\n",
       "    .dataframe tbody tr th {\n",
       "        vertical-align: top;\n",
       "    }\n",
       "\n",
       "    .dataframe thead th {\n",
       "        text-align: right;\n",
       "    }\n",
       "</style>\n",
       "<table border=\"1\" class=\"dataframe\">\n",
       "  <thead>\n",
       "    <tr style=\"text-align: right;\">\n",
       "      <th></th>\n",
       "      <th>prospect_id</th>\n",
       "      <th>probability of response</th>\n",
       "      <th>response</th>\n",
       "      <th>predicted response</th>\n",
       "      <th>duration</th>\n",
       "      <th>cost_per_call_in_Rs</th>\n",
       "      <th>decile</th>\n",
       "    </tr>\n",
       "  </thead>\n",
       "  <tbody>\n",
       "    <tr>\n",
       "      <th>0</th>\n",
       "      <td>39341</td>\n",
       "      <td>0.986596</td>\n",
       "      <td>1</td>\n",
       "      <td>1</td>\n",
       "      <td>101</td>\n",
       "      <td>0.841667</td>\n",
       "      <td>1</td>\n",
       "    </tr>\n",
       "    <tr>\n",
       "      <th>1</th>\n",
       "      <td>39337</td>\n",
       "      <td>0.986582</td>\n",
       "      <td>1</td>\n",
       "      <td>1</td>\n",
       "      <td>136</td>\n",
       "      <td>1.133333</td>\n",
       "      <td>1</td>\n",
       "    </tr>\n",
       "    <tr>\n",
       "      <th>2</th>\n",
       "      <td>39327</td>\n",
       "      <td>0.986569</td>\n",
       "      <td>0</td>\n",
       "      <td>1</td>\n",
       "      <td>344</td>\n",
       "      <td>2.866667</td>\n",
       "      <td>1</td>\n",
       "    </tr>\n",
       "    <tr>\n",
       "      <th>3</th>\n",
       "      <td>39326</td>\n",
       "      <td>0.986569</td>\n",
       "      <td>1</td>\n",
       "      <td>1</td>\n",
       "      <td>248</td>\n",
       "      <td>2.066667</td>\n",
       "      <td>1</td>\n",
       "    </tr>\n",
       "    <tr>\n",
       "      <th>4</th>\n",
       "      <td>39259</td>\n",
       "      <td>0.986500</td>\n",
       "      <td>1</td>\n",
       "      <td>1</td>\n",
       "      <td>215</td>\n",
       "      <td>1.791667</td>\n",
       "      <td>1</td>\n",
       "    </tr>\n",
       "  </tbody>\n",
       "</table>\n",
       "</div>"
      ],
      "text/plain": [
       "   prospect_id  probability of response  response  predicted response  \\\n",
       "0        39341                 0.986596         1                   1   \n",
       "1        39337                 0.986582         1                   1   \n",
       "2        39327                 0.986569         0                   1   \n",
       "3        39326                 0.986569         1                   1   \n",
       "4        39259                 0.986500         1                   1   \n",
       "\n",
       "   duration  cost_per_call_in_Rs decile  \n",
       "0       101             0.841667      1  \n",
       "1       136             1.133333      1  \n",
       "2       344             2.866667      1  \n",
       "3       248             2.066667      1  \n",
       "4       215             1.791667      1  "
      ]
     },
     "execution_count": 192,
     "metadata": {},
     "output_type": "execute_result"
    }
   ],
   "source": [
    "target_prospect.head()"
   ]
  },
  {
   "cell_type": "markdown",
   "metadata": {},
   "source": [
    "#### Average call duration:"
   ]
  },
  {
   "cell_type": "code",
   "execution_count": 193,
   "metadata": {},
   "outputs": [
    {
     "data": {
      "text/plain": [
       "260.8968751518686"
      ]
     },
     "execution_count": 193,
     "metadata": {},
     "output_type": "execute_result"
    }
   ],
   "source": [
    "target_prospect['duration'].mean()"
   ]
  },
  {
   "cell_type": "markdown",
   "metadata": {},
   "source": [
    "The average call duration for reaching out top 5 deciles is 261 seconds, which is about 4.35 minutes."
   ]
  },
  {
   "cell_type": "markdown",
   "metadata": {},
   "source": [
    "#### Check point 5: Lift chart:"
   ]
  },
  {
   "cell_type": "code",
   "execution_count": 194,
   "metadata": {},
   "outputs": [],
   "source": [
    "# With out the model\n",
    "No_of_prospects_without_model = range(1,len(loan)+1) # 41188\n",
    "reponse_rate_without_model = (y.cumsum()/y.sum())*100\n",
    "\n",
    "# with model\n",
    "No_of_prospects_model = lift_df_final['total'].cumsum()\n",
    "reponse_rate_with_model = lift_df_final['gain']"
   ]
  },
  {
   "cell_type": "code",
   "execution_count": 195,
   "metadata": {},
   "outputs": [
    {
     "data": {
      "image/png": "[encoded data removed]",
      "text/plain": [
       "<Figure size 648x360 with 1 Axes>"
      ]
     },
     "metadata": {},
     "output_type": "display_data"
    }
   ],
   "source": [
    "plt.figure(figsize= (9,5))\n",
    "plt.plot(No_of_prospects_model,reponse_rate_with_model,'b',label = 'model')\n",
    "plt.plot(No_of_prospects_without_model,reponse_rate_without_model,'G',label = 'no model')\n",
    "plt.legend()\n",
    "plt.xlabel('No_of_prospects')\n",
    "plt.ylabel('Response rate')\n",
    "plt.show()"
   ]
  },
  {
   "cell_type": "markdown",
   "metadata": {},
   "source": [
    "We clearly see that with 20000 prospects we used to get 20% response rate. But with the influence of the model, we get around 80% of response rate."
   ]
  },
  {
   "cell_type": "markdown",
   "metadata": {},
   "source": [
    "#### Cost of acquisition:"
   ]
  },
  {
   "cell_type": "markdown",
   "metadata": {},
   "source": [
    "#### 1. Assuming Cost for each call will be cost per minute*duration (As per TA verified answer in discussion forum)"
   ]
  },
  {
   "cell_type": "code",
   "execution_count": 196,
   "metadata": {},
   "outputs": [
    {
     "name": "stdout",
     "output_type": "stream",
     "text": [
      "cost of acquiring 80% of customers(in rupees) is 44737.29\n"
     ]
    }
   ],
   "source": [
    "# cost of acquiring 80% of customers\n",
    "with_model_cost = round(target_prospect['cost_per_call_in_Rs'].sum(),2)\n",
    "print('cost of acquiring 80% of customers(in rupees) is',round(target_prospect['cost_per_call_in_Rs'].sum(),2))"
   ]
  },
  {
   "cell_type": "code",
   "execution_count": 197,
   "metadata": {},
   "outputs": [
    {
     "name": "stdout",
     "output_type": "stream",
     "text": [
      "cost of contacting all the 41k customers(in rupess) is 87301.13\n"
     ]
    }
   ],
   "source": [
    "# cost of contacting all the 41k customers\n",
    "with_out_model = round(decile_df['cost_per_call_in_Rs'].sum(),2)\n",
    "print('cost of contacting all the 41k customers(in rupess) is', round(decile_df['cost_per_call_in_Rs'].sum(),2))"
   ]
  },
  {
   "cell_type": "code",
   "execution_count": 198,
   "metadata": {},
   "outputs": [
    {
     "data": {
      "text/plain": [
       "42563.840000000004"
      ]
     },
     "execution_count": 198,
     "metadata": {},
     "output_type": "execute_result"
    }
   ],
   "source": [
    "cost_saved = (with_out_model- with_model_cost)\n",
    "cost_saved"
   ]
  },
  {
   "cell_type": "markdown",
   "metadata": {},
   "source": [
    "As per business objective we are looking for 80% of the responders-\n",
    "    This means we are only required to contact top 5 deciles, which turns out to be 24,577.\n",
    "    And cost for acquiring this 80% of customer is 44737.29.\n",
    "    So by using the logistic regression model we save 42,563 rupees which is approximately 49% savings."
   ]
  },
  {
   "cell_type": "markdown",
   "metadata": {},
   "source": [
    "#### 2. Assuming cost = 1*number of contacts made in the current campaign(As given in problem statement)"
   ]
  },
  {
   "cell_type": "code",
   "execution_count": 199,
   "metadata": {},
   "outputs": [],
   "source": [
    "lift_df_final_5decile = lift_df_final[lift_df_final.decile >= 5]"
   ]
  },
  {
   "cell_type": "code",
   "execution_count": 200,
   "metadata": {},
   "outputs": [
    {
     "data": {
      "text/plain": [
       "20577"
      ]
     },
     "execution_count": 200,
     "metadata": {},
     "output_type": "execute_result"
    }
   ],
   "source": [
    "#number of contacts to make for acquiring 80% customer\n",
    "with_model_contacts = lift_df_final_5decile['total'].sum()\n",
    "with_model_contacts"
   ]
  },
  {
   "cell_type": "markdown",
   "metadata": {},
   "source": [
    "So the cost of obtaining 80% contacts is 20,577."
   ]
  },
  {
   "cell_type": "code",
   "execution_count": 201,
   "metadata": {},
   "outputs": [
    {
     "data": {
      "text/plain": [
       "41188"
      ]
     },
     "execution_count": 201,
     "metadata": {},
     "output_type": "execute_result"
    }
   ],
   "source": [
    "#number of contacts without model\n",
    "without_model_contacts = lift_df_final['total'].sum()\n",
    "without_model_contacts "
   ]
  },
  {
   "cell_type": "markdown",
   "metadata": {},
   "source": [
    "So the cost of contacting all 41k customers is 41,188."
   ]
  },
  {
   "cell_type": "code",
   "execution_count": 202,
   "metadata": {},
   "outputs": [
    {
     "data": {
      "text/plain": [
       "20611"
      ]
     },
     "execution_count": 202,
     "metadata": {},
     "output_type": "execute_result"
    }
   ],
   "source": [
    "cost_saved = (without_model_contacts- with_model_contacts)\n",
    "cost_saved"
   ]
  },
  {
   "cell_type": "markdown",
   "metadata": {},
   "source": [
    "So with this assumption if we use model, we save around 20,611 for acquiring 80% of prospectors which is approx. 50% of savings."
   ]
  },
  {
   "cell_type": "code",
   "execution_count": null,
   "metadata": {},
   "outputs": [],
   "source": []
  }
 ],
 "metadata": {
  "kernelspec": {
   "display_name": "Python 3",
   "language": "python",
   "name": "python3"
  },
  "language_info": {
   "codemirror_mode": {
    "name": "ipython",
    "version": 3
   },
   "file_extension": ".py",
   "mimetype": "text/x-python",
   "name": "python",
   "nbconvert_exporter": "python",
   "pygments_lexer": "ipython3",
   "version": "3.7.3"
  }
 },
 "nbformat": 4,
 "nbformat_minor": 2
}
