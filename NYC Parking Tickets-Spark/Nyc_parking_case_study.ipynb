{
 "cells": [
  {
   "cell_type": "code",
   "execution_count": 1,
   "metadata": {},
   "outputs": [],
   "source": [
    "from pyspark.sql.functions import col,min,max,year,udf,when,substring,month,sum\n",
    "import seaborn as sns\n",
    "import matplotlib.pyplot as plt"
   ]
  },
  {
   "cell_type": "code",
   "execution_count": 2,
   "metadata": {},
   "outputs": [],
   "source": [
    "# Creating Spark Session variable\n",
    "from pyspark.sql import SparkSession\n",
    "ss = SparkSession.builder.appName('gk_nyc_parking').getOrCreate()"
   ]
  },
  {
   "cell_type": "code",
   "execution_count": 3,
   "metadata": {},
   "outputs": [],
   "source": [
    "def print_bold(line):\n",
    "    print('\\033[1m' +line+'\\033[0m')"
   ]
  },
  {
   "cell_type": "markdown",
   "metadata": {},
   "source": [
    "### Importing Data"
   ]
  },
  {
   "cell_type": "code",
   "execution_count": 4,
   "metadata": {},
   "outputs": [],
   "source": [
    "nyc_df = ss.read.format('csv').option('header','true').load('/common_folder/nyc_parking/Parking_Violations_Issued_-_Fiscal_Year_2017.csv')"
   ]
  },
  {
   "cell_type": "code",
   "execution_count": 5,
   "metadata": {},
   "outputs": [
    {
     "data": {
      "text/plain": [
       "DataFrame[Summons Number: string, Plate ID: string, Registration State: string, Issue Date: string, Violation Code: string, Vehicle Body Type: string, Vehicle Make: string, Violation Precinct: string, Issuer Precinct: string, Violation Time: string]"
      ]
     },
     "execution_count": 5,
     "metadata": {},
     "output_type": "execute_result"
    }
   ],
   "source": [
    "nyc_df.cache()"
   ]
  },
  {
   "cell_type": "markdown",
   "metadata": {},
   "source": [
    "### shape of the dataframe"
   ]
  },
  {
   "cell_type": "code",
   "execution_count": 6,
   "metadata": {},
   "outputs": [
    {
     "name": "stdout",
     "output_type": "stream",
     "text": [
      "<class 'pyspark.sql.dataframe.DataFrame'>\n",
      "\u001b[1mnumber of Rows:\u001b[0m\n",
      "10803028\n",
      "\u001b[1mnumber of Columns:\u001b[0m\n",
      "10\n"
     ]
    }
   ],
   "source": [
    "rows1 = nyc_df.count()\n",
    "columns1 = len(nyc_df.columns)\n",
    "print(type(nyc_df))\n",
    "print_bold('number of Rows:')\n",
    "print(rows1)\n",
    "print_bold('number of Columns:')\n",
    "print(columns1)"
   ]
  },
  {
   "cell_type": "markdown",
   "metadata": {},
   "source": [
    "### Printing Schema"
   ]
  },
  {
   "cell_type": "code",
   "execution_count": 7,
   "metadata": {},
   "outputs": [
    {
     "name": "stdout",
     "output_type": "stream",
     "text": [
      "root\n",
      " |-- Summons Number: string (nullable = true)\n",
      " |-- Plate ID: string (nullable = true)\n",
      " |-- Registration State: string (nullable = true)\n",
      " |-- Issue Date: string (nullable = true)\n",
      " |-- Violation Code: string (nullable = true)\n",
      " |-- Vehicle Body Type: string (nullable = true)\n",
      " |-- Vehicle Make: string (nullable = true)\n",
      " |-- Violation Precinct: string (nullable = true)\n",
      " |-- Issuer Precinct: string (nullable = true)\n",
      " |-- Violation Time: string (nullable = true)\n",
      "\n"
     ]
    }
   ],
   "source": [
    "nyc_df.printSchema()"
   ]
  },
  {
   "cell_type": "markdown",
   "metadata": {},
   "source": [
    "### Data overview"
   ]
  },
  {
   "cell_type": "code",
   "execution_count": 8,
   "metadata": {},
   "outputs": [
    {
     "data": {
      "text/html": [
       "<div>\n",
       "<style scoped>\n",
       "    .dataframe tbody tr th:only-of-type {\n",
       "        vertical-align: middle;\n",
       "    }\n",
       "\n",
       "    .dataframe tbody tr th {\n",
       "        vertical-align: top;\n",
       "    }\n",
       "\n",
       "    .dataframe thead th {\n",
       "        text-align: right;\n",
       "    }\n",
       "</style>\n",
       "<table border=\"1\" class=\"dataframe\">\n",
       "  <thead>\n",
       "    <tr style=\"text-align: right;\">\n",
       "      <th></th>\n",
       "      <th>Summons Number</th>\n",
       "      <th>Plate ID</th>\n",
       "      <th>Registration State</th>\n",
       "      <th>Issue Date</th>\n",
       "      <th>Violation Code</th>\n",
       "      <th>Vehicle Body Type</th>\n",
       "      <th>Vehicle Make</th>\n",
       "      <th>Violation Precinct</th>\n",
       "      <th>Issuer Precinct</th>\n",
       "      <th>Violation Time</th>\n",
       "    </tr>\n",
       "  </thead>\n",
       "  <tbody>\n",
       "    <tr>\n",
       "      <th>0</th>\n",
       "      <td>5092469481</td>\n",
       "      <td>GZH7067</td>\n",
       "      <td>NY</td>\n",
       "      <td>2016-07-10</td>\n",
       "      <td>7</td>\n",
       "      <td>SUBN</td>\n",
       "      <td>TOYOT</td>\n",
       "      <td>0</td>\n",
       "      <td>0</td>\n",
       "      <td>0143A</td>\n",
       "    </tr>\n",
       "    <tr>\n",
       "      <th>1</th>\n",
       "      <td>5092451658</td>\n",
       "      <td>GZH7067</td>\n",
       "      <td>NY</td>\n",
       "      <td>2016-07-08</td>\n",
       "      <td>7</td>\n",
       "      <td>SUBN</td>\n",
       "      <td>TOYOT</td>\n",
       "      <td>0</td>\n",
       "      <td>0</td>\n",
       "      <td>0400P</td>\n",
       "    </tr>\n",
       "    <tr>\n",
       "      <th>2</th>\n",
       "      <td>4006265037</td>\n",
       "      <td>FZX9232</td>\n",
       "      <td>NY</td>\n",
       "      <td>2016-08-23</td>\n",
       "      <td>5</td>\n",
       "      <td>SUBN</td>\n",
       "      <td>FORD</td>\n",
       "      <td>0</td>\n",
       "      <td>0</td>\n",
       "      <td>0233P</td>\n",
       "    </tr>\n",
       "    <tr>\n",
       "      <th>3</th>\n",
       "      <td>8478629828</td>\n",
       "      <td>66623ME</td>\n",
       "      <td>NY</td>\n",
       "      <td>2017-06-14</td>\n",
       "      <td>47</td>\n",
       "      <td>REFG</td>\n",
       "      <td>MITSU</td>\n",
       "      <td>14</td>\n",
       "      <td>14</td>\n",
       "      <td>1120A</td>\n",
       "    </tr>\n",
       "    <tr>\n",
       "      <th>4</th>\n",
       "      <td>7868300310</td>\n",
       "      <td>37033JV</td>\n",
       "      <td>NY</td>\n",
       "      <td>2016-11-21</td>\n",
       "      <td>69</td>\n",
       "      <td>DELV</td>\n",
       "      <td>INTER</td>\n",
       "      <td>13</td>\n",
       "      <td>13</td>\n",
       "      <td>0555P</td>\n",
       "    </tr>\n",
       "  </tbody>\n",
       "</table>\n",
       "</div>"
      ],
      "text/plain": [
       "  Summons Number Plate ID Registration State  Issue Date Violation Code  \\\n",
       "0     5092469481  GZH7067                 NY  2016-07-10              7   \n",
       "1     5092451658  GZH7067                 NY  2016-07-08              7   \n",
       "2     4006265037  FZX9232                 NY  2016-08-23              5   \n",
       "3     8478629828  66623ME                 NY  2017-06-14             47   \n",
       "4     7868300310  37033JV                 NY  2016-11-21             69   \n",
       "\n",
       "  Vehicle Body Type Vehicle Make Violation Precinct Issuer Precinct  \\\n",
       "0              SUBN        TOYOT                  0               0   \n",
       "1              SUBN        TOYOT                  0               0   \n",
       "2              SUBN         FORD                  0               0   \n",
       "3              REFG        MITSU                 14              14   \n",
       "4              DELV        INTER                 13              13   \n",
       "\n",
       "  Violation Time  \n",
       "0          0143A  \n",
       "1          0400P  \n",
       "2          0233P  \n",
       "3          1120A  \n",
       "4          0555P  "
      ]
     },
     "execution_count": 8,
     "metadata": {},
     "output_type": "execute_result"
    }
   ],
   "source": [
    "nyc_df.limit(5).toPandas()"
   ]
  },
  {
   "cell_type": "markdown",
   "metadata": {},
   "source": [
    "# 1 Basic Data checks"
   ]
  },
  {
   "cell_type": "markdown",
   "metadata": {},
   "source": [
    "## 1.1 Data type correction"
   ]
  },
  {
   "cell_type": "markdown",
   "metadata": {},
   "source": [
    "`'Summons Number','Violation Code','Violation Precinct','Issuer Precinct'` are all numbers, hence converting them into int/BigInt and converting `Issue Date` into timestamp."
   ]
  },
  {
   "cell_type": "code",
   "execution_count": 9,
   "metadata": {},
   "outputs": [],
   "source": [
    "for x in ['Violation Code','Violation Precinct','Issuer Precinct']:\n",
    "    nyc_df = nyc_df.withColumn(x,col(x).cast('Int'))\n",
    "nyc_df = nyc_df.withColumn('Summons Number',col('Summons Number').cast(LongType()))\n",
    "nyc_df = nyc_df.withColumn('Issue Date',col('Issue Date').cast('timestamp'))\n"
   ]
  },
  {
   "cell_type": "code",
   "execution_count": 10,
   "metadata": {},
   "outputs": [
    {
     "name": "stdout",
     "output_type": "stream",
     "text": [
      "root\n",
      " |-- Summons Number: long (nullable = true)\n",
      " |-- Plate ID: string (nullable = true)\n",
      " |-- Registration State: string (nullable = true)\n",
      " |-- Issue Date: timestamp (nullable = true)\n",
      " |-- Violation Code: integer (nullable = true)\n",
      " |-- Vehicle Body Type: string (nullable = true)\n",
      " |-- Vehicle Make: string (nullable = true)\n",
      " |-- Violation Precinct: integer (nullable = true)\n",
      " |-- Issuer Precinct: integer (nullable = true)\n",
      " |-- Violation Time: string (nullable = true)\n",
      "\n"
     ]
    }
   ],
   "source": [
    "nyc_df.printSchema()"
   ]
  },
  {
   "cell_type": "code",
   "execution_count": 11,
   "metadata": {},
   "outputs": [
    {
     "data": {
      "text/html": [
       "<div>\n",
       "<style scoped>\n",
       "    .dataframe tbody tr th:only-of-type {\n",
       "        vertical-align: middle;\n",
       "    }\n",
       "\n",
       "    .dataframe tbody tr th {\n",
       "        vertical-align: top;\n",
       "    }\n",
       "\n",
       "    .dataframe thead th {\n",
       "        text-align: right;\n",
       "    }\n",
       "</style>\n",
       "<table border=\"1\" class=\"dataframe\">\n",
       "  <thead>\n",
       "    <tr style=\"text-align: right;\">\n",
       "      <th></th>\n",
       "      <th>Summons Number</th>\n",
       "      <th>Plate ID</th>\n",
       "      <th>Registration State</th>\n",
       "      <th>Issue Date</th>\n",
       "      <th>Violation Code</th>\n",
       "      <th>Vehicle Body Type</th>\n",
       "      <th>Vehicle Make</th>\n",
       "      <th>Violation Precinct</th>\n",
       "      <th>Issuer Precinct</th>\n",
       "      <th>Violation Time</th>\n",
       "    </tr>\n",
       "  </thead>\n",
       "  <tbody>\n",
       "    <tr>\n",
       "      <th>0</th>\n",
       "      <td>5092469481</td>\n",
       "      <td>GZH7067</td>\n",
       "      <td>NY</td>\n",
       "      <td>2016-07-10</td>\n",
       "      <td>7</td>\n",
       "      <td>SUBN</td>\n",
       "      <td>TOYOT</td>\n",
       "      <td>0</td>\n",
       "      <td>0</td>\n",
       "      <td>0143A</td>\n",
       "    </tr>\n",
       "    <tr>\n",
       "      <th>1</th>\n",
       "      <td>5092451658</td>\n",
       "      <td>GZH7067</td>\n",
       "      <td>NY</td>\n",
       "      <td>2016-07-08</td>\n",
       "      <td>7</td>\n",
       "      <td>SUBN</td>\n",
       "      <td>TOYOT</td>\n",
       "      <td>0</td>\n",
       "      <td>0</td>\n",
       "      <td>0400P</td>\n",
       "    </tr>\n",
       "    <tr>\n",
       "      <th>2</th>\n",
       "      <td>4006265037</td>\n",
       "      <td>FZX9232</td>\n",
       "      <td>NY</td>\n",
       "      <td>2016-08-23</td>\n",
       "      <td>5</td>\n",
       "      <td>SUBN</td>\n",
       "      <td>FORD</td>\n",
       "      <td>0</td>\n",
       "      <td>0</td>\n",
       "      <td>0233P</td>\n",
       "    </tr>\n",
       "    <tr>\n",
       "      <th>3</th>\n",
       "      <td>8478629828</td>\n",
       "      <td>66623ME</td>\n",
       "      <td>NY</td>\n",
       "      <td>2017-06-14</td>\n",
       "      <td>47</td>\n",
       "      <td>REFG</td>\n",
       "      <td>MITSU</td>\n",
       "      <td>14</td>\n",
       "      <td>14</td>\n",
       "      <td>1120A</td>\n",
       "    </tr>\n",
       "    <tr>\n",
       "      <th>4</th>\n",
       "      <td>7868300310</td>\n",
       "      <td>37033JV</td>\n",
       "      <td>NY</td>\n",
       "      <td>2016-11-21</td>\n",
       "      <td>69</td>\n",
       "      <td>DELV</td>\n",
       "      <td>INTER</td>\n",
       "      <td>13</td>\n",
       "      <td>13</td>\n",
       "      <td>0555P</td>\n",
       "    </tr>\n",
       "  </tbody>\n",
       "</table>\n",
       "</div>"
      ],
      "text/plain": [
       "   Summons Number Plate ID Registration State Issue Date  Violation Code  \\\n",
       "0      5092469481  GZH7067                 NY 2016-07-10               7   \n",
       "1      5092451658  GZH7067                 NY 2016-07-08               7   \n",
       "2      4006265037  FZX9232                 NY 2016-08-23               5   \n",
       "3      8478629828  66623ME                 NY 2017-06-14              47   \n",
       "4      7868300310  37033JV                 NY 2016-11-21              69   \n",
       "\n",
       "  Vehicle Body Type Vehicle Make  Violation Precinct  Issuer Precinct  \\\n",
       "0              SUBN        TOYOT                   0                0   \n",
       "1              SUBN        TOYOT                   0                0   \n",
       "2              SUBN         FORD                   0                0   \n",
       "3              REFG        MITSU                  14               14   \n",
       "4              DELV        INTER                  13               13   \n",
       "\n",
       "  Violation Time  \n",
       "0          0143A  \n",
       "1          0400P  \n",
       "2          0233P  \n",
       "3          1120A  \n",
       "4          0555P  "
      ]
     },
     "execution_count": 11,
     "metadata": {},
     "output_type": "execute_result"
    }
   ],
   "source": [
    "nyc_df.limit(5).toPandas()"
   ]
  },
  {
   "cell_type": "markdown",
   "metadata": {},
   "source": [
    "Replacing `space` with `underscore` in column names"
   ]
  },
  {
   "cell_type": "code",
   "execution_count": 12,
   "metadata": {},
   "outputs": [],
   "source": [
    "columns_list = nyc_df.schema.names"
   ]
  },
  {
   "cell_type": "code",
   "execution_count": 13,
   "metadata": {},
   "outputs": [],
   "source": [
    "for column in columns_list:\n",
    "    new_column = column.replace(' ','_')\n",
    "    nyc_df = nyc_df.withColumnRenamed(column,new_column)"
   ]
  },
  {
   "cell_type": "code",
   "execution_count": 14,
   "metadata": {},
   "outputs": [
    {
     "name": "stdout",
     "output_type": "stream",
     "text": [
      "['Summons_Number', 'Plate_ID', 'Registration_State', 'Issue_Date', 'Violation_Code', 'Vehicle_Body_Type', 'Vehicle_Make', 'Violation_Precinct', 'Issuer_Precinct', 'Violation_Time']\n"
     ]
    }
   ],
   "source": [
    "columns_list = nyc_df.schema.names\n",
    "print(columns_list)"
   ]
  },
  {
   "cell_type": "markdown",
   "metadata": {},
   "source": [
    "## 1.2 Check on the Issue year"
   ]
  },
  {
   "cell_type": "code",
   "execution_count": 15,
   "metadata": {},
   "outputs": [
    {
     "data": {
      "text/plain": [
       "[Row(year(Issue_date)=2016),\n",
       " Row(year(Issue_date)=2016),\n",
       " Row(year(Issue_date)=2016),\n",
       " Row(year(Issue_date)=2017),\n",
       " Row(year(Issue_date)=2016)]"
      ]
     },
     "execution_count": 15,
     "metadata": {},
     "output_type": "execute_result"
    }
   ],
   "source": [
    "nyc_df.select(year('Issue_date')).take(5)"
   ]
  },
  {
   "cell_type": "code",
   "execution_count": 16,
   "metadata": {},
   "outputs": [
    {
     "name": "stdout",
     "output_type": "stream",
     "text": [
      "\u001b[1mdistinct years:\u001b[0m\n",
      "55\n"
     ]
    }
   ],
   "source": [
    "print_bold('distinct years:')\n",
    "print(nyc_df.select(year('Issue_date')).distinct().count())"
   ]
  },
  {
   "cell_type": "code",
   "execution_count": 17,
   "metadata": {},
   "outputs": [
    {
     "name": "stdout",
     "output_type": "stream",
     "text": [
      "+----------------+-------+\n",
      "|year(Issue_date)|  count|\n",
      "+----------------+-------+\n",
      "|            1972|      2|\n",
      "|            1973|      2|\n",
      "|            1974|      1|\n",
      "|            1976|      1|\n",
      "|            1977|      1|\n",
      "|            1984|      1|\n",
      "|            1985|      1|\n",
      "|            1990|      2|\n",
      "|            1991|      3|\n",
      "|            1994|      1|\n",
      "|            1996|      1|\n",
      "|            1997|      1|\n",
      "|            2000|    185|\n",
      "|            2001|      2|\n",
      "|            2002|      1|\n",
      "|            2003|      1|\n",
      "|            2004|      2|\n",
      "|            2005|      1|\n",
      "|            2006|      8|\n",
      "|            2007|     18|\n",
      "|            2008|      4|\n",
      "|            2009|      3|\n",
      "|            2010|     48|\n",
      "|            2011|     22|\n",
      "|            2012|     87|\n",
      "|            2013|     70|\n",
      "|            2014|    120|\n",
      "|            2015|    419|\n",
      "|            2016|5368391|\n",
      "|            2017|5431918|\n",
      "|            2018|   1057|\n",
      "|            2019|    472|\n",
      "|            2020|     22|\n",
      "|            2021|     22|\n",
      "|            2022|      4|\n",
      "|            2023|      5|\n",
      "|            2024|      3|\n",
      "|            2025|      6|\n",
      "|            2026|     24|\n",
      "|            2027|     50|\n",
      "|            2028|      8|\n",
      "|            2029|      2|\n",
      "|            2030|     12|\n",
      "|            2031|      5|\n",
      "|            2033|      2|\n",
      "|            2036|      1|\n",
      "|            2041|      1|\n",
      "|            2047|      2|\n",
      "|            2053|      1|\n",
      "|            2060|      2|\n",
      "|            2061|      1|\n",
      "|            2062|      2|\n",
      "|            2063|      2|\n",
      "|            2068|      1|\n",
      "|            2069|      4|\n",
      "+----------------+-------+\n",
      "\n"
     ]
    }
   ],
   "source": [
    "nyc_df.groupby(year('Issue_date')).count().sort(year('Issue_date')).show(55)"
   ]
  },
  {
   "cell_type": "markdown",
   "metadata": {},
   "source": [
    "There are 55 years for which parking issues have been issued with minimum year being 1972 and max year being 2069. There seems to some inconsistencies in data, as there cannot be any tickets which year greater then 2069. Since we are considering only the year 2017 for this analysis we are not worried about these issues."
   ]
  },
  {
   "cell_type": "code",
   "execution_count": 18,
   "metadata": {},
   "outputs": [],
   "source": [
    "nyc_2017 = nyc_df.filter(year(nyc_df['Issue_date']) == 2017)"
   ]
  },
  {
   "cell_type": "code",
   "execution_count": 19,
   "metadata": {},
   "outputs": [
    {
     "data": {
      "text/plain": [
       "DataFrame[Summons_Number: bigint, Plate_ID: string, Registration_State: string, Issue_Date: timestamp, Violation_Code: int, Vehicle_Body_Type: string, Vehicle_Make: string, Violation_Precinct: int, Issuer_Precinct: int, Violation_Time: string]"
      ]
     },
     "execution_count": 19,
     "metadata": {},
     "output_type": "execute_result"
    }
   ],
   "source": [
    "nyc_df.cache()"
   ]
  },
  {
   "cell_type": "code",
   "execution_count": 20,
   "metadata": {},
   "outputs": [
    {
     "name": "stdout",
     "output_type": "stream",
     "text": [
      "+----------------+-------+\n",
      "|year(Issue_date)|  count|\n",
      "+----------------+-------+\n",
      "|            2017|5431918|\n",
      "+----------------+-------+\n",
      "\n"
     ]
    }
   ],
   "source": [
    "nyc_2017.groupby(year('Issue_date')).count().show()"
   ]
  },
  {
   "cell_type": "markdown",
   "metadata": {},
   "source": [
    "There are 54,31,918 tickets that have been issues in 2017."
   ]
  },
  {
   "cell_type": "code",
   "execution_count": 21,
   "metadata": {},
   "outputs": [],
   "source": [
    "columns_list = nyc_2017.schema.names\n",
    "rows2 = nyc_2017.count()"
   ]
  },
  {
   "cell_type": "markdown",
   "metadata": {},
   "source": [
    "## 1.3 Duplicate check"
   ]
  },
  {
   "cell_type": "markdown",
   "metadata": {},
   "source": [
    "Check to see if any of the `summons_numbers` are repeated, if there are any then they are duplicates"
   ]
  },
  {
   "cell_type": "code",
   "execution_count": 22,
   "metadata": {},
   "outputs": [
    {
     "name": "stdout",
     "output_type": "stream",
     "text": [
      "\u001b[1mNo duplicates\u001b[0m\n"
     ]
    }
   ],
   "source": [
    "if rows2 != nyc_2017.dropDuplicates(['Summons_Number']).count():\n",
    "    print_bold('Duplicates are present')\n",
    "else :\n",
    "    print_bold('No duplicates')"
   ]
  },
  {
   "cell_type": "markdown",
   "metadata": {},
   "source": [
    "To see if same vehicle at the same time as been charged with two different summons and no such records are present"
   ]
  },
  {
   "cell_type": "code",
   "execution_count": 23,
   "metadata": {},
   "outputs": [
    {
     "name": "stdout",
     "output_type": "stream",
     "text": [
      "\u001b[1mNo duplicates\u001b[0m\n"
     ]
    }
   ],
   "source": [
    "temp_list = columns_list.copy()\n",
    "if rows2 != nyc_2017.dropDuplicates(temp_list.remove('Summons_Number')).count():\n",
    "    print_bold('Duplicates are present')\n",
    "else :\n",
    "    print_bold('No duplicates')"
   ]
  },
  {
   "cell_type": "markdown",
   "metadata": {},
   "source": [
    "## 1.4 Null value checks"
   ]
  },
  {
   "cell_type": "code",
   "execution_count": 24,
   "metadata": {},
   "outputs": [
    {
     "name": "stdout",
     "output_type": "stream",
     "text": [
      "\u001b[1mnull value count column wise:\u001b[0m\n",
      "Summons_Number                0\n",
      "Plate_ID                      0\n",
      "Registration_State            0\n",
      "Issue_Date                    0\n",
      "Violation_Code                0\n",
      "Vehicle_Body_Type             0\n",
      "Vehicle_Make                  0\n",
      "Violation_Precinct            0\n",
      "Issuer_Precinct               0\n",
      "Violation_Time                0\n"
     ]
    }
   ],
   "source": [
    "print_bold('null value count column wise:')\n",
    "for column in columns_list:\n",
    "    null_str = column+' is null'\n",
    "    null_count = nyc_2017.filter(null_str).count()\n",
    "    print('{0:<20} {1:>10}'.format(column, null_count))"
   ]
  },
  {
   "cell_type": "markdown",
   "metadata": {},
   "source": [
    "### 1.4.1 Summons_Number"
   ]
  },
  {
   "cell_type": "code",
   "execution_count": 25,
   "metadata": {},
   "outputs": [
    {
     "name": "stdout",
     "output_type": "stream",
     "text": [
      "+-------------------+-------------------+\n",
      "|min(Summons_Number)|max(Summons_Number)|\n",
      "+-------------------+-------------------+\n",
      "|         1002884949|         8585600044|\n",
      "+-------------------+-------------------+\n",
      "\n"
     ]
    }
   ],
   "source": [
    "nyc_2017.select(min(col('Summons_Number')),max(col('Summons_Number'))).show()"
   ]
  },
  {
   "cell_type": "code",
   "execution_count": 26,
   "metadata": {},
   "outputs": [],
   "source": [
    "nyc_2017.createOrReplaceTempView(\"nyc2017\")"
   ]
  },
  {
   "cell_type": "markdown",
   "metadata": {},
   "source": [
    "### 1.4.2 Registration_State"
   ]
  },
  {
   "cell_type": "code",
   "execution_count": 27,
   "metadata": {
    "scrolled": true
   },
   "outputs": [
    {
     "name": "stdout",
     "output_type": "stream",
     "text": [
      "+--------+\n",
      "|count(1)|\n",
      "+--------+\n",
      "|       0|\n",
      "+--------+\n",
      "\n"
     ]
    }
   ],
   "source": [
    "#check to see if any special characters are present\n",
    "ss.sql(\"select count(1) from nyc2017 where Registration_State regexp '[^a-zA-Z0-9]'\").show()"
   ]
  },
  {
   "cell_type": "markdown",
   "metadata": {},
   "source": [
    "It is given that 99 registration_State has to be replaced with the state that has highest number of entries.`NY` has the highest number of entries therefore replacing `99` with `NY` "
   ]
  },
  {
   "cell_type": "code",
   "execution_count": 28,
   "metadata": {},
   "outputs": [
    {
     "name": "stdout",
     "output_type": "stream",
     "text": [
      "+------------------+-------+\n",
      "|Registration_State|  count|\n",
      "+------------------+-------+\n",
      "|                NY|4273951|\n",
      "|                NJ| 475825|\n",
      "|                PA| 140286|\n",
      "|                CT|  70403|\n",
      "|                FL|  69468|\n",
      "+------------------+-------+\n",
      "only showing top 5 rows\n",
      "\n"
     ]
    }
   ],
   "source": [
    "nyc_2017.groupby('Registration_State').count().sort(col('count').desc()).show(5)"
   ]
  },
  {
   "cell_type": "code",
   "execution_count": 29,
   "metadata": {},
   "outputs": [],
   "source": [
    "nyc_2017 = nyc_2017.withColumn('Registration_State',when(nyc_2017['Registration_State'] == '99','NY').otherwise(nyc_2017['Registration_State']))"
   ]
  },
  {
   "cell_type": "code",
   "execution_count": 30,
   "metadata": {},
   "outputs": [
    {
     "name": "stdout",
     "output_type": "stream",
     "text": [
      "+------------------+-------+\n",
      "|Registration_State|  count|\n",
      "+------------------+-------+\n",
      "|                NY|4290006|\n",
      "|                NJ| 475825|\n",
      "|                PA| 140286|\n",
      "|                CT|  70403|\n",
      "|                FL|  69468|\n",
      "+------------------+-------+\n",
      "only showing top 5 rows\n",
      "\n",
      "+--------------+--------+------------------+----------+--------------+-----------------+------------+------------------+---------------+--------------+\n",
      "|Summons_Number|Plate_ID|Registration_State|Issue_Date|Violation_Code|Vehicle_Body_Type|Vehicle_Make|Violation_Precinct|Issuer_Precinct|Violation_Time|\n",
      "+--------------+--------+------------------+----------+--------------+-----------------+------------+------------------+---------------+--------------+\n",
      "+--------------+--------+------------------+----------+--------------+-----------------+------------+------------------+---------------+--------------+\n",
      "\n"
     ]
    }
   ],
   "source": [
    "nyc_2017.groupby('Registration_State').count().sort(col('count').desc()).show(5)\n",
    "nyc_2017.filter(nyc_2017['Registration_State']=='99').show()"
   ]
  },
  {
   "cell_type": "code",
   "execution_count": 31,
   "metadata": {},
   "outputs": [],
   "source": [
    "nyc_2017.createOrReplaceTempView(\"nyc2017\")"
   ]
  },
  {
   "cell_type": "code",
   "execution_count": 32,
   "metadata": {
    "scrolled": false
   },
   "outputs": [
    {
     "data": {
      "text/html": [
       "<div>\n",
       "<style scoped>\n",
       "    .dataframe tbody tr th:only-of-type {\n",
       "        vertical-align: middle;\n",
       "    }\n",
       "\n",
       "    .dataframe tbody tr th {\n",
       "        vertical-align: top;\n",
       "    }\n",
       "\n",
       "    .dataframe thead th {\n",
       "        text-align: right;\n",
       "    }\n",
       "</style>\n",
       "<table border=\"1\" class=\"dataframe\">\n",
       "  <thead>\n",
       "    <tr style=\"text-align: right;\">\n",
       "      <th></th>\n",
       "      <th>Summons_Number</th>\n",
       "      <th>Plate_ID</th>\n",
       "      <th>Registration_State</th>\n",
       "      <th>Issue_Date</th>\n",
       "      <th>Violation_Code</th>\n",
       "      <th>Vehicle_Body_Type</th>\n",
       "      <th>Vehicle_Make</th>\n",
       "      <th>Violation_Precinct</th>\n",
       "      <th>Issuer_Precinct</th>\n",
       "      <th>Violation_Time</th>\n",
       "    </tr>\n",
       "  </thead>\n",
       "  <tbody>\n",
       "  </tbody>\n",
       "</table>\n",
       "</div>"
      ],
      "text/plain": [
       "Empty DataFrame\n",
       "Columns: [Summons_Number, Plate_ID, Registration_State, Issue_Date, Violation_Code, Vehicle_Body_Type, Vehicle_Make, Violation_Precinct, Issuer_Precinct, Violation_Time]\n",
       "Index: []"
      ]
     },
     "execution_count": 32,
     "metadata": {},
     "output_type": "execute_result"
    }
   ],
   "source": [
    "nyc_2017.filter(nyc_2017['Registration_State'] == 'nan').toPandas().head()"
   ]
  },
  {
   "cell_type": "markdown",
   "metadata": {},
   "source": [
    "### 1.4.3. Violation_Code"
   ]
  },
  {
   "cell_type": "markdown",
   "metadata": {},
   "source": [
    "There are 100 violation codes in total"
   ]
  },
  {
   "cell_type": "code",
   "execution_count": 33,
   "metadata": {},
   "outputs": [
    {
     "data": {
      "text/plain": [
       "100"
      ]
     },
     "execution_count": 33,
     "metadata": {},
     "output_type": "execute_result"
    }
   ],
   "source": [
    "nyc_2017.select(('Violation_Code')).distinct().count()"
   ]
  },
  {
   "cell_type": "code",
   "execution_count": 34,
   "metadata": {},
   "outputs": [
    {
     "name": "stdout",
     "output_type": "stream",
     "text": [
      "+--------+\n",
      "|count(1)|\n",
      "+--------+\n",
      "|       0|\n",
      "+--------+\n",
      "\n"
     ]
    }
   ],
   "source": [
    "#check to see if any special characters are present\n",
    "ss.sql(\"select count(1) from nyc2017 where Violation_Code regexp '[^a-zA-Z0-9]'\").show()"
   ]
  },
  {
   "cell_type": "code",
   "execution_count": 35,
   "metadata": {},
   "outputs": [
    {
     "data": {
      "text/html": [
       "<div>\n",
       "<style scoped>\n",
       "    .dataframe tbody tr th:only-of-type {\n",
       "        vertical-align: middle;\n",
       "    }\n",
       "\n",
       "    .dataframe tbody tr th {\n",
       "        vertical-align: top;\n",
       "    }\n",
       "\n",
       "    .dataframe thead th {\n",
       "        text-align: right;\n",
       "    }\n",
       "</style>\n",
       "<table border=\"1\" class=\"dataframe\">\n",
       "  <thead>\n",
       "    <tr style=\"text-align: right;\">\n",
       "      <th></th>\n",
       "      <th>Summons_Number</th>\n",
       "      <th>Plate_ID</th>\n",
       "      <th>Registration_State</th>\n",
       "      <th>Issue_Date</th>\n",
       "      <th>Violation_Code</th>\n",
       "      <th>Vehicle_Body_Type</th>\n",
       "      <th>Vehicle_Make</th>\n",
       "      <th>Violation_Precinct</th>\n",
       "      <th>Issuer_Precinct</th>\n",
       "      <th>Violation_Time</th>\n",
       "    </tr>\n",
       "  </thead>\n",
       "  <tbody>\n",
       "  </tbody>\n",
       "</table>\n",
       "</div>"
      ],
      "text/plain": [
       "Empty DataFrame\n",
       "Columns: [Summons_Number, Plate_ID, Registration_State, Issue_Date, Violation_Code, Vehicle_Body_Type, Vehicle_Make, Violation_Precinct, Issuer_Precinct, Violation_Time]\n",
       "Index: []"
      ]
     },
     "execution_count": 35,
     "metadata": {},
     "output_type": "execute_result"
    }
   ],
   "source": [
    "nyc_2017.filter(nyc_2017['Violation_Code'] == 'nan').toPandas().head()"
   ]
  },
  {
   "cell_type": "markdown",
   "metadata": {},
   "source": [
    "### 1.4.4 Vehicle_Body_Type"
   ]
  },
  {
   "cell_type": "code",
   "execution_count": 36,
   "metadata": {},
   "outputs": [
    {
     "data": {
      "text/plain": [
       "1165"
      ]
     },
     "execution_count": 36,
     "metadata": {},
     "output_type": "execute_result"
    }
   ],
   "source": [
    "nyc_2017.select(('Vehicle_Body_Type')).distinct().count()"
   ]
  },
  {
   "cell_type": "code",
   "execution_count": 37,
   "metadata": {},
   "outputs": [
    {
     "name": "stdout",
     "output_type": "stream",
     "text": [
      "+--------+\n",
      "|count(1)|\n",
      "+--------+\n",
      "|   43475|\n",
      "+--------+\n",
      "\n"
     ]
    }
   ],
   "source": [
    "#check to see if any special characters are present\n",
    "ss.sql(\"select count(1) from nyc2017 where Vehicle_Body_Type regexp '[^a-zA-Z0-9]'\").show()"
   ]
  },
  {
   "cell_type": "code",
   "execution_count": 38,
   "metadata": {},
   "outputs": [
    {
     "name": "stdout",
     "output_type": "stream",
     "text": [
      "+-----------------+\n",
      "|Vehicle_Body_Type|\n",
      "+-----------------+\n",
      "|             R/RD|\n",
      "|             4D H|\n",
      "|             2 DO|\n",
      "|             4 DO|\n",
      "|              4 D|\n",
      "|             4D S|\n",
      "|             TR/C|\n",
      "|             VAN.|\n",
      "|             W/SR|\n",
      "|             W/DR|\n",
      "|             P/SH|\n",
      "|             SN/P|\n",
      "|             2 DR|\n",
      "|             S/SP|\n",
      "|             TRK.|\n",
      "|             RD/S|\n",
      "|             H/TR|\n",
      "|              C&C|\n",
      "|             H/IN|\n",
      "|             H/WH|\n",
      "|             ST W|\n",
      "|             2D H|\n",
      "|             5 DO|\n",
      "|              P-U|\n",
      "|             4 DR|\n",
      "|             5D H|\n",
      "|             TR/E|\n",
      "|             TRU-|\n",
      "|             VEH-|\n",
      "|             T/CR|\n",
      "+-----------------+\n",
      "\n"
     ]
    }
   ],
   "source": [
    "#check to see if any special characters are present\n",
    "ss.sql(\"select distinct(Vehicle_Body_Type) from nyc2017 where Vehicle_Body_Type regexp '[^a-zA-Z0-9]'\").show(50)"
   ]
  },
  {
   "cell_type": "markdown",
   "metadata": {},
   "source": [
    "There a re 1165 vehicle_body_types and out of all the rows 43,475 rows have special characters. Since we dont have any additional information of vehicle type, we are considering these as valid entries"
   ]
  },
  {
   "cell_type": "code",
   "execution_count": 39,
   "metadata": {},
   "outputs": [
    {
     "name": "stdout",
     "output_type": "stream",
     "text": [
      "20201\n"
     ]
    },
    {
     "data": {
      "text/html": [
       "<div>\n",
       "<style scoped>\n",
       "    .dataframe tbody tr th:only-of-type {\n",
       "        vertical-align: middle;\n",
       "    }\n",
       "\n",
       "    .dataframe tbody tr th {\n",
       "        vertical-align: top;\n",
       "    }\n",
       "\n",
       "    .dataframe thead th {\n",
       "        text-align: right;\n",
       "    }\n",
       "</style>\n",
       "<table border=\"1\" class=\"dataframe\">\n",
       "  <thead>\n",
       "    <tr style=\"text-align: right;\">\n",
       "      <th></th>\n",
       "      <th>Summons_Number</th>\n",
       "      <th>Plate_ID</th>\n",
       "      <th>Registration_State</th>\n",
       "      <th>Issue_Date</th>\n",
       "      <th>Violation_Code</th>\n",
       "      <th>Vehicle_Body_Type</th>\n",
       "      <th>Vehicle_Make</th>\n",
       "      <th>Violation_Precinct</th>\n",
       "      <th>Issuer_Precinct</th>\n",
       "      <th>Violation_Time</th>\n",
       "    </tr>\n",
       "  </thead>\n",
       "  <tbody>\n",
       "    <tr>\n",
       "      <th>0</th>\n",
       "      <td>1423945281</td>\n",
       "      <td>2240653</td>\n",
       "      <td>IN</td>\n",
       "      <td>2017-05-13</td>\n",
       "      <td>14</td>\n",
       "      <td>nan</td>\n",
       "      <td>FRUEH</td>\n",
       "      <td>14</td>\n",
       "      <td>420</td>\n",
       "      <td>1159A</td>\n",
       "    </tr>\n",
       "    <tr>\n",
       "      <th>1</th>\n",
       "      <td>1408924729</td>\n",
       "      <td>85989MD</td>\n",
       "      <td>NY</td>\n",
       "      <td>2017-01-16</td>\n",
       "      <td>14</td>\n",
       "      <td>nan</td>\n",
       "      <td>CADIL</td>\n",
       "      <td>33</td>\n",
       "      <td>33</td>\n",
       "      <td>1016A</td>\n",
       "    </tr>\n",
       "    <tr>\n",
       "      <th>2</th>\n",
       "      <td>1421548033</td>\n",
       "      <td>AF37508</td>\n",
       "      <td>PA</td>\n",
       "      <td>2017-06-01</td>\n",
       "      <td>46</td>\n",
       "      <td>nan</td>\n",
       "      <td>FRUEH</td>\n",
       "      <td>6</td>\n",
       "      <td>6</td>\n",
       "      <td>0555A</td>\n",
       "    </tr>\n",
       "    <tr>\n",
       "      <th>3</th>\n",
       "      <td>8511500900</td>\n",
       "      <td>L15036</td>\n",
       "      <td>CT</td>\n",
       "      <td>2017-02-15</td>\n",
       "      <td>46</td>\n",
       "      <td>nan</td>\n",
       "      <td>ISUZU</td>\n",
       "      <td>33</td>\n",
       "      <td>33</td>\n",
       "      <td>0841A</td>\n",
       "    </tr>\n",
       "    <tr>\n",
       "      <th>4</th>\n",
       "      <td>4006961923</td>\n",
       "      <td>CX716</td>\n",
       "      <td>RI</td>\n",
       "      <td>2017-02-07</td>\n",
       "      <td>5</td>\n",
       "      <td>nan</td>\n",
       "      <td>FORD</td>\n",
       "      <td>0</td>\n",
       "      <td>0</td>\n",
       "      <td>1021A</td>\n",
       "    </tr>\n",
       "  </tbody>\n",
       "</table>\n",
       "</div>"
      ],
      "text/plain": [
       "   Summons_Number Plate_ID Registration_State Issue_Date  Violation_Code  \\\n",
       "0      1423945281  2240653                 IN 2017-05-13              14   \n",
       "1      1408924729  85989MD                 NY 2017-01-16              14   \n",
       "2      1421548033  AF37508                 PA 2017-06-01              46   \n",
       "3      8511500900   L15036                 CT 2017-02-15              46   \n",
       "4      4006961923    CX716                 RI 2017-02-07               5   \n",
       "\n",
       "  Vehicle_Body_Type Vehicle_Make  Violation_Precinct  Issuer_Precinct  \\\n",
       "0               nan        FRUEH                  14              420   \n",
       "1               nan        CADIL                  33               33   \n",
       "2               nan        FRUEH                   6                6   \n",
       "3               nan        ISUZU                  33               33   \n",
       "4               nan         FORD                   0                0   \n",
       "\n",
       "  Violation_Time  \n",
       "0          1159A  \n",
       "1          1016A  \n",
       "2          0555A  \n",
       "3          0841A  \n",
       "4          1021A  "
      ]
     },
     "execution_count": 39,
     "metadata": {},
     "output_type": "execute_result"
    }
   ],
   "source": [
    "print(nyc_2017.filter(nyc_2017['Vehicle_Body_Type'] == 'nan').count())\n",
    "\n",
    "nyc_2017.filter(nyc_2017['Vehicle_Body_Type'] == 'nan').toPandas().head()\n"
   ]
  },
  {
   "cell_type": "markdown",
   "metadata": {},
   "source": [
    "### 1.4.5 Vehicle_Make"
   ]
  },
  {
   "cell_type": "code",
   "execution_count": 40,
   "metadata": {},
   "outputs": [
    {
     "data": {
      "text/plain": [
       "3179"
      ]
     },
     "execution_count": 40,
     "metadata": {},
     "output_type": "execute_result"
    }
   ],
   "source": [
    "nyc_2017.select(('Vehicle_Make')).distinct().count()"
   ]
  },
  {
   "cell_type": "code",
   "execution_count": 41,
   "metadata": {},
   "outputs": [
    {
     "name": "stdout",
     "output_type": "stream",
     "text": [
      "+--------+\n",
      "|count(1)|\n",
      "+--------+\n",
      "|  251808|\n",
      "+--------+\n",
      "\n"
     ]
    }
   ],
   "source": [
    "#check to see if any special characters are present\n",
    "ss.sql(\"select count(1) from nyc2017 where Vehicle_Make regexp '[^a-zA-Z0-9]'\").show()"
   ]
  },
  {
   "cell_type": "code",
   "execution_count": 42,
   "metadata": {},
   "outputs": [
    {
     "name": "stdout",
     "output_type": "stream",
     "text": [
      "+------------+\n",
      "|Vehicle_Make|\n",
      "+------------+\n",
      "|       LA//R|\n",
      "|       N. CA|\n",
      "|        WE/C|\n",
      "|        L/RO|\n",
      "|       TOW M|\n",
      "|       R ROV|\n",
      "|       FL/LR|\n",
      "|         N/V|\n",
      "|       FR/LA|\n",
      "|       GRT D|\n",
      "|        RA/T|\n",
      "|       W/OC/|\n",
      "|       WAN C|\n",
      "|       G DAR|\n",
      "|       BL/BD|\n",
      "|       LAND/|\n",
      "|       UD TR|\n",
      "|       MG/BG|\n",
      "|       KW TR|\n",
      "|       FR. L|\n",
      "|       GEO/P|\n",
      "|       TR/KI|\n",
      "|       MI/SU|\n",
      "|       TR/TE|\n",
      "|       MI /B|\n",
      "|       M CAD|\n",
      "|       BL BI|\n",
      "|       GR/DR|\n",
      "|       LO/RI|\n",
      "|       FR -L|\n",
      "|       JO/DE|\n",
      "|       WK/LI|\n",
      "|       FR/LT|\n",
      "|        BL/B|\n",
      "|       UT MA|\n",
      "|       V OLV|\n",
      "|        C/MC|\n",
      "|       HA/RO|\n",
      "|       BG/BI|\n",
      "|       WH/GN|\n",
      "|       CA/ST|\n",
      "|       UT/HA|\n",
      "|       INT H|\n",
      "|       MR/BR|\n",
      "|       WO/ST|\n",
      "|        MI/F|\n",
      "|       FR/LL|\n",
      "|       SH LA|\n",
      "|       FI/LI|\n",
      "|       GRE/D|\n",
      "+------------+\n",
      "only showing top 50 rows\n",
      "\n"
     ]
    }
   ],
   "source": [
    "#check to see if any special characters are present\n",
    "ss.sql(\"select distinct(Vehicle_Make) from nyc2017 where Vehicle_Make regexp '[^a-zA-Z0-9]'\").show(50)"
   ]
  },
  {
   "cell_type": "markdown",
   "metadata": {},
   "source": [
    "There a re 3179 vehicle_body_types and out of all the rows 2,51,808 rows have special characters. Since we dont have any additional information of vehicle type, we are considering these as valid entries"
   ]
  },
  {
   "cell_type": "code",
   "execution_count": 43,
   "metadata": {},
   "outputs": [
    {
     "name": "stdout",
     "output_type": "stream",
     "text": [
      "38509\n"
     ]
    },
    {
     "data": {
      "text/html": [
       "<div>\n",
       "<style scoped>\n",
       "    .dataframe tbody tr th:only-of-type {\n",
       "        vertical-align: middle;\n",
       "    }\n",
       "\n",
       "    .dataframe tbody tr th {\n",
       "        vertical-align: top;\n",
       "    }\n",
       "\n",
       "    .dataframe thead th {\n",
       "        text-align: right;\n",
       "    }\n",
       "</style>\n",
       "<table border=\"1\" class=\"dataframe\">\n",
       "  <thead>\n",
       "    <tr style=\"text-align: right;\">\n",
       "      <th></th>\n",
       "      <th>Summons_Number</th>\n",
       "      <th>Plate_ID</th>\n",
       "      <th>Registration_State</th>\n",
       "      <th>Issue_Date</th>\n",
       "      <th>Violation_Code</th>\n",
       "      <th>Vehicle_Body_Type</th>\n",
       "      <th>Vehicle_Make</th>\n",
       "      <th>Violation_Precinct</th>\n",
       "      <th>Issuer_Precinct</th>\n",
       "      <th>Violation_Time</th>\n",
       "    </tr>\n",
       "  </thead>\n",
       "  <tbody>\n",
       "    <tr>\n",
       "      <th>0</th>\n",
       "      <td>1418425369</td>\n",
       "      <td>JYW5248</td>\n",
       "      <td>PA</td>\n",
       "      <td>2017-03-21</td>\n",
       "      <td>21</td>\n",
       "      <td>SDN</td>\n",
       "      <td>nan</td>\n",
       "      <td>48</td>\n",
       "      <td>48</td>\n",
       "      <td>0952A</td>\n",
       "    </tr>\n",
       "    <tr>\n",
       "      <th>1</th>\n",
       "      <td>8546468965</td>\n",
       "      <td>37489BB</td>\n",
       "      <td>NY</td>\n",
       "      <td>2017-06-12</td>\n",
       "      <td>46</td>\n",
       "      <td>BUS</td>\n",
       "      <td>nan</td>\n",
       "      <td>68</td>\n",
       "      <td>68</td>\n",
       "      <td>0216P</td>\n",
       "    </tr>\n",
       "    <tr>\n",
       "      <th>2</th>\n",
       "      <td>8583406443</td>\n",
       "      <td>10217AV</td>\n",
       "      <td>NY</td>\n",
       "      <td>2017-06-27</td>\n",
       "      <td>38</td>\n",
       "      <td>UTIL</td>\n",
       "      <td>nan</td>\n",
       "      <td>5</td>\n",
       "      <td>5</td>\n",
       "      <td>0513P</td>\n",
       "    </tr>\n",
       "    <tr>\n",
       "      <th>3</th>\n",
       "      <td>1414702395</td>\n",
       "      <td>2270500</td>\n",
       "      <td>ME</td>\n",
       "      <td>2017-02-08</td>\n",
       "      <td>66</td>\n",
       "      <td>TRAI</td>\n",
       "      <td>nan</td>\n",
       "      <td>75</td>\n",
       "      <td>0</td>\n",
       "      <td>0923A</td>\n",
       "    </tr>\n",
       "    <tr>\n",
       "      <th>4</th>\n",
       "      <td>1415644408</td>\n",
       "      <td>49735JG</td>\n",
       "      <td>NY</td>\n",
       "      <td>2017-01-26</td>\n",
       "      <td>14</td>\n",
       "      <td>DELV</td>\n",
       "      <td>nan</td>\n",
       "      <td>1</td>\n",
       "      <td>1</td>\n",
       "      <td>0434P</td>\n",
       "    </tr>\n",
       "  </tbody>\n",
       "</table>\n",
       "</div>"
      ],
      "text/plain": [
       "   Summons_Number Plate_ID Registration_State Issue_Date  Violation_Code  \\\n",
       "0      1418425369  JYW5248                 PA 2017-03-21              21   \n",
       "1      8546468965  37489BB                 NY 2017-06-12              46   \n",
       "2      8583406443  10217AV                 NY 2017-06-27              38   \n",
       "3      1414702395  2270500                 ME 2017-02-08              66   \n",
       "4      1415644408  49735JG                 NY 2017-01-26              14   \n",
       "\n",
       "  Vehicle_Body_Type Vehicle_Make  Violation_Precinct  Issuer_Precinct  \\\n",
       "0               SDN          nan                  48               48   \n",
       "1               BUS          nan                  68               68   \n",
       "2              UTIL          nan                   5                5   \n",
       "3              TRAI          nan                  75                0   \n",
       "4              DELV          nan                   1                1   \n",
       "\n",
       "  Violation_Time  \n",
       "0          0952A  \n",
       "1          0216P  \n",
       "2          0513P  \n",
       "3          0923A  \n",
       "4          0434P  "
      ]
     },
     "execution_count": 43,
     "metadata": {},
     "output_type": "execute_result"
    }
   ],
   "source": [
    "print(nyc_2017.filter(nyc_2017['Vehicle_Make'] == 'nan').count())\n",
    "\n",
    "nyc_2017.filter(nyc_2017['Vehicle_Make'] == 'nan').toPandas().head()\n"
   ]
  },
  {
   "cell_type": "markdown",
   "metadata": {},
   "source": [
    "### 1.4.6 Violation_Precinct"
   ]
  },
  {
   "cell_type": "markdown",
   "metadata": {},
   "source": [
    "There are 171 precincts where violations happened"
   ]
  },
  {
   "cell_type": "code",
   "execution_count": 44,
   "metadata": {},
   "outputs": [
    {
     "data": {
      "text/plain": [
       "171"
      ]
     },
     "execution_count": 44,
     "metadata": {},
     "output_type": "execute_result"
    }
   ],
   "source": [
    "nyc_2017.select(('Violation_Precinct')).distinct().count()"
   ]
  },
  {
   "cell_type": "code",
   "execution_count": 45,
   "metadata": {},
   "outputs": [
    {
     "name": "stdout",
     "output_type": "stream",
     "text": [
      "+-----------------------+-----------------------+\n",
      "|min(Violation_Precinct)|max(Violation_Precinct)|\n",
      "+-----------------------+-----------------------+\n",
      "|                      0|                    918|\n",
      "+-----------------------+-----------------------+\n",
      "\n"
     ]
    }
   ],
   "source": [
    "nyc_2017.select(min(col('Violation_Precinct')),max(col('Violation_Precinct'))).show()"
   ]
  },
  {
   "cell_type": "code",
   "execution_count": 46,
   "metadata": {},
   "outputs": [
    {
     "name": "stdout",
     "output_type": "stream",
     "text": [
      "0\n"
     ]
    },
    {
     "data": {
      "text/html": [
       "<div>\n",
       "<style scoped>\n",
       "    .dataframe tbody tr th:only-of-type {\n",
       "        vertical-align: middle;\n",
       "    }\n",
       "\n",
       "    .dataframe tbody tr th {\n",
       "        vertical-align: top;\n",
       "    }\n",
       "\n",
       "    .dataframe thead th {\n",
       "        text-align: right;\n",
       "    }\n",
       "</style>\n",
       "<table border=\"1\" class=\"dataframe\">\n",
       "  <thead>\n",
       "    <tr style=\"text-align: right;\">\n",
       "      <th></th>\n",
       "      <th>Summons_Number</th>\n",
       "      <th>Plate_ID</th>\n",
       "      <th>Registration_State</th>\n",
       "      <th>Issue_Date</th>\n",
       "      <th>Violation_Code</th>\n",
       "      <th>Vehicle_Body_Type</th>\n",
       "      <th>Vehicle_Make</th>\n",
       "      <th>Violation_Precinct</th>\n",
       "      <th>Issuer_Precinct</th>\n",
       "      <th>Violation_Time</th>\n",
       "    </tr>\n",
       "  </thead>\n",
       "  <tbody>\n",
       "  </tbody>\n",
       "</table>\n",
       "</div>"
      ],
      "text/plain": [
       "Empty DataFrame\n",
       "Columns: [Summons_Number, Plate_ID, Registration_State, Issue_Date, Violation_Code, Vehicle_Body_Type, Vehicle_Make, Violation_Precinct, Issuer_Precinct, Violation_Time]\n",
       "Index: []"
      ]
     },
     "execution_count": 46,
     "metadata": {},
     "output_type": "execute_result"
    }
   ],
   "source": [
    "print(nyc_2017.filter(nyc_2017['Violation_Precinct'] == 'nan').count())\n",
    "\n",
    "nyc_2017.filter(nyc_2017['Violation_Precinct'] == 'nan').toPandas().head()\n"
   ]
  },
  {
   "cell_type": "markdown",
   "metadata": {},
   "source": [
    "### 1.4.7 Issuer_Precinct"
   ]
  },
  {
   "cell_type": "markdown",
   "metadata": {},
   "source": [
    "There are 511 precincts which have issued summons"
   ]
  },
  {
   "cell_type": "code",
   "execution_count": 47,
   "metadata": {},
   "outputs": [
    {
     "data": {
      "text/plain": [
       "511"
      ]
     },
     "execution_count": 47,
     "metadata": {},
     "output_type": "execute_result"
    }
   ],
   "source": [
    "nyc_2017.select(('Issuer_Precinct')).distinct().count()"
   ]
  },
  {
   "cell_type": "code",
   "execution_count": 48,
   "metadata": {},
   "outputs": [
    {
     "name": "stdout",
     "output_type": "stream",
     "text": [
      "+--------------------+--------------------+\n",
      "|min(Issuer_Precinct)|max(Issuer_Precinct)|\n",
      "+--------------------+--------------------+\n",
      "|                   0|                 992|\n",
      "+--------------------+--------------------+\n",
      "\n"
     ]
    }
   ],
   "source": [
    "nyc_2017.select(min(col('Issuer_Precinct')),max(col('Issuer_Precinct'))).show()"
   ]
  },
  {
   "cell_type": "code",
   "execution_count": 49,
   "metadata": {},
   "outputs": [
    {
     "name": "stdout",
     "output_type": "stream",
     "text": [
      "0\n"
     ]
    },
    {
     "data": {
      "text/html": [
       "<div>\n",
       "<style scoped>\n",
       "    .dataframe tbody tr th:only-of-type {\n",
       "        vertical-align: middle;\n",
       "    }\n",
       "\n",
       "    .dataframe tbody tr th {\n",
       "        vertical-align: top;\n",
       "    }\n",
       "\n",
       "    .dataframe thead th {\n",
       "        text-align: right;\n",
       "    }\n",
       "</style>\n",
       "<table border=\"1\" class=\"dataframe\">\n",
       "  <thead>\n",
       "    <tr style=\"text-align: right;\">\n",
       "      <th></th>\n",
       "      <th>Summons_Number</th>\n",
       "      <th>Plate_ID</th>\n",
       "      <th>Registration_State</th>\n",
       "      <th>Issue_Date</th>\n",
       "      <th>Violation_Code</th>\n",
       "      <th>Vehicle_Body_Type</th>\n",
       "      <th>Vehicle_Make</th>\n",
       "      <th>Violation_Precinct</th>\n",
       "      <th>Issuer_Precinct</th>\n",
       "      <th>Violation_Time</th>\n",
       "    </tr>\n",
       "  </thead>\n",
       "  <tbody>\n",
       "  </tbody>\n",
       "</table>\n",
       "</div>"
      ],
      "text/plain": [
       "Empty DataFrame\n",
       "Columns: [Summons_Number, Plate_ID, Registration_State, Issue_Date, Violation_Code, Vehicle_Body_Type, Vehicle_Make, Violation_Precinct, Issuer_Precinct, Violation_Time]\n",
       "Index: []"
      ]
     },
     "execution_count": 49,
     "metadata": {},
     "output_type": "execute_result"
    }
   ],
   "source": [
    "print(nyc_2017.filter(nyc_2017['Issuer_Precinct'] == 'nan').count())\n",
    "\n",
    "nyc_2017.filter(nyc_2017['Issuer_Precinct'] == 'nan').toPandas().head()\n"
   ]
  },
  {
   "cell_type": "markdown",
   "metadata": {},
   "source": [
    "### 1.4.8 Violation_Time"
   ]
  },
  {
   "cell_type": "code",
   "execution_count": 50,
   "metadata": {},
   "outputs": [
    {
     "data": {
      "text/plain": [
       "1626"
      ]
     },
     "execution_count": 50,
     "metadata": {},
     "output_type": "execute_result"
    }
   ],
   "source": [
    "nyc_2017.select(('Violation_Time')).distinct().count()"
   ]
  },
  {
   "cell_type": "code",
   "execution_count": 51,
   "metadata": {},
   "outputs": [
    {
     "name": "stdout",
     "output_type": "stream",
     "text": [
      "+--------+\n",
      "|count(1)|\n",
      "+--------+\n",
      "|      29|\n",
      "+--------+\n",
      "\n"
     ]
    }
   ],
   "source": [
    "#check to see if any special characters are present\n",
    "ss.sql(\"select count(1) from nyc2017 where Violation_Time regexp '[^a-zA-Z0-9]'\").show()"
   ]
  },
  {
   "cell_type": "code",
   "execution_count": 52,
   "metadata": {},
   "outputs": [
    {
     "name": "stdout",
     "output_type": "stream",
     "text": [
      "+--------------+\n",
      "|Violation_Time|\n",
      "+--------------+\n",
      "|         081*A|\n",
      "|         09+2A|\n",
      "|         09+1A|\n",
      "|         10.0P|\n",
      "|         094/P|\n",
      "|         10+1A|\n",
      "|         09.5A|\n",
      "|         07.8A|\n",
      "|         121/P|\n",
      "|         110+A|\n",
      "|         083.A|\n",
      "|         074/A|\n",
      "|         093+A|\n",
      "|         08+7A|\n",
      "|         065+A|\n",
      "|         0.47A|\n",
      "|         015.A|\n",
      "|         06.5A|\n",
      "|         073/A|\n",
      "|         .933A|\n",
      "|         10.3P|\n",
      "|         125+A|\n",
      "|         115+A|\n",
      "|         103/P|\n",
      "|         100.P|\n",
      "|         075/P|\n",
      "|         06+0P|\n",
      "+--------------+\n",
      "\n"
     ]
    }
   ],
   "source": [
    "#check to see if any special characters are present\n",
    "ss.sql(\"select distinct(Violation_Time) from nyc2017 where Violation_Time regexp '[^a-zA-Z0-9]'\").show(50)"
   ]
  },
  {
   "cell_type": "markdown",
   "metadata": {},
   "source": [
    "There a re 1626 Violation_Time and out of all the rows 29 rows have special characters. Since we dont have any additional information of Violation_Time, we are considering these as valid entries"
   ]
  },
  {
   "cell_type": "code",
   "execution_count": 53,
   "metadata": {},
   "outputs": [
    {
     "name": "stdout",
     "output_type": "stream",
     "text": [
      "16\n"
     ]
    },
    {
     "data": {
      "text/html": [
       "<div>\n",
       "<style scoped>\n",
       "    .dataframe tbody tr th:only-of-type {\n",
       "        vertical-align: middle;\n",
       "    }\n",
       "\n",
       "    .dataframe tbody tr th {\n",
       "        vertical-align: top;\n",
       "    }\n",
       "\n",
       "    .dataframe thead th {\n",
       "        text-align: right;\n",
       "    }\n",
       "</style>\n",
       "<table border=\"1\" class=\"dataframe\">\n",
       "  <thead>\n",
       "    <tr style=\"text-align: right;\">\n",
       "      <th></th>\n",
       "      <th>Summons_Number</th>\n",
       "      <th>Plate_ID</th>\n",
       "      <th>Registration_State</th>\n",
       "      <th>Issue_Date</th>\n",
       "      <th>Violation_Code</th>\n",
       "      <th>Vehicle_Body_Type</th>\n",
       "      <th>Vehicle_Make</th>\n",
       "      <th>Violation_Precinct</th>\n",
       "      <th>Issuer_Precinct</th>\n",
       "      <th>Violation_Time</th>\n",
       "    </tr>\n",
       "  </thead>\n",
       "  <tbody>\n",
       "    <tr>\n",
       "      <th>0</th>\n",
       "      <td>1404224350</td>\n",
       "      <td>FCJ5087</td>\n",
       "      <td>NY</td>\n",
       "      <td>2017-05-04</td>\n",
       "      <td>40</td>\n",
       "      <td>SUBN</td>\n",
       "      <td>NISSA</td>\n",
       "      <td>70</td>\n",
       "      <td>156</td>\n",
       "      <td>nan</td>\n",
       "    </tr>\n",
       "    <tr>\n",
       "      <th>1</th>\n",
       "      <td>6020463461</td>\n",
       "      <td>N27GLY</td>\n",
       "      <td>NJ</td>\n",
       "      <td>2017-01-17</td>\n",
       "      <td>94</td>\n",
       "      <td>SUBN</td>\n",
       "      <td>SUBAR</td>\n",
       "      <td>0</td>\n",
       "      <td>0</td>\n",
       "      <td>nan</td>\n",
       "    </tr>\n",
       "    <tr>\n",
       "      <th>2</th>\n",
       "      <td>6020332056</td>\n",
       "      <td>HGR6172</td>\n",
       "      <td>NY</td>\n",
       "      <td>2017-03-31</td>\n",
       "      <td>94</td>\n",
       "      <td>SDN</td>\n",
       "      <td>MAZDA</td>\n",
       "      <td>0</td>\n",
       "      <td>0</td>\n",
       "      <td>nan</td>\n",
       "    </tr>\n",
       "    <tr>\n",
       "      <th>3</th>\n",
       "      <td>6020161894</td>\n",
       "      <td>CFZ9386</td>\n",
       "      <td>NY</td>\n",
       "      <td>2017-04-26</td>\n",
       "      <td>94</td>\n",
       "      <td>SUBN</td>\n",
       "      <td>ME/BE</td>\n",
       "      <td>0</td>\n",
       "      <td>0</td>\n",
       "      <td>nan</td>\n",
       "    </tr>\n",
       "    <tr>\n",
       "      <th>4</th>\n",
       "      <td>6020332068</td>\n",
       "      <td>KJW6898</td>\n",
       "      <td>PA</td>\n",
       "      <td>2017-05-17</td>\n",
       "      <td>94</td>\n",
       "      <td>SDN</td>\n",
       "      <td>MITSU</td>\n",
       "      <td>0</td>\n",
       "      <td>0</td>\n",
       "      <td>nan</td>\n",
       "    </tr>\n",
       "  </tbody>\n",
       "</table>\n",
       "</div>"
      ],
      "text/plain": [
       "   Summons_Number Plate_ID Registration_State Issue_Date  Violation_Code  \\\n",
       "0      1404224350  FCJ5087                 NY 2017-05-04              40   \n",
       "1      6020463461   N27GLY                 NJ 2017-01-17              94   \n",
       "2      6020332056  HGR6172                 NY 2017-03-31              94   \n",
       "3      6020161894  CFZ9386                 NY 2017-04-26              94   \n",
       "4      6020332068  KJW6898                 PA 2017-05-17              94   \n",
       "\n",
       "  Vehicle_Body_Type Vehicle_Make  Violation_Precinct  Issuer_Precinct  \\\n",
       "0              SUBN        NISSA                  70              156   \n",
       "1              SUBN        SUBAR                   0                0   \n",
       "2               SDN        MAZDA                   0                0   \n",
       "3              SUBN        ME/BE                   0                0   \n",
       "4               SDN        MITSU                   0                0   \n",
       "\n",
       "  Violation_Time  \n",
       "0            nan  \n",
       "1            nan  \n",
       "2            nan  \n",
       "3            nan  \n",
       "4            nan  "
      ]
     },
     "execution_count": 53,
     "metadata": {},
     "output_type": "execute_result"
    }
   ],
   "source": [
    "print(nyc_2017.filter(nyc_2017['Violation_Time'] == 'nan').count())\n",
    "\n",
    "nyc_2017.filter(nyc_2017['Violation_Time'] == 'nan').toPandas().head()\n"
   ]
  },
  {
   "cell_type": "markdown",
   "metadata": {},
   "source": [
    "### 1.4.9 Plate_ID"
   ]
  },
  {
   "cell_type": "code",
   "execution_count": 54,
   "metadata": {},
   "outputs": [
    {
     "data": {
      "text/plain": [
       "1974356"
      ]
     },
     "execution_count": 54,
     "metadata": {},
     "output_type": "execute_result"
    }
   ],
   "source": [
    "nyc_2017.select(('Plate_ID')).distinct().count()"
   ]
  },
  {
   "cell_type": "code",
   "execution_count": 55,
   "metadata": {},
   "outputs": [
    {
     "name": "stdout",
     "output_type": "stream",
     "text": [
      "+--------+\n",
      "|count(1)|\n",
      "+--------+\n",
      "|     729|\n",
      "+--------+\n",
      "\n"
     ]
    }
   ],
   "source": [
    "#check to see if any special characters are present\n",
    "ss.sql(\"select count(1) from nyc2017 where Plate_ID regexp '[^a-zA-Z0-9]'\").show()"
   ]
  },
  {
   "cell_type": "code",
   "execution_count": 56,
   "metadata": {},
   "outputs": [
    {
     "name": "stdout",
     "output_type": "stream",
     "text": [
      "+---------+\n",
      "| Plate_ID|\n",
      "+---------+\n",
      "|  904.VQK|\n",
      "|   XALL!4|\n",
      "| 4.3E+382|\n",
      "|  JSS012@|\n",
      "| 3(2288MJ|\n",
      "|   45419(|\n",
      "| 92980JE[|\n",
      "|   XFCR1)|\n",
      "|  Q4@2384|\n",
      "|  F[E5111|\n",
      "| 6.1E+255|\n",
      "|  ZZ251!9|\n",
      "| 1E+65329|\n",
      "| HDF5748.|\n",
      "|  20@8317|\n",
      "| 2E+83932|\n",
      "| AC.03956|\n",
      "|   2E+534|\n",
      "|  ZHL96^2|\n",
      "|  8E+9026|\n",
      "| PA.L5201|\n",
      "|  FPT!383|\n",
      "| WATER#$$|\n",
      "|1.1562E+5|\n",
      "|   GRNH#9|\n",
      "| HHM2884`|\n",
      "|   M,H12]|\n",
      "|  XCUD5%1|\n",
      "|   55518(|\n",
      "|7.38E+205|\n",
      "|   PF*32L|\n",
      "| 3.70E+11|\n",
      "| 7N96586;|\n",
      "|  2897.CP|\n",
      "|   E!7EZM|\n",
      "|   ZCF!0X|\n",
      "| 2.3E+593|\n",
      "|  HNV&716|\n",
      "|   JSG)51|\n",
      "|  11392,A|\n",
      "|   XEHL!4|\n",
      "|  P[Y8049|\n",
      "|  DFA1(67|\n",
      "|    D735!|\n",
      "| HJJ3395.|\n",
      "|   G1&FZK|\n",
      "|  PWD969^|\n",
      "| 4.1E+733|\n",
      "|  CDF455!|\n",
      "|  GEX69%3|\n",
      "+---------+\n",
      "only showing top 50 rows\n",
      "\n"
     ]
    }
   ],
   "source": [
    "#check to see if any special characters are present\n",
    "ss.sql(\"select distinct(Plate_ID) from nyc2017 where Plate_ID REGEXP '[^a-zA-Z0-9]'\").show(50)"
   ]
  },
  {
   "cell_type": "markdown",
   "metadata": {},
   "source": [
    "There are 19,74,356 Plate_ID and out of all the rows 729 rows have special characters. Since we dont have any additional information of Plate_ID, we are considering these as valid entries"
   ]
  },
  {
   "cell_type": "code",
   "execution_count": 57,
   "metadata": {},
   "outputs": [
    {
     "data": {
      "text/plain": [
       "5261"
      ]
     },
     "execution_count": 57,
     "metadata": {},
     "output_type": "execute_result"
    }
   ],
   "source": [
    "nyc_2017.filter(nyc_2017.Plate_ID == 'BLANKPLATE').count()"
   ]
  },
  {
   "cell_type": "code",
   "execution_count": 58,
   "metadata": {},
   "outputs": [
    {
     "name": "stdout",
     "output_type": "stream",
     "text": [
      "252\n"
     ]
    },
    {
     "data": {
      "text/html": [
       "<div>\n",
       "<style scoped>\n",
       "    .dataframe tbody tr th:only-of-type {\n",
       "        vertical-align: middle;\n",
       "    }\n",
       "\n",
       "    .dataframe tbody tr th {\n",
       "        vertical-align: top;\n",
       "    }\n",
       "\n",
       "    .dataframe thead th {\n",
       "        text-align: right;\n",
       "    }\n",
       "</style>\n",
       "<table border=\"1\" class=\"dataframe\">\n",
       "  <thead>\n",
       "    <tr style=\"text-align: right;\">\n",
       "      <th></th>\n",
       "      <th>Summons_Number</th>\n",
       "      <th>Plate_ID</th>\n",
       "      <th>Registration_State</th>\n",
       "      <th>Issue_Date</th>\n",
       "      <th>Violation_Code</th>\n",
       "      <th>Vehicle_Body_Type</th>\n",
       "      <th>Vehicle_Make</th>\n",
       "      <th>Violation_Precinct</th>\n",
       "      <th>Issuer_Precinct</th>\n",
       "      <th>Violation_Time</th>\n",
       "    </tr>\n",
       "  </thead>\n",
       "  <tbody>\n",
       "    <tr>\n",
       "      <th>0</th>\n",
       "      <td>8240027763</td>\n",
       "      <td>nan</td>\n",
       "      <td>NY</td>\n",
       "      <td>2017-01-14</td>\n",
       "      <td>71</td>\n",
       "      <td>4DSD</td>\n",
       "      <td>BMW</td>\n",
       "      <td>103</td>\n",
       "      <td>103</td>\n",
       "      <td>0713A</td>\n",
       "    </tr>\n",
       "    <tr>\n",
       "      <th>1</th>\n",
       "      <td>8581550060</td>\n",
       "      <td>nan</td>\n",
       "      <td>NY</td>\n",
       "      <td>2017-06-08</td>\n",
       "      <td>74</td>\n",
       "      <td>4DSD</td>\n",
       "      <td>OLDSM</td>\n",
       "      <td>42</td>\n",
       "      <td>42</td>\n",
       "      <td>0837A</td>\n",
       "    </tr>\n",
       "    <tr>\n",
       "      <th>2</th>\n",
       "      <td>8563901783</td>\n",
       "      <td>nan</td>\n",
       "      <td>NY</td>\n",
       "      <td>2017-06-09</td>\n",
       "      <td>74</td>\n",
       "      <td>SUBN</td>\n",
       "      <td>NISSA</td>\n",
       "      <td>103</td>\n",
       "      <td>103</td>\n",
       "      <td>0439P</td>\n",
       "    </tr>\n",
       "    <tr>\n",
       "      <th>3</th>\n",
       "      <td>7611253542</td>\n",
       "      <td>nan</td>\n",
       "      <td>NY</td>\n",
       "      <td>2017-02-24</td>\n",
       "      <td>74</td>\n",
       "      <td>SUBN</td>\n",
       "      <td>HONDA</td>\n",
       "      <td>48</td>\n",
       "      <td>48</td>\n",
       "      <td>1040A</td>\n",
       "    </tr>\n",
       "    <tr>\n",
       "      <th>4</th>\n",
       "      <td>7849781004</td>\n",
       "      <td>nan</td>\n",
       "      <td>NY</td>\n",
       "      <td>2017-02-16</td>\n",
       "      <td>74</td>\n",
       "      <td>SUBN</td>\n",
       "      <td>HONDA</td>\n",
       "      <td>102</td>\n",
       "      <td>102</td>\n",
       "      <td>0728A</td>\n",
       "    </tr>\n",
       "  </tbody>\n",
       "</table>\n",
       "</div>"
      ],
      "text/plain": [
       "   Summons_Number Plate_ID Registration_State Issue_Date  Violation_Code  \\\n",
       "0      8240027763      nan                 NY 2017-01-14              71   \n",
       "1      8581550060      nan                 NY 2017-06-08              74   \n",
       "2      8563901783      nan                 NY 2017-06-09              74   \n",
       "3      7611253542      nan                 NY 2017-02-24              74   \n",
       "4      7849781004      nan                 NY 2017-02-16              74   \n",
       "\n",
       "  Vehicle_Body_Type Vehicle_Make  Violation_Precinct  Issuer_Precinct  \\\n",
       "0              4DSD          BMW                 103              103   \n",
       "1              4DSD        OLDSM                  42               42   \n",
       "2              SUBN        NISSA                 103              103   \n",
       "3              SUBN        HONDA                  48               48   \n",
       "4              SUBN        HONDA                 102              102   \n",
       "\n",
       "  Violation_Time  \n",
       "0          0713A  \n",
       "1          0837A  \n",
       "2          0439P  \n",
       "3          1040A  \n",
       "4          0728A  "
      ]
     },
     "execution_count": 58,
     "metadata": {},
     "output_type": "execute_result"
    }
   ],
   "source": [
    "print(nyc_2017.filter(nyc_2017['Plate_ID'] == 'nan').count())\n",
    "\n",
    "nyc_2017.filter(nyc_2017['Plate_ID'] == 'nan').toPandas().head()\n"
   ]
  },
  {
   "cell_type": "markdown",
   "metadata": {},
   "source": [
    "252 rows where Plate_ID is nan."
   ]
  },
  {
   "cell_type": "code",
   "execution_count": 59,
   "metadata": {},
   "outputs": [
    {
     "name": "stdout",
     "output_type": "stream",
     "text": [
      "+--------+-----+\n",
      "|Plate_ID|count|\n",
      "+--------+-----+\n",
      "|  $46GRP|    1|\n",
      "|''ZP1010|    1|\n",
      "|       ,|    1|\n",
      "|       .|    1|\n",
      "|.88653MG|    1|\n",
      "+--------+-----+\n",
      "only showing top 5 rows\n",
      "\n"
     ]
    }
   ],
   "source": [
    "nyc_2017.groupby('Plate_ID').count().sort(col('Plate_ID')).show(5)"
   ]
  },
  {
   "cell_type": "markdown",
   "metadata": {},
   "source": [
    "Plate numbers cannot be . or , or any special character. Hence these plateIDs are not valid"
   ]
  },
  {
   "cell_type": "markdown",
   "metadata": {},
   "source": [
    "### Assumptions:\n",
    "- The ticketing data spanned over 55 years starting from 1972 to 2069. Since the current analysis is focused only on 2017, the subset of the data corresponsing to 2017 has been considered.\n",
    "- There are `'nan'` values present in mutiple *string* type columns, and these values are not detected by the inherit null methods. The reason may be that these values are stored as 'nan' string rather than the special null character.\n",
    "- These values are left as is along as they are not involved in any of the required analysis\n",
    "- There are also special charcters present in multiple *string* columns and since there is not explicit mention of the structure of these variables, we are considering all these values are eligible values\n",
    "- There are around 5200 rows where PlateID is marked as `BLANKPLATE`, since we are not dropping any of the PlateIDs which are `'nan'`, these are also considered under same category and left as is."
   ]
  },
  {
   "cell_type": "markdown",
   "metadata": {},
   "source": [
    "## Examine Data"
   ]
  },
  {
   "cell_type": "markdown",
   "metadata": {},
   "source": [
    "### Question 1 : Total number of tickets in 2017"
   ]
  },
  {
   "cell_type": "code",
   "execution_count": 60,
   "metadata": {},
   "outputs": [
    {
     "name": "stdout",
     "output_type": "stream",
     "text": [
      "\u001b[1mTotal number of tickets in 2017:\u001b[0m\n",
      "5431918\n"
     ]
    }
   ],
   "source": [
    "print_bold('Total number of tickets in 2017:')\n",
    "print(nyc_2017.count())"
   ]
  },
  {
   "cell_type": "markdown",
   "metadata": {},
   "source": [
    "__There are 5.43 million tickets were issues in 2017__ "
   ]
  },
  {
   "cell_type": "markdown",
   "metadata": {},
   "source": [
    "### Question 2: Unique States where parking tickets were issued"
   ]
  },
  {
   "cell_type": "code",
   "execution_count": 61,
   "metadata": {},
   "outputs": [
    {
     "name": "stdout",
     "output_type": "stream",
     "text": [
      "\u001b[1mNo of rows with registration state as 99 :\u001b[0m\n",
      "16055\n"
     ]
    }
   ],
   "source": [
    "print_bold('No of rows with registration state as 99 :')\n",
    "print(nyc_df.filter(year(nyc_df['Issue_date']) == 2017).filter(nyc_df['Registration_State'] == 99).count())"
   ]
  },
  {
   "cell_type": "markdown",
   "metadata": {},
   "source": [
    "__These have been replaced with the state with highest parking tickets . i.e 'NY'__ *(In data cleaning step)* "
   ]
  },
  {
   "cell_type": "code",
   "execution_count": 62,
   "metadata": {},
   "outputs": [
    {
     "name": "stdout",
     "output_type": "stream",
     "text": [
      "\u001b[1mNumber of records with registration state as NY before correction:\u001b[0m\n",
      "4273951\n",
      "\u001b[1mNumber of records with registration state as NY After correction:\u001b[0m\n",
      "4290006\n",
      "\u001b[1mdifference:\u001b[0m\n",
      "16055\n"
     ]
    }
   ],
   "source": [
    "print_bold('Number of records with registration state as NY before correction:')\n",
    "print(nyc_df.filter(year(nyc_df['Issue_date']) == 2017).filter(nyc_df['Registration_State'] == 'NY').count())\n",
    "print_bold('Number of records with registration state as NY After correction:')\n",
    "print(nyc_2017.filter(nyc_2017['Registration_State'] == 'NY').count())\n",
    "print_bold('difference:')\n",
    "print(-nyc_df.filter(year(nyc_df['Issue_date']) == 2017).filter(nyc_df['Registration_State'] == 'NY').count() \\\n",
    "     + nyc_2017.filter(nyc_2017['Registration_State'] == 'NY').count())"
   ]
  },
  {
   "cell_type": "code",
   "execution_count": 63,
   "metadata": {},
   "outputs": [
    {
     "name": "stdout",
     "output_type": "stream",
     "text": [
      "\u001b[1mNumber of unqiue states:\u001b[0m\n",
      "64\n"
     ]
    }
   ],
   "source": [
    "print_bold('Number of unqiue states:')\n",
    "print(nyc_2017.select('Registration_State').distinct().count())"
   ]
  },
  {
   "cell_type": "markdown",
   "metadata": {},
   "source": [
    "__There are a total of 64 states__"
   ]
  },
  {
   "cell_type": "markdown",
   "metadata": {},
   "source": [
    "## Aggregation Tasks"
   ]
  },
  {
   "cell_type": "markdown",
   "metadata": {},
   "source": [
    "### Question 1 :  Top 5 violation codes"
   ]
  },
  {
   "cell_type": "code",
   "execution_count": 64,
   "metadata": {},
   "outputs": [],
   "source": [
    "top5_violation = nyc_2017.groupby('Violation_Code').count().sort(col('count').desc())"
   ]
  },
  {
   "cell_type": "code",
   "execution_count": 65,
   "metadata": {},
   "outputs": [
    {
     "name": "stdout",
     "output_type": "stream",
     "text": [
      "\u001b[1mTop 5 violation codes:\u001b[0m\n",
      "+--------------+------+\n",
      "|Violation_Code| count|\n",
      "+--------------+------+\n",
      "|            21|768087|\n",
      "|            36|662765|\n",
      "|            38|542079|\n",
      "|            14|476664|\n",
      "|            20|319646|\n",
      "+--------------+------+\n",
      "only showing top 5 rows\n",
      "\n"
     ]
    }
   ],
   "source": [
    "print_bold('Top 5 violation codes:')\n",
    "top5_violation.show(5)"
   ]
  },
  {
   "cell_type": "code",
   "execution_count": 66,
   "metadata": {},
   "outputs": [],
   "source": [
    "df = top5_violation.limit(5).toPandas()\n",
    "df1 = df.copy()\n",
    "df1['count'] = round(100*df1['count']/rows2,2)\n",
    "code_order = df.sort_values('count',ascending = False).Violation_Code"
   ]
  },
  {
   "cell_type": "code",
   "execution_count": 67,
   "metadata": {},
   "outputs": [
    {
     "data": {
      "image/png": "[encoded data removed]",
      "text/plain": [
       "<Figure size 1008x360 with 2 Axes>"
      ]
     },
     "metadata": {},
     "output_type": "display_data"
    }
   ],
   "source": [
    "plt.figure(figsize = (14,5))\n",
    "plt.subplot(1,2,1)\n",
    "sns.barplot(x = 'Violation_Code',y = 'count',data = df,order = code_order)\n",
    "plt.gca().set_title('Count of Top 5 violation codes')\n",
    "plt.subplot(1,2,2)\n",
    "sns.barplot(x = 'Violation_Code',y = 'count',data = df1,order = code_order)\n",
    "plt.gca().set_title('Top 5 violation codes as percentage of total violations')\n",
    "plt.tight_layout()\n",
    "plt.show()"
   ]
  },
  {
   "cell_type": "code",
   "execution_count": 68,
   "metadata": {},
   "outputs": [
    {
     "data": {
      "text/plain": [
       "50.980000000000004"
      ]
     },
     "execution_count": 68,
     "metadata": {},
     "output_type": "execute_result"
    }
   ],
   "source": [
    "# Sum of percentages\n",
    "df1['count'].sum()"
   ]
  },
  {
   "cell_type": "markdown",
   "metadata": {},
   "source": [
    "The top 5 violation codes are `21,36,38,14 and 20` and all of then combined compraise a total of about `51%` of total violations"
   ]
  },
  {
   "cell_type": "markdown",
   "metadata": {},
   "source": [
    "### Question 2 : Top 5 vehicle_body_types and vehicle_makes"
   ]
  },
  {
   "cell_type": "code",
   "execution_count": 69,
   "metadata": {},
   "outputs": [],
   "source": [
    "top5_vbt = nyc_2017.groupby('Vehicle_Body_Type').count().sort(col('count').desc())\n",
    "top5_vm = nyc_2017.groupby('Vehicle_Make').count().sort(col('count').desc())"
   ]
  },
  {
   "cell_type": "code",
   "execution_count": 70,
   "metadata": {},
   "outputs": [
    {
     "name": "stdout",
     "output_type": "stream",
     "text": [
      "\u001b[1mTop 5 Vehicle body type with violations:\u001b[0m\n",
      "+-----------------+-------+\n",
      "|Vehicle_Body_Type|  count|\n",
      "+-----------------+-------+\n",
      "|             SUBN|1883954|\n",
      "|             4DSD|1547312|\n",
      "|              VAN| 724029|\n",
      "|             DELV| 358984|\n",
      "|              SDN| 194197|\n",
      "+-----------------+-------+\n",
      "only showing top 5 rows\n",
      "\n",
      "\u001b[1mTop 5 Vehicle Makes with violations:\u001b[0m\n",
      "+------------+------+\n",
      "|Vehicle_Make| count|\n",
      "+------------+------+\n",
      "|        FORD|636844|\n",
      "|       TOYOT|605291|\n",
      "|       HONDA|538884|\n",
      "|       NISSA|462017|\n",
      "|       CHEVR|356032|\n",
      "+------------+------+\n",
      "only showing top 5 rows\n",
      "\n"
     ]
    }
   ],
   "source": [
    "print_bold('Top 5 Vehicle body type with violations:')\n",
    "top5_vbt.show(5)\n",
    "print_bold('Top 5 Vehicle Makes with violations:')\n",
    "top5_vm.show(5)"
   ]
  },
  {
   "cell_type": "markdown",
   "metadata": {},
   "source": [
    "### Vehicle_body_type"
   ]
  },
  {
   "cell_type": "code",
   "execution_count": 71,
   "metadata": {},
   "outputs": [],
   "source": [
    "df = top5_vbt.limit(5).toPandas()\n",
    "df1 = df.copy()\n",
    "df1['count'] = round(100*df1['count']/rows2,2)\n",
    "code_order = df.sort_values('count',ascending = False).Vehicle_Body_Type"
   ]
  },
  {
   "cell_type": "code",
   "execution_count": 72,
   "metadata": {},
   "outputs": [
    {
     "data": {
      "image/png": "[encoded data removed]",
      "text/plain": [
       "<Figure size 1008x360 with 2 Axes>"
      ]
     },
     "metadata": {},
     "output_type": "display_data"
    }
   ],
   "source": [
    "plt.figure(figsize = (14,5))\n",
    "plt.subplot(1,2,1)\n",
    "sns.barplot(x = 'Vehicle_Body_Type',y = 'count',data = df,order = code_order)\n",
    "plt.gca().set_title('Count of Top 5 vehicle body types with violations')\n",
    "plt.subplot(1,2,2)\n",
    "sns.barplot(x = 'Vehicle_Body_Type',y = 'count',data = df1,order = code_order)\n",
    "plt.gca().set_title('Top 5 vehicle body types as percentage of total violations')\n",
    "plt.tight_layout()\n",
    "plt.show()"
   ]
  },
  {
   "cell_type": "code",
   "execution_count": 73,
   "metadata": {},
   "outputs": [
    {
     "data": {
      "text/plain": [
       "86.69"
      ]
     },
     "execution_count": 73,
     "metadata": {},
     "output_type": "execute_result"
    }
   ],
   "source": [
    "# Sum of percentages\n",
    "df1['count'].sum()"
   ]
  },
  {
   "cell_type": "markdown",
   "metadata": {},
   "source": [
    "### Vehicle_Make"
   ]
  },
  {
   "cell_type": "code",
   "execution_count": 74,
   "metadata": {},
   "outputs": [],
   "source": [
    "df = top5_vm.limit(5).toPandas()\n",
    "df1 = df.copy()\n",
    "df1['count'] = round(100*df1['count']/rows2,2)\n",
    "code_order = df.sort_values('count',ascending = False).Vehicle_Make"
   ]
  },
  {
   "cell_type": "code",
   "execution_count": 75,
   "metadata": {},
   "outputs": [
    {
     "data": {
      "image/png": "[encoded data removed]",
      "text/plain": [
       "<Figure size 1008x360 with 2 Axes>"
      ]
     },
     "metadata": {},
     "output_type": "display_data"
    }
   ],
   "source": [
    "plt.figure(figsize = (14,5))\n",
    "plt.subplot(1,2,1)\n",
    "sns.barplot(x = 'Vehicle_Make',y = 'count',data = df,order = code_order)\n",
    "plt.gca().set_title('Count of Top 5 vehicle makes with violations')\n",
    "plt.subplot(1,2,2)\n",
    "sns.barplot(x = 'Vehicle_Make',y = 'count',data = df1,order = code_order)\n",
    "plt.gca().set_title('Top 5 vehicle makes as percentage of total violations')\n",
    "plt.tight_layout()\n",
    "plt.show()"
   ]
  },
  {
   "cell_type": "code",
   "execution_count": 76,
   "metadata": {},
   "outputs": [
    {
     "data": {
      "text/plain": [
       "47.839999999999996"
      ]
     },
     "execution_count": 76,
     "metadata": {},
     "output_type": "execute_result"
    }
   ],
   "source": [
    "# Sum of percentages\n",
    "df1['count'].sum()"
   ]
  },
  {
   "cell_type": "markdown",
   "metadata": {},
   "source": [
    "- The Top 5 Vehicle Body Types are `SUBN,4DSD,VAN,DELV,SDN` and all of them combined compraise a total of about 87% of violations\n",
    "- The Top 5 Vehicle makes are `FORD,TOYOT,HONDA,NISSA,CHEVR` and all of them combined compraise a total of about 48% of violations"
   ]
  },
  {
   "cell_type": "markdown",
   "metadata": {},
   "source": [
    "### Question 3"
   ]
  },
  {
   "cell_type": "markdown",
   "metadata": {},
   "source": [
    "### Violation_Precinct"
   ]
  },
  {
   "cell_type": "code",
   "execution_count": 77,
   "metadata": {},
   "outputs": [],
   "source": [
    "top5_vp = nyc_2017.groupby('Violation_Precinct').count().sort(col('count').desc())\n",
    "top5_ip = nyc_2017.groupby('Issuer_Precinct').count().sort(col('count').desc())"
   ]
  },
  {
   "cell_type": "code",
   "execution_count": 78,
   "metadata": {},
   "outputs": [],
   "source": [
    "top5_vp = top5_vp.filter(top5_vp.Violation_Precinct != 0)\n",
    "top5_ip = top5_ip.filter(top5_ip.Issuer_Precinct != 0)"
   ]
  },
  {
   "cell_type": "code",
   "execution_count": 79,
   "metadata": {},
   "outputs": [
    {
     "name": "stdout",
     "output_type": "stream",
     "text": [
      "\u001b[1mTop 5 Precincts type with violations:\u001b[0m\n",
      "+------------------+------+\n",
      "|Violation_Precinct| count|\n",
      "+------------------+------+\n",
      "|                19|274445|\n",
      "|                14|203553|\n",
      "|                 1|174702|\n",
      "|                18|169131|\n",
      "|               114|147444|\n",
      "+------------------+------+\n",
      "only showing top 5 rows\n",
      "\n",
      "\u001b[1mTop 5 Precincts that issued violations:\u001b[0m\n",
      "+---------------+------+\n",
      "|Issuer_Precinct| count|\n",
      "+---------------+------+\n",
      "|             19|266961|\n",
      "|             14|200495|\n",
      "|              1|168740|\n",
      "|             18|162994|\n",
      "|            114|144054|\n",
      "+---------------+------+\n",
      "only showing top 5 rows\n",
      "\n"
     ]
    }
   ],
   "source": [
    "print_bold('Top 5 Precincts type with violations:')\n",
    "top5_vp.show(5)\n",
    "print_bold('Top 5 Precincts that issued violations:')\n",
    "top5_ip.show(5)"
   ]
  },
  {
   "cell_type": "markdown",
   "metadata": {},
   "source": [
    "### Violation_Precinct"
   ]
  },
  {
   "cell_type": "code",
   "execution_count": 80,
   "metadata": {},
   "outputs": [],
   "source": [
    "df = top5_vp.limit(5).toPandas()\n",
    "df1 = df.copy()\n",
    "df1['count'] = round(100*df1['count']/rows2,2)\n",
    "code_order = df.sort_values('count',ascending = False).Violation_Precinct"
   ]
  },
  {
   "cell_type": "code",
   "execution_count": 81,
   "metadata": {},
   "outputs": [
    {
     "data": {
      "image/png": "[encoded data removed]",
      "text/plain": [
       "<Figure size 1008x360 with 2 Axes>"
      ]
     },
     "metadata": {},
     "output_type": "display_data"
    }
   ],
   "source": [
    "plt.figure(figsize = (14,5))\n",
    "plt.subplot(1,2,1)\n",
    "sns.barplot(x = 'Violation_Precinct',y = 'count',data = df,order = code_order)\n",
    "plt.gca().set_title('Count of Top 5 Precincts with violations')\n",
    "plt.subplot(1,2,2)\n",
    "sns.barplot(x = 'Violation_Precinct',y = 'count',data = df1,order = code_order)\n",
    "plt.gca().set_title('Top 5 Precincts with max violations types as percentage of total violations')\n",
    "plt.tight_layout()\n",
    "plt.show()"
   ]
  },
  {
   "cell_type": "code",
   "execution_count": 82,
   "metadata": {},
   "outputs": [
    {
     "data": {
      "text/plain": [
       "17.84"
      ]
     },
     "execution_count": 82,
     "metadata": {},
     "output_type": "execute_result"
    }
   ],
   "source": [
    "# Sum of percentages\n",
    "df1['count'].sum()"
   ]
  },
  {
   "cell_type": "markdown",
   "metadata": {},
   "source": [
    "### Issuer_Precinct"
   ]
  },
  {
   "cell_type": "code",
   "execution_count": 83,
   "metadata": {},
   "outputs": [],
   "source": [
    "df = top5_ip.limit(5).toPandas()\n",
    "df1 = df.copy()\n",
    "df1['count'] = round(100*df1['count']/rows2,2)\n",
    "code_order = df.sort_values('count',ascending = False).Issuer_Precinct"
   ]
  },
  {
   "cell_type": "code",
   "execution_count": 84,
   "metadata": {},
   "outputs": [
    {
     "data": {
      "image/png": "[encoded data removed]",
      "text/plain": [
       "<Figure size 1008x360 with 2 Axes>"
      ]
     },
     "metadata": {},
     "output_type": "display_data"
    }
   ],
   "source": [
    "plt.figure(figsize = (14,5))\n",
    "plt.subplot(1,2,1)\n",
    "sns.barplot(x = 'Issuer_Precinct',y = 'count',data = df,order = code_order)\n",
    "plt.gca().set_title('Count of Top 5 Precincts which give the summon')\n",
    "plt.subplot(1,2,2)\n",
    "sns.barplot(x = 'Issuer_Precinct',y = 'count',data = df1,order = code_order)\n",
    "plt.gca().set_title('Top 5 precincts that give summons as percentage of total violations')\n",
    "plt.tight_layout()\n",
    "plt.show()"
   ]
  },
  {
   "cell_type": "code",
   "execution_count": 85,
   "metadata": {},
   "outputs": [
    {
     "data": {
      "text/plain": [
       "17.36"
      ]
     },
     "execution_count": 85,
     "metadata": {},
     "output_type": "execute_result"
    }
   ],
   "source": [
    "# Sum of percentages\n",
    "df1['count'].sum()"
   ]
  },
  {
   "cell_type": "markdown",
   "metadata": {},
   "source": [
    "- The Top 5 Violation_Precincts are `19,14,1,18,114` and all of them combined compraise a total of about 17.84% of violations\n",
    "- The Top 5 Issuer_Precincts are `19,14,1,18,114` and all of them combined compraise a total of about 17.36% of violations"
   ]
  },
  {
   "cell_type": "markdown",
   "metadata": {},
   "source": [
    "### Question 4 : Violation codes in top 3 Issuer_Precincts"
   ]
  },
  {
   "cell_type": "markdown",
   "metadata": {},
   "source": [
    "`19,14,1` are the precincts that issued the maximum number of tickets"
   ]
  },
  {
   "cell_type": "markdown",
   "metadata": {},
   "source": [
    "### Precinct 19"
   ]
  },
  {
   "cell_type": "code",
   "execution_count": 86,
   "metadata": {},
   "outputs": [],
   "source": [
    "rows3 = nyc_2017.filter((nyc_2017['Issuer_Precinct'] ==19)).count()\n",
    "top3_violation = nyc_2017.filter((nyc_2017['Issuer_Precinct'] ==19)).groupby('Violation_Code').count().sort(col('count').desc())"
   ]
  },
  {
   "cell_type": "code",
   "execution_count": 87,
   "metadata": {},
   "outputs": [
    {
     "name": "stdout",
     "output_type": "stream",
     "text": [
      "\u001b[1mTop 5 violation codes:\u001b[0m\n",
      "+--------------+-----+\n",
      "|Violation_Code|count|\n",
      "+--------------+-----+\n",
      "|            46|48445|\n",
      "|            38|36386|\n",
      "|            37|36056|\n",
      "|            14|29797|\n",
      "|            21|28415|\n",
      "+--------------+-----+\n",
      "only showing top 5 rows\n",
      "\n"
     ]
    }
   ],
   "source": [
    "print_bold('Top 5 violation codes:')\n",
    "top3_violation.show(5)"
   ]
  },
  {
   "cell_type": "code",
   "execution_count": 88,
   "metadata": {},
   "outputs": [],
   "source": [
    "df1 = top3_violation.limit(10).toPandas()\n",
    "df11 = df1.copy()\n",
    "df11['count'] = round(100*df11['count']/rows3,2)\n",
    "code_order1 = df1.sort_values('count',ascending = False).Violation_Code"
   ]
  },
  {
   "cell_type": "code",
   "execution_count": 89,
   "metadata": {},
   "outputs": [
    {
     "data": {
      "text/plain": [
       "85.95"
      ]
     },
     "execution_count": 89,
     "metadata": {},
     "output_type": "execute_result"
    }
   ],
   "source": [
    "# Sum of percentages\n",
    "df11['count'].sum()"
   ]
  },
  {
   "cell_type": "markdown",
   "metadata": {},
   "source": [
    "### Precinct 14"
   ]
  },
  {
   "cell_type": "code",
   "execution_count": 90,
   "metadata": {},
   "outputs": [],
   "source": [
    "rows3 = nyc_2017.filter((nyc_2017['Issuer_Precinct'] ==14)).count()\n",
    "top3_violation = nyc_2017.filter((nyc_2017['Issuer_Precinct'] ==14)).groupby('Violation_Code').count().sort(col('count').desc())"
   ]
  },
  {
   "cell_type": "code",
   "execution_count": 91,
   "metadata": {},
   "outputs": [
    {
     "name": "stdout",
     "output_type": "stream",
     "text": [
      "\u001b[1mTop 5 violation codes:\u001b[0m\n",
      "+--------------+-----+\n",
      "|Violation_Code|count|\n",
      "+--------------+-----+\n",
      "|            14|45036|\n",
      "|            69|30464|\n",
      "|            31|22555|\n",
      "|            47|18364|\n",
      "|            42|10027|\n",
      "+--------------+-----+\n",
      "only showing top 5 rows\n",
      "\n"
     ]
    }
   ],
   "source": [
    "print_bold('Top 5 violation codes:')\n",
    "top3_violation.show(5)"
   ]
  },
  {
   "cell_type": "code",
   "execution_count": 92,
   "metadata": {},
   "outputs": [],
   "source": [
    "df2 = top3_violation.limit(10).toPandas()\n",
    "df21 = df2.copy()\n",
    "df21['count'] = round(100*df21['count']/rows3,2)\n",
    "code_order2 = df2.sort_values('count',ascending = False).Violation_Code"
   ]
  },
  {
   "cell_type": "code",
   "execution_count": 93,
   "metadata": {},
   "outputs": [
    {
     "data": {
      "text/plain": [
       "78.07000000000001"
      ]
     },
     "execution_count": 93,
     "metadata": {},
     "output_type": "execute_result"
    }
   ],
   "source": [
    "# Sum of percentages\n",
    "df21['count'].sum()"
   ]
  },
  {
   "cell_type": "markdown",
   "metadata": {},
   "source": [
    "### Precinct 1"
   ]
  },
  {
   "cell_type": "code",
   "execution_count": 94,
   "metadata": {},
   "outputs": [],
   "source": [
    "rows3 = nyc_2017.filter((nyc_2017['Issuer_Precinct'] ==1)).count()\n",
    "top3_violation = nyc_2017.filter((nyc_2017['Issuer_Precinct'] ==1)).groupby('Violation_Code').count().sort(col('count').desc())"
   ]
  },
  {
   "cell_type": "code",
   "execution_count": 95,
   "metadata": {},
   "outputs": [
    {
     "name": "stdout",
     "output_type": "stream",
     "text": [
      "\u001b[1mTop 5 violation codes:\u001b[0m\n",
      "+--------------+-----+\n",
      "|Violation_Code|count|\n",
      "+--------------+-----+\n",
      "|            14|38354|\n",
      "|            16|19081|\n",
      "|            20|15408|\n",
      "|            46|12745|\n",
      "|            38| 8535|\n",
      "+--------------+-----+\n",
      "only showing top 5 rows\n",
      "\n"
     ]
    }
   ],
   "source": [
    "print_bold('Top 5 violation codes:')\n",
    "top3_violation.show(5)"
   ]
  },
  {
   "cell_type": "code",
   "execution_count": 96,
   "metadata": {},
   "outputs": [],
   "source": [
    "df3 = top3_violation.limit(10).toPandas()\n",
    "df31 = df3.copy()\n",
    "df31['count'] = round(100*df31['count']/rows3,2)\n",
    "code_order3 = df3.sort_values('count',ascending = False).Violation_Code"
   ]
  },
  {
   "cell_type": "code",
   "execution_count": 97,
   "metadata": {},
   "outputs": [
    {
     "data": {
      "text/plain": [
       "74.08999999999999"
      ]
     },
     "execution_count": 97,
     "metadata": {},
     "output_type": "execute_result"
    }
   ],
   "source": [
    "# Sum of percentages\n",
    "df31['count'].sum()"
   ]
  },
  {
   "cell_type": "code",
   "execution_count": 98,
   "metadata": {},
   "outputs": [
    {
     "data": {
      "image/png": "[encoded data removed]",
      "text/plain": [
       "<Figure size 1008x1080 with 6 Axes>"
      ]
     },
     "metadata": {},
     "output_type": "display_data"
    }
   ],
   "source": [
    "plt.figure(figsize = (14,15))\n",
    "plt.subplot(3,2,1)\n",
    "sns.barplot(x = 'Violation_Code',y = 'count',data = df1,order = code_order1)\n",
    "plt.gca().set_title('Count of Top 10 violation codes for precinct 19')\n",
    "plt.subplot(3,2,2)\n",
    "sns.barplot(x = 'Violation_Code',y = 'count',data = df11,order = code_order1)\n",
    "plt.gca().set_title('Top 10 violation codes for precinct 19 as percentage')\n",
    "plt.subplot(3,2,3)\n",
    "sns.barplot(x = 'Violation_Code',y = 'count',data = df2,order = code_order2)\n",
    "plt.gca().set_title('Count of Top 10 violation codes for precinct 14')\n",
    "plt.subplot(3,2,4)\n",
    "sns.barplot(x = 'Violation_Code',y = 'count',data = df21,order = code_order2)\n",
    "plt.gca().set_title('Top 10 violation codes for precinct 14 as percentage')\n",
    "plt.subplot(3,2,5)\n",
    "sns.barplot(x = 'Violation_Code',y = 'count',data = df3,order = code_order3)\n",
    "plt.gca().set_title('Count of Top 10 violation codes for precinct 1')\n",
    "plt.subplot(3,2,6)\n",
    "sns.barplot(x = 'Violation_Code',y = 'count',data = df31,order = code_order3)\n",
    "plt.gca().set_title('Top 10 violation codes for precinct 11 as percentage')\n",
    "plt.tight_layout()\n",
    "plt.show()"
   ]
  },
  {
   "cell_type": "code",
   "execution_count": 99,
   "metadata": {},
   "outputs": [
    {
     "data": {
      "text/plain": [
       "{14, 19, 46}"
      ]
     },
     "execution_count": 99,
     "metadata": {},
     "output_type": "execute_result"
    }
   ],
   "source": [
    "set(code_order1)&set(code_order2)&set(code_order3)"
   ]
  },
  {
   "cell_type": "markdown",
   "metadata": {},
   "source": [
    "- The figure above shows the top violation codes for the top 3 precincts with violations.\n",
    "- The top 10 violations in respective precincts have almost 75% of violations in the precincts, 86% for precinct 19, 74% for precinct 14 and 78% for precinct 1\n",
    "- 14,46 and 19 are the 4 violations that are common in 3 precincts and 14 and 46 seems to have a large portion of violations in all the 3 precincts"
   ]
  },
  {
   "cell_type": "markdown",
   "metadata": {},
   "source": [
    "### Question 5"
   ]
  },
  {
   "cell_type": "markdown",
   "metadata": {},
   "source": [
    "### (a) : Handling Null values"
   ]
  },
  {
   "cell_type": "markdown",
   "metadata": {},
   "source": [
    "We have already seen in the data cleaning step that certain columns have `nan` values, but these are not found using any inbult nan method. The reason might be is these `nan` values are stored as string and not as a null value and hence these are found only by using filter method"
   ]
  },
  {
   "cell_type": "code",
   "execution_count": 100,
   "metadata": {},
   "outputs": [],
   "source": [
    "nyc_2017_1 = nyc_2017.filter(nyc_2017.Violation_Time != 'nan')"
   ]
  },
  {
   "cell_type": "code",
   "execution_count": 101,
   "metadata": {},
   "outputs": [
    {
     "name": "stdout",
     "output_type": "stream",
     "text": [
      "\u001b[1mNo of rows in Initial dataframe:\u001b[0m\n",
      "5431918\n",
      "\u001b[1mNo of null values in Violation_Time:\u001b[0m\n",
      "16\n",
      "\u001b[1mNo of rows in cleaned dataframe:\u001b[0m\n",
      "5431902\n"
     ]
    }
   ],
   "source": [
    "print_bold('No of rows in Initial dataframe:')\n",
    "print(nyc_2017.count())\n",
    "print_bold('No of null values in Violation_Time:')\n",
    "print(nyc_2017.filter(nyc_2017['Violation_Time'] == 'nan').count())\n",
    "print_bold('No of rows in cleaned dataframe:')\n",
    "print(nyc_2017_1.count())"
   ]
  },
  {
   "cell_type": "markdown",
   "metadata": {},
   "source": [
    "### (b) : Extracting time from ViolationTime"
   ]
  },
  {
   "cell_type": "code",
   "execution_count": 102,
   "metadata": {},
   "outputs": [],
   "source": [
    "nyc_2017_1 = nyc_2017_1.withColumn('hour',when(substring(col('Violation_Time'),-1,1) == 'P',12+(substring(col('Violation_Time'),1,2).cast('Int'))).otherwise((substring(col('Violation_Time'),1,2).cast('Int'))))\n",
    "nyc_2017_1 = nyc_2017_1.withColumn('minutes',substring(col('Violation_Time'),3,2))"
   ]
  },
  {
   "cell_type": "code",
   "execution_count": 103,
   "metadata": {},
   "outputs": [
    {
     "data": {
      "text/html": [
       "<div>\n",
       "<style scoped>\n",
       "    .dataframe tbody tr th:only-of-type {\n",
       "        vertical-align: middle;\n",
       "    }\n",
       "\n",
       "    .dataframe tbody tr th {\n",
       "        vertical-align: top;\n",
       "    }\n",
       "\n",
       "    .dataframe thead th {\n",
       "        text-align: right;\n",
       "    }\n",
       "</style>\n",
       "<table border=\"1\" class=\"dataframe\">\n",
       "  <thead>\n",
       "    <tr style=\"text-align: right;\">\n",
       "      <th></th>\n",
       "      <th>Summons_Number</th>\n",
       "      <th>Plate_ID</th>\n",
       "      <th>Registration_State</th>\n",
       "      <th>Issue_Date</th>\n",
       "      <th>Violation_Code</th>\n",
       "      <th>Vehicle_Body_Type</th>\n",
       "      <th>Vehicle_Make</th>\n",
       "      <th>Violation_Precinct</th>\n",
       "      <th>Issuer_Precinct</th>\n",
       "      <th>Violation_Time</th>\n",
       "      <th>hour</th>\n",
       "      <th>minutes</th>\n",
       "    </tr>\n",
       "  </thead>\n",
       "  <tbody>\n",
       "    <tr>\n",
       "      <th>0</th>\n",
       "      <td>8478629828</td>\n",
       "      <td>66623ME</td>\n",
       "      <td>NY</td>\n",
       "      <td>2017-06-14</td>\n",
       "      <td>47</td>\n",
       "      <td>REFG</td>\n",
       "      <td>MITSU</td>\n",
       "      <td>14</td>\n",
       "      <td>14</td>\n",
       "      <td>1120A</td>\n",
       "      <td>11</td>\n",
       "      <td>20</td>\n",
       "    </tr>\n",
       "    <tr>\n",
       "      <th>1</th>\n",
       "      <td>5096917368</td>\n",
       "      <td>FZD8593</td>\n",
       "      <td>NY</td>\n",
       "      <td>2017-06-13</td>\n",
       "      <td>7</td>\n",
       "      <td>SUBN</td>\n",
       "      <td>ME/BE</td>\n",
       "      <td>0</td>\n",
       "      <td>0</td>\n",
       "      <td>0852P</td>\n",
       "      <td>20</td>\n",
       "      <td>52</td>\n",
       "    </tr>\n",
       "    <tr>\n",
       "      <th>2</th>\n",
       "      <td>1407740258</td>\n",
       "      <td>2513JMG</td>\n",
       "      <td>NY</td>\n",
       "      <td>2017-01-11</td>\n",
       "      <td>78</td>\n",
       "      <td>DELV</td>\n",
       "      <td>FRUEH</td>\n",
       "      <td>106</td>\n",
       "      <td>106</td>\n",
       "      <td>0015A</td>\n",
       "      <td>0</td>\n",
       "      <td>15</td>\n",
       "    </tr>\n",
       "    <tr>\n",
       "      <th>3</th>\n",
       "      <td>1413656420</td>\n",
       "      <td>T672371C</td>\n",
       "      <td>NY</td>\n",
       "      <td>2017-02-04</td>\n",
       "      <td>40</td>\n",
       "      <td>TAXI</td>\n",
       "      <td>TOYOT</td>\n",
       "      <td>73</td>\n",
       "      <td>73</td>\n",
       "      <td>0525A</td>\n",
       "      <td>5</td>\n",
       "      <td>25</td>\n",
       "    </tr>\n",
       "    <tr>\n",
       "      <th>4</th>\n",
       "      <td>8480309064</td>\n",
       "      <td>51771JW</td>\n",
       "      <td>NY</td>\n",
       "      <td>2017-01-26</td>\n",
       "      <td>64</td>\n",
       "      <td>VAN</td>\n",
       "      <td>INTER</td>\n",
       "      <td>17</td>\n",
       "      <td>17</td>\n",
       "      <td>0256P</td>\n",
       "      <td>14</td>\n",
       "      <td>56</td>\n",
       "    </tr>\n",
       "  </tbody>\n",
       "</table>\n",
       "</div>"
      ],
      "text/plain": [
       "   Summons_Number  Plate_ID Registration_State Issue_Date  Violation_Code  \\\n",
       "0      8478629828   66623ME                 NY 2017-06-14              47   \n",
       "1      5096917368   FZD8593                 NY 2017-06-13               7   \n",
       "2      1407740258   2513JMG                 NY 2017-01-11              78   \n",
       "3      1413656420  T672371C                 NY 2017-02-04              40   \n",
       "4      8480309064   51771JW                 NY 2017-01-26              64   \n",
       "\n",
       "  Vehicle_Body_Type Vehicle_Make  Violation_Precinct  Issuer_Precinct  \\\n",
       "0              REFG        MITSU                  14               14   \n",
       "1              SUBN        ME/BE                   0                0   \n",
       "2              DELV        FRUEH                 106              106   \n",
       "3              TAXI        TOYOT                  73               73   \n",
       "4               VAN        INTER                  17               17   \n",
       "\n",
       "  Violation_Time  hour minutes  \n",
       "0          1120A    11      20  \n",
       "1          0852P    20      52  \n",
       "2          0015A     0      15  \n",
       "3          0525A     5      25  \n",
       "4          0256P    14      56  "
      ]
     },
     "execution_count": 103,
     "metadata": {},
     "output_type": "execute_result"
    }
   ],
   "source": [
    "nyc_2017_1.limit(5).toPandas()"
   ]
  },
  {
   "cell_type": "markdown",
   "metadata": {},
   "source": [
    "### (c) : Dividing into bins and top violations in each bin"
   ]
  },
  {
   "cell_type": "code",
   "execution_count": 104,
   "metadata": {},
   "outputs": [],
   "source": [
    "nyc_2017_1 = nyc_2017_1.withColumn('day_bin',when(col('hour') < 4,1).when(((col('hour') >=4)&(col('hour') <8)),2) \\\n",
    "                      .when(((col('hour') >=8)&(col('hour') <12)),3).when(((col('hour') >=12)&(col('hour') <16)),4) \\\n",
    "                      .when(((col('hour') >=16)&(col('hour') <20)),5).when(col('hour') >=20,6))"
   ]
  },
  {
   "cell_type": "code",
   "execution_count": 105,
   "metadata": {},
   "outputs": [
    {
     "data": {
      "text/html": [
       "<div>\n",
       "<style scoped>\n",
       "    .dataframe tbody tr th:only-of-type {\n",
       "        vertical-align: middle;\n",
       "    }\n",
       "\n",
       "    .dataframe tbody tr th {\n",
       "        vertical-align: top;\n",
       "    }\n",
       "\n",
       "    .dataframe thead th {\n",
       "        text-align: right;\n",
       "    }\n",
       "</style>\n",
       "<table border=\"1\" class=\"dataframe\">\n",
       "  <thead>\n",
       "    <tr style=\"text-align: right;\">\n",
       "      <th></th>\n",
       "      <th>Summons_Number</th>\n",
       "      <th>Plate_ID</th>\n",
       "      <th>Registration_State</th>\n",
       "      <th>Issue_Date</th>\n",
       "      <th>Violation_Code</th>\n",
       "      <th>Vehicle_Body_Type</th>\n",
       "      <th>Vehicle_Make</th>\n",
       "      <th>Violation_Precinct</th>\n",
       "      <th>Issuer_Precinct</th>\n",
       "      <th>Violation_Time</th>\n",
       "      <th>hour</th>\n",
       "      <th>minutes</th>\n",
       "      <th>day_bin</th>\n",
       "    </tr>\n",
       "  </thead>\n",
       "  <tbody>\n",
       "    <tr>\n",
       "      <th>0</th>\n",
       "      <td>8478629828</td>\n",
       "      <td>66623ME</td>\n",
       "      <td>NY</td>\n",
       "      <td>2017-06-14</td>\n",
       "      <td>47</td>\n",
       "      <td>REFG</td>\n",
       "      <td>MITSU</td>\n",
       "      <td>14</td>\n",
       "      <td>14</td>\n",
       "      <td>1120A</td>\n",
       "      <td>11</td>\n",
       "      <td>20</td>\n",
       "      <td>3</td>\n",
       "    </tr>\n",
       "    <tr>\n",
       "      <th>1</th>\n",
       "      <td>5096917368</td>\n",
       "      <td>FZD8593</td>\n",
       "      <td>NY</td>\n",
       "      <td>2017-06-13</td>\n",
       "      <td>7</td>\n",
       "      <td>SUBN</td>\n",
       "      <td>ME/BE</td>\n",
       "      <td>0</td>\n",
       "      <td>0</td>\n",
       "      <td>0852P</td>\n",
       "      <td>20</td>\n",
       "      <td>52</td>\n",
       "      <td>6</td>\n",
       "    </tr>\n",
       "    <tr>\n",
       "      <th>2</th>\n",
       "      <td>1407740258</td>\n",
       "      <td>2513JMG</td>\n",
       "      <td>NY</td>\n",
       "      <td>2017-01-11</td>\n",
       "      <td>78</td>\n",
       "      <td>DELV</td>\n",
       "      <td>FRUEH</td>\n",
       "      <td>106</td>\n",
       "      <td>106</td>\n",
       "      <td>0015A</td>\n",
       "      <td>0</td>\n",
       "      <td>15</td>\n",
       "      <td>1</td>\n",
       "    </tr>\n",
       "    <tr>\n",
       "      <th>3</th>\n",
       "      <td>1413656420</td>\n",
       "      <td>T672371C</td>\n",
       "      <td>NY</td>\n",
       "      <td>2017-02-04</td>\n",
       "      <td>40</td>\n",
       "      <td>TAXI</td>\n",
       "      <td>TOYOT</td>\n",
       "      <td>73</td>\n",
       "      <td>73</td>\n",
       "      <td>0525A</td>\n",
       "      <td>5</td>\n",
       "      <td>25</td>\n",
       "      <td>2</td>\n",
       "    </tr>\n",
       "    <tr>\n",
       "      <th>4</th>\n",
       "      <td>8480309064</td>\n",
       "      <td>51771JW</td>\n",
       "      <td>NY</td>\n",
       "      <td>2017-01-26</td>\n",
       "      <td>64</td>\n",
       "      <td>VAN</td>\n",
       "      <td>INTER</td>\n",
       "      <td>17</td>\n",
       "      <td>17</td>\n",
       "      <td>0256P</td>\n",
       "      <td>14</td>\n",
       "      <td>56</td>\n",
       "      <td>4</td>\n",
       "    </tr>\n",
       "  </tbody>\n",
       "</table>\n",
       "</div>"
      ],
      "text/plain": [
       "   Summons_Number  Plate_ID Registration_State Issue_Date  Violation_Code  \\\n",
       "0      8478629828   66623ME                 NY 2017-06-14              47   \n",
       "1      5096917368   FZD8593                 NY 2017-06-13               7   \n",
       "2      1407740258   2513JMG                 NY 2017-01-11              78   \n",
       "3      1413656420  T672371C                 NY 2017-02-04              40   \n",
       "4      8480309064   51771JW                 NY 2017-01-26              64   \n",
       "\n",
       "  Vehicle_Body_Type Vehicle_Make  Violation_Precinct  Issuer_Precinct  \\\n",
       "0              REFG        MITSU                  14               14   \n",
       "1              SUBN        ME/BE                   0                0   \n",
       "2              DELV        FRUEH                 106              106   \n",
       "3              TAXI        TOYOT                  73               73   \n",
       "4               VAN        INTER                  17               17   \n",
       "\n",
       "  Violation_Time  hour minutes  day_bin  \n",
       "0          1120A    11      20        3  \n",
       "1          0852P    20      52        6  \n",
       "2          0015A     0      15        1  \n",
       "3          0525A     5      25        2  \n",
       "4          0256P    14      56        4  "
      ]
     },
     "execution_count": 105,
     "metadata": {},
     "output_type": "execute_result"
    }
   ],
   "source": [
    "nyc_2017_1.limit(5).toPandas()"
   ]
  },
  {
   "cell_type": "markdown",
   "metadata": {},
   "source": [
    "### Bin 1: 12 - 4 AM"
   ]
  },
  {
   "cell_type": "code",
   "execution_count": 106,
   "metadata": {},
   "outputs": [],
   "source": [
    "rows3 = nyc_2017_1.filter((nyc_2017_1['day_bin'] ==1)).count()\n",
    "top3_violation =  nyc_2017_1.filter((nyc_2017_1['day_bin'] ==1)).groupby('Violation_Code').count().sort(col('count').desc())"
   ]
  },
  {
   "cell_type": "code",
   "execution_count": 107,
   "metadata": {},
   "outputs": [
    {
     "name": "stdout",
     "output_type": "stream",
     "text": [
      "\u001b[1mTop 3 violation codes:\u001b[0m\n",
      "+--------------+-----+\n",
      "|Violation_Code|count|\n",
      "+--------------+-----+\n",
      "|            21|34704|\n",
      "|            40|23629|\n",
      "|            14|14168|\n",
      "+--------------+-----+\n",
      "only showing top 3 rows\n",
      "\n"
     ]
    }
   ],
   "source": [
    "print_bold('Top 3 violation codes:')\n",
    "top3_violation.show(3)"
   ]
  },
  {
   "cell_type": "code",
   "execution_count": 108,
   "metadata": {},
   "outputs": [],
   "source": [
    "df1 = top3_violation.limit(3).toPandas()\n",
    "df11 = df1.copy()\n",
    "df11['count'] = round(100*df11['count']/rows3,2)\n",
    "code_order1 = df1.sort_values('count',ascending = False).Violation_Code"
   ]
  },
  {
   "cell_type": "code",
   "execution_count": 109,
   "metadata": {},
   "outputs": [
    {
     "data": {
      "text/plain": [
       "49.21999999999999"
      ]
     },
     "execution_count": 109,
     "metadata": {},
     "output_type": "execute_result"
    }
   ],
   "source": [
    "# Sum of percentages\n",
    "df11['count'].sum()"
   ]
  },
  {
   "cell_type": "markdown",
   "metadata": {},
   "source": [
    "### bin 2: 4AM-8AM"
   ]
  },
  {
   "cell_type": "code",
   "execution_count": 110,
   "metadata": {},
   "outputs": [],
   "source": [
    "rows3 = nyc_2017_1.filter((nyc_2017_1['day_bin'] ==2)).count()\n",
    "top3_violation =  nyc_2017_1.filter((nyc_2017_1['day_bin'] ==2)).groupby('Violation_Code').count().sort(col('count').desc())"
   ]
  },
  {
   "cell_type": "code",
   "execution_count": 111,
   "metadata": {},
   "outputs": [
    {
     "name": "stdout",
     "output_type": "stream",
     "text": [
      "\u001b[1mTop 3 violation codes:\u001b[0m\n",
      "+--------------+-----+\n",
      "|Violation_Code|count|\n",
      "+--------------+-----+\n",
      "|            14|74114|\n",
      "|            40|60652|\n",
      "|            21|57897|\n",
      "+--------------+-----+\n",
      "only showing top 3 rows\n",
      "\n"
     ]
    }
   ],
   "source": [
    "print_bold('Top 3 violation codes:')\n",
    "top3_violation.show(3)"
   ]
  },
  {
   "cell_type": "code",
   "execution_count": 112,
   "metadata": {},
   "outputs": [],
   "source": [
    "df2 = top3_violation.limit(3).toPandas()\n",
    "df21 = df2.copy()\n",
    "df21['count'] = round(100*df21['count']/rows3,2)\n",
    "code_order2 = df2.sort_values('count',ascending = False).Violation_Code"
   ]
  },
  {
   "cell_type": "code",
   "execution_count": 113,
   "metadata": {},
   "outputs": [
    {
     "data": {
      "text/plain": [
       "42.82"
      ]
     },
     "execution_count": 113,
     "metadata": {},
     "output_type": "execute_result"
    }
   ],
   "source": [
    "# Sum of percentages\n",
    "df21['count'].sum()"
   ]
  },
  {
   "cell_type": "markdown",
   "metadata": {},
   "source": [
    "### bin 3: 8AM-12PM"
   ]
  },
  {
   "cell_type": "code",
   "execution_count": 114,
   "metadata": {},
   "outputs": [],
   "source": [
    "rows3 = nyc_2017_1.filter((nyc_2017_1['day_bin'] ==3)).count()\n",
    "top3_violation =  nyc_2017_1.filter((nyc_2017_1['day_bin'] ==3)).groupby('Violation_Code').count().sort(col('count').desc())"
   ]
  },
  {
   "cell_type": "code",
   "execution_count": 115,
   "metadata": {},
   "outputs": [
    {
     "name": "stdout",
     "output_type": "stream",
     "text": [
      "\u001b[1mTop 3 violation codes:\u001b[0m\n",
      "+--------------+------+\n",
      "|Violation_Code| count|\n",
      "+--------------+------+\n",
      "|            21|598070|\n",
      "|            36|348165|\n",
      "|            38|176570|\n",
      "+--------------+------+\n",
      "only showing top 3 rows\n",
      "\n"
     ]
    }
   ],
   "source": [
    "print_bold('Top 3 violation codes:')\n",
    "top3_violation.show(3)"
   ]
  },
  {
   "cell_type": "code",
   "execution_count": 116,
   "metadata": {},
   "outputs": [],
   "source": [
    "df3 = top3_violation.limit(3).toPandas()\n",
    "df31 = df3.copy()\n",
    "df31['count'] = round(100*df31['count']/rows3,2)\n",
    "code_order3 = df3.sort_values('count',ascending = False).Violation_Code"
   ]
  },
  {
   "cell_type": "code",
   "execution_count": 117,
   "metadata": {},
   "outputs": [
    {
     "data": {
      "text/plain": [
       "51.89"
      ]
     },
     "execution_count": 117,
     "metadata": {},
     "output_type": "execute_result"
    }
   ],
   "source": [
    "# Sum of percentages\n",
    "df31['count'].sum()"
   ]
  },
  {
   "cell_type": "markdown",
   "metadata": {},
   "source": [
    "### Bin 4: 12PM - 4PM"
   ]
  },
  {
   "cell_type": "code",
   "execution_count": 118,
   "metadata": {},
   "outputs": [],
   "source": [
    "rows3 = nyc_2017_1.filter((nyc_2017_1['day_bin'] ==4)).count()\n",
    "top3_violation =  nyc_2017_1.filter((nyc_2017_1['day_bin'] ==4)).groupby('Violation_Code').count().sort(col('count').desc())"
   ]
  },
  {
   "cell_type": "code",
   "execution_count": 119,
   "metadata": {},
   "outputs": [
    {
     "name": "stdout",
     "output_type": "stream",
     "text": [
      "\u001b[1mTop 3 violation codes:\u001b[0m\n",
      "+--------------+------+\n",
      "|Violation_Code| count|\n",
      "+--------------+------+\n",
      "|            38|184829|\n",
      "|            36|184293|\n",
      "|            37|130692|\n",
      "+--------------+------+\n",
      "only showing top 3 rows\n",
      "\n"
     ]
    }
   ],
   "source": [
    "print_bold('Top 3 violation codes:')\n",
    "top3_violation.show(3)"
   ]
  },
  {
   "cell_type": "code",
   "execution_count": 120,
   "metadata": {},
   "outputs": [],
   "source": [
    "df4 = top3_violation.limit(3).toPandas()\n",
    "df41 = df4.copy()\n",
    "df41['count'] = round(100*df41['count']/rows3,2)\n",
    "code_order4 = df4.sort_values('count',ascending = False).Violation_Code"
   ]
  },
  {
   "cell_type": "code",
   "execution_count": 121,
   "metadata": {},
   "outputs": [
    {
     "data": {
      "text/plain": [
       "37.099999999999994"
      ]
     },
     "execution_count": 121,
     "metadata": {},
     "output_type": "execute_result"
    }
   ],
   "source": [
    "# Sum of percentages\n",
    "df41['count'].sum()"
   ]
  },
  {
   "cell_type": "markdown",
   "metadata": {},
   "source": [
    "### Bin 5: 4PM - 8PM"
   ]
  },
  {
   "cell_type": "code",
   "execution_count": 122,
   "metadata": {},
   "outputs": [],
   "source": [
    "rows3 = nyc_2017_1.filter((nyc_2017_1['day_bin'] ==5)).count()\n",
    "top3_violation =  nyc_2017_1.filter((nyc_2017_1['day_bin'] ==5)).groupby('Violation_Code').count().sort(col('count').desc())"
   ]
  },
  {
   "cell_type": "code",
   "execution_count": 123,
   "metadata": {},
   "outputs": [
    {
     "name": "stdout",
     "output_type": "stream",
     "text": [
      "\u001b[1mTop 3 violation codes:\u001b[0m\n",
      "+--------------+------+\n",
      "|Violation_Code| count|\n",
      "+--------------+------+\n",
      "|            38|102855|\n",
      "|            14| 75902|\n",
      "|            37| 70345|\n",
      "+--------------+------+\n",
      "only showing top 3 rows\n",
      "\n"
     ]
    }
   ],
   "source": [
    "print_bold('Top 3 violation codes:')\n",
    "top3_violation.show(3)"
   ]
  },
  {
   "cell_type": "code",
   "execution_count": 124,
   "metadata": {},
   "outputs": [],
   "source": [
    "df5 = top3_violation.limit(3).toPandas()\n",
    "df51 = df5.copy()\n",
    "df51['count'] = round(100*df51['count']/rows3,2)\n",
    "code_order5 = df5.sort_values('count',ascending = False).Violation_Code"
   ]
  },
  {
   "cell_type": "code",
   "execution_count": 125,
   "metadata": {},
   "outputs": [
    {
     "data": {
      "text/plain": [
       "39.07"
      ]
     },
     "execution_count": 125,
     "metadata": {},
     "output_type": "execute_result"
    }
   ],
   "source": [
    "# Sum of percentages\n",
    "df51['count'].sum()"
   ]
  },
  {
   "cell_type": "markdown",
   "metadata": {},
   "source": [
    "### Bin 6 : 8PM - 12AM"
   ]
  },
  {
   "cell_type": "code",
   "execution_count": 126,
   "metadata": {},
   "outputs": [],
   "source": [
    "rows3 = nyc_2017_1.filter((nyc_2017_1['day_bin'] ==6)).count()\n",
    "top3_violation =  nyc_2017_1.filter((nyc_2017_1['day_bin'] ==6)).groupby('Violation_Code').count().sort(col('count').desc())"
   ]
  },
  {
   "cell_type": "code",
   "execution_count": 127,
   "metadata": {},
   "outputs": [
    {
     "name": "stdout",
     "output_type": "stream",
     "text": [
      "\u001b[1mTop 3 violation codes:\u001b[0m\n",
      "+--------------+------+\n",
      "|Violation_Code| count|\n",
      "+--------------+------+\n",
      "|            36|101991|\n",
      "|            38| 76314|\n",
      "|            21| 72568|\n",
      "+--------------+------+\n",
      "only showing top 3 rows\n",
      "\n"
     ]
    }
   ],
   "source": [
    "print_bold('Top 3 violation codes:')\n",
    "top3_violation.show(3)"
   ]
  },
  {
   "cell_type": "code",
   "execution_count": 128,
   "metadata": {},
   "outputs": [],
   "source": [
    "df6 = top3_violation.limit(3).toPandas()\n",
    "df61 = df6.copy()\n",
    "df61['count'] = round(100*df61['count']/rows3,2)\n",
    "code_order6 = df6.sort_values('count',ascending = False).Violation_Code"
   ]
  },
  {
   "cell_type": "code",
   "execution_count": 129,
   "metadata": {},
   "outputs": [
    {
     "data": {
      "text/html": [
       "<div>\n",
       "<style scoped>\n",
       "    .dataframe tbody tr th:only-of-type {\n",
       "        vertical-align: middle;\n",
       "    }\n",
       "\n",
       "    .dataframe tbody tr th {\n",
       "        vertical-align: top;\n",
       "    }\n",
       "\n",
       "    .dataframe thead th {\n",
       "        text-align: right;\n",
       "    }\n",
       "</style>\n",
       "<table border=\"1\" class=\"dataframe\">\n",
       "  <thead>\n",
       "    <tr style=\"text-align: right;\">\n",
       "      <th></th>\n",
       "      <th>Violation_Code</th>\n",
       "      <th>count</th>\n",
       "    </tr>\n",
       "  </thead>\n",
       "  <tbody>\n",
       "    <tr>\n",
       "      <th>0</th>\n",
       "      <td>36</td>\n",
       "      <td>14.86</td>\n",
       "    </tr>\n",
       "    <tr>\n",
       "      <th>1</th>\n",
       "      <td>38</td>\n",
       "      <td>11.12</td>\n",
       "    </tr>\n",
       "    <tr>\n",
       "      <th>2</th>\n",
       "      <td>21</td>\n",
       "      <td>10.57</td>\n",
       "    </tr>\n",
       "  </tbody>\n",
       "</table>\n",
       "</div>"
      ],
      "text/plain": [
       "   Violation_Code  count\n",
       "0              36  14.86\n",
       "1              38  11.12\n",
       "2              21  10.57"
      ]
     },
     "execution_count": 129,
     "metadata": {},
     "output_type": "execute_result"
    }
   ],
   "source": [
    "df61"
   ]
  },
  {
   "cell_type": "code",
   "execution_count": 130,
   "metadata": {},
   "outputs": [
    {
     "data": {
      "text/plain": [
       "36.55"
      ]
     },
     "execution_count": 130,
     "metadata": {},
     "output_type": "execute_result"
    }
   ],
   "source": [
    "# Sum of percentages\n",
    "df61['count'].sum()"
   ]
  },
  {
   "cell_type": "code",
   "execution_count": 131,
   "metadata": {},
   "outputs": [
    {
     "data": {
      "image/png": "[encoded data removed]",
      "text/plain": [
       "<Figure size 1440x1080 with 12 Axes>"
      ]
     },
     "metadata": {},
     "output_type": "display_data"
    }
   ],
   "source": [
    "plt.figure(figsize = (20,15))\n",
    "plt.subplot(3,4,1)\n",
    "sns.barplot(x = 'Violation_Code',y = 'count',data = df1,order = code_order1)\n",
    "plt.gca().set_title('Count of Top 3 violation codes in bin 1')\n",
    "plt.subplot(3,4,2)\n",
    "sns.barplot(x = 'Violation_Code',y = 'count',data = df11,order = code_order1)\n",
    "plt.gca().set_title('Top 3 violation codes in bin1 1 as percentage')\n",
    "plt.subplot(3,4,3)\n",
    "sns.barplot(x = 'Violation_Code',y = 'count',data = df2,order = code_order2)\n",
    "plt.gca().set_title('Count of Top 3 violation codes in bin 2')\n",
    "plt.subplot(3,4,4)\n",
    "sns.barplot(x = 'Violation_Code',y = 'count',data = df21,order = code_order2)\n",
    "plt.gca().set_title('Top 3 violation codes in bin 2 as percentage')\n",
    "plt.subplot(3,4,5)\n",
    "sns.barplot(x = 'Violation_Code',y = 'count',data = df3,order = code_order3)\n",
    "plt.gca().set_title('Count of Top 3 violation codes in bin 3')\n",
    "plt.subplot(3,4,6)\n",
    "sns.barplot(x = 'Violation_Code',y = 'count',data = df31,order = code_order3)\n",
    "plt.gca().set_title('Top 3 violation codes in bin 3 as percentage')\n",
    "plt.subplot(3,4,7)\n",
    "sns.barplot(x = 'Violation_Code',y = 'count',data = df4,order = code_order4)\n",
    "plt.gca().set_title('Count of Top 3 violation codes in bin 4')\n",
    "plt.subplot(3,4,8)\n",
    "sns.barplot(x = 'Violation_Code',y = 'count',data = df41,order = code_order4)\n",
    "plt.gca().set_title('Top 3 violation codes in bin 4 as percentage')\n",
    "plt.subplot(3,4,9)\n",
    "sns.barplot(x = 'Violation_Code',y = 'count',data = df5,order = code_order5)\n",
    "plt.gca().set_title('Count of Top 3 violation codes in bin 5')\n",
    "plt.subplot(3,4,10)\n",
    "sns.barplot(x = 'Violation_Code',y = 'count',data = df51,order = code_order5)\n",
    "plt.gca().set_title('Top 3 violation codes in bin 5 as percentage')\n",
    "plt.subplot(3,4,11)\n",
    "sns.barplot(x = 'Violation_Code',y = 'count',data = df6,order = code_order6)\n",
    "plt.gca().set_title('Count of Top 3 violation codes in bin 6')\n",
    "plt.subplot(3,4,12)\n",
    "sns.barplot(x = 'Violation_Code',y = 'count',data = df61,order = code_order6)\n",
    "plt.gca().set_title('Top 3 violation codes in bin 6 as percentage')\n",
    "\n",
    "\n",
    "plt.tight_layout()\n",
    "plt.show()"
   ]
  },
  {
   "cell_type": "markdown",
   "metadata": {},
   "source": [
    "- In the early morning and late nights 21 seems to be the violation code that is dominating\n",
    "- In the normal day hours, 36 and 38 violations codes seems to be lot higher"
   ]
  },
  {
   "cell_type": "markdown",
   "metadata": {},
   "source": [
    "### (d) : bin-wise analysis for top 3 violation codes"
   ]
  },
  {
   "cell_type": "code",
   "execution_count": 132,
   "metadata": {},
   "outputs": [
    {
     "name": "stdout",
     "output_type": "stream",
     "text": [
      "+-------+-------+\n",
      "|day_bin|  count|\n",
      "+-------+-------+\n",
      "|      3|2163568|\n",
      "|      4|1347178|\n",
      "|      6| 686431|\n",
      "|      5| 637540|\n",
      "|      2| 449885|\n",
      "|      1| 147300|\n",
      "+-------+-------+\n",
      "\n"
     ]
    }
   ],
   "source": [
    "nyc_2017_1.groupby('day_bin').count().sort(col('count').desc()).show()"
   ]
  },
  {
   "cell_type": "markdown",
   "metadata": {},
   "source": [
    "The most parking tickets were given in the 3 and 4 bins which are between 8 AM and 4 PM."
   ]
  },
  {
   "cell_type": "code",
   "execution_count": 133,
   "metadata": {},
   "outputs": [
    {
     "name": "stdout",
     "output_type": "stream",
     "text": [
      "+--------------+------+\n",
      "|Violation_Code| count|\n",
      "+--------------+------+\n",
      "|            21|768087|\n",
      "|            36|662765|\n",
      "|            38|542079|\n",
      "+--------------+------+\n",
      "only showing top 3 rows\n",
      "\n"
     ]
    }
   ],
   "source": [
    "nyc_2017_1.groupby('Violation_Code').count().sort(col('count').desc()).show(3)"
   ]
  },
  {
   "cell_type": "markdown",
   "metadata": {},
   "source": [
    "The 3 most common violations are 21,36 and 38."
   ]
  },
  {
   "cell_type": "markdown",
   "metadata": {},
   "source": [
    "### Violation code 21"
   ]
  },
  {
   "cell_type": "code",
   "execution_count": 134,
   "metadata": {},
   "outputs": [],
   "source": [
    "rows3 = nyc_2017_1.filter((nyc_2017_1['Violation_Code'] ==21)).count()\n",
    "top3_violation =  nyc_2017_1.filter((nyc_2017_1['Violation_Code'] ==21)).groupby('day_bin').count().sort(col('count').desc())"
   ]
  },
  {
   "cell_type": "code",
   "execution_count": 135,
   "metadata": {},
   "outputs": [
    {
     "name": "stdout",
     "output_type": "stream",
     "text": [
      "\u001b[1mViolations bin wise:\u001b[0m\n",
      "+-------+------+\n",
      "|day_bin| count|\n",
      "+-------+------+\n",
      "|      3|598070|\n",
      "|      6| 72568|\n",
      "|      2| 57897|\n",
      "|      1| 34704|\n",
      "|      4|  4589|\n",
      "+-------+------+\n",
      "only showing top 5 rows\n",
      "\n"
     ]
    }
   ],
   "source": [
    "print_bold('Violations bin wise:')\n",
    "top3_violation.show(5)"
   ]
  },
  {
   "cell_type": "code",
   "execution_count": 136,
   "metadata": {},
   "outputs": [],
   "source": [
    "df1 = top3_violation.limit(5).toPandas()\n",
    "df11 = df1.copy()\n",
    "df11['count'] = round(100*df11['count']/rows3,2)\n",
    "code_order1 = df1.sort_values('count',ascending = False).day_bin"
   ]
  },
  {
   "cell_type": "code",
   "execution_count": 137,
   "metadata": {},
   "outputs": [
    {
     "data": {
      "text/plain": [
       "99.97"
      ]
     },
     "execution_count": 137,
     "metadata": {},
     "output_type": "execute_result"
    }
   ],
   "source": [
    "# Sum of percentages\n",
    "df11['count'].sum()"
   ]
  },
  {
   "cell_type": "markdown",
   "metadata": {},
   "source": [
    "### Violation code 36"
   ]
  },
  {
   "cell_type": "code",
   "execution_count": 138,
   "metadata": {},
   "outputs": [],
   "source": [
    "rows3 = nyc_2017_1.filter((nyc_2017_1['Violation_Code'] ==36)).count()\n",
    "top3_violation =  nyc_2017_1.filter((nyc_2017_1['Violation_Code'] ==36)).groupby('day_bin').count().sort(col('count').desc())"
   ]
  },
  {
   "cell_type": "code",
   "execution_count": 139,
   "metadata": {},
   "outputs": [
    {
     "name": "stdout",
     "output_type": "stream",
     "text": [
      "\u001b[1mViolations bin wise:\u001b[0m\n",
      "+-------+------+\n",
      "|day_bin| count|\n",
      "+-------+------+\n",
      "|      3|348165|\n",
      "|      4|184293|\n",
      "|      6|101991|\n",
      "|      2| 14782|\n",
      "|      5| 13534|\n",
      "+-------+------+\n",
      "\n"
     ]
    }
   ],
   "source": [
    "print_bold('Violations bin wise:')\n",
    "top3_violation.show(5)"
   ]
  },
  {
   "cell_type": "code",
   "execution_count": 140,
   "metadata": {},
   "outputs": [],
   "source": [
    "df2 = top3_violation.limit(5).toPandas()\n",
    "df21 = df2.copy()\n",
    "df21['count'] = round(100*df21['count']/rows3,2)\n",
    "code_order2 = df2.sort_values('count',ascending = False).day_bin"
   ]
  },
  {
   "cell_type": "code",
   "execution_count": 141,
   "metadata": {},
   "outputs": [
    {
     "data": {
      "text/plain": [
       "100.00000000000001"
      ]
     },
     "execution_count": 141,
     "metadata": {},
     "output_type": "execute_result"
    }
   ],
   "source": [
    "# Sum of percentages\n",
    "df21['count'].sum()"
   ]
  },
  {
   "cell_type": "markdown",
   "metadata": {},
   "source": [
    "### Violation Code 38"
   ]
  },
  {
   "cell_type": "code",
   "execution_count": 142,
   "metadata": {},
   "outputs": [],
   "source": [
    "rows3 = nyc_2017_1.filter((nyc_2017_1['Violation_Code'] ==38)).count()\n",
    "top3_violation =  nyc_2017_1.filter((nyc_2017_1['Violation_Code'] ==38)).groupby('day_bin').count().sort(col('count').desc())"
   ]
  },
  {
   "cell_type": "code",
   "execution_count": 143,
   "metadata": {},
   "outputs": [
    {
     "name": "stdout",
     "output_type": "stream",
     "text": [
      "\u001b[1mViolations bin wise:\u001b[0m\n",
      "+-------+------+\n",
      "|day_bin| count|\n",
      "+-------+------+\n",
      "|      4|184829|\n",
      "|      3|176570|\n",
      "|      5|102855|\n",
      "|      6| 76314|\n",
      "|      2|  1273|\n",
      "+-------+------+\n",
      "only showing top 5 rows\n",
      "\n"
     ]
    }
   ],
   "source": [
    "print_bold('Violations bin wise:')\n",
    "top3_violation.show(5)"
   ]
  },
  {
   "cell_type": "code",
   "execution_count": 144,
   "metadata": {},
   "outputs": [],
   "source": [
    "df3 = top3_violation.limit(5).toPandas()\n",
    "df31 = df3.copy()\n",
    "df31['count'] = round(100*df31['count']/rows3,2)\n",
    "code_order3 = df3.sort_values('count',ascending = False).day_bin"
   ]
  },
  {
   "cell_type": "code",
   "execution_count": 145,
   "metadata": {},
   "outputs": [
    {
     "data": {
      "text/plain": [
       "99.95"
      ]
     },
     "execution_count": 145,
     "metadata": {},
     "output_type": "execute_result"
    }
   ],
   "source": [
    "# Sum of percentages\n",
    "df31['count'].sum()"
   ]
  },
  {
   "cell_type": "code",
   "execution_count": 146,
   "metadata": {},
   "outputs": [
    {
     "data": {
      "image/png": "[encoded data removed]",
      "text/plain": [
       "<Figure size 1008x1080 with 6 Axes>"
      ]
     },
     "metadata": {},
     "output_type": "display_data"
    }
   ],
   "source": [
    "plt.figure(figsize = (14,15))\n",
    "plt.subplot(3,2,1)\n",
    "sns.barplot(x = 'day_bin',y = 'count',data = df1,order = code_order1)\n",
    "plt.gca().set_title('bin wise distributuin of violation code 21')\n",
    "plt.subplot(3,2,2)\n",
    "sns.barplot(x = 'day_bin',y = 'count',data = df11,order = code_order1)\n",
    "plt.gca().set_title('bin wise distributuin of violation code 21 as percentage')\n",
    "plt.subplot(3,2,3)\n",
    "sns.barplot(x = 'day_bin',y = 'count',data = df2,order = code_order2)\n",
    "plt.gca().set_title('bin wise distributuin of violation code 36')\n",
    "plt.subplot(3,2,4)\n",
    "sns.barplot(x = 'day_bin',y = 'count',data = df21,order = code_order2)\n",
    "plt.gca().set_title('bin wise distributuin of violation code 36 as percentage')\n",
    "plt.subplot(3,2,5)\n",
    "sns.barplot(x = 'day_bin',y = 'count',data = df3,order = code_order3)\n",
    "plt.gca().set_title('bin wise distributuin of violation code 38')\n",
    "plt.subplot(3,2,6)\n",
    "sns.barplot(x = 'day_bin',y = 'count',data = df31,order = code_order3)\n",
    "plt.gca().set_title('bin wise distributuin of violation code 38 as percentage')\n",
    "plt.tight_layout()\n",
    "plt.show()"
   ]
  },
  {
   "cell_type": "markdown",
   "metadata": {},
   "source": [
    "3 seems to be the that has the most number of violations in 2 out 3 validation codes and even in the case where 3 was not the bin with maximum violations it seems to be really close to the top slot. Hence 3 seems to slot where maximum tickets were issued, which is 8 AM to 12 PM."
   ]
  },
  {
   "cell_type": "markdown",
   "metadata": {},
   "source": [
    "### Question 6: Season wise analysis"
   ]
  },
  {
   "cell_type": "code",
   "execution_count": 147,
   "metadata": {},
   "outputs": [],
   "source": [
    "nyc_2017_1 = nyc_2017_1.withColumn('Month',month(col('Issue_Date')))"
   ]
  },
  {
   "cell_type": "code",
   "execution_count": 148,
   "metadata": {},
   "outputs": [],
   "source": [
    "nyc_2017_1 = nyc_2017_1.withColumn('season',when(col('Month') < 4,1).when(((col('Month') >=4)&(col('Month') <7)),2) \\\n",
    "                      .when(((col('Month') >=7)&(col('Month') <10)),3).when(((col('Month') >=10)&(col('Month') <=12)),4))"
   ]
  },
  {
   "cell_type": "code",
   "execution_count": 149,
   "metadata": {},
   "outputs": [
    {
     "data": {
      "text/html": [
       "<div>\n",
       "<style scoped>\n",
       "    .dataframe tbody tr th:only-of-type {\n",
       "        vertical-align: middle;\n",
       "    }\n",
       "\n",
       "    .dataframe tbody tr th {\n",
       "        vertical-align: top;\n",
       "    }\n",
       "\n",
       "    .dataframe thead th {\n",
       "        text-align: right;\n",
       "    }\n",
       "</style>\n",
       "<table border=\"1\" class=\"dataframe\">\n",
       "  <thead>\n",
       "    <tr style=\"text-align: right;\">\n",
       "      <th></th>\n",
       "      <th>Summons_Number</th>\n",
       "      <th>Plate_ID</th>\n",
       "      <th>Registration_State</th>\n",
       "      <th>Issue_Date</th>\n",
       "      <th>Violation_Code</th>\n",
       "      <th>Vehicle_Body_Type</th>\n",
       "      <th>Vehicle_Make</th>\n",
       "      <th>Violation_Precinct</th>\n",
       "      <th>Issuer_Precinct</th>\n",
       "      <th>Violation_Time</th>\n",
       "      <th>hour</th>\n",
       "      <th>minutes</th>\n",
       "      <th>day_bin</th>\n",
       "      <th>Month</th>\n",
       "      <th>season</th>\n",
       "    </tr>\n",
       "  </thead>\n",
       "  <tbody>\n",
       "    <tr>\n",
       "      <th>0</th>\n",
       "      <td>8478629828</td>\n",
       "      <td>66623ME</td>\n",
       "      <td>NY</td>\n",
       "      <td>2017-06-14</td>\n",
       "      <td>47</td>\n",
       "      <td>REFG</td>\n",
       "      <td>MITSU</td>\n",
       "      <td>14</td>\n",
       "      <td>14</td>\n",
       "      <td>1120A</td>\n",
       "      <td>11</td>\n",
       "      <td>20</td>\n",
       "      <td>3</td>\n",
       "      <td>6</td>\n",
       "      <td>2</td>\n",
       "    </tr>\n",
       "    <tr>\n",
       "      <th>1</th>\n",
       "      <td>5096917368</td>\n",
       "      <td>FZD8593</td>\n",
       "      <td>NY</td>\n",
       "      <td>2017-06-13</td>\n",
       "      <td>7</td>\n",
       "      <td>SUBN</td>\n",
       "      <td>ME/BE</td>\n",
       "      <td>0</td>\n",
       "      <td>0</td>\n",
       "      <td>0852P</td>\n",
       "      <td>20</td>\n",
       "      <td>52</td>\n",
       "      <td>6</td>\n",
       "      <td>6</td>\n",
       "      <td>2</td>\n",
       "    </tr>\n",
       "    <tr>\n",
       "      <th>2</th>\n",
       "      <td>1407740258</td>\n",
       "      <td>2513JMG</td>\n",
       "      <td>NY</td>\n",
       "      <td>2017-01-11</td>\n",
       "      <td>78</td>\n",
       "      <td>DELV</td>\n",
       "      <td>FRUEH</td>\n",
       "      <td>106</td>\n",
       "      <td>106</td>\n",
       "      <td>0015A</td>\n",
       "      <td>0</td>\n",
       "      <td>15</td>\n",
       "      <td>1</td>\n",
       "      <td>1</td>\n",
       "      <td>1</td>\n",
       "    </tr>\n",
       "    <tr>\n",
       "      <th>3</th>\n",
       "      <td>1413656420</td>\n",
       "      <td>T672371C</td>\n",
       "      <td>NY</td>\n",
       "      <td>2017-02-04</td>\n",
       "      <td>40</td>\n",
       "      <td>TAXI</td>\n",
       "      <td>TOYOT</td>\n",
       "      <td>73</td>\n",
       "      <td>73</td>\n",
       "      <td>0525A</td>\n",
       "      <td>5</td>\n",
       "      <td>25</td>\n",
       "      <td>2</td>\n",
       "      <td>2</td>\n",
       "      <td>1</td>\n",
       "    </tr>\n",
       "    <tr>\n",
       "      <th>4</th>\n",
       "      <td>8480309064</td>\n",
       "      <td>51771JW</td>\n",
       "      <td>NY</td>\n",
       "      <td>2017-01-26</td>\n",
       "      <td>64</td>\n",
       "      <td>VAN</td>\n",
       "      <td>INTER</td>\n",
       "      <td>17</td>\n",
       "      <td>17</td>\n",
       "      <td>0256P</td>\n",
       "      <td>14</td>\n",
       "      <td>56</td>\n",
       "      <td>4</td>\n",
       "      <td>1</td>\n",
       "      <td>1</td>\n",
       "    </tr>\n",
       "  </tbody>\n",
       "</table>\n",
       "</div>"
      ],
      "text/plain": [
       "   Summons_Number  Plate_ID Registration_State Issue_Date  Violation_Code  \\\n",
       "0      8478629828   66623ME                 NY 2017-06-14              47   \n",
       "1      5096917368   FZD8593                 NY 2017-06-13               7   \n",
       "2      1407740258   2513JMG                 NY 2017-01-11              78   \n",
       "3      1413656420  T672371C                 NY 2017-02-04              40   \n",
       "4      8480309064   51771JW                 NY 2017-01-26              64   \n",
       "\n",
       "  Vehicle_Body_Type Vehicle_Make  Violation_Precinct  Issuer_Precinct  \\\n",
       "0              REFG        MITSU                  14               14   \n",
       "1              SUBN        ME/BE                   0                0   \n",
       "2              DELV        FRUEH                 106              106   \n",
       "3              TAXI        TOYOT                  73               73   \n",
       "4               VAN        INTER                  17               17   \n",
       "\n",
       "  Violation_Time  hour minutes  day_bin  Month  season  \n",
       "0          1120A    11      20        3      6       2  \n",
       "1          0852P    20      52        6      6       2  \n",
       "2          0015A     0      15        1      1       1  \n",
       "3          0525A     5      25        2      2       1  \n",
       "4          0256P    14      56        4      1       1  "
      ]
     },
     "execution_count": 149,
     "metadata": {},
     "output_type": "execute_result"
    }
   ],
   "source": [
    "nyc_2017_1.limit(5).toPandas()"
   ]
  },
  {
   "cell_type": "code",
   "execution_count": 150,
   "metadata": {},
   "outputs": [
    {
     "name": "stdout",
     "output_type": "stream",
     "text": [
      "+------+-------+\n",
      "|season|  count|\n",
      "+------+-------+\n",
      "|     2|2760823|\n",
      "|     1|2669063|\n",
      "|     3|   1046|\n",
      "|     4|    970|\n",
      "+------+-------+\n",
      "\n"
     ]
    }
   ],
   "source": [
    "nyc_2017_1.groupby('season').count().sort(col('count').desc()).show()"
   ]
  },
  {
   "cell_type": "markdown",
   "metadata": {},
   "source": [
    "1 and 2 seasons gave almost 100% of the tickets, which are Jan-March and April-June"
   ]
  },
  {
   "cell_type": "markdown",
   "metadata": {},
   "source": [
    "### Season 1"
   ]
  },
  {
   "cell_type": "code",
   "execution_count": 151,
   "metadata": {},
   "outputs": [],
   "source": [
    "rows3 = nyc_2017_1.filter((nyc_2017_1['season'] ==1)).count()\n",
    "top3_violation =  nyc_2017_1.filter((nyc_2017_1['season'] ==1)).groupby('Violation_Code').count().sort(col('count').desc())"
   ]
  },
  {
   "cell_type": "code",
   "execution_count": 152,
   "metadata": {},
   "outputs": [
    {
     "name": "stdout",
     "output_type": "stream",
     "text": [
      "\u001b[1mTop 3 violation codes:\u001b[0m\n",
      "+--------------+------+\n",
      "|Violation_Code| count|\n",
      "+--------------+------+\n",
      "|            21|373874|\n",
      "|            36|348240|\n",
      "|            38|287000|\n",
      "+--------------+------+\n",
      "only showing top 3 rows\n",
      "\n"
     ]
    }
   ],
   "source": [
    "print_bold('Top 3 violation codes:')\n",
    "top3_violation.show(3)"
   ]
  },
  {
   "cell_type": "code",
   "execution_count": 153,
   "metadata": {},
   "outputs": [],
   "source": [
    "df1 = top3_violation.limit(3).toPandas()\n",
    "df11 = df1.copy()\n",
    "df11['count'] = round(100*df11['count']/rows3,2)\n",
    "code_order1 = df1.sort_values('count',ascending = False).Violation_Code"
   ]
  },
  {
   "cell_type": "code",
   "execution_count": 154,
   "metadata": {},
   "outputs": [
    {
     "data": {
      "text/plain": [
       "37.81"
      ]
     },
     "execution_count": 154,
     "metadata": {},
     "output_type": "execute_result"
    }
   ],
   "source": [
    "# Sum of percentages\n",
    "df11['count'].sum()"
   ]
  },
  {
   "cell_type": "markdown",
   "metadata": {},
   "source": [
    "### Season 2"
   ]
  },
  {
   "cell_type": "code",
   "execution_count": 155,
   "metadata": {},
   "outputs": [],
   "source": [
    "rows3 = nyc_2017_1.filter((nyc_2017_1['season'] ==2)).count()\n",
    "top3_violation =  nyc_2017_1.filter((nyc_2017_1['season'] ==2)).groupby('Violation_Code').count().sort(col('count').desc())"
   ]
  },
  {
   "cell_type": "code",
   "execution_count": 156,
   "metadata": {},
   "outputs": [
    {
     "name": "stdout",
     "output_type": "stream",
     "text": [
      "\u001b[1mTop 3 violation codes:\u001b[0m\n",
      "+--------------+------+\n",
      "|Violation_Code| count|\n",
      "+--------------+------+\n",
      "|            21|393885|\n",
      "|            36|314525|\n",
      "|            38|255064|\n",
      "+--------------+------+\n",
      "only showing top 3 rows\n",
      "\n"
     ]
    }
   ],
   "source": [
    "print_bold('Top 3 violation codes:')\n",
    "top3_violation.show(3)"
   ]
  },
  {
   "cell_type": "code",
   "execution_count": 157,
   "metadata": {},
   "outputs": [],
   "source": [
    "df2 = top3_violation.limit(3).toPandas()\n",
    "df21 = df2.copy()\n",
    "df21['count'] = round(100*df21['count']/rows3,2)\n",
    "code_order2 = df2.sort_values('count',ascending = False).Violation_Code"
   ]
  },
  {
   "cell_type": "code",
   "execution_count": 158,
   "metadata": {},
   "outputs": [
    {
     "data": {
      "text/plain": [
       "34.9"
      ]
     },
     "execution_count": 158,
     "metadata": {},
     "output_type": "execute_result"
    }
   ],
   "source": [
    "# Sum of percentages\n",
    "df21['count'].sum()"
   ]
  },
  {
   "cell_type": "markdown",
   "metadata": {},
   "source": [
    "### Season 3"
   ]
  },
  {
   "cell_type": "code",
   "execution_count": 159,
   "metadata": {},
   "outputs": [],
   "source": [
    "rows3 = nyc_2017_1.filter((nyc_2017_1['season'] ==3)).count()\n",
    "top3_violation =  nyc_2017_1.filter((nyc_2017_1['season'] ==3)).groupby('Violation_Code').count().sort(col('count').desc())"
   ]
  },
  {
   "cell_type": "code",
   "execution_count": 160,
   "metadata": {},
   "outputs": [
    {
     "name": "stdout",
     "output_type": "stream",
     "text": [
      "\u001b[1mTop 3 violation codes:\u001b[0m\n",
      "+--------------+-----+\n",
      "|Violation_Code|count|\n",
      "+--------------+-----+\n",
      "|            21|  228|\n",
      "|            46|  219|\n",
      "|            40|  109|\n",
      "+--------------+-----+\n",
      "only showing top 3 rows\n",
      "\n"
     ]
    }
   ],
   "source": [
    "print_bold('Top 3 violation codes:')\n",
    "top3_violation.show(3)"
   ]
  },
  {
   "cell_type": "code",
   "execution_count": 161,
   "metadata": {},
   "outputs": [],
   "source": [
    "df3 = top3_violation.limit(3).toPandas()\n",
    "df31 = df3.copy()\n",
    "df31['count'] = round(100*df31['count']/rows3,2)\n",
    "code_order3 = df3.sort_values('count',ascending = False).Violation_Code"
   ]
  },
  {
   "cell_type": "code",
   "execution_count": 162,
   "metadata": {},
   "outputs": [
    {
     "data": {
      "text/plain": [
       "53.160000000000004"
      ]
     },
     "execution_count": 162,
     "metadata": {},
     "output_type": "execute_result"
    }
   ],
   "source": [
    "# Sum of percentages\n",
    "df31['count'].sum()"
   ]
  },
  {
   "cell_type": "markdown",
   "metadata": {},
   "source": [
    "### Season 4"
   ]
  },
  {
   "cell_type": "code",
   "execution_count": 163,
   "metadata": {},
   "outputs": [],
   "source": [
    "rows3 = nyc_2017_1.filter((nyc_2017_1['season'] ==4)).count()\n",
    "top3_violation =  nyc_2017_1.filter((nyc_2017_1['season'] ==4)).groupby('Violation_Code').count().sort(col('count').desc())"
   ]
  },
  {
   "cell_type": "code",
   "execution_count": 164,
   "metadata": {},
   "outputs": [
    {
     "name": "stdout",
     "output_type": "stream",
     "text": [
      "\u001b[1mTop 3 violation codes:\u001b[0m\n",
      "+--------------+-----+\n",
      "|Violation_Code|count|\n",
      "+--------------+-----+\n",
      "|            46|  219|\n",
      "|            40|  121|\n",
      "|            21|  100|\n",
      "+--------------+-----+\n",
      "only showing top 3 rows\n",
      "\n"
     ]
    }
   ],
   "source": [
    "print_bold('Top 3 violation codes:')\n",
    "top3_violation.show(3)"
   ]
  },
  {
   "cell_type": "code",
   "execution_count": 165,
   "metadata": {},
   "outputs": [],
   "source": [
    "df4 = top3_violation.limit(3).toPandas()\n",
    "df41 = df4.copy()\n",
    "df41['count'] = round(100*df41['count']/rows3,2)\n",
    "code_order4 = df4.sort_values('count',ascending = False).Violation_Code"
   ]
  },
  {
   "cell_type": "code",
   "execution_count": 166,
   "metadata": {},
   "outputs": [
    {
     "data": {
      "text/plain": [
       "45.36"
      ]
     },
     "execution_count": 166,
     "metadata": {},
     "output_type": "execute_result"
    }
   ],
   "source": [
    "# Sum of percentages\n",
    "df41['count'].sum()"
   ]
  },
  {
   "cell_type": "code",
   "execution_count": 167,
   "metadata": {},
   "outputs": [
    {
     "data": {
      "image/png": "[encoded data removed]",
      "text/plain": [
       "<Figure size 1008x1440 with 8 Axes>"
      ]
     },
     "metadata": {},
     "output_type": "display_data"
    }
   ],
   "source": [
    "plt.figure(figsize = (14,20))\n",
    "plt.subplot(4,2,1)\n",
    "sns.barplot(x = 'Violation_Code',y = 'count',data = df1,order = code_order1)\n",
    "plt.gca().set_title('Count of Top 3 violation codes in season 1')\n",
    "plt.subplot(4,2,2)\n",
    "sns.barplot(x = 'Violation_Code',y = 'count',data = df11,order = code_order1)\n",
    "plt.gca().set_title('Top 3 violation codes in Season 1 as percentage')\n",
    "plt.subplot(4,2,3)\n",
    "sns.barplot(x = 'Violation_Code',y = 'count',data = df2,order = code_order2)\n",
    "plt.gca().set_title('Count of Top 3 violation codes in season 2')\n",
    "plt.subplot(4,2,4)\n",
    "sns.barplot(x = 'Violation_Code',y = 'count',data = df21,order = code_order2)\n",
    "plt.gca().set_title('Top 3 violation codes in Season 2 as percentage')\n",
    "plt.subplot(4,2,5)\n",
    "sns.barplot(x = 'Violation_Code',y = 'count',data = df3,order = code_order3)\n",
    "plt.gca().set_title('Count of Top 3 violation codes in season 3')\n",
    "plt.subplot(4,2,6)\n",
    "sns.barplot(x = 'Violation_Code',y = 'count',data = df31,order = code_order3)\n",
    "plt.gca().set_title('Top 3 violation codes in Season 3 as percentage')\n",
    "plt.subplot(4,2,7)\n",
    "sns.barplot(x = 'Violation_Code',y = 'count',data = df4,order = code_order4)\n",
    "plt.gca().set_title('Count of Top 3 violation codes in season 4')\n",
    "plt.subplot(4,2,8)\n",
    "sns.barplot(x = 'Violation_Code',y = 'count',data = df41,order = code_order4)\n",
    "plt.gca().set_title('Top 3 violation codes in Season 4 as percentage')\n",
    "plt.tight_layout()\n",
    "plt.show()"
   ]
  },
  {
   "cell_type": "markdown",
   "metadata": {},
   "source": [
    "- 21 seems to the most promiment violation code across most of the seasons\n",
    "- 36,38 codes have large number of violation in season 1 and 2\n",
    "- 46 and 40 replace 36 and 38 as larger violation codes in season 3 and season 4"
   ]
  },
  {
   "cell_type": "markdown",
   "metadata": {},
   "source": [
    "### Question 7:"
   ]
  },
  {
   "cell_type": "markdown",
   "metadata": {},
   "source": [
    "#### a. 3 most violation codes"
   ]
  },
  {
   "cell_type": "code",
   "execution_count": 168,
   "metadata": {},
   "outputs": [
    {
     "name": "stdout",
     "output_type": "stream",
     "text": [
      "+--------------+------+\n",
      "|Violation_Code| count|\n",
      "+--------------+------+\n",
      "|            21|768087|\n",
      "|            36|662765|\n",
      "|            38|542079|\n",
      "+--------------+------+\n",
      "\n"
     ]
    }
   ],
   "source": [
    "count_3_vio = nyc_2017_1.groupby('Violation_Code').count().sort(col('count').desc()).limit(3)\n",
    "count_3_vio.show()"
   ]
  },
  {
   "cell_type": "markdown",
   "metadata": {},
   "source": [
    "#### b. Then, visit the website:\n",
    "http://www1.nyc.gov/site/finance/vehicles/services-violation-codes.page\n",
    "It lists the fines associated with different violation codes. They’re divided into two categories: one for the highest-density locations in the city and the other for the rest of the city. For the sake of simplicity, take the average of the two."
   ]
  },
  {
   "cell_type": "code",
   "execution_count": 169,
   "metadata": {},
   "outputs": [
    {
     "name": "stdout",
     "output_type": "stream",
     "text": [
      "Average fine for violation_code 21 is: 55.0\n",
      "Average fine for violation_code 36 is: 50.0\n",
      "Average fine for violation_code 38 is: 50.0\n"
     ]
    }
   ],
   "source": [
    "avg_fine_21 = (65+45)/2\n",
    "print('Average fine for violation_code 21 is:', avg_fine_21)\n",
    "\n",
    "avg_fine_36 = (50+50)/2\n",
    "print('Average fine for violation_code 36 is:', avg_fine_36)\n",
    "\n",
    "avg_fine_38 = (65+35)/2\n",
    "print('Average fine for violation_code 38 is:', avg_fine_38)"
   ]
  },
  {
   "cell_type": "code",
   "execution_count": 170,
   "metadata": {
    "scrolled": true
   },
   "outputs": [],
   "source": [
    "count_3_vio = count_3_vio.withColumn('avg_fine',when(col('violation_code') == 21,avg_fine_21).when(col('violation_code') == 36,avg_fine_36) \\\n",
    "                       .when(col('violation_code') == 38,avg_fine_38))"
   ]
  },
  {
   "cell_type": "code",
   "execution_count": 171,
   "metadata": {},
   "outputs": [
    {
     "name": "stdout",
     "output_type": "stream",
     "text": [
      "+--------------+------+--------+\n",
      "|Violation_Code| count|avg_fine|\n",
      "+--------------+------+--------+\n",
      "|            21|768087|    55.0|\n",
      "|            36|662765|    50.0|\n",
      "|            38|542079|    50.0|\n",
      "+--------------+------+--------+\n",
      "\n"
     ]
    }
   ],
   "source": [
    "count_3_vio.show()"
   ]
  },
  {
   "cell_type": "markdown",
   "metadata": {},
   "source": [
    "#### c. Fines collected for top 3 violations codes"
   ]
  },
  {
   "cell_type": "code",
   "execution_count": 172,
   "metadata": {},
   "outputs": [],
   "source": [
    "count_3_vio = count_3_vio.withColumn('Fine_amount_collected',col('count')*col('avg_fine').cast('Decimal(10,0)'))"
   ]
  },
  {
   "cell_type": "code",
   "execution_count": 173,
   "metadata": {},
   "outputs": [
    {
     "name": "stdout",
     "output_type": "stream",
     "text": [
      "+--------------+------+--------+---------------------+\n",
      "|Violation_Code| count|avg_fine|Fine_amount_collected|\n",
      "+--------------+------+--------+---------------------+\n",
      "|            21|768087|    55.0|             42244785|\n",
      "|            36|662765|    50.0|             33138250|\n",
      "|            38|542079|    50.0|             27103950|\n",
      "+--------------+------+--------+---------------------+\n",
      "\n"
     ]
    }
   ],
   "source": [
    "count_3_vio.show()"
   ]
  },
  {
   "cell_type": "code",
   "execution_count": 174,
   "metadata": {},
   "outputs": [
    {
     "name": "stdout",
     "output_type": "stream",
     "text": [
      "\u001b[1mTotal Collected Amount:\u001b[0m\n",
      "+--------------------------+\n",
      "|sum(Fine_amount_collected)|\n",
      "+--------------------------+\n",
      "|                 102486985|\n",
      "+--------------------------+\n",
      "\n"
     ]
    }
   ],
   "source": [
    "print_bold('Total Collected Amount:')\n",
    "count_3_vio.select(sum(col('Fine_amount_collected'))).show()"
   ]
  },
  {
   "cell_type": "markdown",
   "metadata": {},
   "source": [
    "- code 21 has the highest amount collected with 42.2 million dollars\n",
    "- The total collection for the top 3 codes is 102.4 million dollars"
   ]
  },
  {
   "cell_type": "code",
   "execution_count": 175,
   "metadata": {},
   "outputs": [],
   "source": [
    "ss.stop()"
   ]
  },
  {
   "cell_type": "code",
   "execution_count": null,
   "metadata": {},
   "outputs": [],
   "source": []
  }
 ],
 "metadata": {
  "kernelspec": {
   "display_name": "PySpark",
   "language": "python",
   "name": "pyspark"
  },
  "language_info": {
   "codemirror_mode": {
    "name": "ipython",
    "version": 3
   },
   "file_extension": ".py",
   "mimetype": "text/x-python",
   "name": "python",
   "nbconvert_exporter": "python",
   "pygments_lexer": "ipython3",
   "version": "3.6.5"
  }
 },
 "nbformat": 4,
 "nbformat_minor": 2
}
